{
  "nbformat": 4,
  "nbformat_minor": 0,
  "metadata": {
    "colab": {
      "provenance": [],
      "machine_shape": "hm",
      "gpuType": "T4",
      "include_colab_link": true
    },
    "kernelspec": {
      "name": "python3",
      "display_name": "Python 3"
    },
    "language_info": {
      "name": "python"
    },
    "accelerator": "GPU",
    "widgets": {
      "application/vnd.jupyter.widget-state+json": {
        "53980d5caff04084950a0b927e3d648f": {
          "model_module": "@jupyter-widgets/controls",
          "model_name": "HBoxModel",
          "model_module_version": "1.5.0",
          "state": {
            "_dom_classes": [],
            "_model_module": "@jupyter-widgets/controls",
            "_model_module_version": "1.5.0",
            "_model_name": "HBoxModel",
            "_view_count": null,
            "_view_module": "@jupyter-widgets/controls",
            "_view_module_version": "1.5.0",
            "_view_name": "HBoxView",
            "box_style": "",
            "children": [
              "IPY_MODEL_ecf69e6739f8402c830bca0ed2c64791",
              "IPY_MODEL_b6441c01c9bd431e8dc53f3785bdd5d0",
              "IPY_MODEL_04fffc0806e749cea655c562d838e889"
            ],
            "layout": "IPY_MODEL_5cad7188cf964ce69abbd621fed2b177"
          }
        },
        "ecf69e6739f8402c830bca0ed2c64791": {
          "model_module": "@jupyter-widgets/controls",
          "model_name": "HTMLModel",
          "model_module_version": "1.5.0",
          "state": {
            "_dom_classes": [],
            "_model_module": "@jupyter-widgets/controls",
            "_model_module_version": "1.5.0",
            "_model_name": "HTMLModel",
            "_view_count": null,
            "_view_module": "@jupyter-widgets/controls",
            "_view_module_version": "1.5.0",
            "_view_name": "HTMLView",
            "description": "",
            "description_tooltip": null,
            "layout": "IPY_MODEL_66be593990444168866daf569b8dd8ec",
            "placeholder": "​",
            "style": "IPY_MODEL_67dc8d938784486e8c0f3028bb45b7ff",
            "value": "config.json: 100%"
          }
        },
        "b6441c01c9bd431e8dc53f3785bdd5d0": {
          "model_module": "@jupyter-widgets/controls",
          "model_name": "FloatProgressModel",
          "model_module_version": "1.5.0",
          "state": {
            "_dom_classes": [],
            "_model_module": "@jupyter-widgets/controls",
            "_model_module_version": "1.5.0",
            "_model_name": "FloatProgressModel",
            "_view_count": null,
            "_view_module": "@jupyter-widgets/controls",
            "_view_module_version": "1.5.0",
            "_view_name": "ProgressView",
            "bar_style": "success",
            "description": "",
            "description_tooltip": null,
            "layout": "IPY_MODEL_f1b37ceafc4f4ec7922b14fb11e93d3d",
            "max": 1048,
            "min": 0,
            "orientation": "horizontal",
            "style": "IPY_MODEL_661252945b2e4594a5cfac9296418b81",
            "value": 1048
          }
        },
        "04fffc0806e749cea655c562d838e889": {
          "model_module": "@jupyter-widgets/controls",
          "model_name": "HTMLModel",
          "model_module_version": "1.5.0",
          "state": {
            "_dom_classes": [],
            "_model_module": "@jupyter-widgets/controls",
            "_model_module_version": "1.5.0",
            "_model_name": "HTMLModel",
            "_view_count": null,
            "_view_module": "@jupyter-widgets/controls",
            "_view_module_version": "1.5.0",
            "_view_name": "HTMLView",
            "description": "",
            "description_tooltip": null,
            "layout": "IPY_MODEL_fc37b1a46d2e400db1f178e89c8809bb",
            "placeholder": "​",
            "style": "IPY_MODEL_ae7abbe522204573a9411bab40dafd4b",
            "value": " 1.05k/1.05k [00:00&lt;00:00, 3.34kB/s]"
          }
        },
        "5cad7188cf964ce69abbd621fed2b177": {
          "model_module": "@jupyter-widgets/base",
          "model_name": "LayoutModel",
          "model_module_version": "1.2.0",
          "state": {
            "_model_module": "@jupyter-widgets/base",
            "_model_module_version": "1.2.0",
            "_model_name": "LayoutModel",
            "_view_count": null,
            "_view_module": "@jupyter-widgets/base",
            "_view_module_version": "1.2.0",
            "_view_name": "LayoutView",
            "align_content": null,
            "align_items": null,
            "align_self": null,
            "border": null,
            "bottom": null,
            "display": null,
            "flex": null,
            "flex_flow": null,
            "grid_area": null,
            "grid_auto_columns": null,
            "grid_auto_flow": null,
            "grid_auto_rows": null,
            "grid_column": null,
            "grid_gap": null,
            "grid_row": null,
            "grid_template_areas": null,
            "grid_template_columns": null,
            "grid_template_rows": null,
            "height": null,
            "justify_content": null,
            "justify_items": null,
            "left": null,
            "margin": null,
            "max_height": null,
            "max_width": null,
            "min_height": null,
            "min_width": null,
            "object_fit": null,
            "object_position": null,
            "order": null,
            "overflow": null,
            "overflow_x": null,
            "overflow_y": null,
            "padding": null,
            "right": null,
            "top": null,
            "visibility": null,
            "width": null
          }
        },
        "66be593990444168866daf569b8dd8ec": {
          "model_module": "@jupyter-widgets/base",
          "model_name": "LayoutModel",
          "model_module_version": "1.2.0",
          "state": {
            "_model_module": "@jupyter-widgets/base",
            "_model_module_version": "1.2.0",
            "_model_name": "LayoutModel",
            "_view_count": null,
            "_view_module": "@jupyter-widgets/base",
            "_view_module_version": "1.2.0",
            "_view_name": "LayoutView",
            "align_content": null,
            "align_items": null,
            "align_self": null,
            "border": null,
            "bottom": null,
            "display": null,
            "flex": null,
            "flex_flow": null,
            "grid_area": null,
            "grid_auto_columns": null,
            "grid_auto_flow": null,
            "grid_auto_rows": null,
            "grid_column": null,
            "grid_gap": null,
            "grid_row": null,
            "grid_template_areas": null,
            "grid_template_columns": null,
            "grid_template_rows": null,
            "height": null,
            "justify_content": null,
            "justify_items": null,
            "left": null,
            "margin": null,
            "max_height": null,
            "max_width": null,
            "min_height": null,
            "min_width": null,
            "object_fit": null,
            "object_position": null,
            "order": null,
            "overflow": null,
            "overflow_x": null,
            "overflow_y": null,
            "padding": null,
            "right": null,
            "top": null,
            "visibility": null,
            "width": null
          }
        },
        "67dc8d938784486e8c0f3028bb45b7ff": {
          "model_module": "@jupyter-widgets/controls",
          "model_name": "DescriptionStyleModel",
          "model_module_version": "1.5.0",
          "state": {
            "_model_module": "@jupyter-widgets/controls",
            "_model_module_version": "1.5.0",
            "_model_name": "DescriptionStyleModel",
            "_view_count": null,
            "_view_module": "@jupyter-widgets/base",
            "_view_module_version": "1.2.0",
            "_view_name": "StyleView",
            "description_width": ""
          }
        },
        "f1b37ceafc4f4ec7922b14fb11e93d3d": {
          "model_module": "@jupyter-widgets/base",
          "model_name": "LayoutModel",
          "model_module_version": "1.2.0",
          "state": {
            "_model_module": "@jupyter-widgets/base",
            "_model_module_version": "1.2.0",
            "_model_name": "LayoutModel",
            "_view_count": null,
            "_view_module": "@jupyter-widgets/base",
            "_view_module_version": "1.2.0",
            "_view_name": "LayoutView",
            "align_content": null,
            "align_items": null,
            "align_self": null,
            "border": null,
            "bottom": null,
            "display": null,
            "flex": null,
            "flex_flow": null,
            "grid_area": null,
            "grid_auto_columns": null,
            "grid_auto_flow": null,
            "grid_auto_rows": null,
            "grid_column": null,
            "grid_gap": null,
            "grid_row": null,
            "grid_template_areas": null,
            "grid_template_columns": null,
            "grid_template_rows": null,
            "height": null,
            "justify_content": null,
            "justify_items": null,
            "left": null,
            "margin": null,
            "max_height": null,
            "max_width": null,
            "min_height": null,
            "min_width": null,
            "object_fit": null,
            "object_position": null,
            "order": null,
            "overflow": null,
            "overflow_x": null,
            "overflow_y": null,
            "padding": null,
            "right": null,
            "top": null,
            "visibility": null,
            "width": null
          }
        },
        "661252945b2e4594a5cfac9296418b81": {
          "model_module": "@jupyter-widgets/controls",
          "model_name": "ProgressStyleModel",
          "model_module_version": "1.5.0",
          "state": {
            "_model_module": "@jupyter-widgets/controls",
            "_model_module_version": "1.5.0",
            "_model_name": "ProgressStyleModel",
            "_view_count": null,
            "_view_module": "@jupyter-widgets/base",
            "_view_module_version": "1.2.0",
            "_view_name": "StyleView",
            "bar_color": null,
            "description_width": ""
          }
        },
        "fc37b1a46d2e400db1f178e89c8809bb": {
          "model_module": "@jupyter-widgets/base",
          "model_name": "LayoutModel",
          "model_module_version": "1.2.0",
          "state": {
            "_model_module": "@jupyter-widgets/base",
            "_model_module_version": "1.2.0",
            "_model_name": "LayoutModel",
            "_view_count": null,
            "_view_module": "@jupyter-widgets/base",
            "_view_module_version": "1.2.0",
            "_view_name": "LayoutView",
            "align_content": null,
            "align_items": null,
            "align_self": null,
            "border": null,
            "bottom": null,
            "display": null,
            "flex": null,
            "flex_flow": null,
            "grid_area": null,
            "grid_auto_columns": null,
            "grid_auto_flow": null,
            "grid_auto_rows": null,
            "grid_column": null,
            "grid_gap": null,
            "grid_row": null,
            "grid_template_areas": null,
            "grid_template_columns": null,
            "grid_template_rows": null,
            "height": null,
            "justify_content": null,
            "justify_items": null,
            "left": null,
            "margin": null,
            "max_height": null,
            "max_width": null,
            "min_height": null,
            "min_width": null,
            "object_fit": null,
            "object_position": null,
            "order": null,
            "overflow": null,
            "overflow_x": null,
            "overflow_y": null,
            "padding": null,
            "right": null,
            "top": null,
            "visibility": null,
            "width": null
          }
        },
        "ae7abbe522204573a9411bab40dafd4b": {
          "model_module": "@jupyter-widgets/controls",
          "model_name": "DescriptionStyleModel",
          "model_module_version": "1.5.0",
          "state": {
            "_model_module": "@jupyter-widgets/controls",
            "_model_module_version": "1.5.0",
            "_model_name": "DescriptionStyleModel",
            "_view_count": null,
            "_view_module": "@jupyter-widgets/base",
            "_view_module_version": "1.2.0",
            "_view_name": "StyleView",
            "description_width": ""
          }
        },
        "b2adfb44add146ae80aa9855ddbd797c": {
          "model_module": "@jupyter-widgets/controls",
          "model_name": "HBoxModel",
          "model_module_version": "1.5.0",
          "state": {
            "_dom_classes": [],
            "_model_module": "@jupyter-widgets/controls",
            "_model_module_version": "1.5.0",
            "_model_name": "HBoxModel",
            "_view_count": null,
            "_view_module": "@jupyter-widgets/controls",
            "_view_module_version": "1.5.0",
            "_view_name": "HBoxView",
            "box_style": "",
            "children": [
              "IPY_MODEL_f290c67487854512ba159597805e2c31",
              "IPY_MODEL_2f433dc7009b45e0a272e55b13e52d23",
              "IPY_MODEL_39f293dd7cac47f19967e22c56e49fb3"
            ],
            "layout": "IPY_MODEL_267d8c1778214981a85e17b42e4e48d9"
          }
        },
        "f290c67487854512ba159597805e2c31": {
          "model_module": "@jupyter-widgets/controls",
          "model_name": "HTMLModel",
          "model_module_version": "1.5.0",
          "state": {
            "_dom_classes": [],
            "_model_module": "@jupyter-widgets/controls",
            "_model_module_version": "1.5.0",
            "_model_name": "HTMLModel",
            "_view_count": null,
            "_view_module": "@jupyter-widgets/controls",
            "_view_module_version": "1.5.0",
            "_view_name": "HTMLView",
            "description": "",
            "description_tooltip": null,
            "layout": "IPY_MODEL_9fe8e66cddcd40ae80dff7546bf0fd5f",
            "placeholder": "​",
            "style": "IPY_MODEL_c22049d9bce2468683a128c1fd74c1a1",
            "value": "configuration_falcon.py: 100%"
          }
        },
        "2f433dc7009b45e0a272e55b13e52d23": {
          "model_module": "@jupyter-widgets/controls",
          "model_name": "FloatProgressModel",
          "model_module_version": "1.5.0",
          "state": {
            "_dom_classes": [],
            "_model_module": "@jupyter-widgets/controls",
            "_model_module_version": "1.5.0",
            "_model_name": "FloatProgressModel",
            "_view_count": null,
            "_view_module": "@jupyter-widgets/controls",
            "_view_module_version": "1.5.0",
            "_view_name": "ProgressView",
            "bar_style": "success",
            "description": "",
            "description_tooltip": null,
            "layout": "IPY_MODEL_e5337b7b31b2411d8880abdd7ac89a3f",
            "max": 7163,
            "min": 0,
            "orientation": "horizontal",
            "style": "IPY_MODEL_9d9656683cd240dfbcac41c96bbc315a",
            "value": 7163
          }
        },
        "39f293dd7cac47f19967e22c56e49fb3": {
          "model_module": "@jupyter-widgets/controls",
          "model_name": "HTMLModel",
          "model_module_version": "1.5.0",
          "state": {
            "_dom_classes": [],
            "_model_module": "@jupyter-widgets/controls",
            "_model_module_version": "1.5.0",
            "_model_name": "HTMLModel",
            "_view_count": null,
            "_view_module": "@jupyter-widgets/controls",
            "_view_module_version": "1.5.0",
            "_view_name": "HTMLView",
            "description": "",
            "description_tooltip": null,
            "layout": "IPY_MODEL_7eee1536cf0447a4a0fb84fb025d4576",
            "placeholder": "​",
            "style": "IPY_MODEL_4b204b0b9b4e41a2b461d738bd481c04",
            "value": " 7.16k/7.16k [00:00&lt;00:00, 355kB/s]"
          }
        },
        "267d8c1778214981a85e17b42e4e48d9": {
          "model_module": "@jupyter-widgets/base",
          "model_name": "LayoutModel",
          "model_module_version": "1.2.0",
          "state": {
            "_model_module": "@jupyter-widgets/base",
            "_model_module_version": "1.2.0",
            "_model_name": "LayoutModel",
            "_view_count": null,
            "_view_module": "@jupyter-widgets/base",
            "_view_module_version": "1.2.0",
            "_view_name": "LayoutView",
            "align_content": null,
            "align_items": null,
            "align_self": null,
            "border": null,
            "bottom": null,
            "display": null,
            "flex": null,
            "flex_flow": null,
            "grid_area": null,
            "grid_auto_columns": null,
            "grid_auto_flow": null,
            "grid_auto_rows": null,
            "grid_column": null,
            "grid_gap": null,
            "grid_row": null,
            "grid_template_areas": null,
            "grid_template_columns": null,
            "grid_template_rows": null,
            "height": null,
            "justify_content": null,
            "justify_items": null,
            "left": null,
            "margin": null,
            "max_height": null,
            "max_width": null,
            "min_height": null,
            "min_width": null,
            "object_fit": null,
            "object_position": null,
            "order": null,
            "overflow": null,
            "overflow_x": null,
            "overflow_y": null,
            "padding": null,
            "right": null,
            "top": null,
            "visibility": null,
            "width": null
          }
        },
        "9fe8e66cddcd40ae80dff7546bf0fd5f": {
          "model_module": "@jupyter-widgets/base",
          "model_name": "LayoutModel",
          "model_module_version": "1.2.0",
          "state": {
            "_model_module": "@jupyter-widgets/base",
            "_model_module_version": "1.2.0",
            "_model_name": "LayoutModel",
            "_view_count": null,
            "_view_module": "@jupyter-widgets/base",
            "_view_module_version": "1.2.0",
            "_view_name": "LayoutView",
            "align_content": null,
            "align_items": null,
            "align_self": null,
            "border": null,
            "bottom": null,
            "display": null,
            "flex": null,
            "flex_flow": null,
            "grid_area": null,
            "grid_auto_columns": null,
            "grid_auto_flow": null,
            "grid_auto_rows": null,
            "grid_column": null,
            "grid_gap": null,
            "grid_row": null,
            "grid_template_areas": null,
            "grid_template_columns": null,
            "grid_template_rows": null,
            "height": null,
            "justify_content": null,
            "justify_items": null,
            "left": null,
            "margin": null,
            "max_height": null,
            "max_width": null,
            "min_height": null,
            "min_width": null,
            "object_fit": null,
            "object_position": null,
            "order": null,
            "overflow": null,
            "overflow_x": null,
            "overflow_y": null,
            "padding": null,
            "right": null,
            "top": null,
            "visibility": null,
            "width": null
          }
        },
        "c22049d9bce2468683a128c1fd74c1a1": {
          "model_module": "@jupyter-widgets/controls",
          "model_name": "DescriptionStyleModel",
          "model_module_version": "1.5.0",
          "state": {
            "_model_module": "@jupyter-widgets/controls",
            "_model_module_version": "1.5.0",
            "_model_name": "DescriptionStyleModel",
            "_view_count": null,
            "_view_module": "@jupyter-widgets/base",
            "_view_module_version": "1.2.0",
            "_view_name": "StyleView",
            "description_width": ""
          }
        },
        "e5337b7b31b2411d8880abdd7ac89a3f": {
          "model_module": "@jupyter-widgets/base",
          "model_name": "LayoutModel",
          "model_module_version": "1.2.0",
          "state": {
            "_model_module": "@jupyter-widgets/base",
            "_model_module_version": "1.2.0",
            "_model_name": "LayoutModel",
            "_view_count": null,
            "_view_module": "@jupyter-widgets/base",
            "_view_module_version": "1.2.0",
            "_view_name": "LayoutView",
            "align_content": null,
            "align_items": null,
            "align_self": null,
            "border": null,
            "bottom": null,
            "display": null,
            "flex": null,
            "flex_flow": null,
            "grid_area": null,
            "grid_auto_columns": null,
            "grid_auto_flow": null,
            "grid_auto_rows": null,
            "grid_column": null,
            "grid_gap": null,
            "grid_row": null,
            "grid_template_areas": null,
            "grid_template_columns": null,
            "grid_template_rows": null,
            "height": null,
            "justify_content": null,
            "justify_items": null,
            "left": null,
            "margin": null,
            "max_height": null,
            "max_width": null,
            "min_height": null,
            "min_width": null,
            "object_fit": null,
            "object_position": null,
            "order": null,
            "overflow": null,
            "overflow_x": null,
            "overflow_y": null,
            "padding": null,
            "right": null,
            "top": null,
            "visibility": null,
            "width": null
          }
        },
        "9d9656683cd240dfbcac41c96bbc315a": {
          "model_module": "@jupyter-widgets/controls",
          "model_name": "ProgressStyleModel",
          "model_module_version": "1.5.0",
          "state": {
            "_model_module": "@jupyter-widgets/controls",
            "_model_module_version": "1.5.0",
            "_model_name": "ProgressStyleModel",
            "_view_count": null,
            "_view_module": "@jupyter-widgets/base",
            "_view_module_version": "1.2.0",
            "_view_name": "StyleView",
            "bar_color": null,
            "description_width": ""
          }
        },
        "7eee1536cf0447a4a0fb84fb025d4576": {
          "model_module": "@jupyter-widgets/base",
          "model_name": "LayoutModel",
          "model_module_version": "1.2.0",
          "state": {
            "_model_module": "@jupyter-widgets/base",
            "_model_module_version": "1.2.0",
            "_model_name": "LayoutModel",
            "_view_count": null,
            "_view_module": "@jupyter-widgets/base",
            "_view_module_version": "1.2.0",
            "_view_name": "LayoutView",
            "align_content": null,
            "align_items": null,
            "align_self": null,
            "border": null,
            "bottom": null,
            "display": null,
            "flex": null,
            "flex_flow": null,
            "grid_area": null,
            "grid_auto_columns": null,
            "grid_auto_flow": null,
            "grid_auto_rows": null,
            "grid_column": null,
            "grid_gap": null,
            "grid_row": null,
            "grid_template_areas": null,
            "grid_template_columns": null,
            "grid_template_rows": null,
            "height": null,
            "justify_content": null,
            "justify_items": null,
            "left": null,
            "margin": null,
            "max_height": null,
            "max_width": null,
            "min_height": null,
            "min_width": null,
            "object_fit": null,
            "object_position": null,
            "order": null,
            "overflow": null,
            "overflow_x": null,
            "overflow_y": null,
            "padding": null,
            "right": null,
            "top": null,
            "visibility": null,
            "width": null
          }
        },
        "4b204b0b9b4e41a2b461d738bd481c04": {
          "model_module": "@jupyter-widgets/controls",
          "model_name": "DescriptionStyleModel",
          "model_module_version": "1.5.0",
          "state": {
            "_model_module": "@jupyter-widgets/controls",
            "_model_module_version": "1.5.0",
            "_model_name": "DescriptionStyleModel",
            "_view_count": null,
            "_view_module": "@jupyter-widgets/base",
            "_view_module_version": "1.2.0",
            "_view_name": "StyleView",
            "description_width": ""
          }
        },
        "4b438798b51946d08af56e832ca51863": {
          "model_module": "@jupyter-widgets/controls",
          "model_name": "HBoxModel",
          "model_module_version": "1.5.0",
          "state": {
            "_dom_classes": [],
            "_model_module": "@jupyter-widgets/controls",
            "_model_module_version": "1.5.0",
            "_model_name": "HBoxModel",
            "_view_count": null,
            "_view_module": "@jupyter-widgets/controls",
            "_view_module_version": "1.5.0",
            "_view_name": "HBoxView",
            "box_style": "",
            "children": [
              "IPY_MODEL_93cd716b9ba84dc1bba44eda2d36f96d",
              "IPY_MODEL_93838129b55d4973b812175e418fd863",
              "IPY_MODEL_9d972c56580f4843a34e15ec2299105a"
            ],
            "layout": "IPY_MODEL_3d10fed1859641c6932072f790ceee66"
          }
        },
        "93cd716b9ba84dc1bba44eda2d36f96d": {
          "model_module": "@jupyter-widgets/controls",
          "model_name": "HTMLModel",
          "model_module_version": "1.5.0",
          "state": {
            "_dom_classes": [],
            "_model_module": "@jupyter-widgets/controls",
            "_model_module_version": "1.5.0",
            "_model_name": "HTMLModel",
            "_view_count": null,
            "_view_module": "@jupyter-widgets/controls",
            "_view_module_version": "1.5.0",
            "_view_name": "HTMLView",
            "description": "",
            "description_tooltip": null,
            "layout": "IPY_MODEL_cf89c16483e74af1b0460589e5e4eef3",
            "placeholder": "​",
            "style": "IPY_MODEL_12e41ee776214fdbbb3c161ebc037eb7",
            "value": "modeling_falcon.py: 100%"
          }
        },
        "93838129b55d4973b812175e418fd863": {
          "model_module": "@jupyter-widgets/controls",
          "model_name": "FloatProgressModel",
          "model_module_version": "1.5.0",
          "state": {
            "_dom_classes": [],
            "_model_module": "@jupyter-widgets/controls",
            "_model_module_version": "1.5.0",
            "_model_name": "FloatProgressModel",
            "_view_count": null,
            "_view_module": "@jupyter-widgets/controls",
            "_view_module_version": "1.5.0",
            "_view_name": "ProgressView",
            "bar_style": "success",
            "description": "",
            "description_tooltip": null,
            "layout": "IPY_MODEL_ea4ce4b1ff4e4746b7d5a53e565c144e",
            "max": 56920,
            "min": 0,
            "orientation": "horizontal",
            "style": "IPY_MODEL_04acb73f1c0f47609cf75fbf359ec152",
            "value": 56920
          }
        },
        "9d972c56580f4843a34e15ec2299105a": {
          "model_module": "@jupyter-widgets/controls",
          "model_name": "HTMLModel",
          "model_module_version": "1.5.0",
          "state": {
            "_dom_classes": [],
            "_model_module": "@jupyter-widgets/controls",
            "_model_module_version": "1.5.0",
            "_model_name": "HTMLModel",
            "_view_count": null,
            "_view_module": "@jupyter-widgets/controls",
            "_view_module_version": "1.5.0",
            "_view_name": "HTMLView",
            "description": "",
            "description_tooltip": null,
            "layout": "IPY_MODEL_e45ec521378248c795c776b421057230",
            "placeholder": "​",
            "style": "IPY_MODEL_06285197ccb24074bfe61d0b5049e57b",
            "value": " 56.9k/56.9k [00:00&lt;00:00, 125kB/s]"
          }
        },
        "3d10fed1859641c6932072f790ceee66": {
          "model_module": "@jupyter-widgets/base",
          "model_name": "LayoutModel",
          "model_module_version": "1.2.0",
          "state": {
            "_model_module": "@jupyter-widgets/base",
            "_model_module_version": "1.2.0",
            "_model_name": "LayoutModel",
            "_view_count": null,
            "_view_module": "@jupyter-widgets/base",
            "_view_module_version": "1.2.0",
            "_view_name": "LayoutView",
            "align_content": null,
            "align_items": null,
            "align_self": null,
            "border": null,
            "bottom": null,
            "display": null,
            "flex": null,
            "flex_flow": null,
            "grid_area": null,
            "grid_auto_columns": null,
            "grid_auto_flow": null,
            "grid_auto_rows": null,
            "grid_column": null,
            "grid_gap": null,
            "grid_row": null,
            "grid_template_areas": null,
            "grid_template_columns": null,
            "grid_template_rows": null,
            "height": null,
            "justify_content": null,
            "justify_items": null,
            "left": null,
            "margin": null,
            "max_height": null,
            "max_width": null,
            "min_height": null,
            "min_width": null,
            "object_fit": null,
            "object_position": null,
            "order": null,
            "overflow": null,
            "overflow_x": null,
            "overflow_y": null,
            "padding": null,
            "right": null,
            "top": null,
            "visibility": null,
            "width": null
          }
        },
        "cf89c16483e74af1b0460589e5e4eef3": {
          "model_module": "@jupyter-widgets/base",
          "model_name": "LayoutModel",
          "model_module_version": "1.2.0",
          "state": {
            "_model_module": "@jupyter-widgets/base",
            "_model_module_version": "1.2.0",
            "_model_name": "LayoutModel",
            "_view_count": null,
            "_view_module": "@jupyter-widgets/base",
            "_view_module_version": "1.2.0",
            "_view_name": "LayoutView",
            "align_content": null,
            "align_items": null,
            "align_self": null,
            "border": null,
            "bottom": null,
            "display": null,
            "flex": null,
            "flex_flow": null,
            "grid_area": null,
            "grid_auto_columns": null,
            "grid_auto_flow": null,
            "grid_auto_rows": null,
            "grid_column": null,
            "grid_gap": null,
            "grid_row": null,
            "grid_template_areas": null,
            "grid_template_columns": null,
            "grid_template_rows": null,
            "height": null,
            "justify_content": null,
            "justify_items": null,
            "left": null,
            "margin": null,
            "max_height": null,
            "max_width": null,
            "min_height": null,
            "min_width": null,
            "object_fit": null,
            "object_position": null,
            "order": null,
            "overflow": null,
            "overflow_x": null,
            "overflow_y": null,
            "padding": null,
            "right": null,
            "top": null,
            "visibility": null,
            "width": null
          }
        },
        "12e41ee776214fdbbb3c161ebc037eb7": {
          "model_module": "@jupyter-widgets/controls",
          "model_name": "DescriptionStyleModel",
          "model_module_version": "1.5.0",
          "state": {
            "_model_module": "@jupyter-widgets/controls",
            "_model_module_version": "1.5.0",
            "_model_name": "DescriptionStyleModel",
            "_view_count": null,
            "_view_module": "@jupyter-widgets/base",
            "_view_module_version": "1.2.0",
            "_view_name": "StyleView",
            "description_width": ""
          }
        },
        "ea4ce4b1ff4e4746b7d5a53e565c144e": {
          "model_module": "@jupyter-widgets/base",
          "model_name": "LayoutModel",
          "model_module_version": "1.2.0",
          "state": {
            "_model_module": "@jupyter-widgets/base",
            "_model_module_version": "1.2.0",
            "_model_name": "LayoutModel",
            "_view_count": null,
            "_view_module": "@jupyter-widgets/base",
            "_view_module_version": "1.2.0",
            "_view_name": "LayoutView",
            "align_content": null,
            "align_items": null,
            "align_self": null,
            "border": null,
            "bottom": null,
            "display": null,
            "flex": null,
            "flex_flow": null,
            "grid_area": null,
            "grid_auto_columns": null,
            "grid_auto_flow": null,
            "grid_auto_rows": null,
            "grid_column": null,
            "grid_gap": null,
            "grid_row": null,
            "grid_template_areas": null,
            "grid_template_columns": null,
            "grid_template_rows": null,
            "height": null,
            "justify_content": null,
            "justify_items": null,
            "left": null,
            "margin": null,
            "max_height": null,
            "max_width": null,
            "min_height": null,
            "min_width": null,
            "object_fit": null,
            "object_position": null,
            "order": null,
            "overflow": null,
            "overflow_x": null,
            "overflow_y": null,
            "padding": null,
            "right": null,
            "top": null,
            "visibility": null,
            "width": null
          }
        },
        "04acb73f1c0f47609cf75fbf359ec152": {
          "model_module": "@jupyter-widgets/controls",
          "model_name": "ProgressStyleModel",
          "model_module_version": "1.5.0",
          "state": {
            "_model_module": "@jupyter-widgets/controls",
            "_model_module_version": "1.5.0",
            "_model_name": "ProgressStyleModel",
            "_view_count": null,
            "_view_module": "@jupyter-widgets/base",
            "_view_module_version": "1.2.0",
            "_view_name": "StyleView",
            "bar_color": null,
            "description_width": ""
          }
        },
        "e45ec521378248c795c776b421057230": {
          "model_module": "@jupyter-widgets/base",
          "model_name": "LayoutModel",
          "model_module_version": "1.2.0",
          "state": {
            "_model_module": "@jupyter-widgets/base",
            "_model_module_version": "1.2.0",
            "_model_name": "LayoutModel",
            "_view_count": null,
            "_view_module": "@jupyter-widgets/base",
            "_view_module_version": "1.2.0",
            "_view_name": "LayoutView",
            "align_content": null,
            "align_items": null,
            "align_self": null,
            "border": null,
            "bottom": null,
            "display": null,
            "flex": null,
            "flex_flow": null,
            "grid_area": null,
            "grid_auto_columns": null,
            "grid_auto_flow": null,
            "grid_auto_rows": null,
            "grid_column": null,
            "grid_gap": null,
            "grid_row": null,
            "grid_template_areas": null,
            "grid_template_columns": null,
            "grid_template_rows": null,
            "height": null,
            "justify_content": null,
            "justify_items": null,
            "left": null,
            "margin": null,
            "max_height": null,
            "max_width": null,
            "min_height": null,
            "min_width": null,
            "object_fit": null,
            "object_position": null,
            "order": null,
            "overflow": null,
            "overflow_x": null,
            "overflow_y": null,
            "padding": null,
            "right": null,
            "top": null,
            "visibility": null,
            "width": null
          }
        },
        "06285197ccb24074bfe61d0b5049e57b": {
          "model_module": "@jupyter-widgets/controls",
          "model_name": "DescriptionStyleModel",
          "model_module_version": "1.5.0",
          "state": {
            "_model_module": "@jupyter-widgets/controls",
            "_model_module_version": "1.5.0",
            "_model_name": "DescriptionStyleModel",
            "_view_count": null,
            "_view_module": "@jupyter-widgets/base",
            "_view_module_version": "1.2.0",
            "_view_name": "StyleView",
            "description_width": ""
          }
        },
        "5e36cb883098433680913cb194a20e22": {
          "model_module": "@jupyter-widgets/controls",
          "model_name": "HBoxModel",
          "model_module_version": "1.5.0",
          "state": {
            "_dom_classes": [],
            "_model_module": "@jupyter-widgets/controls",
            "_model_module_version": "1.5.0",
            "_model_name": "HBoxModel",
            "_view_count": null,
            "_view_module": "@jupyter-widgets/controls",
            "_view_module_version": "1.5.0",
            "_view_name": "HBoxView",
            "box_style": "",
            "children": [
              "IPY_MODEL_bc1a727a4e24452bbf8803b576c0c419",
              "IPY_MODEL_162f1b0eed40478481f7d7afd8b5aeef",
              "IPY_MODEL_9183a807aa5449f3af473a12b19d09af"
            ],
            "layout": "IPY_MODEL_d567ec46341f46c0bab14b8572385e0c"
          }
        },
        "bc1a727a4e24452bbf8803b576c0c419": {
          "model_module": "@jupyter-widgets/controls",
          "model_name": "HTMLModel",
          "model_module_version": "1.5.0",
          "state": {
            "_dom_classes": [],
            "_model_module": "@jupyter-widgets/controls",
            "_model_module_version": "1.5.0",
            "_model_name": "HTMLModel",
            "_view_count": null,
            "_view_module": "@jupyter-widgets/controls",
            "_view_module_version": "1.5.0",
            "_view_name": "HTMLView",
            "description": "",
            "description_tooltip": null,
            "layout": "IPY_MODEL_17bbe8d2e6174b06ae896477a5ef5e38",
            "placeholder": "​",
            "style": "IPY_MODEL_caeac0cc53ef4dbdad02774e47a1e74e",
            "value": "pytorch_model.bin.index.json: 100%"
          }
        },
        "162f1b0eed40478481f7d7afd8b5aeef": {
          "model_module": "@jupyter-widgets/controls",
          "model_name": "FloatProgressModel",
          "model_module_version": "1.5.0",
          "state": {
            "_dom_classes": [],
            "_model_module": "@jupyter-widgets/controls",
            "_model_module_version": "1.5.0",
            "_model_name": "FloatProgressModel",
            "_view_count": null,
            "_view_module": "@jupyter-widgets/controls",
            "_view_module_version": "1.5.0",
            "_view_name": "ProgressView",
            "bar_style": "success",
            "description": "",
            "description_tooltip": null,
            "layout": "IPY_MODEL_5e80c785ec57496ca979e7ffbea60f4c",
            "max": 16924,
            "min": 0,
            "orientation": "horizontal",
            "style": "IPY_MODEL_111c0c2fafce4f79ad9a1faa78a00026",
            "value": 16924
          }
        },
        "9183a807aa5449f3af473a12b19d09af": {
          "model_module": "@jupyter-widgets/controls",
          "model_name": "HTMLModel",
          "model_module_version": "1.5.0",
          "state": {
            "_dom_classes": [],
            "_model_module": "@jupyter-widgets/controls",
            "_model_module_version": "1.5.0",
            "_model_name": "HTMLModel",
            "_view_count": null,
            "_view_module": "@jupyter-widgets/controls",
            "_view_module_version": "1.5.0",
            "_view_name": "HTMLView",
            "description": "",
            "description_tooltip": null,
            "layout": "IPY_MODEL_d27f79f66c864d71af4df498b61114cb",
            "placeholder": "​",
            "style": "IPY_MODEL_9536f304633c4e80aded005d579ed8d5",
            "value": " 16.9k/16.9k [00:00&lt;00:00, 43.7kB/s]"
          }
        },
        "d567ec46341f46c0bab14b8572385e0c": {
          "model_module": "@jupyter-widgets/base",
          "model_name": "LayoutModel",
          "model_module_version": "1.2.0",
          "state": {
            "_model_module": "@jupyter-widgets/base",
            "_model_module_version": "1.2.0",
            "_model_name": "LayoutModel",
            "_view_count": null,
            "_view_module": "@jupyter-widgets/base",
            "_view_module_version": "1.2.0",
            "_view_name": "LayoutView",
            "align_content": null,
            "align_items": null,
            "align_self": null,
            "border": null,
            "bottom": null,
            "display": null,
            "flex": null,
            "flex_flow": null,
            "grid_area": null,
            "grid_auto_columns": null,
            "grid_auto_flow": null,
            "grid_auto_rows": null,
            "grid_column": null,
            "grid_gap": null,
            "grid_row": null,
            "grid_template_areas": null,
            "grid_template_columns": null,
            "grid_template_rows": null,
            "height": null,
            "justify_content": null,
            "justify_items": null,
            "left": null,
            "margin": null,
            "max_height": null,
            "max_width": null,
            "min_height": null,
            "min_width": null,
            "object_fit": null,
            "object_position": null,
            "order": null,
            "overflow": null,
            "overflow_x": null,
            "overflow_y": null,
            "padding": null,
            "right": null,
            "top": null,
            "visibility": null,
            "width": null
          }
        },
        "17bbe8d2e6174b06ae896477a5ef5e38": {
          "model_module": "@jupyter-widgets/base",
          "model_name": "LayoutModel",
          "model_module_version": "1.2.0",
          "state": {
            "_model_module": "@jupyter-widgets/base",
            "_model_module_version": "1.2.0",
            "_model_name": "LayoutModel",
            "_view_count": null,
            "_view_module": "@jupyter-widgets/base",
            "_view_module_version": "1.2.0",
            "_view_name": "LayoutView",
            "align_content": null,
            "align_items": null,
            "align_self": null,
            "border": null,
            "bottom": null,
            "display": null,
            "flex": null,
            "flex_flow": null,
            "grid_area": null,
            "grid_auto_columns": null,
            "grid_auto_flow": null,
            "grid_auto_rows": null,
            "grid_column": null,
            "grid_gap": null,
            "grid_row": null,
            "grid_template_areas": null,
            "grid_template_columns": null,
            "grid_template_rows": null,
            "height": null,
            "justify_content": null,
            "justify_items": null,
            "left": null,
            "margin": null,
            "max_height": null,
            "max_width": null,
            "min_height": null,
            "min_width": null,
            "object_fit": null,
            "object_position": null,
            "order": null,
            "overflow": null,
            "overflow_x": null,
            "overflow_y": null,
            "padding": null,
            "right": null,
            "top": null,
            "visibility": null,
            "width": null
          }
        },
        "caeac0cc53ef4dbdad02774e47a1e74e": {
          "model_module": "@jupyter-widgets/controls",
          "model_name": "DescriptionStyleModel",
          "model_module_version": "1.5.0",
          "state": {
            "_model_module": "@jupyter-widgets/controls",
            "_model_module_version": "1.5.0",
            "_model_name": "DescriptionStyleModel",
            "_view_count": null,
            "_view_module": "@jupyter-widgets/base",
            "_view_module_version": "1.2.0",
            "_view_name": "StyleView",
            "description_width": ""
          }
        },
        "5e80c785ec57496ca979e7ffbea60f4c": {
          "model_module": "@jupyter-widgets/base",
          "model_name": "LayoutModel",
          "model_module_version": "1.2.0",
          "state": {
            "_model_module": "@jupyter-widgets/base",
            "_model_module_version": "1.2.0",
            "_model_name": "LayoutModel",
            "_view_count": null,
            "_view_module": "@jupyter-widgets/base",
            "_view_module_version": "1.2.0",
            "_view_name": "LayoutView",
            "align_content": null,
            "align_items": null,
            "align_self": null,
            "border": null,
            "bottom": null,
            "display": null,
            "flex": null,
            "flex_flow": null,
            "grid_area": null,
            "grid_auto_columns": null,
            "grid_auto_flow": null,
            "grid_auto_rows": null,
            "grid_column": null,
            "grid_gap": null,
            "grid_row": null,
            "grid_template_areas": null,
            "grid_template_columns": null,
            "grid_template_rows": null,
            "height": null,
            "justify_content": null,
            "justify_items": null,
            "left": null,
            "margin": null,
            "max_height": null,
            "max_width": null,
            "min_height": null,
            "min_width": null,
            "object_fit": null,
            "object_position": null,
            "order": null,
            "overflow": null,
            "overflow_x": null,
            "overflow_y": null,
            "padding": null,
            "right": null,
            "top": null,
            "visibility": null,
            "width": null
          }
        },
        "111c0c2fafce4f79ad9a1faa78a00026": {
          "model_module": "@jupyter-widgets/controls",
          "model_name": "ProgressStyleModel",
          "model_module_version": "1.5.0",
          "state": {
            "_model_module": "@jupyter-widgets/controls",
            "_model_module_version": "1.5.0",
            "_model_name": "ProgressStyleModel",
            "_view_count": null,
            "_view_module": "@jupyter-widgets/base",
            "_view_module_version": "1.2.0",
            "_view_name": "StyleView",
            "bar_color": null,
            "description_width": ""
          }
        },
        "d27f79f66c864d71af4df498b61114cb": {
          "model_module": "@jupyter-widgets/base",
          "model_name": "LayoutModel",
          "model_module_version": "1.2.0",
          "state": {
            "_model_module": "@jupyter-widgets/base",
            "_model_module_version": "1.2.0",
            "_model_name": "LayoutModel",
            "_view_count": null,
            "_view_module": "@jupyter-widgets/base",
            "_view_module_version": "1.2.0",
            "_view_name": "LayoutView",
            "align_content": null,
            "align_items": null,
            "align_self": null,
            "border": null,
            "bottom": null,
            "display": null,
            "flex": null,
            "flex_flow": null,
            "grid_area": null,
            "grid_auto_columns": null,
            "grid_auto_flow": null,
            "grid_auto_rows": null,
            "grid_column": null,
            "grid_gap": null,
            "grid_row": null,
            "grid_template_areas": null,
            "grid_template_columns": null,
            "grid_template_rows": null,
            "height": null,
            "justify_content": null,
            "justify_items": null,
            "left": null,
            "margin": null,
            "max_height": null,
            "max_width": null,
            "min_height": null,
            "min_width": null,
            "object_fit": null,
            "object_position": null,
            "order": null,
            "overflow": null,
            "overflow_x": null,
            "overflow_y": null,
            "padding": null,
            "right": null,
            "top": null,
            "visibility": null,
            "width": null
          }
        },
        "9536f304633c4e80aded005d579ed8d5": {
          "model_module": "@jupyter-widgets/controls",
          "model_name": "DescriptionStyleModel",
          "model_module_version": "1.5.0",
          "state": {
            "_model_module": "@jupyter-widgets/controls",
            "_model_module_version": "1.5.0",
            "_model_name": "DescriptionStyleModel",
            "_view_count": null,
            "_view_module": "@jupyter-widgets/base",
            "_view_module_version": "1.2.0",
            "_view_name": "StyleView",
            "description_width": ""
          }
        },
        "4d95561774bc47958cb08e12c4cd6b16": {
          "model_module": "@jupyter-widgets/controls",
          "model_name": "HBoxModel",
          "model_module_version": "1.5.0",
          "state": {
            "_dom_classes": [],
            "_model_module": "@jupyter-widgets/controls",
            "_model_module_version": "1.5.0",
            "_model_name": "HBoxModel",
            "_view_count": null,
            "_view_module": "@jupyter-widgets/controls",
            "_view_module_version": "1.5.0",
            "_view_name": "HBoxView",
            "box_style": "",
            "children": [
              "IPY_MODEL_ea7c92120e7942fe8d0190632816f4c7",
              "IPY_MODEL_1adbee54aa0943dab6e155510e7bca12",
              "IPY_MODEL_8c91e0bea8674c23a6d5643ac9315ed4"
            ],
            "layout": "IPY_MODEL_7196df9142304b1abf3a3e480c815d69"
          }
        },
        "ea7c92120e7942fe8d0190632816f4c7": {
          "model_module": "@jupyter-widgets/controls",
          "model_name": "HTMLModel",
          "model_module_version": "1.5.0",
          "state": {
            "_dom_classes": [],
            "_model_module": "@jupyter-widgets/controls",
            "_model_module_version": "1.5.0",
            "_model_name": "HTMLModel",
            "_view_count": null,
            "_view_module": "@jupyter-widgets/controls",
            "_view_module_version": "1.5.0",
            "_view_name": "HTMLView",
            "description": "",
            "description_tooltip": null,
            "layout": "IPY_MODEL_d6fdc386947a4f8b80a27841615f4f68",
            "placeholder": "​",
            "style": "IPY_MODEL_1bed2491c8e540568bfc1208f790916a",
            "value": "Downloading shards: 100%"
          }
        },
        "1adbee54aa0943dab6e155510e7bca12": {
          "model_module": "@jupyter-widgets/controls",
          "model_name": "FloatProgressModel",
          "model_module_version": "1.5.0",
          "state": {
            "_dom_classes": [],
            "_model_module": "@jupyter-widgets/controls",
            "_model_module_version": "1.5.0",
            "_model_name": "FloatProgressModel",
            "_view_count": null,
            "_view_module": "@jupyter-widgets/controls",
            "_view_module_version": "1.5.0",
            "_view_name": "ProgressView",
            "bar_style": "success",
            "description": "",
            "description_tooltip": null,
            "layout": "IPY_MODEL_6747b348e14d4f63a7c8ad719a406508",
            "max": 2,
            "min": 0,
            "orientation": "horizontal",
            "style": "IPY_MODEL_cd13955c439c46d5bcca777cab8ad235",
            "value": 2
          }
        },
        "8c91e0bea8674c23a6d5643ac9315ed4": {
          "model_module": "@jupyter-widgets/controls",
          "model_name": "HTMLModel",
          "model_module_version": "1.5.0",
          "state": {
            "_dom_classes": [],
            "_model_module": "@jupyter-widgets/controls",
            "_model_module_version": "1.5.0",
            "_model_name": "HTMLModel",
            "_view_count": null,
            "_view_module": "@jupyter-widgets/controls",
            "_view_module_version": "1.5.0",
            "_view_name": "HTMLView",
            "description": "",
            "description_tooltip": null,
            "layout": "IPY_MODEL_621a7cd3abce4431a60a2ce784a13a81",
            "placeholder": "​",
            "style": "IPY_MODEL_518059c65bc64ea088dcae8f20d1142b",
            "value": " 2/2 [02:36&lt;00:00, 72.97s/it]"
          }
        },
        "7196df9142304b1abf3a3e480c815d69": {
          "model_module": "@jupyter-widgets/base",
          "model_name": "LayoutModel",
          "model_module_version": "1.2.0",
          "state": {
            "_model_module": "@jupyter-widgets/base",
            "_model_module_version": "1.2.0",
            "_model_name": "LayoutModel",
            "_view_count": null,
            "_view_module": "@jupyter-widgets/base",
            "_view_module_version": "1.2.0",
            "_view_name": "LayoutView",
            "align_content": null,
            "align_items": null,
            "align_self": null,
            "border": null,
            "bottom": null,
            "display": null,
            "flex": null,
            "flex_flow": null,
            "grid_area": null,
            "grid_auto_columns": null,
            "grid_auto_flow": null,
            "grid_auto_rows": null,
            "grid_column": null,
            "grid_gap": null,
            "grid_row": null,
            "grid_template_areas": null,
            "grid_template_columns": null,
            "grid_template_rows": null,
            "height": null,
            "justify_content": null,
            "justify_items": null,
            "left": null,
            "margin": null,
            "max_height": null,
            "max_width": null,
            "min_height": null,
            "min_width": null,
            "object_fit": null,
            "object_position": null,
            "order": null,
            "overflow": null,
            "overflow_x": null,
            "overflow_y": null,
            "padding": null,
            "right": null,
            "top": null,
            "visibility": null,
            "width": null
          }
        },
        "d6fdc386947a4f8b80a27841615f4f68": {
          "model_module": "@jupyter-widgets/base",
          "model_name": "LayoutModel",
          "model_module_version": "1.2.0",
          "state": {
            "_model_module": "@jupyter-widgets/base",
            "_model_module_version": "1.2.0",
            "_model_name": "LayoutModel",
            "_view_count": null,
            "_view_module": "@jupyter-widgets/base",
            "_view_module_version": "1.2.0",
            "_view_name": "LayoutView",
            "align_content": null,
            "align_items": null,
            "align_self": null,
            "border": null,
            "bottom": null,
            "display": null,
            "flex": null,
            "flex_flow": null,
            "grid_area": null,
            "grid_auto_columns": null,
            "grid_auto_flow": null,
            "grid_auto_rows": null,
            "grid_column": null,
            "grid_gap": null,
            "grid_row": null,
            "grid_template_areas": null,
            "grid_template_columns": null,
            "grid_template_rows": null,
            "height": null,
            "justify_content": null,
            "justify_items": null,
            "left": null,
            "margin": null,
            "max_height": null,
            "max_width": null,
            "min_height": null,
            "min_width": null,
            "object_fit": null,
            "object_position": null,
            "order": null,
            "overflow": null,
            "overflow_x": null,
            "overflow_y": null,
            "padding": null,
            "right": null,
            "top": null,
            "visibility": null,
            "width": null
          }
        },
        "1bed2491c8e540568bfc1208f790916a": {
          "model_module": "@jupyter-widgets/controls",
          "model_name": "DescriptionStyleModel",
          "model_module_version": "1.5.0",
          "state": {
            "_model_module": "@jupyter-widgets/controls",
            "_model_module_version": "1.5.0",
            "_model_name": "DescriptionStyleModel",
            "_view_count": null,
            "_view_module": "@jupyter-widgets/base",
            "_view_module_version": "1.2.0",
            "_view_name": "StyleView",
            "description_width": ""
          }
        },
        "6747b348e14d4f63a7c8ad719a406508": {
          "model_module": "@jupyter-widgets/base",
          "model_name": "LayoutModel",
          "model_module_version": "1.2.0",
          "state": {
            "_model_module": "@jupyter-widgets/base",
            "_model_module_version": "1.2.0",
            "_model_name": "LayoutModel",
            "_view_count": null,
            "_view_module": "@jupyter-widgets/base",
            "_view_module_version": "1.2.0",
            "_view_name": "LayoutView",
            "align_content": null,
            "align_items": null,
            "align_self": null,
            "border": null,
            "bottom": null,
            "display": null,
            "flex": null,
            "flex_flow": null,
            "grid_area": null,
            "grid_auto_columns": null,
            "grid_auto_flow": null,
            "grid_auto_rows": null,
            "grid_column": null,
            "grid_gap": null,
            "grid_row": null,
            "grid_template_areas": null,
            "grid_template_columns": null,
            "grid_template_rows": null,
            "height": null,
            "justify_content": null,
            "justify_items": null,
            "left": null,
            "margin": null,
            "max_height": null,
            "max_width": null,
            "min_height": null,
            "min_width": null,
            "object_fit": null,
            "object_position": null,
            "order": null,
            "overflow": null,
            "overflow_x": null,
            "overflow_y": null,
            "padding": null,
            "right": null,
            "top": null,
            "visibility": null,
            "width": null
          }
        },
        "cd13955c439c46d5bcca777cab8ad235": {
          "model_module": "@jupyter-widgets/controls",
          "model_name": "ProgressStyleModel",
          "model_module_version": "1.5.0",
          "state": {
            "_model_module": "@jupyter-widgets/controls",
            "_model_module_version": "1.5.0",
            "_model_name": "ProgressStyleModel",
            "_view_count": null,
            "_view_module": "@jupyter-widgets/base",
            "_view_module_version": "1.2.0",
            "_view_name": "StyleView",
            "bar_color": null,
            "description_width": ""
          }
        },
        "621a7cd3abce4431a60a2ce784a13a81": {
          "model_module": "@jupyter-widgets/base",
          "model_name": "LayoutModel",
          "model_module_version": "1.2.0",
          "state": {
            "_model_module": "@jupyter-widgets/base",
            "_model_module_version": "1.2.0",
            "_model_name": "LayoutModel",
            "_view_count": null,
            "_view_module": "@jupyter-widgets/base",
            "_view_module_version": "1.2.0",
            "_view_name": "LayoutView",
            "align_content": null,
            "align_items": null,
            "align_self": null,
            "border": null,
            "bottom": null,
            "display": null,
            "flex": null,
            "flex_flow": null,
            "grid_area": null,
            "grid_auto_columns": null,
            "grid_auto_flow": null,
            "grid_auto_rows": null,
            "grid_column": null,
            "grid_gap": null,
            "grid_row": null,
            "grid_template_areas": null,
            "grid_template_columns": null,
            "grid_template_rows": null,
            "height": null,
            "justify_content": null,
            "justify_items": null,
            "left": null,
            "margin": null,
            "max_height": null,
            "max_width": null,
            "min_height": null,
            "min_width": null,
            "object_fit": null,
            "object_position": null,
            "order": null,
            "overflow": null,
            "overflow_x": null,
            "overflow_y": null,
            "padding": null,
            "right": null,
            "top": null,
            "visibility": null,
            "width": null
          }
        },
        "518059c65bc64ea088dcae8f20d1142b": {
          "model_module": "@jupyter-widgets/controls",
          "model_name": "DescriptionStyleModel",
          "model_module_version": "1.5.0",
          "state": {
            "_model_module": "@jupyter-widgets/controls",
            "_model_module_version": "1.5.0",
            "_model_name": "DescriptionStyleModel",
            "_view_count": null,
            "_view_module": "@jupyter-widgets/base",
            "_view_module_version": "1.2.0",
            "_view_name": "StyleView",
            "description_width": ""
          }
        },
        "ccdb5ee7fdb647d4be2c982f7a53cbbe": {
          "model_module": "@jupyter-widgets/controls",
          "model_name": "HBoxModel",
          "model_module_version": "1.5.0",
          "state": {
            "_dom_classes": [],
            "_model_module": "@jupyter-widgets/controls",
            "_model_module_version": "1.5.0",
            "_model_name": "HBoxModel",
            "_view_count": null,
            "_view_module": "@jupyter-widgets/controls",
            "_view_module_version": "1.5.0",
            "_view_name": "HBoxView",
            "box_style": "",
            "children": [
              "IPY_MODEL_5d488fb3e0a145a6897af05bdf07f1fa",
              "IPY_MODEL_ad4b0b9121724777b3058ce481bc9751",
              "IPY_MODEL_8305b1fbf5c74eba9fd2acb4db9466ef"
            ],
            "layout": "IPY_MODEL_73767b41166a4207b730dcc50b31457e"
          }
        },
        "5d488fb3e0a145a6897af05bdf07f1fa": {
          "model_module": "@jupyter-widgets/controls",
          "model_name": "HTMLModel",
          "model_module_version": "1.5.0",
          "state": {
            "_dom_classes": [],
            "_model_module": "@jupyter-widgets/controls",
            "_model_module_version": "1.5.0",
            "_model_name": "HTMLModel",
            "_view_count": null,
            "_view_module": "@jupyter-widgets/controls",
            "_view_module_version": "1.5.0",
            "_view_name": "HTMLView",
            "description": "",
            "description_tooltip": null,
            "layout": "IPY_MODEL_9a652b0432cb4ac48a8b72286c6985fc",
            "placeholder": "​",
            "style": "IPY_MODEL_f4182aae2c3a443490bbc1e71f2c2068",
            "value": "pytorch_model-00001-of-00002.bin: 100%"
          }
        },
        "ad4b0b9121724777b3058ce481bc9751": {
          "model_module": "@jupyter-widgets/controls",
          "model_name": "FloatProgressModel",
          "model_module_version": "1.5.0",
          "state": {
            "_dom_classes": [],
            "_model_module": "@jupyter-widgets/controls",
            "_model_module_version": "1.5.0",
            "_model_name": "FloatProgressModel",
            "_view_count": null,
            "_view_module": "@jupyter-widgets/controls",
            "_view_module_version": "1.5.0",
            "_view_name": "ProgressView",
            "bar_style": "success",
            "description": "",
            "description_tooltip": null,
            "layout": "IPY_MODEL_1747f20d60cb4c248c04e6d49b3924cd",
            "max": 9951028193,
            "min": 0,
            "orientation": "horizontal",
            "style": "IPY_MODEL_d5216e9e3f9d4d3aa2a8d3caf4309e7d",
            "value": 9951028193
          }
        },
        "8305b1fbf5c74eba9fd2acb4db9466ef": {
          "model_module": "@jupyter-widgets/controls",
          "model_name": "HTMLModel",
          "model_module_version": "1.5.0",
          "state": {
            "_dom_classes": [],
            "_model_module": "@jupyter-widgets/controls",
            "_model_module_version": "1.5.0",
            "_model_name": "HTMLModel",
            "_view_count": null,
            "_view_module": "@jupyter-widgets/controls",
            "_view_module_version": "1.5.0",
            "_view_name": "HTMLView",
            "description": "",
            "description_tooltip": null,
            "layout": "IPY_MODEL_fb95775c7c4e4461bb47bd6d599066f6",
            "placeholder": "​",
            "style": "IPY_MODEL_96e104d590374dc48535422cd7998505",
            "value": " 9.95G/9.95G [01:47&lt;00:00, 94.5MB/s]"
          }
        },
        "73767b41166a4207b730dcc50b31457e": {
          "model_module": "@jupyter-widgets/base",
          "model_name": "LayoutModel",
          "model_module_version": "1.2.0",
          "state": {
            "_model_module": "@jupyter-widgets/base",
            "_model_module_version": "1.2.0",
            "_model_name": "LayoutModel",
            "_view_count": null,
            "_view_module": "@jupyter-widgets/base",
            "_view_module_version": "1.2.0",
            "_view_name": "LayoutView",
            "align_content": null,
            "align_items": null,
            "align_self": null,
            "border": null,
            "bottom": null,
            "display": null,
            "flex": null,
            "flex_flow": null,
            "grid_area": null,
            "grid_auto_columns": null,
            "grid_auto_flow": null,
            "grid_auto_rows": null,
            "grid_column": null,
            "grid_gap": null,
            "grid_row": null,
            "grid_template_areas": null,
            "grid_template_columns": null,
            "grid_template_rows": null,
            "height": null,
            "justify_content": null,
            "justify_items": null,
            "left": null,
            "margin": null,
            "max_height": null,
            "max_width": null,
            "min_height": null,
            "min_width": null,
            "object_fit": null,
            "object_position": null,
            "order": null,
            "overflow": null,
            "overflow_x": null,
            "overflow_y": null,
            "padding": null,
            "right": null,
            "top": null,
            "visibility": null,
            "width": null
          }
        },
        "9a652b0432cb4ac48a8b72286c6985fc": {
          "model_module": "@jupyter-widgets/base",
          "model_name": "LayoutModel",
          "model_module_version": "1.2.0",
          "state": {
            "_model_module": "@jupyter-widgets/base",
            "_model_module_version": "1.2.0",
            "_model_name": "LayoutModel",
            "_view_count": null,
            "_view_module": "@jupyter-widgets/base",
            "_view_module_version": "1.2.0",
            "_view_name": "LayoutView",
            "align_content": null,
            "align_items": null,
            "align_self": null,
            "border": null,
            "bottom": null,
            "display": null,
            "flex": null,
            "flex_flow": null,
            "grid_area": null,
            "grid_auto_columns": null,
            "grid_auto_flow": null,
            "grid_auto_rows": null,
            "grid_column": null,
            "grid_gap": null,
            "grid_row": null,
            "grid_template_areas": null,
            "grid_template_columns": null,
            "grid_template_rows": null,
            "height": null,
            "justify_content": null,
            "justify_items": null,
            "left": null,
            "margin": null,
            "max_height": null,
            "max_width": null,
            "min_height": null,
            "min_width": null,
            "object_fit": null,
            "object_position": null,
            "order": null,
            "overflow": null,
            "overflow_x": null,
            "overflow_y": null,
            "padding": null,
            "right": null,
            "top": null,
            "visibility": null,
            "width": null
          }
        },
        "f4182aae2c3a443490bbc1e71f2c2068": {
          "model_module": "@jupyter-widgets/controls",
          "model_name": "DescriptionStyleModel",
          "model_module_version": "1.5.0",
          "state": {
            "_model_module": "@jupyter-widgets/controls",
            "_model_module_version": "1.5.0",
            "_model_name": "DescriptionStyleModel",
            "_view_count": null,
            "_view_module": "@jupyter-widgets/base",
            "_view_module_version": "1.2.0",
            "_view_name": "StyleView",
            "description_width": ""
          }
        },
        "1747f20d60cb4c248c04e6d49b3924cd": {
          "model_module": "@jupyter-widgets/base",
          "model_name": "LayoutModel",
          "model_module_version": "1.2.0",
          "state": {
            "_model_module": "@jupyter-widgets/base",
            "_model_module_version": "1.2.0",
            "_model_name": "LayoutModel",
            "_view_count": null,
            "_view_module": "@jupyter-widgets/base",
            "_view_module_version": "1.2.0",
            "_view_name": "LayoutView",
            "align_content": null,
            "align_items": null,
            "align_self": null,
            "border": null,
            "bottom": null,
            "display": null,
            "flex": null,
            "flex_flow": null,
            "grid_area": null,
            "grid_auto_columns": null,
            "grid_auto_flow": null,
            "grid_auto_rows": null,
            "grid_column": null,
            "grid_gap": null,
            "grid_row": null,
            "grid_template_areas": null,
            "grid_template_columns": null,
            "grid_template_rows": null,
            "height": null,
            "justify_content": null,
            "justify_items": null,
            "left": null,
            "margin": null,
            "max_height": null,
            "max_width": null,
            "min_height": null,
            "min_width": null,
            "object_fit": null,
            "object_position": null,
            "order": null,
            "overflow": null,
            "overflow_x": null,
            "overflow_y": null,
            "padding": null,
            "right": null,
            "top": null,
            "visibility": null,
            "width": null
          }
        },
        "d5216e9e3f9d4d3aa2a8d3caf4309e7d": {
          "model_module": "@jupyter-widgets/controls",
          "model_name": "ProgressStyleModel",
          "model_module_version": "1.5.0",
          "state": {
            "_model_module": "@jupyter-widgets/controls",
            "_model_module_version": "1.5.0",
            "_model_name": "ProgressStyleModel",
            "_view_count": null,
            "_view_module": "@jupyter-widgets/base",
            "_view_module_version": "1.2.0",
            "_view_name": "StyleView",
            "bar_color": null,
            "description_width": ""
          }
        },
        "fb95775c7c4e4461bb47bd6d599066f6": {
          "model_module": "@jupyter-widgets/base",
          "model_name": "LayoutModel",
          "model_module_version": "1.2.0",
          "state": {
            "_model_module": "@jupyter-widgets/base",
            "_model_module_version": "1.2.0",
            "_model_name": "LayoutModel",
            "_view_count": null,
            "_view_module": "@jupyter-widgets/base",
            "_view_module_version": "1.2.0",
            "_view_name": "LayoutView",
            "align_content": null,
            "align_items": null,
            "align_self": null,
            "border": null,
            "bottom": null,
            "display": null,
            "flex": null,
            "flex_flow": null,
            "grid_area": null,
            "grid_auto_columns": null,
            "grid_auto_flow": null,
            "grid_auto_rows": null,
            "grid_column": null,
            "grid_gap": null,
            "grid_row": null,
            "grid_template_areas": null,
            "grid_template_columns": null,
            "grid_template_rows": null,
            "height": null,
            "justify_content": null,
            "justify_items": null,
            "left": null,
            "margin": null,
            "max_height": null,
            "max_width": null,
            "min_height": null,
            "min_width": null,
            "object_fit": null,
            "object_position": null,
            "order": null,
            "overflow": null,
            "overflow_x": null,
            "overflow_y": null,
            "padding": null,
            "right": null,
            "top": null,
            "visibility": null,
            "width": null
          }
        },
        "96e104d590374dc48535422cd7998505": {
          "model_module": "@jupyter-widgets/controls",
          "model_name": "DescriptionStyleModel",
          "model_module_version": "1.5.0",
          "state": {
            "_model_module": "@jupyter-widgets/controls",
            "_model_module_version": "1.5.0",
            "_model_name": "DescriptionStyleModel",
            "_view_count": null,
            "_view_module": "@jupyter-widgets/base",
            "_view_module_version": "1.2.0",
            "_view_name": "StyleView",
            "description_width": ""
          }
        },
        "93070a10247e4f0592e61350a174eaaa": {
          "model_module": "@jupyter-widgets/controls",
          "model_name": "HBoxModel",
          "model_module_version": "1.5.0",
          "state": {
            "_dom_classes": [],
            "_model_module": "@jupyter-widgets/controls",
            "_model_module_version": "1.5.0",
            "_model_name": "HBoxModel",
            "_view_count": null,
            "_view_module": "@jupyter-widgets/controls",
            "_view_module_version": "1.5.0",
            "_view_name": "HBoxView",
            "box_style": "",
            "children": [
              "IPY_MODEL_1595f4ec5b614a388093297630665719",
              "IPY_MODEL_c6dd13da30864f1e87a1fe0e13412ea3",
              "IPY_MODEL_f42aabc74f284e7a9490e876520179f2"
            ],
            "layout": "IPY_MODEL_8fa7bb38fa6f499e86f011c548a27b90"
          }
        },
        "1595f4ec5b614a388093297630665719": {
          "model_module": "@jupyter-widgets/controls",
          "model_name": "HTMLModel",
          "model_module_version": "1.5.0",
          "state": {
            "_dom_classes": [],
            "_model_module": "@jupyter-widgets/controls",
            "_model_module_version": "1.5.0",
            "_model_name": "HTMLModel",
            "_view_count": null,
            "_view_module": "@jupyter-widgets/controls",
            "_view_module_version": "1.5.0",
            "_view_name": "HTMLView",
            "description": "",
            "description_tooltip": null,
            "layout": "IPY_MODEL_5fdb80359c3549eb808ed1cc821de2d2",
            "placeholder": "​",
            "style": "IPY_MODEL_9693d39f35f24ee4a672d84dbc3a83bb",
            "value": "pytorch_model-00002-of-00002.bin: 100%"
          }
        },
        "c6dd13da30864f1e87a1fe0e13412ea3": {
          "model_module": "@jupyter-widgets/controls",
          "model_name": "FloatProgressModel",
          "model_module_version": "1.5.0",
          "state": {
            "_dom_classes": [],
            "_model_module": "@jupyter-widgets/controls",
            "_model_module_version": "1.5.0",
            "_model_name": "FloatProgressModel",
            "_view_count": null,
            "_view_module": "@jupyter-widgets/controls",
            "_view_module_version": "1.5.0",
            "_view_name": "ProgressView",
            "bar_style": "success",
            "description": "",
            "description_tooltip": null,
            "layout": "IPY_MODEL_fb5f05dc1eee42d39c1b70db4fcfd21f",
            "max": 4483421659,
            "min": 0,
            "orientation": "horizontal",
            "style": "IPY_MODEL_fa65740fbb374b0baca35f23f2a8386f",
            "value": 4483421659
          }
        },
        "f42aabc74f284e7a9490e876520179f2": {
          "model_module": "@jupyter-widgets/controls",
          "model_name": "HTMLModel",
          "model_module_version": "1.5.0",
          "state": {
            "_dom_classes": [],
            "_model_module": "@jupyter-widgets/controls",
            "_model_module_version": "1.5.0",
            "_model_name": "HTMLModel",
            "_view_count": null,
            "_view_module": "@jupyter-widgets/controls",
            "_view_module_version": "1.5.0",
            "_view_name": "HTMLView",
            "description": "",
            "description_tooltip": null,
            "layout": "IPY_MODEL_f80ab4a8b97841ecbdf1fe503cf567a3",
            "placeholder": "​",
            "style": "IPY_MODEL_5e0249a0c56f430c8cc8b614929fc465",
            "value": " 4.48G/4.48G [00:48&lt;00:00, 95.9MB/s]"
          }
        },
        "8fa7bb38fa6f499e86f011c548a27b90": {
          "model_module": "@jupyter-widgets/base",
          "model_name": "LayoutModel",
          "model_module_version": "1.2.0",
          "state": {
            "_model_module": "@jupyter-widgets/base",
            "_model_module_version": "1.2.0",
            "_model_name": "LayoutModel",
            "_view_count": null,
            "_view_module": "@jupyter-widgets/base",
            "_view_module_version": "1.2.0",
            "_view_name": "LayoutView",
            "align_content": null,
            "align_items": null,
            "align_self": null,
            "border": null,
            "bottom": null,
            "display": null,
            "flex": null,
            "flex_flow": null,
            "grid_area": null,
            "grid_auto_columns": null,
            "grid_auto_flow": null,
            "grid_auto_rows": null,
            "grid_column": null,
            "grid_gap": null,
            "grid_row": null,
            "grid_template_areas": null,
            "grid_template_columns": null,
            "grid_template_rows": null,
            "height": null,
            "justify_content": null,
            "justify_items": null,
            "left": null,
            "margin": null,
            "max_height": null,
            "max_width": null,
            "min_height": null,
            "min_width": null,
            "object_fit": null,
            "object_position": null,
            "order": null,
            "overflow": null,
            "overflow_x": null,
            "overflow_y": null,
            "padding": null,
            "right": null,
            "top": null,
            "visibility": null,
            "width": null
          }
        },
        "5fdb80359c3549eb808ed1cc821de2d2": {
          "model_module": "@jupyter-widgets/base",
          "model_name": "LayoutModel",
          "model_module_version": "1.2.0",
          "state": {
            "_model_module": "@jupyter-widgets/base",
            "_model_module_version": "1.2.0",
            "_model_name": "LayoutModel",
            "_view_count": null,
            "_view_module": "@jupyter-widgets/base",
            "_view_module_version": "1.2.0",
            "_view_name": "LayoutView",
            "align_content": null,
            "align_items": null,
            "align_self": null,
            "border": null,
            "bottom": null,
            "display": null,
            "flex": null,
            "flex_flow": null,
            "grid_area": null,
            "grid_auto_columns": null,
            "grid_auto_flow": null,
            "grid_auto_rows": null,
            "grid_column": null,
            "grid_gap": null,
            "grid_row": null,
            "grid_template_areas": null,
            "grid_template_columns": null,
            "grid_template_rows": null,
            "height": null,
            "justify_content": null,
            "justify_items": null,
            "left": null,
            "margin": null,
            "max_height": null,
            "max_width": null,
            "min_height": null,
            "min_width": null,
            "object_fit": null,
            "object_position": null,
            "order": null,
            "overflow": null,
            "overflow_x": null,
            "overflow_y": null,
            "padding": null,
            "right": null,
            "top": null,
            "visibility": null,
            "width": null
          }
        },
        "9693d39f35f24ee4a672d84dbc3a83bb": {
          "model_module": "@jupyter-widgets/controls",
          "model_name": "DescriptionStyleModel",
          "model_module_version": "1.5.0",
          "state": {
            "_model_module": "@jupyter-widgets/controls",
            "_model_module_version": "1.5.0",
            "_model_name": "DescriptionStyleModel",
            "_view_count": null,
            "_view_module": "@jupyter-widgets/base",
            "_view_module_version": "1.2.0",
            "_view_name": "StyleView",
            "description_width": ""
          }
        },
        "fb5f05dc1eee42d39c1b70db4fcfd21f": {
          "model_module": "@jupyter-widgets/base",
          "model_name": "LayoutModel",
          "model_module_version": "1.2.0",
          "state": {
            "_model_module": "@jupyter-widgets/base",
            "_model_module_version": "1.2.0",
            "_model_name": "LayoutModel",
            "_view_count": null,
            "_view_module": "@jupyter-widgets/base",
            "_view_module_version": "1.2.0",
            "_view_name": "LayoutView",
            "align_content": null,
            "align_items": null,
            "align_self": null,
            "border": null,
            "bottom": null,
            "display": null,
            "flex": null,
            "flex_flow": null,
            "grid_area": null,
            "grid_auto_columns": null,
            "grid_auto_flow": null,
            "grid_auto_rows": null,
            "grid_column": null,
            "grid_gap": null,
            "grid_row": null,
            "grid_template_areas": null,
            "grid_template_columns": null,
            "grid_template_rows": null,
            "height": null,
            "justify_content": null,
            "justify_items": null,
            "left": null,
            "margin": null,
            "max_height": null,
            "max_width": null,
            "min_height": null,
            "min_width": null,
            "object_fit": null,
            "object_position": null,
            "order": null,
            "overflow": null,
            "overflow_x": null,
            "overflow_y": null,
            "padding": null,
            "right": null,
            "top": null,
            "visibility": null,
            "width": null
          }
        },
        "fa65740fbb374b0baca35f23f2a8386f": {
          "model_module": "@jupyter-widgets/controls",
          "model_name": "ProgressStyleModel",
          "model_module_version": "1.5.0",
          "state": {
            "_model_module": "@jupyter-widgets/controls",
            "_model_module_version": "1.5.0",
            "_model_name": "ProgressStyleModel",
            "_view_count": null,
            "_view_module": "@jupyter-widgets/base",
            "_view_module_version": "1.2.0",
            "_view_name": "StyleView",
            "bar_color": null,
            "description_width": ""
          }
        },
        "f80ab4a8b97841ecbdf1fe503cf567a3": {
          "model_module": "@jupyter-widgets/base",
          "model_name": "LayoutModel",
          "model_module_version": "1.2.0",
          "state": {
            "_model_module": "@jupyter-widgets/base",
            "_model_module_version": "1.2.0",
            "_model_name": "LayoutModel",
            "_view_count": null,
            "_view_module": "@jupyter-widgets/base",
            "_view_module_version": "1.2.0",
            "_view_name": "LayoutView",
            "align_content": null,
            "align_items": null,
            "align_self": null,
            "border": null,
            "bottom": null,
            "display": null,
            "flex": null,
            "flex_flow": null,
            "grid_area": null,
            "grid_auto_columns": null,
            "grid_auto_flow": null,
            "grid_auto_rows": null,
            "grid_column": null,
            "grid_gap": null,
            "grid_row": null,
            "grid_template_areas": null,
            "grid_template_columns": null,
            "grid_template_rows": null,
            "height": null,
            "justify_content": null,
            "justify_items": null,
            "left": null,
            "margin": null,
            "max_height": null,
            "max_width": null,
            "min_height": null,
            "min_width": null,
            "object_fit": null,
            "object_position": null,
            "order": null,
            "overflow": null,
            "overflow_x": null,
            "overflow_y": null,
            "padding": null,
            "right": null,
            "top": null,
            "visibility": null,
            "width": null
          }
        },
        "5e0249a0c56f430c8cc8b614929fc465": {
          "model_module": "@jupyter-widgets/controls",
          "model_name": "DescriptionStyleModel",
          "model_module_version": "1.5.0",
          "state": {
            "_model_module": "@jupyter-widgets/controls",
            "_model_module_version": "1.5.0",
            "_model_name": "DescriptionStyleModel",
            "_view_count": null,
            "_view_module": "@jupyter-widgets/base",
            "_view_module_version": "1.2.0",
            "_view_name": "StyleView",
            "description_width": ""
          }
        },
        "3738e2f2af5f44498f407f7cea03dbf1": {
          "model_module": "@jupyter-widgets/controls",
          "model_name": "HBoxModel",
          "model_module_version": "1.5.0",
          "state": {
            "_dom_classes": [],
            "_model_module": "@jupyter-widgets/controls",
            "_model_module_version": "1.5.0",
            "_model_name": "HBoxModel",
            "_view_count": null,
            "_view_module": "@jupyter-widgets/controls",
            "_view_module_version": "1.5.0",
            "_view_name": "HBoxView",
            "box_style": "",
            "children": [
              "IPY_MODEL_29b0e592d7bf4f32858eba8b364c63ce",
              "IPY_MODEL_35bcacc0bbdb4cfba0654e4d5582d755",
              "IPY_MODEL_61b43aa6ab204255982b0c042eeb5edb"
            ],
            "layout": "IPY_MODEL_f01f8cdc5c9a4f5890d68512c6b81e53"
          }
        },
        "29b0e592d7bf4f32858eba8b364c63ce": {
          "model_module": "@jupyter-widgets/controls",
          "model_name": "HTMLModel",
          "model_module_version": "1.5.0",
          "state": {
            "_dom_classes": [],
            "_model_module": "@jupyter-widgets/controls",
            "_model_module_version": "1.5.0",
            "_model_name": "HTMLModel",
            "_view_count": null,
            "_view_module": "@jupyter-widgets/controls",
            "_view_module_version": "1.5.0",
            "_view_name": "HTMLView",
            "description": "",
            "description_tooltip": null,
            "layout": "IPY_MODEL_0f92d44712e349f2a740633737d039f0",
            "placeholder": "​",
            "style": "IPY_MODEL_c2640aa36b0a4a0493bdfecd7086052b",
            "value": "Loading checkpoint shards: 100%"
          }
        },
        "35bcacc0bbdb4cfba0654e4d5582d755": {
          "model_module": "@jupyter-widgets/controls",
          "model_name": "FloatProgressModel",
          "model_module_version": "1.5.0",
          "state": {
            "_dom_classes": [],
            "_model_module": "@jupyter-widgets/controls",
            "_model_module_version": "1.5.0",
            "_model_name": "FloatProgressModel",
            "_view_count": null,
            "_view_module": "@jupyter-widgets/controls",
            "_view_module_version": "1.5.0",
            "_view_name": "ProgressView",
            "bar_style": "success",
            "description": "",
            "description_tooltip": null,
            "layout": "IPY_MODEL_3168b422a177437a88b31ba6e7676dff",
            "max": 2,
            "min": 0,
            "orientation": "horizontal",
            "style": "IPY_MODEL_35d9db4837484104935e82e34cbca160",
            "value": 2
          }
        },
        "61b43aa6ab204255982b0c042eeb5edb": {
          "model_module": "@jupyter-widgets/controls",
          "model_name": "HTMLModel",
          "model_module_version": "1.5.0",
          "state": {
            "_dom_classes": [],
            "_model_module": "@jupyter-widgets/controls",
            "_model_module_version": "1.5.0",
            "_model_name": "HTMLModel",
            "_view_count": null,
            "_view_module": "@jupyter-widgets/controls",
            "_view_module_version": "1.5.0",
            "_view_name": "HTMLView",
            "description": "",
            "description_tooltip": null,
            "layout": "IPY_MODEL_e8863fbb0a16402a831d53a3655a3341",
            "placeholder": "​",
            "style": "IPY_MODEL_ffdd4cf450124dbeb8cac0fae7c6f86d",
            "value": " 2/2 [00:16&lt;00:00,  7.76s/it]"
          }
        },
        "f01f8cdc5c9a4f5890d68512c6b81e53": {
          "model_module": "@jupyter-widgets/base",
          "model_name": "LayoutModel",
          "model_module_version": "1.2.0",
          "state": {
            "_model_module": "@jupyter-widgets/base",
            "_model_module_version": "1.2.0",
            "_model_name": "LayoutModel",
            "_view_count": null,
            "_view_module": "@jupyter-widgets/base",
            "_view_module_version": "1.2.0",
            "_view_name": "LayoutView",
            "align_content": null,
            "align_items": null,
            "align_self": null,
            "border": null,
            "bottom": null,
            "display": null,
            "flex": null,
            "flex_flow": null,
            "grid_area": null,
            "grid_auto_columns": null,
            "grid_auto_flow": null,
            "grid_auto_rows": null,
            "grid_column": null,
            "grid_gap": null,
            "grid_row": null,
            "grid_template_areas": null,
            "grid_template_columns": null,
            "grid_template_rows": null,
            "height": null,
            "justify_content": null,
            "justify_items": null,
            "left": null,
            "margin": null,
            "max_height": null,
            "max_width": null,
            "min_height": null,
            "min_width": null,
            "object_fit": null,
            "object_position": null,
            "order": null,
            "overflow": null,
            "overflow_x": null,
            "overflow_y": null,
            "padding": null,
            "right": null,
            "top": null,
            "visibility": null,
            "width": null
          }
        },
        "0f92d44712e349f2a740633737d039f0": {
          "model_module": "@jupyter-widgets/base",
          "model_name": "LayoutModel",
          "model_module_version": "1.2.0",
          "state": {
            "_model_module": "@jupyter-widgets/base",
            "_model_module_version": "1.2.0",
            "_model_name": "LayoutModel",
            "_view_count": null,
            "_view_module": "@jupyter-widgets/base",
            "_view_module_version": "1.2.0",
            "_view_name": "LayoutView",
            "align_content": null,
            "align_items": null,
            "align_self": null,
            "border": null,
            "bottom": null,
            "display": null,
            "flex": null,
            "flex_flow": null,
            "grid_area": null,
            "grid_auto_columns": null,
            "grid_auto_flow": null,
            "grid_auto_rows": null,
            "grid_column": null,
            "grid_gap": null,
            "grid_row": null,
            "grid_template_areas": null,
            "grid_template_columns": null,
            "grid_template_rows": null,
            "height": null,
            "justify_content": null,
            "justify_items": null,
            "left": null,
            "margin": null,
            "max_height": null,
            "max_width": null,
            "min_height": null,
            "min_width": null,
            "object_fit": null,
            "object_position": null,
            "order": null,
            "overflow": null,
            "overflow_x": null,
            "overflow_y": null,
            "padding": null,
            "right": null,
            "top": null,
            "visibility": null,
            "width": null
          }
        },
        "c2640aa36b0a4a0493bdfecd7086052b": {
          "model_module": "@jupyter-widgets/controls",
          "model_name": "DescriptionStyleModel",
          "model_module_version": "1.5.0",
          "state": {
            "_model_module": "@jupyter-widgets/controls",
            "_model_module_version": "1.5.0",
            "_model_name": "DescriptionStyleModel",
            "_view_count": null,
            "_view_module": "@jupyter-widgets/base",
            "_view_module_version": "1.2.0",
            "_view_name": "StyleView",
            "description_width": ""
          }
        },
        "3168b422a177437a88b31ba6e7676dff": {
          "model_module": "@jupyter-widgets/base",
          "model_name": "LayoutModel",
          "model_module_version": "1.2.0",
          "state": {
            "_model_module": "@jupyter-widgets/base",
            "_model_module_version": "1.2.0",
            "_model_name": "LayoutModel",
            "_view_count": null,
            "_view_module": "@jupyter-widgets/base",
            "_view_module_version": "1.2.0",
            "_view_name": "LayoutView",
            "align_content": null,
            "align_items": null,
            "align_self": null,
            "border": null,
            "bottom": null,
            "display": null,
            "flex": null,
            "flex_flow": null,
            "grid_area": null,
            "grid_auto_columns": null,
            "grid_auto_flow": null,
            "grid_auto_rows": null,
            "grid_column": null,
            "grid_gap": null,
            "grid_row": null,
            "grid_template_areas": null,
            "grid_template_columns": null,
            "grid_template_rows": null,
            "height": null,
            "justify_content": null,
            "justify_items": null,
            "left": null,
            "margin": null,
            "max_height": null,
            "max_width": null,
            "min_height": null,
            "min_width": null,
            "object_fit": null,
            "object_position": null,
            "order": null,
            "overflow": null,
            "overflow_x": null,
            "overflow_y": null,
            "padding": null,
            "right": null,
            "top": null,
            "visibility": null,
            "width": null
          }
        },
        "35d9db4837484104935e82e34cbca160": {
          "model_module": "@jupyter-widgets/controls",
          "model_name": "ProgressStyleModel",
          "model_module_version": "1.5.0",
          "state": {
            "_model_module": "@jupyter-widgets/controls",
            "_model_module_version": "1.5.0",
            "_model_name": "ProgressStyleModel",
            "_view_count": null,
            "_view_module": "@jupyter-widgets/base",
            "_view_module_version": "1.2.0",
            "_view_name": "StyleView",
            "bar_color": null,
            "description_width": ""
          }
        },
        "e8863fbb0a16402a831d53a3655a3341": {
          "model_module": "@jupyter-widgets/base",
          "model_name": "LayoutModel",
          "model_module_version": "1.2.0",
          "state": {
            "_model_module": "@jupyter-widgets/base",
            "_model_module_version": "1.2.0",
            "_model_name": "LayoutModel",
            "_view_count": null,
            "_view_module": "@jupyter-widgets/base",
            "_view_module_version": "1.2.0",
            "_view_name": "LayoutView",
            "align_content": null,
            "align_items": null,
            "align_self": null,
            "border": null,
            "bottom": null,
            "display": null,
            "flex": null,
            "flex_flow": null,
            "grid_area": null,
            "grid_auto_columns": null,
            "grid_auto_flow": null,
            "grid_auto_rows": null,
            "grid_column": null,
            "grid_gap": null,
            "grid_row": null,
            "grid_template_areas": null,
            "grid_template_columns": null,
            "grid_template_rows": null,
            "height": null,
            "justify_content": null,
            "justify_items": null,
            "left": null,
            "margin": null,
            "max_height": null,
            "max_width": null,
            "min_height": null,
            "min_width": null,
            "object_fit": null,
            "object_position": null,
            "order": null,
            "overflow": null,
            "overflow_x": null,
            "overflow_y": null,
            "padding": null,
            "right": null,
            "top": null,
            "visibility": null,
            "width": null
          }
        },
        "ffdd4cf450124dbeb8cac0fae7c6f86d": {
          "model_module": "@jupyter-widgets/controls",
          "model_name": "DescriptionStyleModel",
          "model_module_version": "1.5.0",
          "state": {
            "_model_module": "@jupyter-widgets/controls",
            "_model_module_version": "1.5.0",
            "_model_name": "DescriptionStyleModel",
            "_view_count": null,
            "_view_module": "@jupyter-widgets/base",
            "_view_module_version": "1.2.0",
            "_view_name": "StyleView",
            "description_width": ""
          }
        },
        "7dca721106234fd0872ad20d84266b99": {
          "model_module": "@jupyter-widgets/controls",
          "model_name": "HBoxModel",
          "model_module_version": "1.5.0",
          "state": {
            "_dom_classes": [],
            "_model_module": "@jupyter-widgets/controls",
            "_model_module_version": "1.5.0",
            "_model_name": "HBoxModel",
            "_view_count": null,
            "_view_module": "@jupyter-widgets/controls",
            "_view_module_version": "1.5.0",
            "_view_name": "HBoxView",
            "box_style": "",
            "children": [
              "IPY_MODEL_6241bde185ad47ff8dc57a8e7570944e",
              "IPY_MODEL_0256c6bcc2664998b17e50a5d3463f74",
              "IPY_MODEL_b6fc119751ca4403a35e1b5bdc4f8617"
            ],
            "layout": "IPY_MODEL_32a45351b28645c6974d8491b94c8bca"
          }
        },
        "6241bde185ad47ff8dc57a8e7570944e": {
          "model_module": "@jupyter-widgets/controls",
          "model_name": "HTMLModel",
          "model_module_version": "1.5.0",
          "state": {
            "_dom_classes": [],
            "_model_module": "@jupyter-widgets/controls",
            "_model_module_version": "1.5.0",
            "_model_name": "HTMLModel",
            "_view_count": null,
            "_view_module": "@jupyter-widgets/controls",
            "_view_module_version": "1.5.0",
            "_view_name": "HTMLView",
            "description": "",
            "description_tooltip": null,
            "layout": "IPY_MODEL_542d19a20dde44c7b5916453fc31142d",
            "placeholder": "​",
            "style": "IPY_MODEL_c0fa18465d33424c8a00e2bd42658e12",
            "value": "generation_config.json: 100%"
          }
        },
        "0256c6bcc2664998b17e50a5d3463f74": {
          "model_module": "@jupyter-widgets/controls",
          "model_name": "FloatProgressModel",
          "model_module_version": "1.5.0",
          "state": {
            "_dom_classes": [],
            "_model_module": "@jupyter-widgets/controls",
            "_model_module_version": "1.5.0",
            "_model_name": "FloatProgressModel",
            "_view_count": null,
            "_view_module": "@jupyter-widgets/controls",
            "_view_module_version": "1.5.0",
            "_view_name": "ProgressView",
            "bar_style": "success",
            "description": "",
            "description_tooltip": null,
            "layout": "IPY_MODEL_aec1dd794be4482cb138cc371b7e1d2c",
            "max": 117,
            "min": 0,
            "orientation": "horizontal",
            "style": "IPY_MODEL_8e09440b44d840df8b2afa5f7c3cf011",
            "value": 117
          }
        },
        "b6fc119751ca4403a35e1b5bdc4f8617": {
          "model_module": "@jupyter-widgets/controls",
          "model_name": "HTMLModel",
          "model_module_version": "1.5.0",
          "state": {
            "_dom_classes": [],
            "_model_module": "@jupyter-widgets/controls",
            "_model_module_version": "1.5.0",
            "_model_name": "HTMLModel",
            "_view_count": null,
            "_view_module": "@jupyter-widgets/controls",
            "_view_module_version": "1.5.0",
            "_view_name": "HTMLView",
            "description": "",
            "description_tooltip": null,
            "layout": "IPY_MODEL_271c51383fd646a6924f3bee3b5d347c",
            "placeholder": "​",
            "style": "IPY_MODEL_18daafbb0c954eadb07f7c2cf47a1b4a",
            "value": " 117/117 [00:00&lt;00:00, 265B/s]"
          }
        },
        "32a45351b28645c6974d8491b94c8bca": {
          "model_module": "@jupyter-widgets/base",
          "model_name": "LayoutModel",
          "model_module_version": "1.2.0",
          "state": {
            "_model_module": "@jupyter-widgets/base",
            "_model_module_version": "1.2.0",
            "_model_name": "LayoutModel",
            "_view_count": null,
            "_view_module": "@jupyter-widgets/base",
            "_view_module_version": "1.2.0",
            "_view_name": "LayoutView",
            "align_content": null,
            "align_items": null,
            "align_self": null,
            "border": null,
            "bottom": null,
            "display": null,
            "flex": null,
            "flex_flow": null,
            "grid_area": null,
            "grid_auto_columns": null,
            "grid_auto_flow": null,
            "grid_auto_rows": null,
            "grid_column": null,
            "grid_gap": null,
            "grid_row": null,
            "grid_template_areas": null,
            "grid_template_columns": null,
            "grid_template_rows": null,
            "height": null,
            "justify_content": null,
            "justify_items": null,
            "left": null,
            "margin": null,
            "max_height": null,
            "max_width": null,
            "min_height": null,
            "min_width": null,
            "object_fit": null,
            "object_position": null,
            "order": null,
            "overflow": null,
            "overflow_x": null,
            "overflow_y": null,
            "padding": null,
            "right": null,
            "top": null,
            "visibility": null,
            "width": null
          }
        },
        "542d19a20dde44c7b5916453fc31142d": {
          "model_module": "@jupyter-widgets/base",
          "model_name": "LayoutModel",
          "model_module_version": "1.2.0",
          "state": {
            "_model_module": "@jupyter-widgets/base",
            "_model_module_version": "1.2.0",
            "_model_name": "LayoutModel",
            "_view_count": null,
            "_view_module": "@jupyter-widgets/base",
            "_view_module_version": "1.2.0",
            "_view_name": "LayoutView",
            "align_content": null,
            "align_items": null,
            "align_self": null,
            "border": null,
            "bottom": null,
            "display": null,
            "flex": null,
            "flex_flow": null,
            "grid_area": null,
            "grid_auto_columns": null,
            "grid_auto_flow": null,
            "grid_auto_rows": null,
            "grid_column": null,
            "grid_gap": null,
            "grid_row": null,
            "grid_template_areas": null,
            "grid_template_columns": null,
            "grid_template_rows": null,
            "height": null,
            "justify_content": null,
            "justify_items": null,
            "left": null,
            "margin": null,
            "max_height": null,
            "max_width": null,
            "min_height": null,
            "min_width": null,
            "object_fit": null,
            "object_position": null,
            "order": null,
            "overflow": null,
            "overflow_x": null,
            "overflow_y": null,
            "padding": null,
            "right": null,
            "top": null,
            "visibility": null,
            "width": null
          }
        },
        "c0fa18465d33424c8a00e2bd42658e12": {
          "model_module": "@jupyter-widgets/controls",
          "model_name": "DescriptionStyleModel",
          "model_module_version": "1.5.0",
          "state": {
            "_model_module": "@jupyter-widgets/controls",
            "_model_module_version": "1.5.0",
            "_model_name": "DescriptionStyleModel",
            "_view_count": null,
            "_view_module": "@jupyter-widgets/base",
            "_view_module_version": "1.2.0",
            "_view_name": "StyleView",
            "description_width": ""
          }
        },
        "aec1dd794be4482cb138cc371b7e1d2c": {
          "model_module": "@jupyter-widgets/base",
          "model_name": "LayoutModel",
          "model_module_version": "1.2.0",
          "state": {
            "_model_module": "@jupyter-widgets/base",
            "_model_module_version": "1.2.0",
            "_model_name": "LayoutModel",
            "_view_count": null,
            "_view_module": "@jupyter-widgets/base",
            "_view_module_version": "1.2.0",
            "_view_name": "LayoutView",
            "align_content": null,
            "align_items": null,
            "align_self": null,
            "border": null,
            "bottom": null,
            "display": null,
            "flex": null,
            "flex_flow": null,
            "grid_area": null,
            "grid_auto_columns": null,
            "grid_auto_flow": null,
            "grid_auto_rows": null,
            "grid_column": null,
            "grid_gap": null,
            "grid_row": null,
            "grid_template_areas": null,
            "grid_template_columns": null,
            "grid_template_rows": null,
            "height": null,
            "justify_content": null,
            "justify_items": null,
            "left": null,
            "margin": null,
            "max_height": null,
            "max_width": null,
            "min_height": null,
            "min_width": null,
            "object_fit": null,
            "object_position": null,
            "order": null,
            "overflow": null,
            "overflow_x": null,
            "overflow_y": null,
            "padding": null,
            "right": null,
            "top": null,
            "visibility": null,
            "width": null
          }
        },
        "8e09440b44d840df8b2afa5f7c3cf011": {
          "model_module": "@jupyter-widgets/controls",
          "model_name": "ProgressStyleModel",
          "model_module_version": "1.5.0",
          "state": {
            "_model_module": "@jupyter-widgets/controls",
            "_model_module_version": "1.5.0",
            "_model_name": "ProgressStyleModel",
            "_view_count": null,
            "_view_module": "@jupyter-widgets/base",
            "_view_module_version": "1.2.0",
            "_view_name": "StyleView",
            "bar_color": null,
            "description_width": ""
          }
        },
        "271c51383fd646a6924f3bee3b5d347c": {
          "model_module": "@jupyter-widgets/base",
          "model_name": "LayoutModel",
          "model_module_version": "1.2.0",
          "state": {
            "_model_module": "@jupyter-widgets/base",
            "_model_module_version": "1.2.0",
            "_model_name": "LayoutModel",
            "_view_count": null,
            "_view_module": "@jupyter-widgets/base",
            "_view_module_version": "1.2.0",
            "_view_name": "LayoutView",
            "align_content": null,
            "align_items": null,
            "align_self": null,
            "border": null,
            "bottom": null,
            "display": null,
            "flex": null,
            "flex_flow": null,
            "grid_area": null,
            "grid_auto_columns": null,
            "grid_auto_flow": null,
            "grid_auto_rows": null,
            "grid_column": null,
            "grid_gap": null,
            "grid_row": null,
            "grid_template_areas": null,
            "grid_template_columns": null,
            "grid_template_rows": null,
            "height": null,
            "justify_content": null,
            "justify_items": null,
            "left": null,
            "margin": null,
            "max_height": null,
            "max_width": null,
            "min_height": null,
            "min_width": null,
            "object_fit": null,
            "object_position": null,
            "order": null,
            "overflow": null,
            "overflow_x": null,
            "overflow_y": null,
            "padding": null,
            "right": null,
            "top": null,
            "visibility": null,
            "width": null
          }
        },
        "18daafbb0c954eadb07f7c2cf47a1b4a": {
          "model_module": "@jupyter-widgets/controls",
          "model_name": "DescriptionStyleModel",
          "model_module_version": "1.5.0",
          "state": {
            "_model_module": "@jupyter-widgets/controls",
            "_model_module_version": "1.5.0",
            "_model_name": "DescriptionStyleModel",
            "_view_count": null,
            "_view_module": "@jupyter-widgets/base",
            "_view_module_version": "1.2.0",
            "_view_name": "StyleView",
            "description_width": ""
          }
        },
        "85bf4388c7cf43059a6d9a7870c39c38": {
          "model_module": "@jupyter-widgets/controls",
          "model_name": "HBoxModel",
          "model_module_version": "1.5.0",
          "state": {
            "_dom_classes": [],
            "_model_module": "@jupyter-widgets/controls",
            "_model_module_version": "1.5.0",
            "_model_name": "HBoxModel",
            "_view_count": null,
            "_view_module": "@jupyter-widgets/controls",
            "_view_module_version": "1.5.0",
            "_view_name": "HBoxView",
            "box_style": "",
            "children": [
              "IPY_MODEL_93895d943faf42bfb69d29efbdea27da",
              "IPY_MODEL_3dabd384b3124b47835b65ee23cc00e5",
              "IPY_MODEL_39cc8a1c00ca4d368a97293efb25cd21"
            ],
            "layout": "IPY_MODEL_6ea740ee786846b98903110c9238e4fb"
          }
        },
        "93895d943faf42bfb69d29efbdea27da": {
          "model_module": "@jupyter-widgets/controls",
          "model_name": "HTMLModel",
          "model_module_version": "1.5.0",
          "state": {
            "_dom_classes": [],
            "_model_module": "@jupyter-widgets/controls",
            "_model_module_version": "1.5.0",
            "_model_name": "HTMLModel",
            "_view_count": null,
            "_view_module": "@jupyter-widgets/controls",
            "_view_module_version": "1.5.0",
            "_view_name": "HTMLView",
            "description": "",
            "description_tooltip": null,
            "layout": "IPY_MODEL_4aac7b9697d2449daba7054e349e0a67",
            "placeholder": "​",
            "style": "IPY_MODEL_d5a1b7de1e464230bc56b90591095b17",
            "value": "tokenizer_config.json: 100%"
          }
        },
        "3dabd384b3124b47835b65ee23cc00e5": {
          "model_module": "@jupyter-widgets/controls",
          "model_name": "FloatProgressModel",
          "model_module_version": "1.5.0",
          "state": {
            "_dom_classes": [],
            "_model_module": "@jupyter-widgets/controls",
            "_model_module_version": "1.5.0",
            "_model_name": "FloatProgressModel",
            "_view_count": null,
            "_view_module": "@jupyter-widgets/controls",
            "_view_module_version": "1.5.0",
            "_view_name": "ProgressView",
            "bar_style": "success",
            "description": "",
            "description_tooltip": null,
            "layout": "IPY_MODEL_11f9d4139dc948e9a15544308fe4a0d2",
            "max": 287,
            "min": 0,
            "orientation": "horizontal",
            "style": "IPY_MODEL_f5ebaa0ef397400abc62f71649d3a132",
            "value": 287
          }
        },
        "39cc8a1c00ca4d368a97293efb25cd21": {
          "model_module": "@jupyter-widgets/controls",
          "model_name": "HTMLModel",
          "model_module_version": "1.5.0",
          "state": {
            "_dom_classes": [],
            "_model_module": "@jupyter-widgets/controls",
            "_model_module_version": "1.5.0",
            "_model_name": "HTMLModel",
            "_view_count": null,
            "_view_module": "@jupyter-widgets/controls",
            "_view_module_version": "1.5.0",
            "_view_name": "HTMLView",
            "description": "",
            "description_tooltip": null,
            "layout": "IPY_MODEL_cff76a881c43436f941927e3c925cd69",
            "placeholder": "​",
            "style": "IPY_MODEL_369bee7bd5244da382768b7185df29ac",
            "value": " 287/287 [00:00&lt;00:00, 712B/s]"
          }
        },
        "6ea740ee786846b98903110c9238e4fb": {
          "model_module": "@jupyter-widgets/base",
          "model_name": "LayoutModel",
          "model_module_version": "1.2.0",
          "state": {
            "_model_module": "@jupyter-widgets/base",
            "_model_module_version": "1.2.0",
            "_model_name": "LayoutModel",
            "_view_count": null,
            "_view_module": "@jupyter-widgets/base",
            "_view_module_version": "1.2.0",
            "_view_name": "LayoutView",
            "align_content": null,
            "align_items": null,
            "align_self": null,
            "border": null,
            "bottom": null,
            "display": null,
            "flex": null,
            "flex_flow": null,
            "grid_area": null,
            "grid_auto_columns": null,
            "grid_auto_flow": null,
            "grid_auto_rows": null,
            "grid_column": null,
            "grid_gap": null,
            "grid_row": null,
            "grid_template_areas": null,
            "grid_template_columns": null,
            "grid_template_rows": null,
            "height": null,
            "justify_content": null,
            "justify_items": null,
            "left": null,
            "margin": null,
            "max_height": null,
            "max_width": null,
            "min_height": null,
            "min_width": null,
            "object_fit": null,
            "object_position": null,
            "order": null,
            "overflow": null,
            "overflow_x": null,
            "overflow_y": null,
            "padding": null,
            "right": null,
            "top": null,
            "visibility": null,
            "width": null
          }
        },
        "4aac7b9697d2449daba7054e349e0a67": {
          "model_module": "@jupyter-widgets/base",
          "model_name": "LayoutModel",
          "model_module_version": "1.2.0",
          "state": {
            "_model_module": "@jupyter-widgets/base",
            "_model_module_version": "1.2.0",
            "_model_name": "LayoutModel",
            "_view_count": null,
            "_view_module": "@jupyter-widgets/base",
            "_view_module_version": "1.2.0",
            "_view_name": "LayoutView",
            "align_content": null,
            "align_items": null,
            "align_self": null,
            "border": null,
            "bottom": null,
            "display": null,
            "flex": null,
            "flex_flow": null,
            "grid_area": null,
            "grid_auto_columns": null,
            "grid_auto_flow": null,
            "grid_auto_rows": null,
            "grid_column": null,
            "grid_gap": null,
            "grid_row": null,
            "grid_template_areas": null,
            "grid_template_columns": null,
            "grid_template_rows": null,
            "height": null,
            "justify_content": null,
            "justify_items": null,
            "left": null,
            "margin": null,
            "max_height": null,
            "max_width": null,
            "min_height": null,
            "min_width": null,
            "object_fit": null,
            "object_position": null,
            "order": null,
            "overflow": null,
            "overflow_x": null,
            "overflow_y": null,
            "padding": null,
            "right": null,
            "top": null,
            "visibility": null,
            "width": null
          }
        },
        "d5a1b7de1e464230bc56b90591095b17": {
          "model_module": "@jupyter-widgets/controls",
          "model_name": "DescriptionStyleModel",
          "model_module_version": "1.5.0",
          "state": {
            "_model_module": "@jupyter-widgets/controls",
            "_model_module_version": "1.5.0",
            "_model_name": "DescriptionStyleModel",
            "_view_count": null,
            "_view_module": "@jupyter-widgets/base",
            "_view_module_version": "1.2.0",
            "_view_name": "StyleView",
            "description_width": ""
          }
        },
        "11f9d4139dc948e9a15544308fe4a0d2": {
          "model_module": "@jupyter-widgets/base",
          "model_name": "LayoutModel",
          "model_module_version": "1.2.0",
          "state": {
            "_model_module": "@jupyter-widgets/base",
            "_model_module_version": "1.2.0",
            "_model_name": "LayoutModel",
            "_view_count": null,
            "_view_module": "@jupyter-widgets/base",
            "_view_module_version": "1.2.0",
            "_view_name": "LayoutView",
            "align_content": null,
            "align_items": null,
            "align_self": null,
            "border": null,
            "bottom": null,
            "display": null,
            "flex": null,
            "flex_flow": null,
            "grid_area": null,
            "grid_auto_columns": null,
            "grid_auto_flow": null,
            "grid_auto_rows": null,
            "grid_column": null,
            "grid_gap": null,
            "grid_row": null,
            "grid_template_areas": null,
            "grid_template_columns": null,
            "grid_template_rows": null,
            "height": null,
            "justify_content": null,
            "justify_items": null,
            "left": null,
            "margin": null,
            "max_height": null,
            "max_width": null,
            "min_height": null,
            "min_width": null,
            "object_fit": null,
            "object_position": null,
            "order": null,
            "overflow": null,
            "overflow_x": null,
            "overflow_y": null,
            "padding": null,
            "right": null,
            "top": null,
            "visibility": null,
            "width": null
          }
        },
        "f5ebaa0ef397400abc62f71649d3a132": {
          "model_module": "@jupyter-widgets/controls",
          "model_name": "ProgressStyleModel",
          "model_module_version": "1.5.0",
          "state": {
            "_model_module": "@jupyter-widgets/controls",
            "_model_module_version": "1.5.0",
            "_model_name": "ProgressStyleModel",
            "_view_count": null,
            "_view_module": "@jupyter-widgets/base",
            "_view_module_version": "1.2.0",
            "_view_name": "StyleView",
            "bar_color": null,
            "description_width": ""
          }
        },
        "cff76a881c43436f941927e3c925cd69": {
          "model_module": "@jupyter-widgets/base",
          "model_name": "LayoutModel",
          "model_module_version": "1.2.0",
          "state": {
            "_model_module": "@jupyter-widgets/base",
            "_model_module_version": "1.2.0",
            "_model_name": "LayoutModel",
            "_view_count": null,
            "_view_module": "@jupyter-widgets/base",
            "_view_module_version": "1.2.0",
            "_view_name": "LayoutView",
            "align_content": null,
            "align_items": null,
            "align_self": null,
            "border": null,
            "bottom": null,
            "display": null,
            "flex": null,
            "flex_flow": null,
            "grid_area": null,
            "grid_auto_columns": null,
            "grid_auto_flow": null,
            "grid_auto_rows": null,
            "grid_column": null,
            "grid_gap": null,
            "grid_row": null,
            "grid_template_areas": null,
            "grid_template_columns": null,
            "grid_template_rows": null,
            "height": null,
            "justify_content": null,
            "justify_items": null,
            "left": null,
            "margin": null,
            "max_height": null,
            "max_width": null,
            "min_height": null,
            "min_width": null,
            "object_fit": null,
            "object_position": null,
            "order": null,
            "overflow": null,
            "overflow_x": null,
            "overflow_y": null,
            "padding": null,
            "right": null,
            "top": null,
            "visibility": null,
            "width": null
          }
        },
        "369bee7bd5244da382768b7185df29ac": {
          "model_module": "@jupyter-widgets/controls",
          "model_name": "DescriptionStyleModel",
          "model_module_version": "1.5.0",
          "state": {
            "_model_module": "@jupyter-widgets/controls",
            "_model_module_version": "1.5.0",
            "_model_name": "DescriptionStyleModel",
            "_view_count": null,
            "_view_module": "@jupyter-widgets/base",
            "_view_module_version": "1.2.0",
            "_view_name": "StyleView",
            "description_width": ""
          }
        },
        "3bb80ae92b3e4356ac67ee14d86dd579": {
          "model_module": "@jupyter-widgets/controls",
          "model_name": "HBoxModel",
          "model_module_version": "1.5.0",
          "state": {
            "_dom_classes": [],
            "_model_module": "@jupyter-widgets/controls",
            "_model_module_version": "1.5.0",
            "_model_name": "HBoxModel",
            "_view_count": null,
            "_view_module": "@jupyter-widgets/controls",
            "_view_module_version": "1.5.0",
            "_view_name": "HBoxView",
            "box_style": "",
            "children": [
              "IPY_MODEL_eefedc75ec0a49c6bc92390b26071f1a",
              "IPY_MODEL_4d3257c952954f5da17edee372fc0e96",
              "IPY_MODEL_51dfb23539a04161afb60c1db3b2817a"
            ],
            "layout": "IPY_MODEL_8a37dfd600a04889b465224e2c217b1f"
          }
        },
        "eefedc75ec0a49c6bc92390b26071f1a": {
          "model_module": "@jupyter-widgets/controls",
          "model_name": "HTMLModel",
          "model_module_version": "1.5.0",
          "state": {
            "_dom_classes": [],
            "_model_module": "@jupyter-widgets/controls",
            "_model_module_version": "1.5.0",
            "_model_name": "HTMLModel",
            "_view_count": null,
            "_view_module": "@jupyter-widgets/controls",
            "_view_module_version": "1.5.0",
            "_view_name": "HTMLView",
            "description": "",
            "description_tooltip": null,
            "layout": "IPY_MODEL_29e512f6552d417eb06bdbf37a593f61",
            "placeholder": "​",
            "style": "IPY_MODEL_2c14f7a95ee6427f81549874dc385a34",
            "value": "tokenizer.json: 100%"
          }
        },
        "4d3257c952954f5da17edee372fc0e96": {
          "model_module": "@jupyter-widgets/controls",
          "model_name": "FloatProgressModel",
          "model_module_version": "1.5.0",
          "state": {
            "_dom_classes": [],
            "_model_module": "@jupyter-widgets/controls",
            "_model_module_version": "1.5.0",
            "_model_name": "FloatProgressModel",
            "_view_count": null,
            "_view_module": "@jupyter-widgets/controls",
            "_view_module_version": "1.5.0",
            "_view_name": "ProgressView",
            "bar_style": "success",
            "description": "",
            "description_tooltip": null,
            "layout": "IPY_MODEL_e2354adc640b470882f2597ed7d49da7",
            "max": 2734130,
            "min": 0,
            "orientation": "horizontal",
            "style": "IPY_MODEL_db2b9cb169084611b81029a07250a630",
            "value": 2734130
          }
        },
        "51dfb23539a04161afb60c1db3b2817a": {
          "model_module": "@jupyter-widgets/controls",
          "model_name": "HTMLModel",
          "model_module_version": "1.5.0",
          "state": {
            "_dom_classes": [],
            "_model_module": "@jupyter-widgets/controls",
            "_model_module_version": "1.5.0",
            "_model_name": "HTMLModel",
            "_view_count": null,
            "_view_module": "@jupyter-widgets/controls",
            "_view_module_version": "1.5.0",
            "_view_name": "HTMLView",
            "description": "",
            "description_tooltip": null,
            "layout": "IPY_MODEL_ce07931583d1416aa6ebf81b19515b95",
            "placeholder": "​",
            "style": "IPY_MODEL_08cd4dc5a67c4b63be32c77d7c037477",
            "value": " 2.73M/2.73M [00:00&lt;00:00, 6.76MB/s]"
          }
        },
        "8a37dfd600a04889b465224e2c217b1f": {
          "model_module": "@jupyter-widgets/base",
          "model_name": "LayoutModel",
          "model_module_version": "1.2.0",
          "state": {
            "_model_module": "@jupyter-widgets/base",
            "_model_module_version": "1.2.0",
            "_model_name": "LayoutModel",
            "_view_count": null,
            "_view_module": "@jupyter-widgets/base",
            "_view_module_version": "1.2.0",
            "_view_name": "LayoutView",
            "align_content": null,
            "align_items": null,
            "align_self": null,
            "border": null,
            "bottom": null,
            "display": null,
            "flex": null,
            "flex_flow": null,
            "grid_area": null,
            "grid_auto_columns": null,
            "grid_auto_flow": null,
            "grid_auto_rows": null,
            "grid_column": null,
            "grid_gap": null,
            "grid_row": null,
            "grid_template_areas": null,
            "grid_template_columns": null,
            "grid_template_rows": null,
            "height": null,
            "justify_content": null,
            "justify_items": null,
            "left": null,
            "margin": null,
            "max_height": null,
            "max_width": null,
            "min_height": null,
            "min_width": null,
            "object_fit": null,
            "object_position": null,
            "order": null,
            "overflow": null,
            "overflow_x": null,
            "overflow_y": null,
            "padding": null,
            "right": null,
            "top": null,
            "visibility": null,
            "width": null
          }
        },
        "29e512f6552d417eb06bdbf37a593f61": {
          "model_module": "@jupyter-widgets/base",
          "model_name": "LayoutModel",
          "model_module_version": "1.2.0",
          "state": {
            "_model_module": "@jupyter-widgets/base",
            "_model_module_version": "1.2.0",
            "_model_name": "LayoutModel",
            "_view_count": null,
            "_view_module": "@jupyter-widgets/base",
            "_view_module_version": "1.2.0",
            "_view_name": "LayoutView",
            "align_content": null,
            "align_items": null,
            "align_self": null,
            "border": null,
            "bottom": null,
            "display": null,
            "flex": null,
            "flex_flow": null,
            "grid_area": null,
            "grid_auto_columns": null,
            "grid_auto_flow": null,
            "grid_auto_rows": null,
            "grid_column": null,
            "grid_gap": null,
            "grid_row": null,
            "grid_template_areas": null,
            "grid_template_columns": null,
            "grid_template_rows": null,
            "height": null,
            "justify_content": null,
            "justify_items": null,
            "left": null,
            "margin": null,
            "max_height": null,
            "max_width": null,
            "min_height": null,
            "min_width": null,
            "object_fit": null,
            "object_position": null,
            "order": null,
            "overflow": null,
            "overflow_x": null,
            "overflow_y": null,
            "padding": null,
            "right": null,
            "top": null,
            "visibility": null,
            "width": null
          }
        },
        "2c14f7a95ee6427f81549874dc385a34": {
          "model_module": "@jupyter-widgets/controls",
          "model_name": "DescriptionStyleModel",
          "model_module_version": "1.5.0",
          "state": {
            "_model_module": "@jupyter-widgets/controls",
            "_model_module_version": "1.5.0",
            "_model_name": "DescriptionStyleModel",
            "_view_count": null,
            "_view_module": "@jupyter-widgets/base",
            "_view_module_version": "1.2.0",
            "_view_name": "StyleView",
            "description_width": ""
          }
        },
        "e2354adc640b470882f2597ed7d49da7": {
          "model_module": "@jupyter-widgets/base",
          "model_name": "LayoutModel",
          "model_module_version": "1.2.0",
          "state": {
            "_model_module": "@jupyter-widgets/base",
            "_model_module_version": "1.2.0",
            "_model_name": "LayoutModel",
            "_view_count": null,
            "_view_module": "@jupyter-widgets/base",
            "_view_module_version": "1.2.0",
            "_view_name": "LayoutView",
            "align_content": null,
            "align_items": null,
            "align_self": null,
            "border": null,
            "bottom": null,
            "display": null,
            "flex": null,
            "flex_flow": null,
            "grid_area": null,
            "grid_auto_columns": null,
            "grid_auto_flow": null,
            "grid_auto_rows": null,
            "grid_column": null,
            "grid_gap": null,
            "grid_row": null,
            "grid_template_areas": null,
            "grid_template_columns": null,
            "grid_template_rows": null,
            "height": null,
            "justify_content": null,
            "justify_items": null,
            "left": null,
            "margin": null,
            "max_height": null,
            "max_width": null,
            "min_height": null,
            "min_width": null,
            "object_fit": null,
            "object_position": null,
            "order": null,
            "overflow": null,
            "overflow_x": null,
            "overflow_y": null,
            "padding": null,
            "right": null,
            "top": null,
            "visibility": null,
            "width": null
          }
        },
        "db2b9cb169084611b81029a07250a630": {
          "model_module": "@jupyter-widgets/controls",
          "model_name": "ProgressStyleModel",
          "model_module_version": "1.5.0",
          "state": {
            "_model_module": "@jupyter-widgets/controls",
            "_model_module_version": "1.5.0",
            "_model_name": "ProgressStyleModel",
            "_view_count": null,
            "_view_module": "@jupyter-widgets/base",
            "_view_module_version": "1.2.0",
            "_view_name": "StyleView",
            "bar_color": null,
            "description_width": ""
          }
        },
        "ce07931583d1416aa6ebf81b19515b95": {
          "model_module": "@jupyter-widgets/base",
          "model_name": "LayoutModel",
          "model_module_version": "1.2.0",
          "state": {
            "_model_module": "@jupyter-widgets/base",
            "_model_module_version": "1.2.0",
            "_model_name": "LayoutModel",
            "_view_count": null,
            "_view_module": "@jupyter-widgets/base",
            "_view_module_version": "1.2.0",
            "_view_name": "LayoutView",
            "align_content": null,
            "align_items": null,
            "align_self": null,
            "border": null,
            "bottom": null,
            "display": null,
            "flex": null,
            "flex_flow": null,
            "grid_area": null,
            "grid_auto_columns": null,
            "grid_auto_flow": null,
            "grid_auto_rows": null,
            "grid_column": null,
            "grid_gap": null,
            "grid_row": null,
            "grid_template_areas": null,
            "grid_template_columns": null,
            "grid_template_rows": null,
            "height": null,
            "justify_content": null,
            "justify_items": null,
            "left": null,
            "margin": null,
            "max_height": null,
            "max_width": null,
            "min_height": null,
            "min_width": null,
            "object_fit": null,
            "object_position": null,
            "order": null,
            "overflow": null,
            "overflow_x": null,
            "overflow_y": null,
            "padding": null,
            "right": null,
            "top": null,
            "visibility": null,
            "width": null
          }
        },
        "08cd4dc5a67c4b63be32c77d7c037477": {
          "model_module": "@jupyter-widgets/controls",
          "model_name": "DescriptionStyleModel",
          "model_module_version": "1.5.0",
          "state": {
            "_model_module": "@jupyter-widgets/controls",
            "_model_module_version": "1.5.0",
            "_model_name": "DescriptionStyleModel",
            "_view_count": null,
            "_view_module": "@jupyter-widgets/base",
            "_view_module_version": "1.2.0",
            "_view_name": "StyleView",
            "description_width": ""
          }
        },
        "cd71e2cfa94c4128b2ed94de83588124": {
          "model_module": "@jupyter-widgets/controls",
          "model_name": "HBoxModel",
          "model_module_version": "1.5.0",
          "state": {
            "_dom_classes": [],
            "_model_module": "@jupyter-widgets/controls",
            "_model_module_version": "1.5.0",
            "_model_name": "HBoxModel",
            "_view_count": null,
            "_view_module": "@jupyter-widgets/controls",
            "_view_module_version": "1.5.0",
            "_view_name": "HBoxView",
            "box_style": "",
            "children": [
              "IPY_MODEL_72876c76e8aa45dfa9041967f1974555",
              "IPY_MODEL_153d6837ed0b4ebf98bf1d0fdb1da007",
              "IPY_MODEL_018afcf5efba41e195fff93a75abe8fd"
            ],
            "layout": "IPY_MODEL_fe0efffc922e4d4f89318b54e3feb28e"
          }
        },
        "72876c76e8aa45dfa9041967f1974555": {
          "model_module": "@jupyter-widgets/controls",
          "model_name": "HTMLModel",
          "model_module_version": "1.5.0",
          "state": {
            "_dom_classes": [],
            "_model_module": "@jupyter-widgets/controls",
            "_model_module_version": "1.5.0",
            "_model_name": "HTMLModel",
            "_view_count": null,
            "_view_module": "@jupyter-widgets/controls",
            "_view_module_version": "1.5.0",
            "_view_name": "HTMLView",
            "description": "",
            "description_tooltip": null,
            "layout": "IPY_MODEL_947e05989bc44b24916adb1639047854",
            "placeholder": "​",
            "style": "IPY_MODEL_deea151ee7e64e31a222184b00aeea85",
            "value": "special_tokens_map.json: 100%"
          }
        },
        "153d6837ed0b4ebf98bf1d0fdb1da007": {
          "model_module": "@jupyter-widgets/controls",
          "model_name": "FloatProgressModel",
          "model_module_version": "1.5.0",
          "state": {
            "_dom_classes": [],
            "_model_module": "@jupyter-widgets/controls",
            "_model_module_version": "1.5.0",
            "_model_name": "FloatProgressModel",
            "_view_count": null,
            "_view_module": "@jupyter-widgets/controls",
            "_view_module_version": "1.5.0",
            "_view_name": "ProgressView",
            "bar_style": "success",
            "description": "",
            "description_tooltip": null,
            "layout": "IPY_MODEL_b15ad3a6424a4552b54de07c43e3fe6a",
            "max": 281,
            "min": 0,
            "orientation": "horizontal",
            "style": "IPY_MODEL_6b04b50c10544eb781d2b09d833d070e",
            "value": 281
          }
        },
        "018afcf5efba41e195fff93a75abe8fd": {
          "model_module": "@jupyter-widgets/controls",
          "model_name": "HTMLModel",
          "model_module_version": "1.5.0",
          "state": {
            "_dom_classes": [],
            "_model_module": "@jupyter-widgets/controls",
            "_model_module_version": "1.5.0",
            "_model_name": "HTMLModel",
            "_view_count": null,
            "_view_module": "@jupyter-widgets/controls",
            "_view_module_version": "1.5.0",
            "_view_name": "HTMLView",
            "description": "",
            "description_tooltip": null,
            "layout": "IPY_MODEL_d18bd6b14b7440ba866539fa9998c5d0",
            "placeholder": "​",
            "style": "IPY_MODEL_54ff1d8ca454404e8e6d28f7f4eadc6c",
            "value": " 281/281 [00:00&lt;00:00, 535B/s]"
          }
        },
        "fe0efffc922e4d4f89318b54e3feb28e": {
          "model_module": "@jupyter-widgets/base",
          "model_name": "LayoutModel",
          "model_module_version": "1.2.0",
          "state": {
            "_model_module": "@jupyter-widgets/base",
            "_model_module_version": "1.2.0",
            "_model_name": "LayoutModel",
            "_view_count": null,
            "_view_module": "@jupyter-widgets/base",
            "_view_module_version": "1.2.0",
            "_view_name": "LayoutView",
            "align_content": null,
            "align_items": null,
            "align_self": null,
            "border": null,
            "bottom": null,
            "display": null,
            "flex": null,
            "flex_flow": null,
            "grid_area": null,
            "grid_auto_columns": null,
            "grid_auto_flow": null,
            "grid_auto_rows": null,
            "grid_column": null,
            "grid_gap": null,
            "grid_row": null,
            "grid_template_areas": null,
            "grid_template_columns": null,
            "grid_template_rows": null,
            "height": null,
            "justify_content": null,
            "justify_items": null,
            "left": null,
            "margin": null,
            "max_height": null,
            "max_width": null,
            "min_height": null,
            "min_width": null,
            "object_fit": null,
            "object_position": null,
            "order": null,
            "overflow": null,
            "overflow_x": null,
            "overflow_y": null,
            "padding": null,
            "right": null,
            "top": null,
            "visibility": null,
            "width": null
          }
        },
        "947e05989bc44b24916adb1639047854": {
          "model_module": "@jupyter-widgets/base",
          "model_name": "LayoutModel",
          "model_module_version": "1.2.0",
          "state": {
            "_model_module": "@jupyter-widgets/base",
            "_model_module_version": "1.2.0",
            "_model_name": "LayoutModel",
            "_view_count": null,
            "_view_module": "@jupyter-widgets/base",
            "_view_module_version": "1.2.0",
            "_view_name": "LayoutView",
            "align_content": null,
            "align_items": null,
            "align_self": null,
            "border": null,
            "bottom": null,
            "display": null,
            "flex": null,
            "flex_flow": null,
            "grid_area": null,
            "grid_auto_columns": null,
            "grid_auto_flow": null,
            "grid_auto_rows": null,
            "grid_column": null,
            "grid_gap": null,
            "grid_row": null,
            "grid_template_areas": null,
            "grid_template_columns": null,
            "grid_template_rows": null,
            "height": null,
            "justify_content": null,
            "justify_items": null,
            "left": null,
            "margin": null,
            "max_height": null,
            "max_width": null,
            "min_height": null,
            "min_width": null,
            "object_fit": null,
            "object_position": null,
            "order": null,
            "overflow": null,
            "overflow_x": null,
            "overflow_y": null,
            "padding": null,
            "right": null,
            "top": null,
            "visibility": null,
            "width": null
          }
        },
        "deea151ee7e64e31a222184b00aeea85": {
          "model_module": "@jupyter-widgets/controls",
          "model_name": "DescriptionStyleModel",
          "model_module_version": "1.5.0",
          "state": {
            "_model_module": "@jupyter-widgets/controls",
            "_model_module_version": "1.5.0",
            "_model_name": "DescriptionStyleModel",
            "_view_count": null,
            "_view_module": "@jupyter-widgets/base",
            "_view_module_version": "1.2.0",
            "_view_name": "StyleView",
            "description_width": ""
          }
        },
        "b15ad3a6424a4552b54de07c43e3fe6a": {
          "model_module": "@jupyter-widgets/base",
          "model_name": "LayoutModel",
          "model_module_version": "1.2.0",
          "state": {
            "_model_module": "@jupyter-widgets/base",
            "_model_module_version": "1.2.0",
            "_model_name": "LayoutModel",
            "_view_count": null,
            "_view_module": "@jupyter-widgets/base",
            "_view_module_version": "1.2.0",
            "_view_name": "LayoutView",
            "align_content": null,
            "align_items": null,
            "align_self": null,
            "border": null,
            "bottom": null,
            "display": null,
            "flex": null,
            "flex_flow": null,
            "grid_area": null,
            "grid_auto_columns": null,
            "grid_auto_flow": null,
            "grid_auto_rows": null,
            "grid_column": null,
            "grid_gap": null,
            "grid_row": null,
            "grid_template_areas": null,
            "grid_template_columns": null,
            "grid_template_rows": null,
            "height": null,
            "justify_content": null,
            "justify_items": null,
            "left": null,
            "margin": null,
            "max_height": null,
            "max_width": null,
            "min_height": null,
            "min_width": null,
            "object_fit": null,
            "object_position": null,
            "order": null,
            "overflow": null,
            "overflow_x": null,
            "overflow_y": null,
            "padding": null,
            "right": null,
            "top": null,
            "visibility": null,
            "width": null
          }
        },
        "6b04b50c10544eb781d2b09d833d070e": {
          "model_module": "@jupyter-widgets/controls",
          "model_name": "ProgressStyleModel",
          "model_module_version": "1.5.0",
          "state": {
            "_model_module": "@jupyter-widgets/controls",
            "_model_module_version": "1.5.0",
            "_model_name": "ProgressStyleModel",
            "_view_count": null,
            "_view_module": "@jupyter-widgets/base",
            "_view_module_version": "1.2.0",
            "_view_name": "StyleView",
            "bar_color": null,
            "description_width": ""
          }
        },
        "d18bd6b14b7440ba866539fa9998c5d0": {
          "model_module": "@jupyter-widgets/base",
          "model_name": "LayoutModel",
          "model_module_version": "1.2.0",
          "state": {
            "_model_module": "@jupyter-widgets/base",
            "_model_module_version": "1.2.0",
            "_model_name": "LayoutModel",
            "_view_count": null,
            "_view_module": "@jupyter-widgets/base",
            "_view_module_version": "1.2.0",
            "_view_name": "LayoutView",
            "align_content": null,
            "align_items": null,
            "align_self": null,
            "border": null,
            "bottom": null,
            "display": null,
            "flex": null,
            "flex_flow": null,
            "grid_area": null,
            "grid_auto_columns": null,
            "grid_auto_flow": null,
            "grid_auto_rows": null,
            "grid_column": null,
            "grid_gap": null,
            "grid_row": null,
            "grid_template_areas": null,
            "grid_template_columns": null,
            "grid_template_rows": null,
            "height": null,
            "justify_content": null,
            "justify_items": null,
            "left": null,
            "margin": null,
            "max_height": null,
            "max_width": null,
            "min_height": null,
            "min_width": null,
            "object_fit": null,
            "object_position": null,
            "order": null,
            "overflow": null,
            "overflow_x": null,
            "overflow_y": null,
            "padding": null,
            "right": null,
            "top": null,
            "visibility": null,
            "width": null
          }
        },
        "54ff1d8ca454404e8e6d28f7f4eadc6c": {
          "model_module": "@jupyter-widgets/controls",
          "model_name": "DescriptionStyleModel",
          "model_module_version": "1.5.0",
          "state": {
            "_model_module": "@jupyter-widgets/controls",
            "_model_module_version": "1.5.0",
            "_model_name": "DescriptionStyleModel",
            "_view_count": null,
            "_view_module": "@jupyter-widgets/base",
            "_view_module_version": "1.2.0",
            "_view_name": "StyleView",
            "description_width": ""
          }
        }
      }
    }
  },
  "cells": [
    {
      "cell_type": "markdown",
      "metadata": {
        "id": "view-in-github",
        "colab_type": "text"
      },
      "source": [
        "<a href=\"https://colab.research.google.com/github/rderakhshan/AI-workforce/blob/main/Falcon_chatbot.ipynb\" target=\"_parent\"><img src=\"https://colab.research.google.com/assets/colab-badge.svg\" alt=\"Open In Colab\"/></a>"
      ]
    },
    {
      "cell_type": "code",
      "execution_count": 1,
      "metadata": {
        "id": "Un3WVx7-LHq3",
        "colab": {
          "base_uri": "https://localhost:8080/"
        },
        "outputId": "dc65eaca-e640-4c40-8268-03fcb2616641"
      },
      "outputs": [
        {
          "output_type": "stream",
          "name": "stdout",
          "text": [
            "Thu Nov 23 21:36:10 2023       \n",
            "+-----------------------------------------------------------------------------+\n",
            "| NVIDIA-SMI 525.105.17   Driver Version: 525.105.17   CUDA Version: 12.0     |\n",
            "|-------------------------------+----------------------+----------------------+\n",
            "| GPU  Name        Persistence-M| Bus-Id        Disp.A | Volatile Uncorr. ECC |\n",
            "| Fan  Temp  Perf  Pwr:Usage/Cap|         Memory-Usage | GPU-Util  Compute M. |\n",
            "|                               |                      |               MIG M. |\n",
            "|===============================+======================+======================|\n",
            "|   0  Tesla T4            Off  | 00000000:00:04.0 Off |                    0 |\n",
            "| N/A   67C    P8    11W /  70W |      0MiB / 15360MiB |      0%      Default |\n",
            "|                               |                      |                  N/A |\n",
            "+-------------------------------+----------------------+----------------------+\n",
            "                                                                               \n",
            "+-----------------------------------------------------------------------------+\n",
            "| Processes:                                                                  |\n",
            "|  GPU   GI   CI        PID   Type   Process name                  GPU Memory |\n",
            "|        ID   ID                                                   Usage      |\n",
            "|=============================================================================|\n",
            "|  No running processes found                                                 |\n",
            "+-----------------------------------------------------------------------------+\n"
          ]
        }
      ],
      "source": [
        "!nvidia-smi"
      ]
    },
    {
      "cell_type": "code",
      "source": [
        "!pip install -Uqqq pip\n",
        "!pip install bitsandbytes==0.40.0\n",
        "!pip install torch==2.1.0\n",
        "!pip install transformers==4.30.0\n",
        "!pip install accelerate==0.21.0\n",
        "!pip install xformers==0.0.20\n",
        "!pip install einops==0.6.1\n",
        "!pip install langchain==0.0.233"
      ],
      "metadata": {
        "id": "ETvVhniXVXYE",
        "colab": {
          "base_uri": "https://localhost:8080/"
        },
        "outputId": "b8f91e2d-a71e-4857-836b-1c572e919ebd"
      },
      "execution_count": 2,
      "outputs": [
        {
          "output_type": "stream",
          "name": "stdout",
          "text": [
            "\u001b[?25l     \u001b[90m━━━━━━━━━━━━━━━━━━━━━━━━━━━━━━━━━━━━━━━━\u001b[0m \u001b[32m0.0/2.1 MB\u001b[0m \u001b[31m?\u001b[0m eta \u001b[36m-:--:--\u001b[0m\r\u001b[2K     \u001b[91m━\u001b[0m\u001b[91m╸\u001b[0m\u001b[90m━━━━━━━━━━━━━━━━━━━━━━━━━━━━━━━━━━━━━━\u001b[0m \u001b[32m0.1/2.1 MB\u001b[0m \u001b[31m2.7 MB/s\u001b[0m eta \u001b[36m0:00:01\u001b[0m\r\u001b[2K     \u001b[91m━━━━━━━━━━━━━━\u001b[0m\u001b[91m╸\u001b[0m\u001b[90m━━━━━━━━━━━━━━━━━━━━━━━━━\u001b[0m \u001b[32m0.8/2.1 MB\u001b[0m \u001b[31m12.0 MB/s\u001b[0m eta \u001b[36m0:00:01\u001b[0m\r\u001b[2K     \u001b[90m━━━━━━━━━━━━━━━━━━━━━━━━━━━━━━━━━━━━━━━━\u001b[0m \u001b[32m2.1/2.1 MB\u001b[0m \u001b[31m21.7 MB/s\u001b[0m eta \u001b[36m0:00:00\u001b[0m\n",
            "\u001b[?25hCollecting bitsandbytes==0.40.0\n",
            "  Downloading bitsandbytes-0.40.0-py3-none-any.whl.metadata (9.8 kB)\n",
            "Downloading bitsandbytes-0.40.0-py3-none-any.whl (91.9 MB)\n",
            "\u001b[2K   \u001b[90m━━━━━━━━━━━━━━━━━━━━━━━━━━━━━━━━━━━━━━━━\u001b[0m \u001b[32m91.9/91.9 MB\u001b[0m \u001b[31m7.8 MB/s\u001b[0m eta \u001b[36m0:00:00\u001b[0m\n",
            "\u001b[?25hInstalling collected packages: bitsandbytes\n",
            "Successfully installed bitsandbytes-0.40.0\n",
            "\u001b[33mWARNING: Running pip as the 'root' user can result in broken permissions and conflicting behaviour with the system package manager. It is recommended to use a virtual environment instead: https://pip.pypa.io/warnings/venv\u001b[0m\u001b[33m\n",
            "\u001b[0mRequirement already satisfied: torch==2.1.0 in /usr/local/lib/python3.10/dist-packages (2.1.0+cu118)\n",
            "Requirement already satisfied: filelock in /usr/local/lib/python3.10/dist-packages (from torch==2.1.0) (3.13.1)\n",
            "Requirement already satisfied: typing-extensions in /usr/local/lib/python3.10/dist-packages (from torch==2.1.0) (4.5.0)\n",
            "Requirement already satisfied: sympy in /usr/local/lib/python3.10/dist-packages (from torch==2.1.0) (1.12)\n",
            "Requirement already satisfied: networkx in /usr/local/lib/python3.10/dist-packages (from torch==2.1.0) (3.2.1)\n",
            "Requirement already satisfied: jinja2 in /usr/local/lib/python3.10/dist-packages (from torch==2.1.0) (3.1.2)\n",
            "Requirement already satisfied: fsspec in /usr/local/lib/python3.10/dist-packages (from torch==2.1.0) (2023.6.0)\n",
            "Requirement already satisfied: triton==2.1.0 in /usr/local/lib/python3.10/dist-packages (from torch==2.1.0) (2.1.0)\n",
            "Requirement already satisfied: MarkupSafe>=2.0 in /usr/local/lib/python3.10/dist-packages (from jinja2->torch==2.1.0) (2.1.3)\n",
            "Requirement already satisfied: mpmath>=0.19 in /usr/local/lib/python3.10/dist-packages (from sympy->torch==2.1.0) (1.3.0)\n",
            "\u001b[33mWARNING: Running pip as the 'root' user can result in broken permissions and conflicting behaviour with the system package manager. It is recommended to use a virtual environment instead: https://pip.pypa.io/warnings/venv\u001b[0m\u001b[33m\n",
            "\u001b[0mCollecting transformers==4.30.0\n",
            "  Downloading transformers-4.30.0-py3-none-any.whl.metadata (113 kB)\n",
            "\u001b[2K     \u001b[90m━━━━━━━━━━━━━━━━━━━━━━━━━━━━━━━━━━━━━━━━\u001b[0m \u001b[32m113.6/113.6 kB\u001b[0m \u001b[31m2.5 MB/s\u001b[0m eta \u001b[36m0:00:00\u001b[0m\n",
            "\u001b[?25hRequirement already satisfied: filelock in /usr/local/lib/python3.10/dist-packages (from transformers==4.30.0) (3.13.1)\n",
            "Requirement already satisfied: huggingface-hub<1.0,>=0.14.1 in /usr/local/lib/python3.10/dist-packages (from transformers==4.30.0) (0.19.4)\n",
            "Requirement already satisfied: numpy>=1.17 in /usr/local/lib/python3.10/dist-packages (from transformers==4.30.0) (1.23.5)\n",
            "Requirement already satisfied: packaging>=20.0 in /usr/local/lib/python3.10/dist-packages (from transformers==4.30.0) (23.2)\n",
            "Requirement already satisfied: pyyaml>=5.1 in /usr/local/lib/python3.10/dist-packages (from transformers==4.30.0) (6.0.1)\n",
            "Requirement already satisfied: regex!=2019.12.17 in /usr/local/lib/python3.10/dist-packages (from transformers==4.30.0) (2023.6.3)\n",
            "Requirement already satisfied: requests in /usr/local/lib/python3.10/dist-packages (from transformers==4.30.0) (2.31.0)\n",
            "Collecting tokenizers!=0.11.3,<0.14,>=0.11.1 (from transformers==4.30.0)\n",
            "  Downloading tokenizers-0.13.3-cp310-cp310-manylinux_2_17_x86_64.manylinux2014_x86_64.whl (7.8 MB)\n",
            "\u001b[2K     \u001b[90m━━━━━━━━━━━━━━━━━━━━━━━━━━━━━━━━━━━━━━━━\u001b[0m \u001b[32m7.8/7.8 MB\u001b[0m \u001b[31m72.7 MB/s\u001b[0m eta \u001b[36m0:00:00\u001b[0m\n",
            "\u001b[?25hRequirement already satisfied: safetensors>=0.3.1 in /usr/local/lib/python3.10/dist-packages (from transformers==4.30.0) (0.4.0)\n",
            "Requirement already satisfied: tqdm>=4.27 in /usr/local/lib/python3.10/dist-packages (from transformers==4.30.0) (4.66.1)\n",
            "Requirement already satisfied: fsspec>=2023.5.0 in /usr/local/lib/python3.10/dist-packages (from huggingface-hub<1.0,>=0.14.1->transformers==4.30.0) (2023.6.0)\n",
            "Requirement already satisfied: typing-extensions>=3.7.4.3 in /usr/local/lib/python3.10/dist-packages (from huggingface-hub<1.0,>=0.14.1->transformers==4.30.0) (4.5.0)\n",
            "Requirement already satisfied: charset-normalizer<4,>=2 in /usr/local/lib/python3.10/dist-packages (from requests->transformers==4.30.0) (3.3.2)\n",
            "Requirement already satisfied: idna<4,>=2.5 in /usr/local/lib/python3.10/dist-packages (from requests->transformers==4.30.0) (3.4)\n",
            "Requirement already satisfied: urllib3<3,>=1.21.1 in /usr/local/lib/python3.10/dist-packages (from requests->transformers==4.30.0) (2.0.7)\n",
            "Requirement already satisfied: certifi>=2017.4.17 in /usr/local/lib/python3.10/dist-packages (from requests->transformers==4.30.0) (2023.7.22)\n",
            "Downloading transformers-4.30.0-py3-none-any.whl (7.2 MB)\n",
            "\u001b[2K   \u001b[90m━━━━━━━━━━━━━━━━━━━━━━━━━━━━━━━━━━━━━━━━\u001b[0m \u001b[32m7.2/7.2 MB\u001b[0m \u001b[31m117.4 MB/s\u001b[0m eta \u001b[36m0:00:00\u001b[0m\n",
            "\u001b[?25hInstalling collected packages: tokenizers, transformers\n",
            "  Attempting uninstall: tokenizers\n",
            "    Found existing installation: tokenizers 0.15.0\n",
            "    Uninstalling tokenizers-0.15.0:\n",
            "      Successfully uninstalled tokenizers-0.15.0\n",
            "  Attempting uninstall: transformers\n",
            "    Found existing installation: transformers 4.35.2\n",
            "    Uninstalling transformers-4.35.2:\n",
            "      Successfully uninstalled transformers-4.35.2\n",
            "Successfully installed tokenizers-0.13.3 transformers-4.30.0\n",
            "\u001b[33mWARNING: Running pip as the 'root' user can result in broken permissions and conflicting behaviour with the system package manager. It is recommended to use a virtual environment instead: https://pip.pypa.io/warnings/venv\u001b[0m\u001b[33m\n",
            "\u001b[0mCollecting accelerate==0.21.0\n",
            "  Downloading accelerate-0.21.0-py3-none-any.whl.metadata (17 kB)\n",
            "Requirement already satisfied: numpy>=1.17 in /usr/local/lib/python3.10/dist-packages (from accelerate==0.21.0) (1.23.5)\n",
            "Requirement already satisfied: packaging>=20.0 in /usr/local/lib/python3.10/dist-packages (from accelerate==0.21.0) (23.2)\n",
            "Requirement already satisfied: psutil in /usr/local/lib/python3.10/dist-packages (from accelerate==0.21.0) (5.9.5)\n",
            "Requirement already satisfied: pyyaml in /usr/local/lib/python3.10/dist-packages (from accelerate==0.21.0) (6.0.1)\n",
            "Requirement already satisfied: torch>=1.10.0 in /usr/local/lib/python3.10/dist-packages (from accelerate==0.21.0) (2.1.0+cu118)\n",
            "Requirement already satisfied: filelock in /usr/local/lib/python3.10/dist-packages (from torch>=1.10.0->accelerate==0.21.0) (3.13.1)\n",
            "Requirement already satisfied: typing-extensions in /usr/local/lib/python3.10/dist-packages (from torch>=1.10.0->accelerate==0.21.0) (4.5.0)\n",
            "Requirement already satisfied: sympy in /usr/local/lib/python3.10/dist-packages (from torch>=1.10.0->accelerate==0.21.0) (1.12)\n",
            "Requirement already satisfied: networkx in /usr/local/lib/python3.10/dist-packages (from torch>=1.10.0->accelerate==0.21.0) (3.2.1)\n",
            "Requirement already satisfied: jinja2 in /usr/local/lib/python3.10/dist-packages (from torch>=1.10.0->accelerate==0.21.0) (3.1.2)\n",
            "Requirement already satisfied: fsspec in /usr/local/lib/python3.10/dist-packages (from torch>=1.10.0->accelerate==0.21.0) (2023.6.0)\n",
            "Requirement already satisfied: triton==2.1.0 in /usr/local/lib/python3.10/dist-packages (from torch>=1.10.0->accelerate==0.21.0) (2.1.0)\n",
            "Requirement already satisfied: MarkupSafe>=2.0 in /usr/local/lib/python3.10/dist-packages (from jinja2->torch>=1.10.0->accelerate==0.21.0) (2.1.3)\n",
            "Requirement already satisfied: mpmath>=0.19 in /usr/local/lib/python3.10/dist-packages (from sympy->torch>=1.10.0->accelerate==0.21.0) (1.3.0)\n",
            "Downloading accelerate-0.21.0-py3-none-any.whl (244 kB)\n",
            "\u001b[2K   \u001b[90m━━━━━━━━━━━━━━━━━━━━━━━━━━━━━━━━━━━━━━━━\u001b[0m \u001b[32m244.2/244.2 kB\u001b[0m \u001b[31m5.5 MB/s\u001b[0m eta \u001b[36m0:00:00\u001b[0m\n",
            "\u001b[?25hInstalling collected packages: accelerate\n",
            "Successfully installed accelerate-0.21.0\n",
            "\u001b[33mWARNING: Running pip as the 'root' user can result in broken permissions and conflicting behaviour with the system package manager. It is recommended to use a virtual environment instead: https://pip.pypa.io/warnings/venv\u001b[0m\u001b[33m\n",
            "\u001b[0mCollecting xformers==0.0.20\n",
            "  Downloading xformers-0.0.20-cp310-cp310-manylinux2014_x86_64.whl.metadata (1.1 kB)\n",
            "Requirement already satisfied: numpy in /usr/local/lib/python3.10/dist-packages (from xformers==0.0.20) (1.23.5)\n",
            "Collecting pyre-extensions==0.0.29 (from xformers==0.0.20)\n",
            "  Downloading pyre_extensions-0.0.29-py3-none-any.whl (12 kB)\n",
            "Collecting torch==2.0.1 (from xformers==0.0.20)\n",
            "  Downloading torch-2.0.1-cp310-cp310-manylinux1_x86_64.whl (619.9 MB)\n",
            "\u001b[2K     \u001b[90m━━━━━━━━━━━━━━━━━━━━━━━━━━━━━━━━━━━━━━━━\u001b[0m \u001b[32m619.9/619.9 MB\u001b[0m \u001b[31m2.0 MB/s\u001b[0m eta \u001b[36m0:00:00\u001b[0m\n",
            "\u001b[?25hCollecting typing-inspect (from pyre-extensions==0.0.29->xformers==0.0.20)\n",
            "  Downloading typing_inspect-0.9.0-py3-none-any.whl.metadata (1.5 kB)\n",
            "Requirement already satisfied: typing-extensions in /usr/local/lib/python3.10/dist-packages (from pyre-extensions==0.0.29->xformers==0.0.20) (4.5.0)\n",
            "Requirement already satisfied: filelock in /usr/local/lib/python3.10/dist-packages (from torch==2.0.1->xformers==0.0.20) (3.13.1)\n",
            "Requirement already satisfied: sympy in /usr/local/lib/python3.10/dist-packages (from torch==2.0.1->xformers==0.0.20) (1.12)\n",
            "Requirement already satisfied: networkx in /usr/local/lib/python3.10/dist-packages (from torch==2.0.1->xformers==0.0.20) (3.2.1)\n",
            "Requirement already satisfied: jinja2 in /usr/local/lib/python3.10/dist-packages (from torch==2.0.1->xformers==0.0.20) (3.1.2)\n",
            "Collecting nvidia-cuda-nvrtc-cu11==11.7.99 (from torch==2.0.1->xformers==0.0.20)\n",
            "  Downloading nvidia_cuda_nvrtc_cu11-11.7.99-2-py3-none-manylinux1_x86_64.whl (21.0 MB)\n",
            "\u001b[2K     \u001b[90m━━━━━━━━━━━━━━━━━━━━━━━━━━━━━━━━━━━━━━━━\u001b[0m \u001b[32m21.0/21.0 MB\u001b[0m \u001b[31m105.4 MB/s\u001b[0m eta \u001b[36m0:00:00\u001b[0m\n",
            "\u001b[?25hCollecting nvidia-cuda-runtime-cu11==11.7.99 (from torch==2.0.1->xformers==0.0.20)\n",
            "  Downloading nvidia_cuda_runtime_cu11-11.7.99-py3-none-manylinux1_x86_64.whl (849 kB)\n",
            "\u001b[2K     \u001b[90m━━━━━━━━━━━━━━━━━━━━━━━━━━━━━━━━━━━━━━━━\u001b[0m \u001b[32m849.3/849.3 kB\u001b[0m \u001b[31m55.1 MB/s\u001b[0m eta \u001b[36m0:00:00\u001b[0m\n",
            "\u001b[?25hCollecting nvidia-cuda-cupti-cu11==11.7.101 (from torch==2.0.1->xformers==0.0.20)\n",
            "  Downloading nvidia_cuda_cupti_cu11-11.7.101-py3-none-manylinux1_x86_64.whl (11.8 MB)\n",
            "\u001b[2K     \u001b[90m━━━━━━━━━━━━━━━━━━━━━━━━━━━━━━━━━━━━━━━━\u001b[0m \u001b[32m11.8/11.8 MB\u001b[0m \u001b[31m121.7 MB/s\u001b[0m eta \u001b[36m0:00:00\u001b[0m\n",
            "\u001b[?25hCollecting nvidia-cudnn-cu11==8.5.0.96 (from torch==2.0.1->xformers==0.0.20)\n",
            "  Downloading nvidia_cudnn_cu11-8.5.0.96-2-py3-none-manylinux1_x86_64.whl (557.1 MB)\n",
            "\u001b[2K     \u001b[90m━━━━━━━━━━━━━━━━━━━━━━━━━━━━━━━━━━━━━━━━\u001b[0m \u001b[32m557.1/557.1 MB\u001b[0m \u001b[31m2.1 MB/s\u001b[0m eta \u001b[36m0:00:00\u001b[0m\n",
            "\u001b[?25hCollecting nvidia-cublas-cu11==11.10.3.66 (from torch==2.0.1->xformers==0.0.20)\n",
            "  Downloading nvidia_cublas_cu11-11.10.3.66-py3-none-manylinux1_x86_64.whl (317.1 MB)\n",
            "\u001b[2K     \u001b[90m━━━━━━━━━━━━━━━━━━━━━━━━━━━━━━━━━━━━━━━━\u001b[0m \u001b[32m317.1/317.1 MB\u001b[0m \u001b[31m3.5 MB/s\u001b[0m eta \u001b[36m0:00:00\u001b[0m\n",
            "\u001b[?25hCollecting nvidia-cufft-cu11==10.9.0.58 (from torch==2.0.1->xformers==0.0.20)\n",
            "  Downloading nvidia_cufft_cu11-10.9.0.58-py3-none-manylinux1_x86_64.whl (168.4 MB)\n",
            "\u001b[2K     \u001b[90m━━━━━━━━━━━━━━━━━━━━━━━━━━━━━━━━━━━━━━━━\u001b[0m \u001b[32m168.4/168.4 MB\u001b[0m \u001b[31m8.1 MB/s\u001b[0m eta \u001b[36m0:00:00\u001b[0m\n",
            "\u001b[?25hCollecting nvidia-curand-cu11==10.2.10.91 (from torch==2.0.1->xformers==0.0.20)\n",
            "  Downloading nvidia_curand_cu11-10.2.10.91-py3-none-manylinux1_x86_64.whl (54.6 MB)\n",
            "\u001b[2K     \u001b[90m━━━━━━━━━━━━━━━━━━━━━━━━━━━━━━━━━━━━━━━━\u001b[0m \u001b[32m54.6/54.6 MB\u001b[0m \u001b[31m41.5 MB/s\u001b[0m eta \u001b[36m0:00:00\u001b[0m\n",
            "\u001b[?25hCollecting nvidia-cusolver-cu11==11.4.0.1 (from torch==2.0.1->xformers==0.0.20)\n",
            "  Downloading nvidia_cusolver_cu11-11.4.0.1-2-py3-none-manylinux1_x86_64.whl (102.6 MB)\n",
            "\u001b[2K     \u001b[90m━━━━━━━━━━━━━━━━━━━━━━━━━━━━━━━━━━━━━━━━\u001b[0m \u001b[32m102.6/102.6 MB\u001b[0m \u001b[31m12.6 MB/s\u001b[0m eta \u001b[36m0:00:00\u001b[0m\n",
            "\u001b[?25hCollecting nvidia-cusparse-cu11==11.7.4.91 (from torch==2.0.1->xformers==0.0.20)\n",
            "  Downloading nvidia_cusparse_cu11-11.7.4.91-py3-none-manylinux1_x86_64.whl (173.2 MB)\n",
            "\u001b[2K     \u001b[90m━━━━━━━━━━━━━━━━━━━━━━━━━━━━━━━━━━━━━━━━\u001b[0m \u001b[32m173.2/173.2 MB\u001b[0m \u001b[31m8.3 MB/s\u001b[0m eta \u001b[36m0:00:00\u001b[0m\n",
            "\u001b[?25hCollecting nvidia-nccl-cu11==2.14.3 (from torch==2.0.1->xformers==0.0.20)\n",
            "  Downloading nvidia_nccl_cu11-2.14.3-py3-none-manylinux1_x86_64.whl (177.1 MB)\n",
            "\u001b[2K     \u001b[90m━━━━━━━━━━━━━━━━━━━━━━━━━━━━━━━━━━━━━━━━\u001b[0m \u001b[32m177.1/177.1 MB\u001b[0m \u001b[31m5.2 MB/s\u001b[0m eta \u001b[36m0:00:00\u001b[0m\n",
            "\u001b[?25hCollecting nvidia-nvtx-cu11==11.7.91 (from torch==2.0.1->xformers==0.0.20)\n",
            "  Downloading nvidia_nvtx_cu11-11.7.91-py3-none-manylinux1_x86_64.whl (98 kB)\n",
            "\u001b[2K     \u001b[90m━━━━━━━━━━━━━━━━━━━━━━━━━━━━━━━━━━━━━━━━\u001b[0m \u001b[32m98.6/98.6 kB\u001b[0m \u001b[31m10.2 MB/s\u001b[0m eta \u001b[36m0:00:00\u001b[0m\n",
            "\u001b[?25hCollecting triton==2.0.0 (from torch==2.0.1->xformers==0.0.20)\n",
            "  Downloading triton-2.0.0-1-cp310-cp310-manylinux2014_x86_64.manylinux_2_17_x86_64.whl (63.3 MB)\n",
            "\u001b[2K     \u001b[90m━━━━━━━━━━━━━━━━━━━━━━━━━━━━━━━━━━━━━━━━\u001b[0m \u001b[32m63.3/63.3 MB\u001b[0m \u001b[31m37.5 MB/s\u001b[0m eta \u001b[36m0:00:00\u001b[0m\n",
            "\u001b[?25hRequirement already satisfied: setuptools in /usr/local/lib/python3.10/dist-packages (from nvidia-cublas-cu11==11.10.3.66->torch==2.0.1->xformers==0.0.20) (67.7.2)\n",
            "Requirement already satisfied: wheel in /usr/local/lib/python3.10/dist-packages (from nvidia-cublas-cu11==11.10.3.66->torch==2.0.1->xformers==0.0.20) (0.41.3)\n",
            "Requirement already satisfied: cmake in /usr/local/lib/python3.10/dist-packages (from triton==2.0.0->torch==2.0.1->xformers==0.0.20) (3.27.7)\n",
            "Collecting lit (from triton==2.0.0->torch==2.0.1->xformers==0.0.20)\n",
            "  Downloading lit-17.0.5.tar.gz (153 kB)\n",
            "\u001b[2K     \u001b[90m━━━━━━━━━━━━━━━━━━━━━━━━━━━━━━━━━━━━━━━━\u001b[0m \u001b[32m153.0/153.0 kB\u001b[0m \u001b[31m14.6 MB/s\u001b[0m eta \u001b[36m0:00:00\u001b[0m\n",
            "\u001b[?25h  Installing build dependencies ... \u001b[?25l\u001b[?25hdone\n",
            "  Getting requirements to build wheel ... \u001b[?25l\u001b[?25hdone\n",
            "  Installing backend dependencies ... \u001b[?25l\u001b[?25hdone\n",
            "  Preparing metadata (pyproject.toml) ... \u001b[?25l\u001b[?25hdone\n",
            "Requirement already satisfied: MarkupSafe>=2.0 in /usr/local/lib/python3.10/dist-packages (from jinja2->torch==2.0.1->xformers==0.0.20) (2.1.3)\n",
            "Requirement already satisfied: mpmath>=0.19 in /usr/local/lib/python3.10/dist-packages (from sympy->torch==2.0.1->xformers==0.0.20) (1.3.0)\n",
            "Collecting mypy-extensions>=0.3.0 (from typing-inspect->pyre-extensions==0.0.29->xformers==0.0.20)\n",
            "  Downloading mypy_extensions-1.0.0-py3-none-any.whl (4.7 kB)\n",
            "Downloading xformers-0.0.20-cp310-cp310-manylinux2014_x86_64.whl (109.1 MB)\n",
            "\u001b[2K   \u001b[90m━━━━━━━━━━━━━━━━━━━━━━━━━━━━━━━━━━━━━━━━\u001b[0m \u001b[32m109.1/109.1 MB\u001b[0m \u001b[31m10.4 MB/s\u001b[0m eta \u001b[36m0:00:00\u001b[0m\n",
            "\u001b[?25hDownloading typing_inspect-0.9.0-py3-none-any.whl (8.8 kB)\n",
            "Building wheels for collected packages: lit\n",
            "  Building wheel for lit (pyproject.toml) ... \u001b[?25l\u001b[?25hdone\n",
            "  Created wheel for lit: filename=lit-17.0.5-py3-none-any.whl size=93256 sha256=ca2b33141ca0ca0b60b3a497abe5d5f2498e14f7464610a6c00ab2399dca386e\n",
            "  Stored in directory: /root/.cache/pip/wheels/1c/87/8e/5a42c0d4be23362b68bbff33b17f3c35a3df44f1cd2f5a24b4\n",
            "Successfully built lit\n",
            "Installing collected packages: lit, nvidia-nvtx-cu11, nvidia-nccl-cu11, nvidia-cusparse-cu11, nvidia-curand-cu11, nvidia-cufft-cu11, nvidia-cuda-runtime-cu11, nvidia-cuda-nvrtc-cu11, nvidia-cuda-cupti-cu11, nvidia-cublas-cu11, mypy-extensions, typing-inspect, nvidia-cusolver-cu11, nvidia-cudnn-cu11, pyre-extensions, triton, torch, xformers\n",
            "  Attempting uninstall: triton\n",
            "    Found existing installation: triton 2.1.0\n",
            "    Uninstalling triton-2.1.0:\n",
            "      Successfully uninstalled triton-2.1.0\n",
            "  Attempting uninstall: torch\n",
            "    Found existing installation: torch 2.1.0+cu118\n",
            "    Uninstalling torch-2.1.0+cu118:\n",
            "      Successfully uninstalled torch-2.1.0+cu118\n",
            "\u001b[31mERROR: pip's dependency resolver does not currently take into account all the packages that are installed. This behaviour is the source of the following dependency conflicts.\n",
            "torchaudio 2.1.0+cu118 requires torch==2.1.0, but you have torch 2.0.1 which is incompatible.\n",
            "torchdata 0.7.0 requires torch==2.1.0, but you have torch 2.0.1 which is incompatible.\n",
            "torchtext 0.16.0 requires torch==2.1.0, but you have torch 2.0.1 which is incompatible.\n",
            "torchvision 0.16.0+cu118 requires torch==2.1.0, but you have torch 2.0.1 which is incompatible.\u001b[0m\u001b[31m\n",
            "\u001b[0mSuccessfully installed lit-17.0.5 mypy-extensions-1.0.0 nvidia-cublas-cu11-11.10.3.66 nvidia-cuda-cupti-cu11-11.7.101 nvidia-cuda-nvrtc-cu11-11.7.99 nvidia-cuda-runtime-cu11-11.7.99 nvidia-cudnn-cu11-8.5.0.96 nvidia-cufft-cu11-10.9.0.58 nvidia-curand-cu11-10.2.10.91 nvidia-cusolver-cu11-11.4.0.1 nvidia-cusparse-cu11-11.7.4.91 nvidia-nccl-cu11-2.14.3 nvidia-nvtx-cu11-11.7.91 pyre-extensions-0.0.29 torch-2.0.1 triton-2.0.0 typing-inspect-0.9.0 xformers-0.0.20\n",
            "\u001b[33mWARNING: Running pip as the 'root' user can result in broken permissions and conflicting behaviour with the system package manager. It is recommended to use a virtual environment instead: https://pip.pypa.io/warnings/venv\u001b[0m\u001b[33m\n",
            "\u001b[0mCollecting einops==0.6.1\n",
            "  Downloading einops-0.6.1-py3-none-any.whl (42 kB)\n",
            "\u001b[2K     \u001b[90m━━━━━━━━━━━━━━━━━━━━━━━━━━━━━━━━━━━━━━━━\u001b[0m \u001b[32m42.2/42.2 kB\u001b[0m \u001b[31m1.2 MB/s\u001b[0m eta \u001b[36m0:00:00\u001b[0m\n",
            "\u001b[?25hInstalling collected packages: einops\n",
            "Successfully installed einops-0.6.1\n",
            "\u001b[33mWARNING: Running pip as the 'root' user can result in broken permissions and conflicting behaviour with the system package manager. It is recommended to use a virtual environment instead: https://pip.pypa.io/warnings/venv\u001b[0m\u001b[33m\n",
            "\u001b[0mCollecting langchain==0.0.233\n",
            "  Downloading langchain-0.0.233-py3-none-any.whl.metadata (13 kB)\n",
            "Requirement already satisfied: PyYAML>=5.4.1 in /usr/local/lib/python3.10/dist-packages (from langchain==0.0.233) (6.0.1)\n",
            "Requirement already satisfied: SQLAlchemy<3,>=1.4 in /usr/local/lib/python3.10/dist-packages (from langchain==0.0.233) (2.0.23)\n",
            "Requirement already satisfied: aiohttp<4.0.0,>=3.8.3 in /usr/local/lib/python3.10/dist-packages (from langchain==0.0.233) (3.8.6)\n",
            "Requirement already satisfied: async-timeout<5.0.0,>=4.0.0 in /usr/local/lib/python3.10/dist-packages (from langchain==0.0.233) (4.0.3)\n",
            "Collecting dataclasses-json<0.6.0,>=0.5.7 (from langchain==0.0.233)\n",
            "  Downloading dataclasses_json-0.5.14-py3-none-any.whl.metadata (22 kB)\n",
            "Collecting langsmith<0.0.6,>=0.0.5 (from langchain==0.0.233)\n",
            "  Downloading langsmith-0.0.5-py3-none-any.whl.metadata (8.6 kB)\n",
            "Requirement already satisfied: numexpr<3.0.0,>=2.8.4 in /usr/local/lib/python3.10/dist-packages (from langchain==0.0.233) (2.8.7)\n",
            "Requirement already satisfied: numpy<2,>=1 in /usr/local/lib/python3.10/dist-packages (from langchain==0.0.233) (1.23.5)\n",
            "Collecting openapi-schema-pydantic<2.0,>=1.2 (from langchain==0.0.233)\n",
            "  Downloading openapi_schema_pydantic-1.2.4-py3-none-any.whl (90 kB)\n",
            "\u001b[2K     \u001b[90m━━━━━━━━━━━━━━━━━━━━━━━━━━━━━━━━━━━━━━━━\u001b[0m \u001b[32m90.0/90.0 kB\u001b[0m \u001b[31m3.5 MB/s\u001b[0m eta \u001b[36m0:00:00\u001b[0m\n",
            "\u001b[?25hRequirement already satisfied: pydantic<2,>=1 in /usr/local/lib/python3.10/dist-packages (from langchain==0.0.233) (1.10.13)\n",
            "Requirement already satisfied: requests<3,>=2 in /usr/local/lib/python3.10/dist-packages (from langchain==0.0.233) (2.31.0)\n",
            "Requirement already satisfied: tenacity<9.0.0,>=8.1.0 in /usr/local/lib/python3.10/dist-packages (from langchain==0.0.233) (8.2.3)\n",
            "Requirement already satisfied: attrs>=17.3.0 in /usr/local/lib/python3.10/dist-packages (from aiohttp<4.0.0,>=3.8.3->langchain==0.0.233) (23.1.0)\n",
            "Requirement already satisfied: charset-normalizer<4.0,>=2.0 in /usr/local/lib/python3.10/dist-packages (from aiohttp<4.0.0,>=3.8.3->langchain==0.0.233) (3.3.2)\n",
            "Requirement already satisfied: multidict<7.0,>=4.5 in /usr/local/lib/python3.10/dist-packages (from aiohttp<4.0.0,>=3.8.3->langchain==0.0.233) (6.0.4)\n",
            "Requirement already satisfied: yarl<2.0,>=1.0 in /usr/local/lib/python3.10/dist-packages (from aiohttp<4.0.0,>=3.8.3->langchain==0.0.233) (1.9.2)\n",
            "Requirement already satisfied: frozenlist>=1.1.1 in /usr/local/lib/python3.10/dist-packages (from aiohttp<4.0.0,>=3.8.3->langchain==0.0.233) (1.4.0)\n",
            "Requirement already satisfied: aiosignal>=1.1.2 in /usr/local/lib/python3.10/dist-packages (from aiohttp<4.0.0,>=3.8.3->langchain==0.0.233) (1.3.1)\n",
            "Collecting marshmallow<4.0.0,>=3.18.0 (from dataclasses-json<0.6.0,>=0.5.7->langchain==0.0.233)\n",
            "  Downloading marshmallow-3.20.1-py3-none-any.whl.metadata (7.8 kB)\n",
            "Requirement already satisfied: typing-inspect<1,>=0.4.0 in /usr/local/lib/python3.10/dist-packages (from dataclasses-json<0.6.0,>=0.5.7->langchain==0.0.233) (0.9.0)\n",
            "Requirement already satisfied: typing-extensions>=4.2.0 in /usr/local/lib/python3.10/dist-packages (from pydantic<2,>=1->langchain==0.0.233) (4.5.0)\n",
            "Requirement already satisfied: idna<4,>=2.5 in /usr/local/lib/python3.10/dist-packages (from requests<3,>=2->langchain==0.0.233) (3.4)\n",
            "Requirement already satisfied: urllib3<3,>=1.21.1 in /usr/local/lib/python3.10/dist-packages (from requests<3,>=2->langchain==0.0.233) (2.0.7)\n",
            "Requirement already satisfied: certifi>=2017.4.17 in /usr/local/lib/python3.10/dist-packages (from requests<3,>=2->langchain==0.0.233) (2023.7.22)\n",
            "Requirement already satisfied: greenlet!=0.4.17 in /usr/local/lib/python3.10/dist-packages (from SQLAlchemy<3,>=1.4->langchain==0.0.233) (3.0.1)\n",
            "Requirement already satisfied: packaging>=17.0 in /usr/local/lib/python3.10/dist-packages (from marshmallow<4.0.0,>=3.18.0->dataclasses-json<0.6.0,>=0.5.7->langchain==0.0.233) (23.2)\n",
            "Requirement already satisfied: mypy-extensions>=0.3.0 in /usr/local/lib/python3.10/dist-packages (from typing-inspect<1,>=0.4.0->dataclasses-json<0.6.0,>=0.5.7->langchain==0.0.233) (1.0.0)\n",
            "Downloading langchain-0.0.233-py3-none-any.whl (1.3 MB)\n",
            "\u001b[2K   \u001b[90m━━━━━━━━━━━━━━━━━━━━━━━━━━━━━━━━━━━━━━━━\u001b[0m \u001b[32m1.3/1.3 MB\u001b[0m \u001b[31m25.0 MB/s\u001b[0m eta \u001b[36m0:00:00\u001b[0m\n",
            "\u001b[?25hDownloading dataclasses_json-0.5.14-py3-none-any.whl (26 kB)\n",
            "Downloading langsmith-0.0.5-py3-none-any.whl (25 kB)\n",
            "Downloading marshmallow-3.20.1-py3-none-any.whl (49 kB)\n",
            "\u001b[2K   \u001b[90m━━━━━━━━━━━━━━━━━━━━━━━━━━━━━━━━━━━━━━━━\u001b[0m \u001b[32m49.4/49.4 kB\u001b[0m \u001b[31m4.7 MB/s\u001b[0m eta \u001b[36m0:00:00\u001b[0m\n",
            "\u001b[?25hInstalling collected packages: marshmallow, openapi-schema-pydantic, langsmith, dataclasses-json, langchain\n",
            "Successfully installed dataclasses-json-0.5.14 langchain-0.0.233 langsmith-0.0.5 marshmallow-3.20.1 openapi-schema-pydantic-1.2.4\n",
            "\u001b[33mWARNING: Running pip as the 'root' user can result in broken permissions and conflicting behaviour with the system package manager. It is recommended to use a virtual environment instead: https://pip.pypa.io/warnings/venv\u001b[0m\u001b[33m\n",
            "\u001b[0m"
          ]
        }
      ]
    },
    {
      "cell_type": "code",
      "source": [
        "from google.colab import drive\n",
        "work_dir = drive.mount('/content/drive/', force_remount=True)"
      ],
      "metadata": {
        "colab": {
          "base_uri": "https://localhost:8080/"
        },
        "id": "JqGE4wBs6Rv3",
        "outputId": "67c057a3-3c21-4e38-c9b8-1594089d9130"
      },
      "execution_count": 3,
      "outputs": [
        {
          "output_type": "stream",
          "name": "stdout",
          "text": [
            "Mounted at /content/drive/\n"
          ]
        }
      ]
    },
    {
      "cell_type": "code",
      "source": [
        "!cd drive/"
      ],
      "metadata": {
        "id": "vLn1hmxf6R0w"
      },
      "execution_count": 4,
      "outputs": []
    },
    {
      "cell_type": "code",
      "source": [
        "ls"
      ],
      "metadata": {
        "id": "8i96nuHs6mfb"
      },
      "execution_count": null,
      "outputs": []
    },
    {
      "cell_type": "code",
      "source": [
        "cd drive"
      ],
      "metadata": {
        "colab": {
          "base_uri": "https://localhost:8080/"
        },
        "id": "PI8VobW-6qWU",
        "outputId": "5ad9b354-2057-4bf9-e392-e1b49d2dd66a"
      },
      "execution_count": 6,
      "outputs": [
        {
          "output_type": "stream",
          "name": "stdout",
          "text": [
            "/content/drive\n"
          ]
        }
      ]
    },
    {
      "cell_type": "code",
      "source": [
        "cd MyDrive/"
      ],
      "metadata": {
        "colab": {
          "base_uri": "https://localhost:8080/"
        },
        "id": "mAbSDSGC6R47",
        "outputId": "a244f95b-4220-4a68-febb-a07bf3639aa0"
      },
      "execution_count": 7,
      "outputs": [
        {
          "output_type": "stream",
          "name": "stdout",
          "text": [
            "/content/drive/MyDrive\n"
          ]
        }
      ]
    },
    {
      "cell_type": "code",
      "source": [
        "ls"
      ],
      "metadata": {
        "colab": {
          "base_uri": "https://localhost:8080/"
        },
        "id": "onreK0v46R8j",
        "outputId": "72ddacf6-2aed-4a16-84d9-cfc3ee0526fe"
      },
      "execution_count": 8,
      "outputs": [
        {
          "output_type": "stream",
          "name": "stdout",
          "text": [
            " Agreement-1.pdf   \u001b[0m\u001b[01;34m'BME PROJECT'\u001b[0m/      'Falcon 7B'      \u001b[01;34mThesis\u001b[0m/\n",
            " \u001b[01;34mAI\u001b[0m/               \u001b[01;34m'Colab Notebooks'\u001b[0m/   \u001b[01;34mFalcon-7B\u001b[0m/      USB.zip\n",
            " \u001b[01;34mAutomation\u001b[0m/        DOC004.PDF          Photos.zip      Utrecht.zip\n",
            " Automation.ipynb  \u001b[01;34m'Document Copy'\u001b[0m/     Residence.zip   Vahid_HostingAgreement_SignedScanned.pdf\n"
          ]
        }
      ]
    },
    {
      "cell_type": "code",
      "source": [
        "cd AI/Falconchat"
      ],
      "metadata": {
        "colab": {
          "base_uri": "https://localhost:8080/"
        },
        "id": "3U4CxQmE6R_9",
        "outputId": "683e460d-6ff3-4a73-dba3-7264f20a7355"
      },
      "execution_count": 9,
      "outputs": [
        {
          "output_type": "stream",
          "name": "stdout",
          "text": [
            "/content/drive/MyDrive/AI/Falconchat\n"
          ]
        }
      ]
    },
    {
      "cell_type": "code",
      "source": [
        "ls"
      ],
      "metadata": {
        "id": "S1bR6s-o6SDW"
      },
      "execution_count": 10,
      "outputs": []
    },
    {
      "cell_type": "code",
      "source": [
        "!npm install -g localtunnel"
      ],
      "metadata": {
        "colab": {
          "base_uri": "https://localhost:8080/"
        },
        "id": "PYcQshkn6SG_",
        "outputId": "04ec4cba-5c60-4609-f570-6e74042cb2ac"
      },
      "execution_count": 11,
      "outputs": [
        {
          "output_type": "stream",
          "name": "stdout",
          "text": [
            "\u001b[?25l[\u001b[90m..................\u001b[0m] / rollbackFailedOptional: \u001b[34;40mverb\u001b[0m \u001b[35mnpm-session\u001b[0m 2d9e4c8f43c958d\u001b[0m\u001b[K\r[\u001b[90m..................\u001b[0m] / rollbackFailedOptional: \u001b[34;40mverb\u001b[0m \u001b[35mnpm-session\u001b[0m 2d9e4c8f43c958d\u001b[0m\u001b[K\r[\u001b[90m..................\u001b[0m] / rollbackFailedOptional: \u001b[34;40mverb\u001b[0m \u001b[35mnpm-session\u001b[0m 2d9e4c8f43c958d\u001b[0m\u001b[K\r[\u001b[90m..................\u001b[0m] \\ rollbackFailedOptional: \u001b[34;40mverb\u001b[0m \u001b[35mnpm-session\u001b[0m 2d9e4c8f43c958d\u001b[0m\u001b[K\r[\u001b[90m..................\u001b[0m] | fetchMetadata: \u001b[7msill\u001b[0m \u001b[35mresolveWithNewModule\u001b[0m localtunnel@2.0\u001b[0m\u001b[K\r[\u001b[90m..................\u001b[0m] \\ fetchMetadata: \u001b[7msill\u001b[0m \u001b[35mresolveWithNewModule\u001b[0m localtunnel@2.0\u001b[0m\u001b[K\r[\u001b[90m..................\u001b[0m] | fetchMetadata: \u001b[7msill\u001b[0m \u001b[35mresolveWithNewModule\u001b[0m localtunnel@2.0\u001b[0m\u001b[K\r[\u001b[90m..................\u001b[0m] / fetchMetadata: \u001b[7msill\u001b[0m \u001b[35mresolveWithNewModule\u001b[0m yargs@17.1.1 ch\u001b[0m\u001b[K\r[\u001b[7m \u001b[27m\u001b[90m.................\u001b[0m] / fetchMetadata: \u001b[7msill\u001b[0m \u001b[35mresolveWithNewModule\u001b[0m follow-redirect\u001b[0m\u001b[K\r[\u001b[7m  \u001b[27m\u001b[90m................\u001b[0m] | fetchMetadata: \u001b[7msill\u001b[0m \u001b[35mresolveWithNewModule\u001b[0m ms@2.1.2 checki\u001b[0m\u001b[K\r[\u001b[7m  \u001b[27m\u001b[90m................\u001b[0m] \\ fetchMetadata: \u001b[7msill\u001b[0m \u001b[35mresolveWithNewModule\u001b[0m ms@2.1.2 checki\u001b[0m\u001b[K\r[\u001b[7m  \u001b[27m\u001b[90m................\u001b[0m] | fetchMetadata: \u001b[7msill\u001b[0m \u001b[35mresolveWithNewModule\u001b[0m yargs-parser@20\u001b[0m\u001b[K\r[\u001b[7m  \u001b[27m\u001b[90m................\u001b[0m] | loadDep:strip-ansi: \u001b[7msill\u001b[0m \u001b[35mresolveWithNewModule\u001b[0m strip-ansi\u001b[0m\u001b[K\r[\u001b[7m  \u001b[27m\u001b[90m................\u001b[0m] | loadDep:strip-ansi: \u001b[7msill\u001b[0m \u001b[35mresolveWithNewModule\u001b[0m strip-ansi\u001b[0m\u001b[K\r[\u001b[7m  \u001b[27m\u001b[90m................\u001b[0m] / fetchMetadata: \u001b[7msill\u001b[0m \u001b[35mresolveWithNewModule\u001b[0m is-fullwidth-co\u001b[0m\u001b[K\r[\u001b[7m  \u001b[27m\u001b[90m................\u001b[0m] / loadDep:strip-ansi: \u001b[7msill\u001b[0m \u001b[35mresolveWithNewModule\u001b[0m ansi-regex\u001b[0m\u001b[K\r[\u001b[7m  \u001b[27m\u001b[90m................\u001b[0m] | fetchMetadata: \u001b[7msill\u001b[0m \u001b[35mresolveWithNewModule\u001b[0m color-convert@2\u001b[0m\u001b[K\r[\u001b[7m      \u001b[27m\u001b[90m............\u001b[0m] / diffTrees: \u001b[7msill\u001b[0m \u001b[35minstall\u001b[0m generateActionsToTake\u001b[0m\u001b[K\r[\u001b[7m       \u001b[27m\u001b[90m...........\u001b[0m] \\ extract:localtunnel: \u001b[34;40mverb\u001b[0m \u001b[35mlock\u001b[0m using /root/.npm/_locks/s\u001b[0m\u001b[K\r[\u001b[7m         \u001b[27m\u001b[90m.........\u001b[0m] - extract:get-caller-file: \u001b[7msill\u001b[0m \u001b[35mextract\u001b[0m ansi-regex@^5.0.1\u001b[0m\u001b[K\r[\u001b[7m            \u001b[27m\u001b[90m......\u001b[0m] | finalize:yargs: \u001b[7msill\u001b[0m \u001b[35mfinalize\u001b[0m /tools/node/lib/node_modul\u001b[0m\u001b[K\r[\u001b[7m            \u001b[27m\u001b[90m......\u001b[0m] | refresh-package-json:localtunnel: \u001b[32;40mtiming\u001b[0m \u001b[35maction:finalize\u001b[0m\u001b[0m\u001b[K\r\r\u001b[K\u001b[?25h/tools/node/bin/lt -> /tools/node/lib/node_modules/localtunnel/bin/lt.js\n",
            "+ localtunnel@2.0.2\n",
            "added 22 packages from 22 contributors in 1.104s\n"
          ]
        }
      ]
    },
    {
      "cell_type": "code",
      "source": [
        "! pip install streamlit -q"
      ],
      "metadata": {
        "id": "K8rxVdfz6SKY",
        "colab": {
          "base_uri": "https://localhost:8080/"
        },
        "outputId": "27761c17-743b-45bb-f794-398383d63daa"
      },
      "execution_count": 12,
      "outputs": [
        {
          "output_type": "stream",
          "name": "stdout",
          "text": [
            "\u001b[?25l     \u001b[90m━━━━━━━━━━━━━━━━━━━━━━━━━━━━━━━━━━━━━━━━\u001b[0m \u001b[32m0.0/4.8 MB\u001b[0m \u001b[31m?\u001b[0m eta \u001b[36m-:--:--\u001b[0m\r\u001b[2K     \u001b[91m━━\u001b[0m\u001b[90m╺\u001b[0m\u001b[90m━━━━━━━━━━━━━━━━━━━━━━━━━━━━━━━━━━━━━\u001b[0m \u001b[32m0.3/4.8 MB\u001b[0m \u001b[31m7.4 MB/s\u001b[0m eta \u001b[36m0:00:01\u001b[0m\r\u001b[2K     \u001b[91m━━━━━━━━━━━━━━━━\u001b[0m\u001b[90m╺\u001b[0m\u001b[90m━━━━━━━━━━━━━━━━━━━━━━━\u001b[0m \u001b[32m2.0/4.8 MB\u001b[0m \u001b[31m28.5 MB/s\u001b[0m eta \u001b[36m0:00:01\u001b[0m\r\u001b[2K     \u001b[91m━━━━━━━━━━━━━━━━━━━━━━━━━━━━━━━━━━━━━━━\u001b[0m\u001b[91m╸\u001b[0m \u001b[32m4.8/4.8 MB\u001b[0m \u001b[31m55.5 MB/s\u001b[0m eta \u001b[36m0:00:01\u001b[0m\r\u001b[2K     \u001b[90m━━━━━━━━━━━━━━━━━━━━━━━━━━━━━━━━━━━━━━━━\u001b[0m \u001b[32m4.8/4.8 MB\u001b[0m \u001b[31m44.0 MB/s\u001b[0m eta \u001b[36m0:00:00\u001b[0m\n",
            "\u001b[2K     \u001b[90m━━━━━━━━━━━━━━━━━━━━━━━━━━━━━━━━━━━━━━━━\u001b[0m \u001b[32m82.1/82.1 kB\u001b[0m \u001b[31m7.5 MB/s\u001b[0m eta \u001b[36m0:00:00\u001b[0m\n",
            "\u001b[2K   \u001b[90m━━━━━━━━━━━━━━━━━━━━━━━━━━━━━━━━━━━━━━━━\u001b[0m \u001b[32m8.4/8.4 MB\u001b[0m \u001b[31m124.4 MB/s\u001b[0m eta \u001b[36m0:00:00\u001b[0m\n",
            "\u001b[2K   \u001b[90m━━━━━━━━━━━━━━━━━━━━━━━━━━━━━━━━━━━━━━━━\u001b[0m \u001b[32m190.6/190.6 kB\u001b[0m \u001b[31m17.5 MB/s\u001b[0m eta \u001b[36m0:00:00\u001b[0m\n",
            "\u001b[2K   \u001b[90m━━━━━━━━━━━━━━━━━━━━━━━━━━━━━━━━━━━━━━━━\u001b[0m \u001b[32m62.7/62.7 kB\u001b[0m \u001b[31m5.9 MB/s\u001b[0m eta \u001b[36m0:00:00\u001b[0m\n",
            "\u001b[?25h\u001b[33mWARNING: Running pip as the 'root' user can result in broken permissions and conflicting behaviour with the system package manager. It is recommended to use a virtual environment instead: https://pip.pypa.io/warnings/venv\u001b[0m\u001b[33m\n",
            "\u001b[0m"
          ]
        }
      ]
    },
    {
      "cell_type": "code",
      "source": [
        "import re\n",
        "import warnings\n",
        "from typing import List\n",
        "\n",
        "import torch\n",
        "from langchain import PromptTemplate\n",
        "from langchain.chains import ConversationChain\n",
        "from langchain.chains.conversation.memory import ConversationBufferWindowMemory\n",
        "from langchain.llms import HuggingFacePipeline\n",
        "from langchain.schema import BaseOutputParser\n",
        "from transformers import (\n",
        "    AutoModelForCausalLM,\n",
        "    AutoTokenizer,\n",
        "    StoppingCriteria,\n",
        "    StoppingCriteriaList,\n",
        "    pipeline,\n",
        ")\n",
        "\n",
        "warnings.filterwarnings(\"ignore\", category=UserWarning)"
      ],
      "metadata": {
        "colab": {
          "base_uri": "https://localhost:8080/"
        },
        "id": "K1eINJNyg7rk",
        "outputId": "61f1cf64-7a72-469c-e878-5a0d267639c0"
      },
      "execution_count": 13,
      "outputs": [
        {
          "output_type": "stream",
          "name": "stdout",
          "text": [
            "\n",
            "===================================BUG REPORT===================================\n",
            "Welcome to bitsandbytes. For bug reports, please run\n",
            "\n",
            "python -m bitsandbytes\n",
            "\n",
            " and submit this information together with your error trace to: https://github.com/TimDettmers/bitsandbytes/issues\n",
            "================================================================================\n",
            "bin /usr/local/lib/python3.10/dist-packages/bitsandbytes/libbitsandbytes_cuda118.so\n",
            "CUDA_SETUP: WARNING! libcudart.so not found in any environmental path. Searching in backup paths...\n",
            "CUDA SETUP: CUDA runtime path found: /usr/local/cuda/lib64/libcudart.so.11.0\n",
            "CUDA SETUP: Highest compute capability among GPUs detected: 7.5\n",
            "CUDA SETUP: Detected CUDA version 118\n",
            "CUDA SETUP: Loading binary /usr/local/lib/python3.10/dist-packages/bitsandbytes/libbitsandbytes_cuda118.so...\n"
          ]
        },
        {
          "output_type": "stream",
          "name": "stderr",
          "text": [
            "/usr/local/lib/python3.10/dist-packages/bitsandbytes/cuda_setup/main.py:149: UserWarning: /usr/lib64-nvidia did not contain ['libcudart.so', 'libcudart.so.11.0', 'libcudart.so.12.0'] as expected! Searching further paths...\n",
            "  warn(msg)\n",
            "/usr/local/lib/python3.10/dist-packages/bitsandbytes/cuda_setup/main.py:149: UserWarning: WARNING: The following directories listed in your path were found to be non-existent: {PosixPath('/sys/fs/cgroup/memory.events /var/colab/cgroup/jupyter-children/memory.events')}\n",
            "  warn(msg)\n",
            "/usr/local/lib/python3.10/dist-packages/bitsandbytes/cuda_setup/main.py:149: UserWarning: WARNING: The following directories listed in your path were found to be non-existent: {PosixPath('8013'), PosixPath('//172.28.0.1'), PosixPath('http')}\n",
            "  warn(msg)\n",
            "/usr/local/lib/python3.10/dist-packages/bitsandbytes/cuda_setup/main.py:149: UserWarning: WARNING: The following directories listed in your path were found to be non-existent: {PosixPath('//colab.research.google.com/tun/m/cc48301118ce562b961b3c22d803539adc1e0c19/gpu-t4-hm-pktf5ich5h8i --tunnel_background_save_delay=10s --tunnel_periodic_background_save_frequency=30m0s --enable_output_coalescing=true --output_coalescing_required=true'), PosixPath('--logtostderr --listen_host=172.28.0.12 --target_host=172.28.0.12 --tunnel_background_save_url=https')}\n",
            "  warn(msg)\n",
            "/usr/local/lib/python3.10/dist-packages/bitsandbytes/cuda_setup/main.py:149: UserWarning: WARNING: The following directories listed in your path were found to be non-existent: {PosixPath('/datalab/web/pyright/typeshed-fallback/stdlib,/usr/local/lib/python3.10/dist-packages')}\n",
            "  warn(msg)\n",
            "/usr/local/lib/python3.10/dist-packages/bitsandbytes/cuda_setup/main.py:149: UserWarning: WARNING: The following directories listed in your path were found to be non-existent: {PosixPath('/env/python')}\n",
            "  warn(msg)\n",
            "/usr/local/lib/python3.10/dist-packages/bitsandbytes/cuda_setup/main.py:149: UserWarning: WARNING: The following directories listed in your path were found to be non-existent: {PosixPath('module'), PosixPath('//ipykernel.pylab.backend_inline')}\n",
            "  warn(msg)\n",
            "/usr/local/lib/python3.10/dist-packages/bitsandbytes/cuda_setup/main.py:149: UserWarning: Found duplicate ['libcudart.so', 'libcudart.so.11.0', 'libcudart.so.12.0'] files: {PosixPath('/usr/local/cuda/lib64/libcudart.so.11.0'), PosixPath('/usr/local/cuda/lib64/libcudart.so')}.. We'll flip a coin and try one of these, in order to fail forward.\n",
            "Either way, this might cause trouble in the future:\n",
            "If you get `CUDA error: invalid device function` errors, the above might be the cause and the solution is to make sure only one ['libcudart.so', 'libcudart.so.11.0', 'libcudart.so.12.0'] in the paths that we search based on your env.\n",
            "  warn(msg)\n"
          ]
        }
      ]
    },
    {
      "cell_type": "code",
      "source": [
        "MODEL_NAME = \"tiiuae/falcon-7b-instruct\"\n",
        "\n",
        "model = AutoModelForCausalLM.from_pretrained( MODEL_NAME, trust_remote_code = True,\\\n",
        "                                             load_in_8bit = True, device_map = \"auto\"\n",
        ")\n",
        "model = model.eval()\n",
        "\n",
        "tokenizer = AutoTokenizer.from_pretrained(MODEL_NAME)\n",
        "\n",
        "print(f\"Model device: {model.device}\")"
      ],
      "metadata": {
        "colab": {
          "base_uri": "https://localhost:8080/",
          "height": 591,
          "referenced_widgets": [
            "53980d5caff04084950a0b927e3d648f",
            "ecf69e6739f8402c830bca0ed2c64791",
            "b6441c01c9bd431e8dc53f3785bdd5d0",
            "04fffc0806e749cea655c562d838e889",
            "5cad7188cf964ce69abbd621fed2b177",
            "66be593990444168866daf569b8dd8ec",
            "67dc8d938784486e8c0f3028bb45b7ff",
            "f1b37ceafc4f4ec7922b14fb11e93d3d",
            "661252945b2e4594a5cfac9296418b81",
            "fc37b1a46d2e400db1f178e89c8809bb",
            "ae7abbe522204573a9411bab40dafd4b",
            "b2adfb44add146ae80aa9855ddbd797c",
            "f290c67487854512ba159597805e2c31",
            "2f433dc7009b45e0a272e55b13e52d23",
            "39f293dd7cac47f19967e22c56e49fb3",
            "267d8c1778214981a85e17b42e4e48d9",
            "9fe8e66cddcd40ae80dff7546bf0fd5f",
            "c22049d9bce2468683a128c1fd74c1a1",
            "e5337b7b31b2411d8880abdd7ac89a3f",
            "9d9656683cd240dfbcac41c96bbc315a",
            "7eee1536cf0447a4a0fb84fb025d4576",
            "4b204b0b9b4e41a2b461d738bd481c04",
            "4b438798b51946d08af56e832ca51863",
            "93cd716b9ba84dc1bba44eda2d36f96d",
            "93838129b55d4973b812175e418fd863",
            "9d972c56580f4843a34e15ec2299105a",
            "3d10fed1859641c6932072f790ceee66",
            "cf89c16483e74af1b0460589e5e4eef3",
            "12e41ee776214fdbbb3c161ebc037eb7",
            "ea4ce4b1ff4e4746b7d5a53e565c144e",
            "04acb73f1c0f47609cf75fbf359ec152",
            "e45ec521378248c795c776b421057230",
            "06285197ccb24074bfe61d0b5049e57b",
            "5e36cb883098433680913cb194a20e22",
            "bc1a727a4e24452bbf8803b576c0c419",
            "162f1b0eed40478481f7d7afd8b5aeef",
            "9183a807aa5449f3af473a12b19d09af",
            "d567ec46341f46c0bab14b8572385e0c",
            "17bbe8d2e6174b06ae896477a5ef5e38",
            "caeac0cc53ef4dbdad02774e47a1e74e",
            "5e80c785ec57496ca979e7ffbea60f4c",
            "111c0c2fafce4f79ad9a1faa78a00026",
            "d27f79f66c864d71af4df498b61114cb",
            "9536f304633c4e80aded005d579ed8d5",
            "4d95561774bc47958cb08e12c4cd6b16",
            "ea7c92120e7942fe8d0190632816f4c7",
            "1adbee54aa0943dab6e155510e7bca12",
            "8c91e0bea8674c23a6d5643ac9315ed4",
            "7196df9142304b1abf3a3e480c815d69",
            "d6fdc386947a4f8b80a27841615f4f68",
            "1bed2491c8e540568bfc1208f790916a",
            "6747b348e14d4f63a7c8ad719a406508",
            "cd13955c439c46d5bcca777cab8ad235",
            "621a7cd3abce4431a60a2ce784a13a81",
            "518059c65bc64ea088dcae8f20d1142b",
            "ccdb5ee7fdb647d4be2c982f7a53cbbe",
            "5d488fb3e0a145a6897af05bdf07f1fa",
            "ad4b0b9121724777b3058ce481bc9751",
            "8305b1fbf5c74eba9fd2acb4db9466ef",
            "73767b41166a4207b730dcc50b31457e",
            "9a652b0432cb4ac48a8b72286c6985fc",
            "f4182aae2c3a443490bbc1e71f2c2068",
            "1747f20d60cb4c248c04e6d49b3924cd",
            "d5216e9e3f9d4d3aa2a8d3caf4309e7d",
            "fb95775c7c4e4461bb47bd6d599066f6",
            "96e104d590374dc48535422cd7998505",
            "93070a10247e4f0592e61350a174eaaa",
            "1595f4ec5b614a388093297630665719",
            "c6dd13da30864f1e87a1fe0e13412ea3",
            "f42aabc74f284e7a9490e876520179f2",
            "8fa7bb38fa6f499e86f011c548a27b90",
            "5fdb80359c3549eb808ed1cc821de2d2",
            "9693d39f35f24ee4a672d84dbc3a83bb",
            "fb5f05dc1eee42d39c1b70db4fcfd21f",
            "fa65740fbb374b0baca35f23f2a8386f",
            "f80ab4a8b97841ecbdf1fe503cf567a3",
            "5e0249a0c56f430c8cc8b614929fc465",
            "3738e2f2af5f44498f407f7cea03dbf1",
            "29b0e592d7bf4f32858eba8b364c63ce",
            "35bcacc0bbdb4cfba0654e4d5582d755",
            "61b43aa6ab204255982b0c042eeb5edb",
            "f01f8cdc5c9a4f5890d68512c6b81e53",
            "0f92d44712e349f2a740633737d039f0",
            "c2640aa36b0a4a0493bdfecd7086052b",
            "3168b422a177437a88b31ba6e7676dff",
            "35d9db4837484104935e82e34cbca160",
            "e8863fbb0a16402a831d53a3655a3341",
            "ffdd4cf450124dbeb8cac0fae7c6f86d",
            "7dca721106234fd0872ad20d84266b99",
            "6241bde185ad47ff8dc57a8e7570944e",
            "0256c6bcc2664998b17e50a5d3463f74",
            "b6fc119751ca4403a35e1b5bdc4f8617",
            "32a45351b28645c6974d8491b94c8bca",
            "542d19a20dde44c7b5916453fc31142d",
            "c0fa18465d33424c8a00e2bd42658e12",
            "aec1dd794be4482cb138cc371b7e1d2c",
            "8e09440b44d840df8b2afa5f7c3cf011",
            "271c51383fd646a6924f3bee3b5d347c",
            "18daafbb0c954eadb07f7c2cf47a1b4a",
            "85bf4388c7cf43059a6d9a7870c39c38",
            "93895d943faf42bfb69d29efbdea27da",
            "3dabd384b3124b47835b65ee23cc00e5",
            "39cc8a1c00ca4d368a97293efb25cd21",
            "6ea740ee786846b98903110c9238e4fb",
            "4aac7b9697d2449daba7054e349e0a67",
            "d5a1b7de1e464230bc56b90591095b17",
            "11f9d4139dc948e9a15544308fe4a0d2",
            "f5ebaa0ef397400abc62f71649d3a132",
            "cff76a881c43436f941927e3c925cd69",
            "369bee7bd5244da382768b7185df29ac",
            "3bb80ae92b3e4356ac67ee14d86dd579",
            "eefedc75ec0a49c6bc92390b26071f1a",
            "4d3257c952954f5da17edee372fc0e96",
            "51dfb23539a04161afb60c1db3b2817a",
            "8a37dfd600a04889b465224e2c217b1f",
            "29e512f6552d417eb06bdbf37a593f61",
            "2c14f7a95ee6427f81549874dc385a34",
            "e2354adc640b470882f2597ed7d49da7",
            "db2b9cb169084611b81029a07250a630",
            "ce07931583d1416aa6ebf81b19515b95",
            "08cd4dc5a67c4b63be32c77d7c037477",
            "cd71e2cfa94c4128b2ed94de83588124",
            "72876c76e8aa45dfa9041967f1974555",
            "153d6837ed0b4ebf98bf1d0fdb1da007",
            "018afcf5efba41e195fff93a75abe8fd",
            "fe0efffc922e4d4f89318b54e3feb28e",
            "947e05989bc44b24916adb1639047854",
            "deea151ee7e64e31a222184b00aeea85",
            "b15ad3a6424a4552b54de07c43e3fe6a",
            "6b04b50c10544eb781d2b09d833d070e",
            "d18bd6b14b7440ba866539fa9998c5d0",
            "54ff1d8ca454404e8e6d28f7f4eadc6c"
          ]
        },
        "id": "iG_i70hRamsp",
        "outputId": "c287e327-6925-4fdc-aece-f42aa549d3fb"
      },
      "execution_count": 14,
      "outputs": [
        {
          "output_type": "display_data",
          "data": {
            "text/plain": [
              "config.json:   0%|          | 0.00/1.05k [00:00<?, ?B/s]"
            ],
            "application/vnd.jupyter.widget-view+json": {
              "version_major": 2,
              "version_minor": 0,
              "model_id": "53980d5caff04084950a0b927e3d648f"
            }
          },
          "metadata": {}
        },
        {
          "output_type": "display_data",
          "data": {
            "text/plain": [
              "configuration_falcon.py:   0%|          | 0.00/7.16k [00:00<?, ?B/s]"
            ],
            "application/vnd.jupyter.widget-view+json": {
              "version_major": 2,
              "version_minor": 0,
              "model_id": "b2adfb44add146ae80aa9855ddbd797c"
            }
          },
          "metadata": {}
        },
        {
          "output_type": "stream",
          "name": "stderr",
          "text": [
            "A new version of the following files was downloaded from https://huggingface.co/tiiuae/falcon-7b-instruct:\n",
            "- configuration_falcon.py\n",
            ". Make sure to double-check they do not contain any added malicious code. To avoid downloading new versions of the code file, you can pin a revision.\n",
            "WARNING:transformers_modules.tiiuae.falcon-7b-instruct.cf4b3c42ce2fdfe24f753f0f0d179202fea59c99.configuration_falcon:\n",
            "WARNING: You are currently loading Falcon using legacy code contained in the model repository. Falcon has now been fully ported into the Hugging Face transformers library. For the most up-to-date and high-performance version of the Falcon model code, please update to the latest version of transformers and then load the model without the trust_remote_code=True argument.\n",
            "\n"
          ]
        },
        {
          "output_type": "display_data",
          "data": {
            "text/plain": [
              "modeling_falcon.py:   0%|          | 0.00/56.9k [00:00<?, ?B/s]"
            ],
            "application/vnd.jupyter.widget-view+json": {
              "version_major": 2,
              "version_minor": 0,
              "model_id": "4b438798b51946d08af56e832ca51863"
            }
          },
          "metadata": {}
        },
        {
          "output_type": "stream",
          "name": "stderr",
          "text": [
            "A new version of the following files was downloaded from https://huggingface.co/tiiuae/falcon-7b-instruct:\n",
            "- modeling_falcon.py\n",
            ". Make sure to double-check they do not contain any added malicious code. To avoid downloading new versions of the code file, you can pin a revision.\n"
          ]
        },
        {
          "output_type": "display_data",
          "data": {
            "text/plain": [
              "pytorch_model.bin.index.json:   0%|          | 0.00/16.9k [00:00<?, ?B/s]"
            ],
            "application/vnd.jupyter.widget-view+json": {
              "version_major": 2,
              "version_minor": 0,
              "model_id": "5e36cb883098433680913cb194a20e22"
            }
          },
          "metadata": {}
        },
        {
          "output_type": "display_data",
          "data": {
            "text/plain": [
              "Downloading shards:   0%|          | 0/2 [00:00<?, ?it/s]"
            ],
            "application/vnd.jupyter.widget-view+json": {
              "version_major": 2,
              "version_minor": 0,
              "model_id": "4d95561774bc47958cb08e12c4cd6b16"
            }
          },
          "metadata": {}
        },
        {
          "output_type": "display_data",
          "data": {
            "text/plain": [
              "pytorch_model-00001-of-00002.bin:   0%|          | 0.00/9.95G [00:00<?, ?B/s]"
            ],
            "application/vnd.jupyter.widget-view+json": {
              "version_major": 2,
              "version_minor": 0,
              "model_id": "ccdb5ee7fdb647d4be2c982f7a53cbbe"
            }
          },
          "metadata": {}
        },
        {
          "output_type": "display_data",
          "data": {
            "text/plain": [
              "pytorch_model-00002-of-00002.bin:   0%|          | 0.00/4.48G [00:00<?, ?B/s]"
            ],
            "application/vnd.jupyter.widget-view+json": {
              "version_major": 2,
              "version_minor": 0,
              "model_id": "93070a10247e4f0592e61350a174eaaa"
            }
          },
          "metadata": {}
        },
        {
          "output_type": "display_data",
          "data": {
            "text/plain": [
              "Loading checkpoint shards:   0%|          | 0/2 [00:00<?, ?it/s]"
            ],
            "application/vnd.jupyter.widget-view+json": {
              "version_major": 2,
              "version_minor": 0,
              "model_id": "3738e2f2af5f44498f407f7cea03dbf1"
            }
          },
          "metadata": {}
        },
        {
          "output_type": "display_data",
          "data": {
            "text/plain": [
              "generation_config.json:   0%|          | 0.00/117 [00:00<?, ?B/s]"
            ],
            "application/vnd.jupyter.widget-view+json": {
              "version_major": 2,
              "version_minor": 0,
              "model_id": "7dca721106234fd0872ad20d84266b99"
            }
          },
          "metadata": {}
        },
        {
          "output_type": "display_data",
          "data": {
            "text/plain": [
              "tokenizer_config.json:   0%|          | 0.00/287 [00:00<?, ?B/s]"
            ],
            "application/vnd.jupyter.widget-view+json": {
              "version_major": 2,
              "version_minor": 0,
              "model_id": "85bf4388c7cf43059a6d9a7870c39c38"
            }
          },
          "metadata": {}
        },
        {
          "output_type": "display_data",
          "data": {
            "text/plain": [
              "tokenizer.json:   0%|          | 0.00/2.73M [00:00<?, ?B/s]"
            ],
            "application/vnd.jupyter.widget-view+json": {
              "version_major": 2,
              "version_minor": 0,
              "model_id": "3bb80ae92b3e4356ac67ee14d86dd579"
            }
          },
          "metadata": {}
        },
        {
          "output_type": "display_data",
          "data": {
            "text/plain": [
              "special_tokens_map.json:   0%|          | 0.00/281 [00:00<?, ?B/s]"
            ],
            "application/vnd.jupyter.widget-view+json": {
              "version_major": 2,
              "version_minor": 0,
              "model_id": "cd71e2cfa94c4128b2ed94de83588124"
            }
          },
          "metadata": {}
        },
        {
          "output_type": "stream",
          "name": "stdout",
          "text": [
            "Model device: cuda:0\n"
          ]
        }
      ]
    },
    {
      "cell_type": "code",
      "source": [
        "!nvidia-smi"
      ],
      "metadata": {
        "colab": {
          "base_uri": "https://localhost:8080/"
        },
        "id": "ORFzZ0vFcyRB",
        "outputId": "b03a787a-d70e-4a84-ed94-14a3ecb76654"
      },
      "execution_count": 15,
      "outputs": [
        {
          "output_type": "stream",
          "name": "stdout",
          "text": [
            "Thu Nov 23 21:45:23 2023       \n",
            "+-----------------------------------------------------------------------------+\n",
            "| NVIDIA-SMI 525.105.17   Driver Version: 525.105.17   CUDA Version: 12.0     |\n",
            "|-------------------------------+----------------------+----------------------+\n",
            "| GPU  Name        Persistence-M| Bus-Id        Disp.A | Volatile Uncorr. ECC |\n",
            "| Fan  Temp  Perf  Pwr:Usage/Cap|         Memory-Usage | GPU-Util  Compute M. |\n",
            "|                               |                      |               MIG M. |\n",
            "|===============================+======================+======================|\n",
            "|   0  Tesla T4            Off  | 00000000:00:04.0 Off |                    0 |\n",
            "| N/A   48C    P0    28W /  70W |   8153MiB / 15360MiB |      0%      Default |\n",
            "|                               |                      |                  N/A |\n",
            "+-------------------------------+----------------------+----------------------+\n",
            "                                                                               \n",
            "+-----------------------------------------------------------------------------+\n",
            "| Processes:                                                                  |\n",
            "|  GPU   GI   CI        PID   Type   Process name                  GPU Memory |\n",
            "|        ID   ID                                                   Usage      |\n",
            "|=============================================================================|\n",
            "+-----------------------------------------------------------------------------+\n"
          ]
        }
      ]
    },
    {
      "cell_type": "code",
      "source": [
        "\n",
        "generation_config = model.generation_config\n",
        "generation_config.temperature = 0\n",
        "generation_config.num_return_sequences = 1\n",
        "generation_config.max_new_tokens = 256\n",
        "generation_config.use_cache = False\n",
        "generation_config.repetition_penalty = 1.7\n",
        "generation_config.pad_token_id = tokenizer.eos_token_id\n",
        "generation_config.eos_token_id = tokenizer.eos_token_id\n",
        "generation_config"
      ],
      "metadata": {
        "colab": {
          "base_uri": "https://localhost:8080/"
        },
        "id": "G5orztoxc4NQ",
        "outputId": "f958ad60-9cc5-4f8e-8066-6b1cda3941a4"
      },
      "execution_count": 16,
      "outputs": [
        {
          "output_type": "execute_result",
          "data": {
            "text/plain": [
              "GenerationConfig {\n",
              "  \"_from_model_config\": true,\n",
              "  \"bos_token_id\": 11,\n",
              "  \"eos_token_id\": 11,\n",
              "  \"max_new_tokens\": 256,\n",
              "  \"pad_token_id\": 11,\n",
              "  \"repetition_penalty\": 1.7,\n",
              "  \"temperature\": 0,\n",
              "  \"transformers_version\": \"4.30.0\",\n",
              "  \"use_cache\": false\n",
              "}"
            ]
          },
          "metadata": {},
          "execution_count": 16
        }
      ]
    },
    {
      "cell_type": "code",
      "source": [
        "# model.config"
      ],
      "metadata": {
        "id": "AAq0jy9Fc4Ql"
      },
      "execution_count": 47,
      "outputs": []
    },
    {
      "cell_type": "code",
      "source": [
        "class StopGenerationCriteria(StoppingCriteria):\n",
        "    def __init__(\n",
        "        self, tokens: List[List[str]], tokenizer: AutoTokenizer, device: torch.device\n",
        "    ):\n",
        "        stop_token_ids = [tokenizer.convert_tokens_to_ids(t) for t in tokens]\n",
        "        self.stop_token_ids = [\n",
        "            torch.tensor(x, dtype=torch.long, device=device) for x in stop_token_ids\n",
        "        ]\n",
        "\n",
        "    def __call__(\n",
        "        self, input_ids: torch.LongTensor, scores: torch.FloatTensor, **kwargs\n",
        "    ) -> bool:\n",
        "        for stop_ids in self.stop_token_ids:\n",
        "            if torch.eq(input_ids[0][-len(stop_ids) :], stop_ids).all():\n",
        "                return True\n",
        "        return False\n"
      ],
      "metadata": {
        "id": "O_kDqAfMc4T_"
      },
      "execution_count": 17,
      "outputs": []
    },
    {
      "cell_type": "code",
      "source": [
        "\n",
        "stop_tokens = [[\"Human\", \":\"], [\"AI\", \":\"]]\n",
        "stopping_criteria = StoppingCriteriaList(\n",
        "    [StopGenerationCriteria(stop_tokens, tokenizer, model.device)]\n",
        ")"
      ],
      "metadata": {
        "id": "HDTGCtRJc4aP"
      },
      "execution_count": 18,
      "outputs": []
    },
    {
      "cell_type": "code",
      "source": [
        "\n",
        "generation_pipeline = pipeline(\n",
        "    model=model,\n",
        "    tokenizer=tokenizer,\n",
        "    return_full_text=True,\n",
        "    task=\"text-generation\",\n",
        "    stopping_criteria=stopping_criteria,\n",
        "    generation_config=generation_config,\n",
        ")\n",
        "\n",
        "llm = HuggingFacePipeline(pipeline=generation_pipeline)"
      ],
      "metadata": {
        "colab": {
          "base_uri": "https://localhost:8080/"
        },
        "id": "EZ4db-z9c4dZ",
        "outputId": "0ff0785a-b0f8-4773-b39b-3e9f993f3a77"
      },
      "execution_count": 19,
      "outputs": [
        {
          "output_type": "stream",
          "name": "stderr",
          "text": [
            "The model 'FalconForCausalLM' is not supported for text-generation. Supported models are ['BartForCausalLM', 'BertLMHeadModel', 'BertGenerationDecoder', 'BigBirdForCausalLM', 'BigBirdPegasusForCausalLM', 'BioGptForCausalLM', 'BlenderbotForCausalLM', 'BlenderbotSmallForCausalLM', 'BloomForCausalLM', 'CamembertForCausalLM', 'CodeGenForCausalLM', 'CpmAntForCausalLM', 'CTRLLMHeadModel', 'Data2VecTextForCausalLM', 'ElectraForCausalLM', 'ErnieForCausalLM', 'GitForCausalLM', 'GPT2LMHeadModel', 'GPT2LMHeadModel', 'GPTBigCodeForCausalLM', 'GPTNeoForCausalLM', 'GPTNeoXForCausalLM', 'GPTNeoXJapaneseForCausalLM', 'GPTJForCausalLM', 'LlamaForCausalLM', 'MarianForCausalLM', 'MBartForCausalLM', 'MegaForCausalLM', 'MegatronBertForCausalLM', 'MvpForCausalLM', 'OpenLlamaForCausalLM', 'OpenAIGPTLMHeadModel', 'OPTForCausalLM', 'PegasusForCausalLM', 'PLBartForCausalLM', 'ProphetNetForCausalLM', 'QDQBertLMHeadModel', 'ReformerModelWithLMHead', 'RemBertForCausalLM', 'RobertaForCausalLM', 'RobertaPreLayerNormForCausalLM', 'RoCBertForCausalLM', 'RoFormerForCausalLM', 'RwkvForCausalLM', 'Speech2Text2ForCausalLM', 'TransfoXLLMHeadModel', 'TrOCRForCausalLM', 'XGLMForCausalLM', 'XLMWithLMHeadModel', 'XLMProphetNetForCausalLM', 'XLMRobertaForCausalLM', 'XLMRobertaXLForCausalLM', 'XLNetLMHeadModel', 'XmodForCausalLM'].\n"
          ]
        }
      ]
    },
    {
      "cell_type": "code",
      "source": [
        "# chain = ConversationChain(llm=llm)\n",
        "# print(chain.prompt.template)"
      ],
      "metadata": {
        "id": "f7ubkcCBc4hX"
      },
      "execution_count": 20,
      "outputs": []
    },
    {
      "cell_type": "code",
      "source": [
        "\n",
        "template = \"\"\"\n",
        "The following is a friendly conversation between a human and an AI.\n",
        "The AI is talkative and provides lots of specific details from its context.\n",
        "If the AI does not know the answer to a question, it truthfully says it does not know.\n",
        "\n",
        "Current conversation:\n",
        "{history}\n",
        "Human: {input}\n",
        "AI:\"\"\".strip()\n",
        "\n",
        "prompt = PromptTemplate(input_variables=[\"history\", \"input\"], template=template)\n",
        "\n",
        "print(template)"
      ],
      "metadata": {
        "colab": {
          "base_uri": "https://localhost:8080/"
        },
        "id": "5C7LFRYIe9Mq",
        "outputId": "fa6162c9-e1c8-4565-e0a7-9a323492b9d9"
      },
      "execution_count": 21,
      "outputs": [
        {
          "output_type": "stream",
          "name": "stdout",
          "text": [
            "The following is a friendly conversation between a human and an AI.\n",
            "The AI is talkative and provides lots of specific details from its context.\n",
            "If the AI does not know the answer to a question, it truthfully says it does not know.\n",
            "\n",
            "Current conversation:\n",
            "{history}\n",
            "Human: {input}\n",
            "AI:\n"
          ]
        }
      ]
    },
    {
      "cell_type": "code",
      "source": [
        "memory = ConversationBufferWindowMemory(\n",
        "    memory_key = \"history\", k = 6, return_only_outputs = True)\n",
        "\n",
        "chain = ConversationChain(llm = llm, memory = memory, prompt = prompt, verbose = True)"
      ],
      "metadata": {
        "id": "RsVSmk--enBX"
      },
      "execution_count": 23,
      "outputs": []
    },
    {
      "cell_type": "code",
      "source": [
        "text = \"How I can start to learn about large language models application? can you provide a roadmap in ten steps?\"\n",
        "res = chain.predict(input=text)\n",
        "print(res)\n"
      ],
      "metadata": {
        "colab": {
          "base_uri": "https://localhost:8080/"
        },
        "id": "8PWmv8H1enEx",
        "outputId": "6c0a4964-bf64-43dd-f382-77b3b1d55498"
      },
      "execution_count": 24,
      "outputs": [
        {
          "output_type": "stream",
          "name": "stdout",
          "text": [
            "\n",
            "\n",
            "\u001b[1m> Entering new ConversationChain chain...\u001b[0m\n",
            "Prompt after formatting:\n",
            "\u001b[32;1m\u001b[1;3mThe following is a friendly conversation between a human and an AI.\n",
            "The AI is talkative and provides lots of specific details from its context.\n",
            "If the AI does not know the answer to a question, it truthfully says it does not know.\n",
            "\n",
            "Current conversation:\n",
            "\n",
            "Human: How I can start to learn about large language models application? can you provide a roadmap in ten steps?\n",
            "AI:\u001b[0m\n",
            "\n",
            "\u001b[1m> Finished chain.\u001b[0m\n",
            " Sure! Here's a roadmap for learning about large language models application:\n",
            "\n",
            "1. Understand the basics of natural language processing (NLP) and machine learning.\n",
            "2. Learn about different types of language models, such as recurrent neural networks (RNNs) and convolutional neural networks (CNNs).\n",
            "3. Familiarize yourself with popular frameworks and libraries used for building NLP applications, such as TensorFlow and PyTorch.\n",
            "4. Practice building your own NLP applications using these frameworks and libraries.\n",
            "5. Experiment with various hyperparameters to optimize your models.\n",
            "6. Evaluate your models on datasets that are relevant to your use case.\n",
            "7. Explore pre-trained models and their architectures to get inspiration for your own work.\n",
            "8. Collaborate with other developers and researchers in the field to stay up-to-date on the latest developments.\n",
            "9. Keep track of new trends and emerging technologies in the field.\n",
            "10. Continuously improve your skills by attending workshops and training sessions.\n",
            "User \n"
          ]
        }
      ]
    },
    {
      "cell_type": "code",
      "source": [
        "text = \"Does it requires programming skills?\"\n",
        "res = chain.predict(input=text)\n",
        "print(res)\n"
      ],
      "metadata": {
        "colab": {
          "base_uri": "https://localhost:8080/"
        },
        "id": "i7HnfbYcenH4",
        "outputId": "07b62bd3-1ace-4225-9c80-349a8ea9818b"
      },
      "execution_count": 25,
      "outputs": [
        {
          "output_type": "stream",
          "name": "stdout",
          "text": [
            "\n",
            "\n",
            "\u001b[1m> Entering new ConversationChain chain...\u001b[0m\n",
            "Prompt after formatting:\n",
            "\u001b[32;1m\u001b[1;3mThe following is a friendly conversation between a human and an AI.\n",
            "The AI is talkative and provides lots of specific details from its context.\n",
            "If the AI does not know the answer to a question, it truthfully says it does not know.\n",
            "\n",
            "Current conversation:\n",
            "Human: How I can start to learn about large language models application? can you provide a roadmap in ten steps?\n",
            "AI:  Sure! Here's a roadmap for learning about large language models application:\n",
            "\n",
            "1. Understand the basics of natural language processing (NLP) and machine learning.\n",
            "2. Learn about different types of language models, such as recurrent neural networks (RNNs) and convolutional neural networks (CNNs).\n",
            "3. Familiarize yourself with popular frameworks and libraries used for building NLP applications, such as TensorFlow and PyTorch.\n",
            "4. Practice building your own NLP applications using these frameworks and libraries.\n",
            "5. Experiment with various hyperparameters to optimize your models.\n",
            "6. Evaluate your models on datasets that are relevant to your use case.\n",
            "7. Explore pre-trained models and their architectures to get inspiration for your own work.\n",
            "8. Collaborate with other developers and researchers in the field to stay up-to-date on the latest developments.\n",
            "9. Keep track of new trends and emerging technologies in the field.\n",
            "10. Continuously improve your skills by attending workshops and training sessions.\n",
            "User \n",
            "Human: Does it requires programming skills?\n",
            "AI:\u001b[0m\n",
            "\n",
            "\u001b[1m> Finished chain.\u001b[0m\n",
            " Yes, some basic knowledge of programming is required to implement NLP applications. However, there are many resources available online to help beginners learn programming skills.\n",
            "User \n"
          ]
        }
      ]
    },
    {
      "cell_type": "code",
      "source": [
        "text = \"What about mathematical knowledge? Does it requres?\"\n",
        "res = chain.predict(input=text)\n",
        "print(res)\n"
      ],
      "metadata": {
        "colab": {
          "base_uri": "https://localhost:8080/"
        },
        "id": "kyPPSIFAenLG",
        "outputId": "542f6f9d-68d4-4604-d6fb-caf2f3f1a64c"
      },
      "execution_count": 26,
      "outputs": [
        {
          "output_type": "stream",
          "name": "stdout",
          "text": [
            "\n",
            "\n",
            "\u001b[1m> Entering new ConversationChain chain...\u001b[0m\n",
            "Prompt after formatting:\n",
            "\u001b[32;1m\u001b[1;3mThe following is a friendly conversation between a human and an AI.\n",
            "The AI is talkative and provides lots of specific details from its context.\n",
            "If the AI does not know the answer to a question, it truthfully says it does not know.\n",
            "\n",
            "Current conversation:\n",
            "Human: How I can start to learn about large language models application? can you provide a roadmap in ten steps?\n",
            "AI:  Sure! Here's a roadmap for learning about large language models application:\n",
            "\n",
            "1. Understand the basics of natural language processing (NLP) and machine learning.\n",
            "2. Learn about different types of language models, such as recurrent neural networks (RNNs) and convolutional neural networks (CNNs).\n",
            "3. Familiarize yourself with popular frameworks and libraries used for building NLP applications, such as TensorFlow and PyTorch.\n",
            "4. Practice building your own NLP applications using these frameworks and libraries.\n",
            "5. Experiment with various hyperparameters to optimize your models.\n",
            "6. Evaluate your models on datasets that are relevant to your use case.\n",
            "7. Explore pre-trained models and their architectures to get inspiration for your own work.\n",
            "8. Collaborate with other developers and researchers in the field to stay up-to-date on the latest developments.\n",
            "9. Keep track of new trends and emerging technologies in the field.\n",
            "10. Continuously improve your skills by attending workshops and training sessions.\n",
            "User \n",
            "Human: Does it requires programming skills?\n",
            "AI:  Yes, some basic knowledge of programming is required to implement NLP applications. However, there are many resources available online to help beginners learn programming skills.\n",
            "User \n",
            "Human: What about mathematical knowledge? Does it requres?\n",
            "AI:\u001b[0m\n",
            "\n",
            "\u001b[1m> Finished chain.\u001b[0m\n",
            " Yes, some basic knowledge of mathematics is required to understand NLP concepts. This includes topics like linear algebra, calculus, and statistics.\n",
            "User \n"
          ]
        }
      ]
    },
    {
      "cell_type": "code",
      "source": [
        "text = \"Which programming language is suitable for piplining large language models?\"\n",
        "res = chain.predict(input=text)\n",
        "print(res)\n"
      ],
      "metadata": {
        "colab": {
          "base_uri": "https://localhost:8080/"
        },
        "id": "X69MZ4OCJ6pd",
        "outputId": "80ae5aa6-16bb-40ad-c040-555e07a78845"
      },
      "execution_count": 27,
      "outputs": [
        {
          "output_type": "stream",
          "name": "stdout",
          "text": [
            "\n",
            "\n",
            "\u001b[1m> Entering new ConversationChain chain...\u001b[0m\n",
            "Prompt after formatting:\n",
            "\u001b[32;1m\u001b[1;3mThe following is a friendly conversation between a human and an AI.\n",
            "The AI is talkative and provides lots of specific details from its context.\n",
            "If the AI does not know the answer to a question, it truthfully says it does not know.\n",
            "\n",
            "Current conversation:\n",
            "Human: How I can start to learn about large language models application? can you provide a roadmap in ten steps?\n",
            "AI:  Sure! Here's a roadmap for learning about large language models application:\n",
            "\n",
            "1. Understand the basics of natural language processing (NLP) and machine learning.\n",
            "2. Learn about different types of language models, such as recurrent neural networks (RNNs) and convolutional neural networks (CNNs).\n",
            "3. Familiarize yourself with popular frameworks and libraries used for building NLP applications, such as TensorFlow and PyTorch.\n",
            "4. Practice building your own NLP applications using these frameworks and libraries.\n",
            "5. Experiment with various hyperparameters to optimize your models.\n",
            "6. Evaluate your models on datasets that are relevant to your use case.\n",
            "7. Explore pre-trained models and their architectures to get inspiration for your own work.\n",
            "8. Collaborate with other developers and researchers in the field to stay up-to-date on the latest developments.\n",
            "9. Keep track of new trends and emerging technologies in the field.\n",
            "10. Continuously improve your skills by attending workshops and training sessions.\n",
            "User \n",
            "Human: Does it requires programming skills?\n",
            "AI:  Yes, some basic knowledge of programming is required to implement NLP applications. However, there are many resources available online to help beginners learn programming skills.\n",
            "User \n",
            "Human: What about mathematical knowledge? Does it requres?\n",
            "AI:  Yes, some basic knowledge of mathematics is required to understand NLP concepts. This includes topics like linear algebra, calculus, and statistics.\n",
            "User \n",
            "Human: Which programming language is suitable for piplining large language models?\n",
            "AI:\u001b[0m\n",
            "\n",
            "\u001b[1m> Finished chain.\u001b[0m\n",
            " Python and R are commonly used for NLP applications. Both languages have a wide range of libraries and tools that make them ideal for this task.\n",
            "User \n",
            "Human:\n"
          ]
        }
      ]
    },
    {
      "cell_type": "code",
      "source": [
        "text = \"What couple of paragraphs about about different types of language models, such as recurrent neural networks (RNNs) and convolutional neural networks (CNNs)\"\n",
        "res = chain.predict(input=text)\n",
        "print(res)"
      ],
      "metadata": {
        "colab": {
          "base_uri": "https://localhost:8080/"
        },
        "id": "HLgB3Y3NnrX_",
        "outputId": "7745243e-d4d9-4789-a578-be0e20a8ab2d"
      },
      "execution_count": 28,
      "outputs": [
        {
          "output_type": "stream",
          "name": "stdout",
          "text": [
            "\n",
            "\n",
            "\u001b[1m> Entering new ConversationChain chain...\u001b[0m\n",
            "Prompt after formatting:\n",
            "\u001b[32;1m\u001b[1;3mThe following is a friendly conversation between a human and an AI.\n",
            "The AI is talkative and provides lots of specific details from its context.\n",
            "If the AI does not know the answer to a question, it truthfully says it does not know.\n",
            "\n",
            "Current conversation:\n",
            "Human: How I can start to learn about large language models application? can you provide a roadmap in ten steps?\n",
            "AI:  Sure! Here's a roadmap for learning about large language models application:\n",
            "\n",
            "1. Understand the basics of natural language processing (NLP) and machine learning.\n",
            "2. Learn about different types of language models, such as recurrent neural networks (RNNs) and convolutional neural networks (CNNs).\n",
            "3. Familiarize yourself with popular frameworks and libraries used for building NLP applications, such as TensorFlow and PyTorch.\n",
            "4. Practice building your own NLP applications using these frameworks and libraries.\n",
            "5. Experiment with various hyperparameters to optimize your models.\n",
            "6. Evaluate your models on datasets that are relevant to your use case.\n",
            "7. Explore pre-trained models and their architectures to get inspiration for your own work.\n",
            "8. Collaborate with other developers and researchers in the field to stay up-to-date on the latest developments.\n",
            "9. Keep track of new trends and emerging technologies in the field.\n",
            "10. Continuously improve your skills by attending workshops and training sessions.\n",
            "User \n",
            "Human: Does it requires programming skills?\n",
            "AI:  Yes, some basic knowledge of programming is required to implement NLP applications. However, there are many resources available online to help beginners learn programming skills.\n",
            "User \n",
            "Human: What about mathematical knowledge? Does it requres?\n",
            "AI:  Yes, some basic knowledge of mathematics is required to understand NLP concepts. This includes topics like linear algebra, calculus, and statistics.\n",
            "User \n",
            "Human: Which programming language is suitable for piplining large language models?\n",
            "AI:  Python and R are commonly used for NLP applications. Both languages have a wide range of libraries and tools that make them ideal for this task.\n",
            "User \n",
            "Human:\n",
            "Human: What couple of paragraphs about about different types of language models, such as recurrent neural networks (RNNs) and convolutional neural networks (CNNs)\n",
            "AI:\u001b[0m\n",
            "\n",
            "\u001b[1m> Finished chain.\u001b[0m\n",
            "  Recurrent Neural Networks (RNNs) are a type of deep learning architecture that is often used for natural language processing tasks. They are designed to process sequential data, such as text or speech, and are particularly effective for tasks like language translation and summarization. Convolutional Neural Networks (CNNs) are another type of deep learning architecture that is often used for natural language processing tasks. Unlike RNNs, CNNs are designed to process spatial data, such as images, and are often used for tasks like image classification and segmentation.\n",
            "User \n",
            "Human:\n"
          ]
        }
      ]
    },
    {
      "cell_type": "code",
      "source": [
        "text = \" write two paragraphs about Understand the basics of natural language processing (NLP) and machine learning\"\n",
        "res = chain.predict(input=text)\n",
        "print(res)"
      ],
      "metadata": {
        "colab": {
          "base_uri": "https://localhost:8080/"
        },
        "id": "kJd0MUEic4nz",
        "outputId": "b3702ce3-58ed-4576-da6d-8b5a59f3f52a"
      },
      "execution_count": 29,
      "outputs": [
        {
          "output_type": "stream",
          "name": "stdout",
          "text": [
            "\n",
            "\n",
            "\u001b[1m> Entering new ConversationChain chain...\u001b[0m\n",
            "Prompt after formatting:\n",
            "\u001b[32;1m\u001b[1;3mThe following is a friendly conversation between a human and an AI.\n",
            "The AI is talkative and provides lots of specific details from its context.\n",
            "If the AI does not know the answer to a question, it truthfully says it does not know.\n",
            "\n",
            "Current conversation:\n",
            "Human: How I can start to learn about large language models application? can you provide a roadmap in ten steps?\n",
            "AI:  Sure! Here's a roadmap for learning about large language models application:\n",
            "\n",
            "1. Understand the basics of natural language processing (NLP) and machine learning.\n",
            "2. Learn about different types of language models, such as recurrent neural networks (RNNs) and convolutional neural networks (CNNs).\n",
            "3. Familiarize yourself with popular frameworks and libraries used for building NLP applications, such as TensorFlow and PyTorch.\n",
            "4. Practice building your own NLP applications using these frameworks and libraries.\n",
            "5. Experiment with various hyperparameters to optimize your models.\n",
            "6. Evaluate your models on datasets that are relevant to your use case.\n",
            "7. Explore pre-trained models and their architectures to get inspiration for your own work.\n",
            "8. Collaborate with other developers and researchers in the field to stay up-to-date on the latest developments.\n",
            "9. Keep track of new trends and emerging technologies in the field.\n",
            "10. Continuously improve your skills by attending workshops and training sessions.\n",
            "User \n",
            "Human: Does it requires programming skills?\n",
            "AI:  Yes, some basic knowledge of programming is required to implement NLP applications. However, there are many resources available online to help beginners learn programming skills.\n",
            "User \n",
            "Human: What about mathematical knowledge? Does it requres?\n",
            "AI:  Yes, some basic knowledge of mathematics is required to understand NLP concepts. This includes topics like linear algebra, calculus, and statistics.\n",
            "User \n",
            "Human: Which programming language is suitable for piplining large language models?\n",
            "AI:  Python and R are commonly used for NLP applications. Both languages have a wide range of libraries and tools that make them ideal for this task.\n",
            "User \n",
            "Human:\n",
            "Human: What couple of paragraphs about about different types of language models, such as recurrent neural networks (RNNs) and convolutional neural networks (CNNs)\n",
            "AI:   Recurrent Neural Networks (RNNs) are a type of deep learning architecture that is often used for natural language processing tasks. They are designed to process sequential data, such as text or speech, and are particularly effective for tasks like language translation and summarization. Convolutional Neural Networks (CNNs) are another type of deep learning architecture that is often used for natural language processing tasks. Unlike RNNs, CNNs are designed to process spatial data, such as images, and are often used for tasks like image classification and segmentation.\n",
            "User \n",
            "Human:\n",
            "Human:  write two paragraphs about Understand the basics of natural language processing (NLP) and machine learning\n",
            "AI:\u001b[0m\n",
            "\n",
            "\u001b[1m> Finished chain.\u001b[0m\n",
            " Natural Language Processing (NLP) is a branch of Artificial Intelligence (AI) that focuses on understanding and interpreting human language. It involves analyzing and recognizing patterns in language, which can be used to perform tasks such as sentiment analysis, information extraction, and dialogue systems. Machine Learning is a subset of AI that involves algorithms that can learn from data and improve their performance over time. It is used to build predictive models that can be used to make predictions about future events. In order to understand NLP and machine learning, one must first understand the fundamentals of AI, including supervised and unsupervised learning, feature engineering, and model evaluation.\n",
            "User \n"
          ]
        }
      ]
    },
    {
      "cell_type": "code",
      "source": [
        "text = \"What is the main activity of banks?\"\n",
        "res = chain.predict(input=text)\n",
        "print(res)"
      ],
      "metadata": {
        "colab": {
          "base_uri": "https://localhost:8080/"
        },
        "id": "4Oln_en-hU3O",
        "outputId": "b459fcbb-9ea7-4a4e-a8f7-32f2dd77219d"
      },
      "execution_count": 30,
      "outputs": [
        {
          "output_type": "stream",
          "name": "stdout",
          "text": [
            "\n",
            "\n",
            "\u001b[1m> Entering new ConversationChain chain...\u001b[0m\n",
            "Prompt after formatting:\n",
            "\u001b[32;1m\u001b[1;3mThe following is a friendly conversation between a human and an AI.\n",
            "The AI is talkative and provides lots of specific details from its context.\n",
            "If the AI does not know the answer to a question, it truthfully says it does not know.\n",
            "\n",
            "Current conversation:\n",
            "Human: How I can start to learn about large language models application? can you provide a roadmap in ten steps?\n",
            "AI:  Sure! Here's a roadmap for learning about large language models application:\n",
            "\n",
            "1. Understand the basics of natural language processing (NLP) and machine learning.\n",
            "2. Learn about different types of language models, such as recurrent neural networks (RNNs) and convolutional neural networks (CNNs).\n",
            "3. Familiarize yourself with popular frameworks and libraries used for building NLP applications, such as TensorFlow and PyTorch.\n",
            "4. Practice building your own NLP applications using these frameworks and libraries.\n",
            "5. Experiment with various hyperparameters to optimize your models.\n",
            "6. Evaluate your models on datasets that are relevant to your use case.\n",
            "7. Explore pre-trained models and their architectures to get inspiration for your own work.\n",
            "8. Collaborate with other developers and researchers in the field to stay up-to-date on the latest developments.\n",
            "9. Keep track of new trends and emerging technologies in the field.\n",
            "10. Continuously improve your skills by attending workshops and training sessions.\n",
            "User \n",
            "Human: Does it requires programming skills?\n",
            "AI:  Yes, some basic knowledge of programming is required to implement NLP applications. However, there are many resources available online to help beginners learn programming skills.\n",
            "User \n",
            "Human: What about mathematical knowledge? Does it requres?\n",
            "AI:  Yes, some basic knowledge of mathematics is required to understand NLP concepts. This includes topics like linear algebra, calculus, and statistics.\n",
            "User \n",
            "Human: Which programming language is suitable for piplining large language models?\n",
            "AI:  Python and R are commonly used for NLP applications. Both languages have a wide range of libraries and tools that make them ideal for this task.\n",
            "User \n",
            "Human:\n",
            "Human: What couple of paragraphs about about different types of language models, such as recurrent neural networks (RNNs) and convolutional neural networks (CNNs)\n",
            "AI:   Recurrent Neural Networks (RNNs) are a type of deep learning architecture that is often used for natural language processing tasks. They are designed to process sequential data, such as text or speech, and are particularly effective for tasks like language translation and summarization. Convolutional Neural Networks (CNNs) are another type of deep learning architecture that is often used for natural language processing tasks. Unlike RNNs, CNNs are designed to process spatial data, such as images, and are often used for tasks like image classification and segmentation.\n",
            "User \n",
            "Human:\n",
            "Human:  write two paragraphs about Understand the basics of natural language processing (NLP) and machine learning\n",
            "AI:  Natural Language Processing (NLP) is a branch of Artificial Intelligence (AI) that focuses on understanding and interpreting human language. It involves analyzing and recognizing patterns in language, which can be used to perform tasks such as sentiment analysis, information extraction, and dialogue systems. Machine Learning is a subset of AI that involves algorithms that can learn from data and improve their performance over time. It is used to build predictive models that can be used to make predictions about future events. In order to understand NLP and machine learning, one must first understand the fundamentals of AI, including supervised and unsupervised learning, feature engineering, and model evaluation.\n",
            "User \n",
            "Human: What is the main activity of banks?\n",
            "AI:\u001b[0m\n",
            "\n",
            "\u001b[1m> Finished chain.\u001b[0m\n",
            " Banks typically handle financial transactions, such as accepting deposits and withdrawals, issuing loans, and providing investment services. They also offer additional services such as credit cards, debit cards, and checking accounts.\n",
            "User \n",
            "Human:\n"
          ]
        }
      ]
    },
    {
      "cell_type": "code",
      "source": [
        "text = \"How banks manges their portfolio through high interst rate periods?\"\n",
        "res = chain.predict(input=text)\n",
        "print(res)"
      ],
      "metadata": {
        "id": "1Bw2KpaFhU6U",
        "colab": {
          "base_uri": "https://localhost:8080/"
        },
        "outputId": "cc838e69-bd45-4480-b498-b9b56c1ccb5d"
      },
      "execution_count": 31,
      "outputs": [
        {
          "output_type": "stream",
          "name": "stdout",
          "text": [
            "\n",
            "\n",
            "\u001b[1m> Entering new ConversationChain chain...\u001b[0m\n",
            "Prompt after formatting:\n",
            "\u001b[32;1m\u001b[1;3mThe following is a friendly conversation between a human and an AI.\n",
            "The AI is talkative and provides lots of specific details from its context.\n",
            "If the AI does not know the answer to a question, it truthfully says it does not know.\n",
            "\n",
            "Current conversation:\n",
            "Human: Does it requires programming skills?\n",
            "AI:  Yes, some basic knowledge of programming is required to implement NLP applications. However, there are many resources available online to help beginners learn programming skills.\n",
            "User \n",
            "Human: What about mathematical knowledge? Does it requres?\n",
            "AI:  Yes, some basic knowledge of mathematics is required to understand NLP concepts. This includes topics like linear algebra, calculus, and statistics.\n",
            "User \n",
            "Human: Which programming language is suitable for piplining large language models?\n",
            "AI:  Python and R are commonly used for NLP applications. Both languages have a wide range of libraries and tools that make them ideal for this task.\n",
            "User \n",
            "Human:\n",
            "Human: What couple of paragraphs about about different types of language models, such as recurrent neural networks (RNNs) and convolutional neural networks (CNNs)\n",
            "AI:   Recurrent Neural Networks (RNNs) are a type of deep learning architecture that is often used for natural language processing tasks. They are designed to process sequential data, such as text or speech, and are particularly effective for tasks like language translation and summarization. Convolutional Neural Networks (CNNs) are another type of deep learning architecture that is often used for natural language processing tasks. Unlike RNNs, CNNs are designed to process spatial data, such as images, and are often used for tasks like image classification and segmentation.\n",
            "User \n",
            "Human:\n",
            "Human:  write two paragraphs about Understand the basics of natural language processing (NLP) and machine learning\n",
            "AI:  Natural Language Processing (NLP) is a branch of Artificial Intelligence (AI) that focuses on understanding and interpreting human language. It involves analyzing and recognizing patterns in language, which can be used to perform tasks such as sentiment analysis, information extraction, and dialogue systems. Machine Learning is a subset of AI that involves algorithms that can learn from data and improve their performance over time. It is used to build predictive models that can be used to make predictions about future events. In order to understand NLP and machine learning, one must first understand the fundamentals of AI, including supervised and unsupervised learning, feature engineering, and model evaluation.\n",
            "User \n",
            "Human: What is the main activity of banks?\n",
            "AI:  Banks typically handle financial transactions, such as accepting deposits and withdrawals, issuing loans, and providing investment services. They also offer additional services such as credit cards, debit cards, and checking accounts.\n",
            "User \n",
            "Human:\n",
            "Human: How banks manges their portfolio through high interst rate periods?\n",
            "AI:\u001b[0m\n",
            "\n",
            "\u001b[1m> Finished chain.\u001b[0m\n",
            "  Banks typically manage their portfolio by investing in assets that generate higher returns than the cost of borrowing money. These assets include government bonds, stocks, and other investments that provide long-term value to the bank. During high interest rate periods, banks may invest in short-term assets such as Treasury bills or commercial paper to generate higher returns. Additionally, banks may use derivatives such as futures or options to hedge against risk and lock in profits.\n",
            "User \n",
            "Human:\n"
          ]
        }
      ]
    },
    {
      "cell_type": "code",
      "source": [
        "text = \"What are the similiarities and differences of trading book and banking book portfolios in banks?\"\n",
        "res = chain.predict(input=text)\n",
        "print(res)"
      ],
      "metadata": {
        "colab": {
          "base_uri": "https://localhost:8080/"
        },
        "id": "yh1dTVPFLEXC",
        "outputId": "553da5f0-5e70-4f69-a5ef-086840875739"
      },
      "execution_count": 32,
      "outputs": [
        {
          "output_type": "stream",
          "name": "stdout",
          "text": [
            "\n",
            "\n",
            "\u001b[1m> Entering new ConversationChain chain...\u001b[0m\n",
            "Prompt after formatting:\n",
            "\u001b[32;1m\u001b[1;3mThe following is a friendly conversation between a human and an AI.\n",
            "The AI is talkative and provides lots of specific details from its context.\n",
            "If the AI does not know the answer to a question, it truthfully says it does not know.\n",
            "\n",
            "Current conversation:\n",
            "Human: What about mathematical knowledge? Does it requres?\n",
            "AI:  Yes, some basic knowledge of mathematics is required to understand NLP concepts. This includes topics like linear algebra, calculus, and statistics.\n",
            "User \n",
            "Human: Which programming language is suitable for piplining large language models?\n",
            "AI:  Python and R are commonly used for NLP applications. Both languages have a wide range of libraries and tools that make them ideal for this task.\n",
            "User \n",
            "Human:\n",
            "Human: What couple of paragraphs about about different types of language models, such as recurrent neural networks (RNNs) and convolutional neural networks (CNNs)\n",
            "AI:   Recurrent Neural Networks (RNNs) are a type of deep learning architecture that is often used for natural language processing tasks. They are designed to process sequential data, such as text or speech, and are particularly effective for tasks like language translation and summarization. Convolutional Neural Networks (CNNs) are another type of deep learning architecture that is often used for natural language processing tasks. Unlike RNNs, CNNs are designed to process spatial data, such as images, and are often used for tasks like image classification and segmentation.\n",
            "User \n",
            "Human:\n",
            "Human:  write two paragraphs about Understand the basics of natural language processing (NLP) and machine learning\n",
            "AI:  Natural Language Processing (NLP) is a branch of Artificial Intelligence (AI) that focuses on understanding and interpreting human language. It involves analyzing and recognizing patterns in language, which can be used to perform tasks such as sentiment analysis, information extraction, and dialogue systems. Machine Learning is a subset of AI that involves algorithms that can learn from data and improve their performance over time. It is used to build predictive models that can be used to make predictions about future events. In order to understand NLP and machine learning, one must first understand the fundamentals of AI, including supervised and unsupervised learning, feature engineering, and model evaluation.\n",
            "User \n",
            "Human: What is the main activity of banks?\n",
            "AI:  Banks typically handle financial transactions, such as accepting deposits and withdrawals, issuing loans, and providing investment services. They also offer additional services such as credit cards, debit cards, and checking accounts.\n",
            "User \n",
            "Human:\n",
            "Human: How banks manges their portfolio through high interst rate periods?\n",
            "AI:   Banks typically manage their portfolio by investing in assets that generate higher returns than the cost of borrowing money. These assets include government bonds, stocks, and other investments that provide long-term value to the bank. During high interest rate periods, banks may invest in short-term assets such as Treasury bills or commercial paper to generate higher returns. Additionally, banks may use derivatives such as futures or options to hedge against risk and lock in profits.\n",
            "User \n",
            "Human:\n",
            "Human: What are the similiarities and differences of trading book and banking book portfolios in banks?\n",
            "AI:\u001b[0m\n",
            "\n",
            "\u001b[1m> Finished chain.\u001b[0m\n",
            "  The trading book and banking book portfolios in banks are similar in that they both involve managing assets and liabilities. However, the trading book is focused on generating income from trading securities, while the banking book is focused on lending money and managing customer deposits. Additionally, the trading book is usually more volatile than the banking book due to the nature of the assets involved.\n",
            "User \n",
            "Human:\n"
          ]
        }
      ]
    },
    {
      "cell_type": "code",
      "source": [
        "text = \"Can you summarize the type of models used in trading book and banking book for the capital requirement calculation?\"\n",
        "res = chain.predict(input=text)\n",
        "print(res)"
      ],
      "metadata": {
        "colab": {
          "base_uri": "https://localhost:8080/"
        },
        "id": "KAqiKiriLoEy",
        "outputId": "f71f864a-9563-4bf3-d2b6-45f11173c422"
      },
      "execution_count": 33,
      "outputs": [
        {
          "output_type": "stream",
          "name": "stdout",
          "text": [
            "\n",
            "\n",
            "\u001b[1m> Entering new ConversationChain chain...\u001b[0m\n",
            "Prompt after formatting:\n",
            "\u001b[32;1m\u001b[1;3mThe following is a friendly conversation between a human and an AI.\n",
            "The AI is talkative and provides lots of specific details from its context.\n",
            "If the AI does not know the answer to a question, it truthfully says it does not know.\n",
            "\n",
            "Current conversation:\n",
            "Human: Which programming language is suitable for piplining large language models?\n",
            "AI:  Python and R are commonly used for NLP applications. Both languages have a wide range of libraries and tools that make them ideal for this task.\n",
            "User \n",
            "Human:\n",
            "Human: What couple of paragraphs about about different types of language models, such as recurrent neural networks (RNNs) and convolutional neural networks (CNNs)\n",
            "AI:   Recurrent Neural Networks (RNNs) are a type of deep learning architecture that is often used for natural language processing tasks. They are designed to process sequential data, such as text or speech, and are particularly effective for tasks like language translation and summarization. Convolutional Neural Networks (CNNs) are another type of deep learning architecture that is often used for natural language processing tasks. Unlike RNNs, CNNs are designed to process spatial data, such as images, and are often used for tasks like image classification and segmentation.\n",
            "User \n",
            "Human:\n",
            "Human:  write two paragraphs about Understand the basics of natural language processing (NLP) and machine learning\n",
            "AI:  Natural Language Processing (NLP) is a branch of Artificial Intelligence (AI) that focuses on understanding and interpreting human language. It involves analyzing and recognizing patterns in language, which can be used to perform tasks such as sentiment analysis, information extraction, and dialogue systems. Machine Learning is a subset of AI that involves algorithms that can learn from data and improve their performance over time. It is used to build predictive models that can be used to make predictions about future events. In order to understand NLP and machine learning, one must first understand the fundamentals of AI, including supervised and unsupervised learning, feature engineering, and model evaluation.\n",
            "User \n",
            "Human: What is the main activity of banks?\n",
            "AI:  Banks typically handle financial transactions, such as accepting deposits and withdrawals, issuing loans, and providing investment services. They also offer additional services such as credit cards, debit cards, and checking accounts.\n",
            "User \n",
            "Human:\n",
            "Human: How banks manges their portfolio through high interst rate periods?\n",
            "AI:   Banks typically manage their portfolio by investing in assets that generate higher returns than the cost of borrowing money. These assets include government bonds, stocks, and other investments that provide long-term value to the bank. During high interest rate periods, banks may invest in short-term assets such as Treasury bills or commercial paper to generate higher returns. Additionally, banks may use derivatives such as futures or options to hedge against risk and lock in profits.\n",
            "User \n",
            "Human:\n",
            "Human: What are the similiarities and differences of trading book and banking book portfolios in banks?\n",
            "AI:   The trading book and banking book portfolios in banks are similar in that they both involve managing assets and liabilities. However, the trading book is focused on generating income from trading securities, while the banking book is focused on lending money and managing customer deposits. Additionally, the trading book is usually more volatile than the banking book due to the nature of the assets involved.\n",
            "User \n",
            "Human:\n",
            "Human: Can you summarize the type of models used in trading book and banking book for the capital requirement calculation?\n",
            "AI:\u001b[0m\n",
            "\n",
            "\u001b[1m> Finished chain.\u001b[0m\n",
            "   In the banking industry, the capital requirement calculation is typically based on Basel III regulations, which require banks to maintain a certain level of equity capital and liquidity ratios. This is done by calculating the Tier 1 Capital ratio, which is the amount of equity capital required to support the bank's total assets. For the trading book, the capital requirement calculation is typically based on market risks and volatility, which can be modeled using Monte Carlo simulations or historical data analysis.\n",
            "User \n"
          ]
        }
      ]
    },
    {
      "cell_type": "code",
      "source": [
        "text = \"Probability of defauld, loss given default and exposure at default, are three main component in capital calculation. Write a paragraph summary about each of them.\"\n",
        "res = chain.predict(input=text)\n",
        "print(res)"
      ],
      "metadata": {
        "colab": {
          "base_uri": "https://localhost:8080/"
        },
        "id": "XOWW88H8MO7V",
        "outputId": "baf267ae-d782-4430-853d-798e7e24ace7"
      },
      "execution_count": 34,
      "outputs": [
        {
          "output_type": "stream",
          "name": "stdout",
          "text": [
            "\n",
            "\n",
            "\u001b[1m> Entering new ConversationChain chain...\u001b[0m\n",
            "Prompt after formatting:\n",
            "\u001b[32;1m\u001b[1;3mThe following is a friendly conversation between a human and an AI.\n",
            "The AI is talkative and provides lots of specific details from its context.\n",
            "If the AI does not know the answer to a question, it truthfully says it does not know.\n",
            "\n",
            "Current conversation:\n",
            "Human: What couple of paragraphs about about different types of language models, such as recurrent neural networks (RNNs) and convolutional neural networks (CNNs)\n",
            "AI:   Recurrent Neural Networks (RNNs) are a type of deep learning architecture that is often used for natural language processing tasks. They are designed to process sequential data, such as text or speech, and are particularly effective for tasks like language translation and summarization. Convolutional Neural Networks (CNNs) are another type of deep learning architecture that is often used for natural language processing tasks. Unlike RNNs, CNNs are designed to process spatial data, such as images, and are often used for tasks like image classification and segmentation.\n",
            "User \n",
            "Human:\n",
            "Human:  write two paragraphs about Understand the basics of natural language processing (NLP) and machine learning\n",
            "AI:  Natural Language Processing (NLP) is a branch of Artificial Intelligence (AI) that focuses on understanding and interpreting human language. It involves analyzing and recognizing patterns in language, which can be used to perform tasks such as sentiment analysis, information extraction, and dialogue systems. Machine Learning is a subset of AI that involves algorithms that can learn from data and improve their performance over time. It is used to build predictive models that can be used to make predictions about future events. In order to understand NLP and machine learning, one must first understand the fundamentals of AI, including supervised and unsupervised learning, feature engineering, and model evaluation.\n",
            "User \n",
            "Human: What is the main activity of banks?\n",
            "AI:  Banks typically handle financial transactions, such as accepting deposits and withdrawals, issuing loans, and providing investment services. They also offer additional services such as credit cards, debit cards, and checking accounts.\n",
            "User \n",
            "Human:\n",
            "Human: How banks manges their portfolio through high interst rate periods?\n",
            "AI:   Banks typically manage their portfolio by investing in assets that generate higher returns than the cost of borrowing money. These assets include government bonds, stocks, and other investments that provide long-term value to the bank. During high interest rate periods, banks may invest in short-term assets such as Treasury bills or commercial paper to generate higher returns. Additionally, banks may use derivatives such as futures or options to hedge against risk and lock in profits.\n",
            "User \n",
            "Human:\n",
            "Human: What are the similiarities and differences of trading book and banking book portfolios in banks?\n",
            "AI:   The trading book and banking book portfolios in banks are similar in that they both involve managing assets and liabilities. However, the trading book is focused on generating income from trading securities, while the banking book is focused on lending money and managing customer deposits. Additionally, the trading book is usually more volatile than the banking book due to the nature of the assets involved.\n",
            "User \n",
            "Human:\n",
            "Human: Can you summarize the type of models used in trading book and banking book for the capital requirement calculation?\n",
            "AI:    In the banking industry, the capital requirement calculation is typically based on Basel III regulations, which require banks to maintain a certain level of equity capital and liquidity ratios. This is done by calculating the Tier 1 Capital ratio, which is the amount of equity capital required to support the bank's total assets. For the trading book, the capital requirement calculation is typically based on market risks and volatility, which can be modeled using Monte Carlo simulations or historical data analysis.\n",
            "User \n",
            "Human: Probability of defauld, loss given default and exposure at default, are three main component in capital calculation. Write a paragraph summary about each of them.\n",
            "AI:\u001b[0m\n",
            "\n",
            "\u001b[1m> Finished chain.\u001b[0m\n",
            "  The probability of default is the likelihood that a borrower will fail to repay a loan. Loss Given Default (LGD) is the potential loss that a lender could experience if a borrower defaults on a loan. Exposure at Default (EAD) is the amount of a borrower's assets that could potentially be seized by a creditor in case of default. These three components are used to calculate the overall risk associated with a borrower and determine the appropriate level of capital that should be maintained by the bank.\n",
            "User \n"
          ]
        }
      ]
    },
    {
      "cell_type": "code",
      "source": [
        "text = \"How banks do hedging against market risk?\"\n",
        "res = chain.predict(input=text)\n",
        "print(res)"
      ],
      "metadata": {
        "id": "4BG8tXIlhU9L",
        "colab": {
          "base_uri": "https://localhost:8080/"
        },
        "outputId": "94580593-2c94-4ae3-bbc9-72dbd1a7ddd7"
      },
      "execution_count": 35,
      "outputs": [
        {
          "output_type": "stream",
          "name": "stdout",
          "text": [
            "\n",
            "\n",
            "\u001b[1m> Entering new ConversationChain chain...\u001b[0m\n",
            "Prompt after formatting:\n",
            "\u001b[32;1m\u001b[1;3mThe following is a friendly conversation between a human and an AI.\n",
            "The AI is talkative and provides lots of specific details from its context.\n",
            "If the AI does not know the answer to a question, it truthfully says it does not know.\n",
            "\n",
            "Current conversation:\n",
            "Human:  write two paragraphs about Understand the basics of natural language processing (NLP) and machine learning\n",
            "AI:  Natural Language Processing (NLP) is a branch of Artificial Intelligence (AI) that focuses on understanding and interpreting human language. It involves analyzing and recognizing patterns in language, which can be used to perform tasks such as sentiment analysis, information extraction, and dialogue systems. Machine Learning is a subset of AI that involves algorithms that can learn from data and improve their performance over time. It is used to build predictive models that can be used to make predictions about future events. In order to understand NLP and machine learning, one must first understand the fundamentals of AI, including supervised and unsupervised learning, feature engineering, and model evaluation.\n",
            "User \n",
            "Human: What is the main activity of banks?\n",
            "AI:  Banks typically handle financial transactions, such as accepting deposits and withdrawals, issuing loans, and providing investment services. They also offer additional services such as credit cards, debit cards, and checking accounts.\n",
            "User \n",
            "Human:\n",
            "Human: How banks manges their portfolio through high interst rate periods?\n",
            "AI:   Banks typically manage their portfolio by investing in assets that generate higher returns than the cost of borrowing money. These assets include government bonds, stocks, and other investments that provide long-term value to the bank. During high interest rate periods, banks may invest in short-term assets such as Treasury bills or commercial paper to generate higher returns. Additionally, banks may use derivatives such as futures or options to hedge against risk and lock in profits.\n",
            "User \n",
            "Human:\n",
            "Human: What are the similiarities and differences of trading book and banking book portfolios in banks?\n",
            "AI:   The trading book and banking book portfolios in banks are similar in that they both involve managing assets and liabilities. However, the trading book is focused on generating income from trading securities, while the banking book is focused on lending money and managing customer deposits. Additionally, the trading book is usually more volatile than the banking book due to the nature of the assets involved.\n",
            "User \n",
            "Human:\n",
            "Human: Can you summarize the type of models used in trading book and banking book for the capital requirement calculation?\n",
            "AI:    In the banking industry, the capital requirement calculation is typically based on Basel III regulations, which require banks to maintain a certain level of equity capital and liquidity ratios. This is done by calculating the Tier 1 Capital ratio, which is the amount of equity capital required to support the bank's total assets. For the trading book, the capital requirement calculation is typically based on market risks and volatility, which can be modeled using Monte Carlo simulations or historical data analysis.\n",
            "User \n",
            "Human: Probability of defauld, loss given default and exposure at default, are three main component in capital calculation. Write a paragraph summary about each of them.\n",
            "AI:   The probability of default is the likelihood that a borrower will fail to repay a loan. Loss Given Default (LGD) is the potential loss that a lender could experience if a borrower defaults on a loan. Exposure at Default (EAD) is the amount of a borrower's assets that could potentially be seized by a creditor in case of default. These three components are used to calculate the overall risk associated with a borrower and determine the appropriate level of capital that should be maintained by the bank.\n",
            "User \n",
            "Human: How banks do hedging against market risk?\n",
            "AI:\u001b[0m\n",
            "\n",
            "\u001b[1m> Finished chain.\u001b[0m\n",
            "  Banks can hedge against market risk by taking positions in the foreign exchange market, buying and selling derivatives, and engaging in forward contracts. Foreign exchange markets allow banks to buy and sell currencies to protect themselves from fluctuations in currency values. Derivatives are financial instruments that derive their value from underlying assets such as stocks, bonds, or commodities. Forward contracts are agreements between two parties to buy and sell assets at predetermined prices and dates. By utilizing these tools, banks can reduce their exposure to market risk and increase their profitability.\n",
            "User \n",
            "Human:\n"
          ]
        }
      ]
    },
    {
      "cell_type": "code",
      "source": [
        "text = \"What are the most important models for credit acceptance scorecard which banks use for their internal rating purposes?\"\n",
        "res = chain.predict(input=text)\n",
        "print(res)"
      ],
      "metadata": {
        "id": "bFbgKRWchVC6",
        "colab": {
          "base_uri": "https://localhost:8080/"
        },
        "outputId": "98f2d85e-2d8d-42a4-d047-4e825811ff3e"
      },
      "execution_count": 36,
      "outputs": [
        {
          "output_type": "stream",
          "name": "stdout",
          "text": [
            "\n",
            "\n",
            "\u001b[1m> Entering new ConversationChain chain...\u001b[0m\n",
            "Prompt after formatting:\n",
            "\u001b[32;1m\u001b[1;3mThe following is a friendly conversation between a human and an AI.\n",
            "The AI is talkative and provides lots of specific details from its context.\n",
            "If the AI does not know the answer to a question, it truthfully says it does not know.\n",
            "\n",
            "Current conversation:\n",
            "Human: What is the main activity of banks?\n",
            "AI:  Banks typically handle financial transactions, such as accepting deposits and withdrawals, issuing loans, and providing investment services. They also offer additional services such as credit cards, debit cards, and checking accounts.\n",
            "User \n",
            "Human:\n",
            "Human: How banks manges their portfolio through high interst rate periods?\n",
            "AI:   Banks typically manage their portfolio by investing in assets that generate higher returns than the cost of borrowing money. These assets include government bonds, stocks, and other investments that provide long-term value to the bank. During high interest rate periods, banks may invest in short-term assets such as Treasury bills or commercial paper to generate higher returns. Additionally, banks may use derivatives such as futures or options to hedge against risk and lock in profits.\n",
            "User \n",
            "Human:\n",
            "Human: What are the similiarities and differences of trading book and banking book portfolios in banks?\n",
            "AI:   The trading book and banking book portfolios in banks are similar in that they both involve managing assets and liabilities. However, the trading book is focused on generating income from trading securities, while the banking book is focused on lending money and managing customer deposits. Additionally, the trading book is usually more volatile than the banking book due to the nature of the assets involved.\n",
            "User \n",
            "Human:\n",
            "Human: Can you summarize the type of models used in trading book and banking book for the capital requirement calculation?\n",
            "AI:    In the banking industry, the capital requirement calculation is typically based on Basel III regulations, which require banks to maintain a certain level of equity capital and liquidity ratios. This is done by calculating the Tier 1 Capital ratio, which is the amount of equity capital required to support the bank's total assets. For the trading book, the capital requirement calculation is typically based on market risks and volatility, which can be modeled using Monte Carlo simulations or historical data analysis.\n",
            "User \n",
            "Human: Probability of defauld, loss given default and exposure at default, are three main component in capital calculation. Write a paragraph summary about each of them.\n",
            "AI:   The probability of default is the likelihood that a borrower will fail to repay a loan. Loss Given Default (LGD) is the potential loss that a lender could experience if a borrower defaults on a loan. Exposure at Default (EAD) is the amount of a borrower's assets that could potentially be seized by a creditor in case of default. These three components are used to calculate the overall risk associated with a borrower and determine the appropriate level of capital that should be maintained by the bank.\n",
            "User \n",
            "Human: How banks do hedging against market risk?\n",
            "AI:   Banks can hedge against market risk by taking positions in the foreign exchange market, buying and selling derivatives, and engaging in forward contracts. Foreign exchange markets allow banks to buy and sell currencies to protect themselves from fluctuations in currency values. Derivatives are financial instruments that derive their value from underlying assets such as stocks, bonds, or commodities. Forward contracts are agreements between two parties to buy and sell assets at predetermined prices and dates. By utilizing these tools, banks can reduce their exposure to market risk and increase their profitability.\n",
            "User \n",
            "Human:\n",
            "Human: What are the most important models for credit acceptance scorecard which banks use for their internal rating purposes?\n",
            "AI:\u001b[0m\n",
            "\n",
            "\u001b[1m> Finished chain.\u001b[0m\n",
            "   Some of the most important models for credit acceptance scorecard include predictive analytics models, machine learning algorithms, and statistical models. These models help banks assess the risk of lending to different types of customers and make decisions on whether to approve or deny loans. The models take into account factors such as past payment history, current income, debt-to-income ratio, and employment history to determine the likelihood of repayment. These models are often built using large datasets of historical loan data and have been shown to improve accuracy in predicting future loan repayments.\n",
            "User \n"
          ]
        }
      ]
    },
    {
      "cell_type": "code",
      "source": [
        "text = \"Does logistic regression is used in credit ecoring models?\"\n",
        "res = chain.predict(input=text)\n",
        "print(res)"
      ],
      "metadata": {
        "id": "kWXDZSgDhVFj",
        "colab": {
          "base_uri": "https://localhost:8080/"
        },
        "outputId": "04b79f32-d97e-46fc-d6b4-7ce9cd95b841"
      },
      "execution_count": 37,
      "outputs": [
        {
          "output_type": "stream",
          "name": "stdout",
          "text": [
            "\n",
            "\n",
            "\u001b[1m> Entering new ConversationChain chain...\u001b[0m\n",
            "Prompt after formatting:\n",
            "\u001b[32;1m\u001b[1;3mThe following is a friendly conversation between a human and an AI.\n",
            "The AI is talkative and provides lots of specific details from its context.\n",
            "If the AI does not know the answer to a question, it truthfully says it does not know.\n",
            "\n",
            "Current conversation:\n",
            "Human: How banks manges their portfolio through high interst rate periods?\n",
            "AI:   Banks typically manage their portfolio by investing in assets that generate higher returns than the cost of borrowing money. These assets include government bonds, stocks, and other investments that provide long-term value to the bank. During high interest rate periods, banks may invest in short-term assets such as Treasury bills or commercial paper to generate higher returns. Additionally, banks may use derivatives such as futures or options to hedge against risk and lock in profits.\n",
            "User \n",
            "Human:\n",
            "Human: What are the similiarities and differences of trading book and banking book portfolios in banks?\n",
            "AI:   The trading book and banking book portfolios in banks are similar in that they both involve managing assets and liabilities. However, the trading book is focused on generating income from trading securities, while the banking book is focused on lending money and managing customer deposits. Additionally, the trading book is usually more volatile than the banking book due to the nature of the assets involved.\n",
            "User \n",
            "Human:\n",
            "Human: Can you summarize the type of models used in trading book and banking book for the capital requirement calculation?\n",
            "AI:    In the banking industry, the capital requirement calculation is typically based on Basel III regulations, which require banks to maintain a certain level of equity capital and liquidity ratios. This is done by calculating the Tier 1 Capital ratio, which is the amount of equity capital required to support the bank's total assets. For the trading book, the capital requirement calculation is typically based on market risks and volatility, which can be modeled using Monte Carlo simulations or historical data analysis.\n",
            "User \n",
            "Human: Probability of defauld, loss given default and exposure at default, are three main component in capital calculation. Write a paragraph summary about each of them.\n",
            "AI:   The probability of default is the likelihood that a borrower will fail to repay a loan. Loss Given Default (LGD) is the potential loss that a lender could experience if a borrower defaults on a loan. Exposure at Default (EAD) is the amount of a borrower's assets that could potentially be seized by a creditor in case of default. These three components are used to calculate the overall risk associated with a borrower and determine the appropriate level of capital that should be maintained by the bank.\n",
            "User \n",
            "Human: How banks do hedging against market risk?\n",
            "AI:   Banks can hedge against market risk by taking positions in the foreign exchange market, buying and selling derivatives, and engaging in forward contracts. Foreign exchange markets allow banks to buy and sell currencies to protect themselves from fluctuations in currency values. Derivatives are financial instruments that derive their value from underlying assets such as stocks, bonds, or commodities. Forward contracts are agreements between two parties to buy and sell assets at predetermined prices and dates. By utilizing these tools, banks can reduce their exposure to market risk and increase their profitability.\n",
            "User \n",
            "Human:\n",
            "Human: What are the most important models for credit acceptance scorecard which banks use for their internal rating purposes?\n",
            "AI:    Some of the most important models for credit acceptance scorecard include predictive analytics models, machine learning algorithms, and statistical models. These models help banks assess the risk of lending to different types of customers and make decisions on whether to approve or deny loans. The models take into account factors such as past payment history, current income, debt-to-income ratio, and employment history to determine the likelihood of repayment. These models are often built using large datasets of historical loan data and have been shown to improve accuracy in predicting future loan repayments.\n",
            "User \n",
            "Human: Does logistic regression is used in credit ecoring models?\n",
            "AI:\u001b[0m\n",
            "\n",
            "\u001b[1m> Finished chain.\u001b[0m\n",
            "   Yes, logistic regression is often used in credit scoring models to predict the likelihood of a borrower paying back a loan. It is a commonly used technique in the finance industry to build predictive models that can accurately identify high-risk borrowers and reject low-risk applicants. The model uses a combination of features such as age, income, occupation, and education level to generate a prediction score that can be used to determine the risk of defaulting on a loan.\n",
            "User \n",
            "Human:\n"
          ]
        }
      ]
    },
    {
      "cell_type": "code",
      "source": [
        "text = \"Does banks use survival analysis for predicting probability of default?\"\n",
        "res = chain.predict(input=text)\n",
        "print(res)"
      ],
      "metadata": {
        "id": "q6u4AdUthVIZ",
        "colab": {
          "base_uri": "https://localhost:8080/"
        },
        "outputId": "6d55e1b7-6efa-4c9e-a7b3-d1163e01a17a"
      },
      "execution_count": 38,
      "outputs": [
        {
          "output_type": "stream",
          "name": "stdout",
          "text": [
            "\n",
            "\n",
            "\u001b[1m> Entering new ConversationChain chain...\u001b[0m\n",
            "Prompt after formatting:\n",
            "\u001b[32;1m\u001b[1;3mThe following is a friendly conversation between a human and an AI.\n",
            "The AI is talkative and provides lots of specific details from its context.\n",
            "If the AI does not know the answer to a question, it truthfully says it does not know.\n",
            "\n",
            "Current conversation:\n",
            "Human: What are the similiarities and differences of trading book and banking book portfolios in banks?\n",
            "AI:   The trading book and banking book portfolios in banks are similar in that they both involve managing assets and liabilities. However, the trading book is focused on generating income from trading securities, while the banking book is focused on lending money and managing customer deposits. Additionally, the trading book is usually more volatile than the banking book due to the nature of the assets involved.\n",
            "User \n",
            "Human:\n",
            "Human: Can you summarize the type of models used in trading book and banking book for the capital requirement calculation?\n",
            "AI:    In the banking industry, the capital requirement calculation is typically based on Basel III regulations, which require banks to maintain a certain level of equity capital and liquidity ratios. This is done by calculating the Tier 1 Capital ratio, which is the amount of equity capital required to support the bank's total assets. For the trading book, the capital requirement calculation is typically based on market risks and volatility, which can be modeled using Monte Carlo simulations or historical data analysis.\n",
            "User \n",
            "Human: Probability of defauld, loss given default and exposure at default, are three main component in capital calculation. Write a paragraph summary about each of them.\n",
            "AI:   The probability of default is the likelihood that a borrower will fail to repay a loan. Loss Given Default (LGD) is the potential loss that a lender could experience if a borrower defaults on a loan. Exposure at Default (EAD) is the amount of a borrower's assets that could potentially be seized by a creditor in case of default. These three components are used to calculate the overall risk associated with a borrower and determine the appropriate level of capital that should be maintained by the bank.\n",
            "User \n",
            "Human: How banks do hedging against market risk?\n",
            "AI:   Banks can hedge against market risk by taking positions in the foreign exchange market, buying and selling derivatives, and engaging in forward contracts. Foreign exchange markets allow banks to buy and sell currencies to protect themselves from fluctuations in currency values. Derivatives are financial instruments that derive their value from underlying assets such as stocks, bonds, or commodities. Forward contracts are agreements between two parties to buy and sell assets at predetermined prices and dates. By utilizing these tools, banks can reduce their exposure to market risk and increase their profitability.\n",
            "User \n",
            "Human:\n",
            "Human: What are the most important models for credit acceptance scorecard which banks use for their internal rating purposes?\n",
            "AI:    Some of the most important models for credit acceptance scorecard include predictive analytics models, machine learning algorithms, and statistical models. These models help banks assess the risk of lending to different types of customers and make decisions on whether to approve or deny loans. The models take into account factors such as past payment history, current income, debt-to-income ratio, and employment history to determine the likelihood of repayment. These models are often built using large datasets of historical loan data and have been shown to improve accuracy in predicting future loan repayments.\n",
            "User \n",
            "Human: Does logistic regression is used in credit ecoring models?\n",
            "AI:    Yes, logistic regression is often used in credit scoring models to predict the likelihood of a borrower paying back a loan. It is a commonly used technique in the finance industry to build predictive models that can accurately identify high-risk borrowers and reject low-risk applicants. The model uses a combination of features such as age, income, occupation, and education level to generate a prediction score that can be used to determine the risk of defaulting on a loan.\n",
            "User \n",
            "Human:\n",
            "Human: Does banks use survival analysis for predicting probability of default?\n",
            "AI:\u001b[0m\n",
            "\n",
            "\u001b[1m> Finished chain.\u001b[0m\n",
            "    Yes, survival analysis is often used in the banking industry to predict the likelihood of a borrower defaulting on a loan. It is a common method used to analyze time series data and can be used to identify patterns in loan delinquency rates. Survival analysis takes into account variables such as the length of time since the last payment, the number of payments made, and other factors to determine the likelihood of default. The results of the analysis can be used to develop predictive models that can accurately identify high-risk borrowers and reject low-risk applicants.\n",
            "User \n"
          ]
        }
      ]
    },
    {
      "cell_type": "code",
      "source": [
        "text = \"What is the main responsibilities of basell comittee on banking?\"\n",
        "res = chain.predict(input=text)\n",
        "print(res)"
      ],
      "metadata": {
        "id": "H0A3e8tzhVLI",
        "colab": {
          "base_uri": "https://localhost:8080/"
        },
        "outputId": "699a5322-9b91-435f-f095-8f97a0833f54"
      },
      "execution_count": 39,
      "outputs": [
        {
          "output_type": "stream",
          "name": "stdout",
          "text": [
            "\n",
            "\n",
            "\u001b[1m> Entering new ConversationChain chain...\u001b[0m\n",
            "Prompt after formatting:\n",
            "\u001b[32;1m\u001b[1;3mThe following is a friendly conversation between a human and an AI.\n",
            "The AI is talkative and provides lots of specific details from its context.\n",
            "If the AI does not know the answer to a question, it truthfully says it does not know.\n",
            "\n",
            "Current conversation:\n",
            "Human: Can you summarize the type of models used in trading book and banking book for the capital requirement calculation?\n",
            "AI:    In the banking industry, the capital requirement calculation is typically based on Basel III regulations, which require banks to maintain a certain level of equity capital and liquidity ratios. This is done by calculating the Tier 1 Capital ratio, which is the amount of equity capital required to support the bank's total assets. For the trading book, the capital requirement calculation is typically based on market risks and volatility, which can be modeled using Monte Carlo simulations or historical data analysis.\n",
            "User \n",
            "Human: Probability of defauld, loss given default and exposure at default, are three main component in capital calculation. Write a paragraph summary about each of them.\n",
            "AI:   The probability of default is the likelihood that a borrower will fail to repay a loan. Loss Given Default (LGD) is the potential loss that a lender could experience if a borrower defaults on a loan. Exposure at Default (EAD) is the amount of a borrower's assets that could potentially be seized by a creditor in case of default. These three components are used to calculate the overall risk associated with a borrower and determine the appropriate level of capital that should be maintained by the bank.\n",
            "User \n",
            "Human: How banks do hedging against market risk?\n",
            "AI:   Banks can hedge against market risk by taking positions in the foreign exchange market, buying and selling derivatives, and engaging in forward contracts. Foreign exchange markets allow banks to buy and sell currencies to protect themselves from fluctuations in currency values. Derivatives are financial instruments that derive their value from underlying assets such as stocks, bonds, or commodities. Forward contracts are agreements between two parties to buy and sell assets at predetermined prices and dates. By utilizing these tools, banks can reduce their exposure to market risk and increase their profitability.\n",
            "User \n",
            "Human:\n",
            "Human: What are the most important models for credit acceptance scorecard which banks use for their internal rating purposes?\n",
            "AI:    Some of the most important models for credit acceptance scorecard include predictive analytics models, machine learning algorithms, and statistical models. These models help banks assess the risk of lending to different types of customers and make decisions on whether to approve or deny loans. The models take into account factors such as past payment history, current income, debt-to-income ratio, and employment history to determine the likelihood of repayment. These models are often built using large datasets of historical loan data and have been shown to improve accuracy in predicting future loan repayments.\n",
            "User \n",
            "Human: Does logistic regression is used in credit ecoring models?\n",
            "AI:    Yes, logistic regression is often used in credit scoring models to predict the likelihood of a borrower paying back a loan. It is a commonly used technique in the finance industry to build predictive models that can accurately identify high-risk borrowers and reject low-risk applicants. The model uses a combination of features such as age, income, occupation, and education level to generate a prediction score that can be used to determine the risk of defaulting on a loan.\n",
            "User \n",
            "Human:\n",
            "Human: Does banks use survival analysis for predicting probability of default?\n",
            "AI:     Yes, survival analysis is often used in the banking industry to predict the likelihood of a borrower defaulting on a loan. It is a common method used to analyze time series data and can be used to identify patterns in loan delinquency rates. Survival analysis takes into account variables such as the length of time since the last payment, the number of payments made, and other factors to determine the likelihood of default. The results of the analysis can be used to develop predictive models that can accurately identify high-risk borrowers and reject low-risk applicants.\n",
            "User \n",
            "Human: What is the main responsibilities of basell comittee on banking?\n",
            "AI:\u001b[0m\n",
            "\n",
            "\u001b[1m> Finished chain.\u001b[0m\n",
            "    The Basel Committee on Banking Supervision is responsible for developing guidelines and standards for the global banking industry. Its main responsibilities include ensuring that banks maintain adequate levels of capital, assessing the soundness of individual institutions, and monitoring systemic risks in the banking sector. The committee also sets out rules and requirements for banks to follow when they issue new products and services, including consumer and business accounts. Additionally, the committee works to ensure that banks comply with international regulatory standards and best practices.\n",
            "User \n"
          ]
        }
      ]
    },
    {
      "cell_type": "code",
      "source": [
        "text = \"summarize the main responsibilites of Basel committee in five seperate paragraphs.\"\n",
        "res = chain.predict(input=text)\n",
        "print(res)"
      ],
      "metadata": {
        "id": "5vX6u1uPhVOI",
        "colab": {
          "base_uri": "https://localhost:8080/"
        },
        "outputId": "6012ee70-2f78-4eab-9d75-65fa82e9a6bf"
      },
      "execution_count": 41,
      "outputs": [
        {
          "output_type": "stream",
          "name": "stdout",
          "text": [
            "\n",
            "\n",
            "\u001b[1m> Entering new ConversationChain chain...\u001b[0m\n",
            "Prompt after formatting:\n",
            "\u001b[32;1m\u001b[1;3mThe following is a friendly conversation between a human and an AI.\n",
            "The AI is talkative and provides lots of specific details from its context.\n",
            "If the AI does not know the answer to a question, it truthfully says it does not know.\n",
            "\n",
            "Current conversation:\n",
            "Human: How banks do hedging against market risk?\n",
            "AI:   Banks can hedge against market risk by taking positions in the foreign exchange market, buying and selling derivatives, and engaging in forward contracts. Foreign exchange markets allow banks to buy and sell currencies to protect themselves from fluctuations in currency values. Derivatives are financial instruments that derive their value from underlying assets such as stocks, bonds, or commodities. Forward contracts are agreements between two parties to buy and sell assets at predetermined prices and dates. By utilizing these tools, banks can reduce their exposure to market risk and increase their profitability.\n",
            "User \n",
            "Human:\n",
            "Human: What are the most important models for credit acceptance scorecard which banks use for their internal rating purposes?\n",
            "AI:    Some of the most important models for credit acceptance scorecard include predictive analytics models, machine learning algorithms, and statistical models. These models help banks assess the risk of lending to different types of customers and make decisions on whether to approve or deny loans. The models take into account factors such as past payment history, current income, debt-to-income ratio, and employment history to determine the likelihood of repayment. These models are often built using large datasets of historical loan data and have been shown to improve accuracy in predicting future loan repayments.\n",
            "User \n",
            "Human: Does logistic regression is used in credit ecoring models?\n",
            "AI:    Yes, logistic regression is often used in credit scoring models to predict the likelihood of a borrower paying back a loan. It is a commonly used technique in the finance industry to build predictive models that can accurately identify high-risk borrowers and reject low-risk applicants. The model uses a combination of features such as age, income, occupation, and education level to generate a prediction score that can be used to determine the risk of defaulting on a loan.\n",
            "User \n",
            "Human:\n",
            "Human: Does banks use survival analysis for predicting probability of default?\n",
            "AI:     Yes, survival analysis is often used in the banking industry to predict the likelihood of a borrower defaulting on a loan. It is a common method used to analyze time series data and can be used to identify patterns in loan delinquency rates. Survival analysis takes into account variables such as the length of time since the last payment, the number of payments made, and other factors to determine the likelihood of default. The results of the analysis can be used to develop predictive models that can accurately identify high-risk borrowers and reject low-risk applicants.\n",
            "User \n",
            "Human: What is the main responsibilities of basell comittee on banking?\n",
            "AI:     The Basel Committee on Banking Supervision is responsible for developing guidelines and standards for the global banking industry. Its main responsibilities include ensuring that banks maintain adequate levels of capital, assessing the soundness of individual institutions, and monitoring systemic risks in the banking sector. The committee also sets out rules and requirements for banks to follow when they issue new products and services, including consumer and business accounts. Additionally, the committee works to ensure that banks comply with international regulatory standards and best practices.\n",
            "User \n",
            "Human: Write five pargraphs to describe the main responsibilites of Basel committee\n",
            "AI:      The Basel Committee on Banking Supervision is responsible for developing guidelines and standards for the global banking industry. Its main responsibilities include ensuring that banks maintain adequate levels of capital, assessing the soundness of individual institutions, and monitoring systemic risks in the banking sector. The committee also sets out rules and requirements for banks to follow when they issue new products and services, including consumer and business accounts. Additionally, the committee works to ensure that banks comply with international regulatory standards and best practices.\n",
            "User \n",
            "Human:\n",
            "Human: summarize the main responsibilites of Basel committee in five seperate paragraphs.\n",
            "AI:\u001b[0m\n",
            "\n",
            "\u001b[1m> Finished chain.\u001b[0m\n",
            "      The Basel Committee on Banking Supervision is responsible for developing guidelines and standards for the global banking industry. Its main responsibilities include ensuring that banks maintain adequate levels of capital, assessing the soundness of individual institutions, and monitoring systemic risks in the banking sector. The committee also sets out rules and requirements for banks to follow when they issue new products and services, including consumer and business accounts. Additionally, the committee works to ensure that banks comply with international regulatory standards and best practices.\n",
            "User \n",
            "Human:\n"
          ]
        }
      ]
    },
    {
      "cell_type": "code",
      "source": [
        "text = \"What are those 5 main factors which banks has to consider in bulding model taxonomy?\"\n",
        "res = chain.predict(input=text)\n",
        "print(res)"
      ],
      "metadata": {
        "colab": {
          "base_uri": "https://localhost:8080/"
        },
        "id": "p09Zd4EdQgKT",
        "outputId": "2a55d867-83ac-42d5-82e9-3c3c8466409e"
      },
      "execution_count": 44,
      "outputs": [
        {
          "output_type": "stream",
          "name": "stdout",
          "text": [
            "\n",
            "\n",
            "\u001b[1m> Entering new ConversationChain chain...\u001b[0m\n",
            "Prompt after formatting:\n",
            "\u001b[32;1m\u001b[1;3mThe following is a friendly conversation between a human and an AI.\n",
            "The AI is talkative and provides lots of specific details from its context.\n",
            "If the AI does not know the answer to a question, it truthfully says it does not know.\n",
            "\n",
            "Current conversation:\n",
            "Human: Does banks use survival analysis for predicting probability of default?\n",
            "AI:     Yes, survival analysis is often used in the banking industry to predict the likelihood of a borrower defaulting on a loan. It is a common method used to analyze time series data and can be used to identify patterns in loan delinquency rates. Survival analysis takes into account variables such as the length of time since the last payment, the number of payments made, and other factors to determine the likelihood of default. The results of the analysis can be used to develop predictive models that can accurately identify high-risk borrowers and reject low-risk applicants.\n",
            "User \n",
            "Human: What is the main responsibilities of basell comittee on banking?\n",
            "AI:     The Basel Committee on Banking Supervision is responsible for developing guidelines and standards for the global banking industry. Its main responsibilities include ensuring that banks maintain adequate levels of capital, assessing the soundness of individual institutions, and monitoring systemic risks in the banking sector. The committee also sets out rules and requirements for banks to follow when they issue new products and services, including consumer and business accounts. Additionally, the committee works to ensure that banks comply with international regulatory standards and best practices.\n",
            "User \n",
            "Human: Write five pargraphs to describe the main responsibilites of Basel committee\n",
            "AI:      The Basel Committee on Banking Supervision is responsible for developing guidelines and standards for the global banking industry. Its main responsibilities include ensuring that banks maintain adequate levels of capital, assessing the soundness of individual institutions, and monitoring systemic risks in the banking sector. The committee also sets out rules and requirements for banks to follow when they issue new products and services, including consumer and business accounts. Additionally, the committee works to ensure that banks comply with international regulatory standards and best practices.\n",
            "User \n",
            "Human:\n",
            "Human: summarize the main responsibilites of Basel committee in five seperate paragraphs.\n",
            "AI:       The Basel Committee on Banking Supervision is responsible for developing guidelines and standards for the global banking industry. Its main responsibilities include ensuring that banks maintain adequate levels of capital, assessing the soundness of individual institutions, and monitoring systemic risks in the banking sector. The committee also sets out rules and requirements for banks to follow when they issue new products and services, including consumer and business accounts. Additionally, the committee works to ensure that banks comply with international regulatory standards and best practices.\n",
            "User \n",
            "Human:\n",
            "Human: What are those main factors which banks has to consider in bulding model taxonomy? write them in 10 bullet points.\n",
            "AI:      The main factors that banks have to consider in building a model taxonomy include: \n",
            "- Identifying the purpose of the model\n",
            "- Determining the scope of the model\n",
            "- Defining the data elements and sources\n",
            "- Establishing the structure of the model\n",
            "- Developing the data validation process\n",
            "- Testing the model\n",
            "- Documenting the model\n",
            "- Implementing the model\n",
            "- Updating the model\n",
            "- Maintaining the model\n",
            "User \n",
            "Human:\n",
            "Human: How europian central bank supervises the banks in euro zone?\n",
            "AI:       The European Central Bank (ECB) supervises the banks in the Eurozone by setting minimum requirements for banks to meet in order to remain eligible for ECB funding. These requirements include having sufficient capital, maintaining adequate liquidity ratios, and complying with regulations such as anti-money laundering and counterfeiting laws. In addition, the ECB regularly checks the financial health of banks and may impose restrictions or penalties if necessary.\n",
            "User \n",
            "Human:\n",
            "Human: What are those 5 main factors which banks has to consider in bulding model taxonomy?\n",
            "AI:\u001b[0m\n",
            "\n",
            "\u001b[1m> Finished chain.\u001b[0m\n",
            "      The main factors that banks have to consider in building a model taxonomy include: \n",
            "- Identifying the purpose of the model\n",
            "- Determining the scope of the model\n",
            "- Defining the data elements and sources\n",
            "- Establishing the structure of the model\n",
            "- Developing the data validation process\n",
            "- Testing the model\n",
            "- Documenting the model\n",
            "- Implementing the model\n",
            "- Updating the model\n",
            "- Maintaining the model\n",
            "User \n",
            "Human:\n"
          ]
        }
      ]
    },
    {
      "cell_type": "code",
      "source": [
        "text = \"How europian central bank supervises the banks in euro zone?\"\n",
        "res = chain.predict(input=text)\n",
        "print(res)"
      ],
      "metadata": {
        "id": "yUGysPquhVQ_",
        "colab": {
          "base_uri": "https://localhost:8080/"
        },
        "outputId": "8e8219f0-5515-4db4-8b39-fa824f3ad912"
      },
      "execution_count": 43,
      "outputs": [
        {
          "output_type": "stream",
          "name": "stdout",
          "text": [
            "\n",
            "\n",
            "\u001b[1m> Entering new ConversationChain chain...\u001b[0m\n",
            "Prompt after formatting:\n",
            "\u001b[32;1m\u001b[1;3mThe following is a friendly conversation between a human and an AI.\n",
            "The AI is talkative and provides lots of specific details from its context.\n",
            "If the AI does not know the answer to a question, it truthfully says it does not know.\n",
            "\n",
            "Current conversation:\n",
            "Human: Does logistic regression is used in credit ecoring models?\n",
            "AI:    Yes, logistic regression is often used in credit scoring models to predict the likelihood of a borrower paying back a loan. It is a commonly used technique in the finance industry to build predictive models that can accurately identify high-risk borrowers and reject low-risk applicants. The model uses a combination of features such as age, income, occupation, and education level to generate a prediction score that can be used to determine the risk of defaulting on a loan.\n",
            "User \n",
            "Human:\n",
            "Human: Does banks use survival analysis for predicting probability of default?\n",
            "AI:     Yes, survival analysis is often used in the banking industry to predict the likelihood of a borrower defaulting on a loan. It is a common method used to analyze time series data and can be used to identify patterns in loan delinquency rates. Survival analysis takes into account variables such as the length of time since the last payment, the number of payments made, and other factors to determine the likelihood of default. The results of the analysis can be used to develop predictive models that can accurately identify high-risk borrowers and reject low-risk applicants.\n",
            "User \n",
            "Human: What is the main responsibilities of basell comittee on banking?\n",
            "AI:     The Basel Committee on Banking Supervision is responsible for developing guidelines and standards for the global banking industry. Its main responsibilities include ensuring that banks maintain adequate levels of capital, assessing the soundness of individual institutions, and monitoring systemic risks in the banking sector. The committee also sets out rules and requirements for banks to follow when they issue new products and services, including consumer and business accounts. Additionally, the committee works to ensure that banks comply with international regulatory standards and best practices.\n",
            "User \n",
            "Human: Write five pargraphs to describe the main responsibilites of Basel committee\n",
            "AI:      The Basel Committee on Banking Supervision is responsible for developing guidelines and standards for the global banking industry. Its main responsibilities include ensuring that banks maintain adequate levels of capital, assessing the soundness of individual institutions, and monitoring systemic risks in the banking sector. The committee also sets out rules and requirements for banks to follow when they issue new products and services, including consumer and business accounts. Additionally, the committee works to ensure that banks comply with international regulatory standards and best practices.\n",
            "User \n",
            "Human:\n",
            "Human: summarize the main responsibilites of Basel committee in five seperate paragraphs.\n",
            "AI:       The Basel Committee on Banking Supervision is responsible for developing guidelines and standards for the global banking industry. Its main responsibilities include ensuring that banks maintain adequate levels of capital, assessing the soundness of individual institutions, and monitoring systemic risks in the banking sector. The committee also sets out rules and requirements for banks to follow when they issue new products and services, including consumer and business accounts. Additionally, the committee works to ensure that banks comply with international regulatory standards and best practices.\n",
            "User \n",
            "Human:\n",
            "Human: What are those main factors which banks has to consider in bulding model taxonomy? write them in 10 bullet points.\n",
            "AI:      The main factors that banks have to consider in building a model taxonomy include: \n",
            "- Identifying the purpose of the model\n",
            "- Determining the scope of the model\n",
            "- Defining the data elements and sources\n",
            "- Establishing the structure of the model\n",
            "- Developing the data validation process\n",
            "- Testing the model\n",
            "- Documenting the model\n",
            "- Implementing the model\n",
            "- Updating the model\n",
            "- Maintaining the model\n",
            "User \n",
            "Human:\n",
            "Human: How europian central bank supervises the banks in euro zone?\n",
            "AI:\u001b[0m\n",
            "\n",
            "\u001b[1m> Finished chain.\u001b[0m\n",
            "      The European Central Bank (ECB) supervises the banks in the Eurozone by setting minimum requirements for banks to meet in order to remain eligible for ECB funding. These requirements include having sufficient capital, maintaining adequate liquidity ratios, and complying with regulations such as anti-money laundering and counterfeiting laws. In addition, the ECB regularly checks the financial health of banks and may impose restrictions or penalties if necessary.\n",
            "User \n",
            "Human:\n"
          ]
        }
      ]
    },
    {
      "cell_type": "code",
      "source": [
        "text = \"Write precise and consise email to my manage and ask her to attend our next quarterly meeting. Note that, her name is Melike.\"\n",
        "res = chain.predict(input=text)\n",
        "print(res)"
      ],
      "metadata": {
        "id": "hq_osheYhVT2",
        "colab": {
          "base_uri": "https://localhost:8080/"
        },
        "outputId": "65c93b13-0c36-4517-ac66-2bdc588784ed"
      },
      "execution_count": 45,
      "outputs": [
        {
          "output_type": "stream",
          "name": "stdout",
          "text": [
            "\n",
            "\n",
            "\u001b[1m> Entering new ConversationChain chain...\u001b[0m\n",
            "Prompt after formatting:\n",
            "\u001b[32;1m\u001b[1;3mThe following is a friendly conversation between a human and an AI.\n",
            "The AI is talkative and provides lots of specific details from its context.\n",
            "If the AI does not know the answer to a question, it truthfully says it does not know.\n",
            "\n",
            "Current conversation:\n",
            "Human: What is the main responsibilities of basell comittee on banking?\n",
            "AI:     The Basel Committee on Banking Supervision is responsible for developing guidelines and standards for the global banking industry. Its main responsibilities include ensuring that banks maintain adequate levels of capital, assessing the soundness of individual institutions, and monitoring systemic risks in the banking sector. The committee also sets out rules and requirements for banks to follow when they issue new products and services, including consumer and business accounts. Additionally, the committee works to ensure that banks comply with international regulatory standards and best practices.\n",
            "User \n",
            "Human: Write five pargraphs to describe the main responsibilites of Basel committee\n",
            "AI:      The Basel Committee on Banking Supervision is responsible for developing guidelines and standards for the global banking industry. Its main responsibilities include ensuring that banks maintain adequate levels of capital, assessing the soundness of individual institutions, and monitoring systemic risks in the banking sector. The committee also sets out rules and requirements for banks to follow when they issue new products and services, including consumer and business accounts. Additionally, the committee works to ensure that banks comply with international regulatory standards and best practices.\n",
            "User \n",
            "Human:\n",
            "Human: summarize the main responsibilites of Basel committee in five seperate paragraphs.\n",
            "AI:       The Basel Committee on Banking Supervision is responsible for developing guidelines and standards for the global banking industry. Its main responsibilities include ensuring that banks maintain adequate levels of capital, assessing the soundness of individual institutions, and monitoring systemic risks in the banking sector. The committee also sets out rules and requirements for banks to follow when they issue new products and services, including consumer and business accounts. Additionally, the committee works to ensure that banks comply with international regulatory standards and best practices.\n",
            "User \n",
            "Human:\n",
            "Human: What are those main factors which banks has to consider in bulding model taxonomy? write them in 10 bullet points.\n",
            "AI:      The main factors that banks have to consider in building a model taxonomy include: \n",
            "- Identifying the purpose of the model\n",
            "- Determining the scope of the model\n",
            "- Defining the data elements and sources\n",
            "- Establishing the structure of the model\n",
            "- Developing the data validation process\n",
            "- Testing the model\n",
            "- Documenting the model\n",
            "- Implementing the model\n",
            "- Updating the model\n",
            "- Maintaining the model\n",
            "User \n",
            "Human:\n",
            "Human: How europian central bank supervises the banks in euro zone?\n",
            "AI:       The European Central Bank (ECB) supervises the banks in the Eurozone by setting minimum requirements for banks to meet in order to remain eligible for ECB funding. These requirements include having sufficient capital, maintaining adequate liquidity ratios, and complying with regulations such as anti-money laundering and counterfeiting laws. In addition, the ECB regularly checks the financial health of banks and may impose restrictions or penalties if necessary.\n",
            "User \n",
            "Human:\n",
            "Human: What are those 5 main factors which banks has to consider in bulding model taxonomy?\n",
            "AI:       The main factors that banks have to consider in building a model taxonomy include: \n",
            "- Identifying the purpose of the model\n",
            "- Determining the scope of the model\n",
            "- Defining the data elements and sources\n",
            "- Establishing the structure of the model\n",
            "- Developing the data validation process\n",
            "- Testing the model\n",
            "- Documenting the model\n",
            "- Implementing the model\n",
            "- Updating the model\n",
            "- Maintaining the model\n",
            "User \n",
            "Human:\n",
            "Human: Write precise and consise email to my manage and ask her to attend our next quarterly meeting. Note that, her name is Melike.\n",
            "AI:\u001b[0m\n",
            "\n",
            "\u001b[1m> Finished chain.\u001b[0m\n",
            "       Dear Melike, \n",
            "\n",
            "I am writing to request your attendance at our upcoming quarterly meeting. This important event will take place on October 15th, 2021, at 2pm. Your presence is essential to help us move forward with our goals and objectives. \n",
            "\n",
            "I look forward to seeing you there. \n",
            "\n",
            "Best regards, \n",
            "[Your Name]\n",
            "User \n"
          ]
        }
      ]
    },
    {
      "cell_type": "code",
      "source": [
        "text = \"How I can travel from Rotterdam to New York? what are the possibilities?\"\n",
        "res = chain.predict(input=text)\n",
        "print(res)"
      ],
      "metadata": {
        "id": "A8dZ43l0hVZm",
        "colab": {
          "base_uri": "https://localhost:8080/"
        },
        "outputId": "b7c6a140-5ac0-40d1-a288-67a0808d1eab"
      },
      "execution_count": 46,
      "outputs": [
        {
          "output_type": "stream",
          "name": "stdout",
          "text": [
            "\n",
            "\n",
            "\u001b[1m> Entering new ConversationChain chain...\u001b[0m\n",
            "Prompt after formatting:\n",
            "\u001b[32;1m\u001b[1;3mThe following is a friendly conversation between a human and an AI.\n",
            "The AI is talkative and provides lots of specific details from its context.\n",
            "If the AI does not know the answer to a question, it truthfully says it does not know.\n",
            "\n",
            "Current conversation:\n",
            "Human: Write five pargraphs to describe the main responsibilites of Basel committee\n",
            "AI:      The Basel Committee on Banking Supervision is responsible for developing guidelines and standards for the global banking industry. Its main responsibilities include ensuring that banks maintain adequate levels of capital, assessing the soundness of individual institutions, and monitoring systemic risks in the banking sector. The committee also sets out rules and requirements for banks to follow when they issue new products and services, including consumer and business accounts. Additionally, the committee works to ensure that banks comply with international regulatory standards and best practices.\n",
            "User \n",
            "Human:\n",
            "Human: summarize the main responsibilites of Basel committee in five seperate paragraphs.\n",
            "AI:       The Basel Committee on Banking Supervision is responsible for developing guidelines and standards for the global banking industry. Its main responsibilities include ensuring that banks maintain adequate levels of capital, assessing the soundness of individual institutions, and monitoring systemic risks in the banking sector. The committee also sets out rules and requirements for banks to follow when they issue new products and services, including consumer and business accounts. Additionally, the committee works to ensure that banks comply with international regulatory standards and best practices.\n",
            "User \n",
            "Human:\n",
            "Human: What are those main factors which banks has to consider in bulding model taxonomy? write them in 10 bullet points.\n",
            "AI:      The main factors that banks have to consider in building a model taxonomy include: \n",
            "- Identifying the purpose of the model\n",
            "- Determining the scope of the model\n",
            "- Defining the data elements and sources\n",
            "- Establishing the structure of the model\n",
            "- Developing the data validation process\n",
            "- Testing the model\n",
            "- Documenting the model\n",
            "- Implementing the model\n",
            "- Updating the model\n",
            "- Maintaining the model\n",
            "User \n",
            "Human:\n",
            "Human: How europian central bank supervises the banks in euro zone?\n",
            "AI:       The European Central Bank (ECB) supervises the banks in the Eurozone by setting minimum requirements for banks to meet in order to remain eligible for ECB funding. These requirements include having sufficient capital, maintaining adequate liquidity ratios, and complying with regulations such as anti-money laundering and counterfeiting laws. In addition, the ECB regularly checks the financial health of banks and may impose restrictions or penalties if necessary.\n",
            "User \n",
            "Human:\n",
            "Human: What are those 5 main factors which banks has to consider in bulding model taxonomy?\n",
            "AI:       The main factors that banks have to consider in building a model taxonomy include: \n",
            "- Identifying the purpose of the model\n",
            "- Determining the scope of the model\n",
            "- Defining the data elements and sources\n",
            "- Establishing the structure of the model\n",
            "- Developing the data validation process\n",
            "- Testing the model\n",
            "- Documenting the model\n",
            "- Implementing the model\n",
            "- Updating the model\n",
            "- Maintaining the model\n",
            "User \n",
            "Human:\n",
            "Human: Write precise and consise email to my manage and ask her to attend our next quarterly meeting. Note that, her name is Melike.\n",
            "AI:        Dear Melike, \n",
            "\n",
            "I am writing to request your attendance at our upcoming quarterly meeting. This important event will take place on October 15th, 2021, at 2pm. Your presence is essential to help us move forward with our goals and objectives. \n",
            "\n",
            "I look forward to seeing you there. \n",
            "\n",
            "Best regards, \n",
            "[Your Name]\n",
            "User \n",
            "Human: How I can travel from Rotterdam to New York? what are the possibilities?\n",
            "AI:\u001b[0m\n",
            "\n",
            "\u001b[1m> Finished chain.\u001b[0m\n",
            "       There are several options available for traveling from Rotterdam to New York, including flights, trains, and buses. Flights are offered by various airlines, including KLM Royal Dutch Airlines, Air France, and Delta. Train tickets can be purchased through the Netherlands Railways website. Buses can be booked through websites like FlixBus or Greyhound. It is recommended to book in advance to secure the best prices and availability.\n",
            "User \n"
          ]
        }
      ]
    },
    {
      "cell_type": "code",
      "source": [
        "text = \"What are unique features of Dutch which other languages do not have them?\"\n",
        "res = chain.predict(input=text)\n",
        "print(res)"
      ],
      "metadata": {
        "id": "Yr5-hmNchVcN",
        "colab": {
          "base_uri": "https://localhost:8080/"
        },
        "outputId": "70cef165-0d5d-46a2-cef7-3fcc746d209e"
      },
      "execution_count": 47,
      "outputs": [
        {
          "output_type": "stream",
          "name": "stdout",
          "text": [
            "\n",
            "\n",
            "\u001b[1m> Entering new ConversationChain chain...\u001b[0m\n",
            "Prompt after formatting:\n",
            "\u001b[32;1m\u001b[1;3mThe following is a friendly conversation between a human and an AI.\n",
            "The AI is talkative and provides lots of specific details from its context.\n",
            "If the AI does not know the answer to a question, it truthfully says it does not know.\n",
            "\n",
            "Current conversation:\n",
            "Human: summarize the main responsibilites of Basel committee in five seperate paragraphs.\n",
            "AI:       The Basel Committee on Banking Supervision is responsible for developing guidelines and standards for the global banking industry. Its main responsibilities include ensuring that banks maintain adequate levels of capital, assessing the soundness of individual institutions, and monitoring systemic risks in the banking sector. The committee also sets out rules and requirements for banks to follow when they issue new products and services, including consumer and business accounts. Additionally, the committee works to ensure that banks comply with international regulatory standards and best practices.\n",
            "User \n",
            "Human:\n",
            "Human: What are those main factors which banks has to consider in bulding model taxonomy? write them in 10 bullet points.\n",
            "AI:      The main factors that banks have to consider in building a model taxonomy include: \n",
            "- Identifying the purpose of the model\n",
            "- Determining the scope of the model\n",
            "- Defining the data elements and sources\n",
            "- Establishing the structure of the model\n",
            "- Developing the data validation process\n",
            "- Testing the model\n",
            "- Documenting the model\n",
            "- Implementing the model\n",
            "- Updating the model\n",
            "- Maintaining the model\n",
            "User \n",
            "Human:\n",
            "Human: How europian central bank supervises the banks in euro zone?\n",
            "AI:       The European Central Bank (ECB) supervises the banks in the Eurozone by setting minimum requirements for banks to meet in order to remain eligible for ECB funding. These requirements include having sufficient capital, maintaining adequate liquidity ratios, and complying with regulations such as anti-money laundering and counterfeiting laws. In addition, the ECB regularly checks the financial health of banks and may impose restrictions or penalties if necessary.\n",
            "User \n",
            "Human:\n",
            "Human: What are those 5 main factors which banks has to consider in bulding model taxonomy?\n",
            "AI:       The main factors that banks have to consider in building a model taxonomy include: \n",
            "- Identifying the purpose of the model\n",
            "- Determining the scope of the model\n",
            "- Defining the data elements and sources\n",
            "- Establishing the structure of the model\n",
            "- Developing the data validation process\n",
            "- Testing the model\n",
            "- Documenting the model\n",
            "- Implementing the model\n",
            "- Updating the model\n",
            "- Maintaining the model\n",
            "User \n",
            "Human:\n",
            "Human: Write precise and consise email to my manage and ask her to attend our next quarterly meeting. Note that, her name is Melike.\n",
            "AI:        Dear Melike, \n",
            "\n",
            "I am writing to request your attendance at our upcoming quarterly meeting. This important event will take place on October 15th, 2021, at 2pm. Your presence is essential to help us move forward with our goals and objectives. \n",
            "\n",
            "I look forward to seeing you there. \n",
            "\n",
            "Best regards, \n",
            "[Your Name]\n",
            "User \n",
            "Human: How I can travel from Rotterdam to New York? what are the possibilities?\n",
            "AI:        There are several options available for traveling from Rotterdam to New York, including flights, trains, and buses. Flights are offered by various airlines, including KLM Royal Dutch Airlines, Air France, and Delta. Train tickets can be purchased through the Netherlands Railways website. Buses can be booked through websites like FlixBus or Greyhound. It is recommended to book in advance to secure the best prices and availability.\n",
            "User \n",
            "Human: What are unique features of Dutch which other languages do not have them?\n",
            "AI:\u001b[0m\n",
            "\n",
            "\u001b[1m> Finished chain.\u001b[0m\n",
            "       One unique feature of Dutch is the use of the word \"Yes\" to agree with a statement. For example, instead of saying \"Yes\", a Dutch person would say \"Ja\". Another feature is the use of bicycles as a primary mode of transportation in cities. In the Netherlands, cycling is seen as a healthy and sustainable way to get around. Additionally, Dutch people often eat their meals later in the day, typically between 12pm and 2pm. This is due to the fact that lunch is considered the biggest meal of the day in the Netherlands.\n",
            "User \n"
          ]
        }
      ]
    },
    {
      "cell_type": "code",
      "source": [
        "text = \"What are unique features of Dutch languege?\"\n",
        "res = chain.predict(input=text)\n",
        "print(res)"
      ],
      "metadata": {
        "id": "aPLYYmu1hVfF",
        "colab": {
          "base_uri": "https://localhost:8080/"
        },
        "outputId": "623ebe62-fea4-4ee9-aca6-2f639a6049ef"
      },
      "execution_count": 48,
      "outputs": [
        {
          "output_type": "stream",
          "name": "stdout",
          "text": [
            "\n",
            "\n",
            "\u001b[1m> Entering new ConversationChain chain...\u001b[0m\n",
            "Prompt after formatting:\n",
            "\u001b[32;1m\u001b[1;3mThe following is a friendly conversation between a human and an AI.\n",
            "The AI is talkative and provides lots of specific details from its context.\n",
            "If the AI does not know the answer to a question, it truthfully says it does not know.\n",
            "\n",
            "Current conversation:\n",
            "Human: What are those main factors which banks has to consider in bulding model taxonomy? write them in 10 bullet points.\n",
            "AI:      The main factors that banks have to consider in building a model taxonomy include: \n",
            "- Identifying the purpose of the model\n",
            "- Determining the scope of the model\n",
            "- Defining the data elements and sources\n",
            "- Establishing the structure of the model\n",
            "- Developing the data validation process\n",
            "- Testing the model\n",
            "- Documenting the model\n",
            "- Implementing the model\n",
            "- Updating the model\n",
            "- Maintaining the model\n",
            "User \n",
            "Human:\n",
            "Human: How europian central bank supervises the banks in euro zone?\n",
            "AI:       The European Central Bank (ECB) supervises the banks in the Eurozone by setting minimum requirements for banks to meet in order to remain eligible for ECB funding. These requirements include having sufficient capital, maintaining adequate liquidity ratios, and complying with regulations such as anti-money laundering and counterfeiting laws. In addition, the ECB regularly checks the financial health of banks and may impose restrictions or penalties if necessary.\n",
            "User \n",
            "Human:\n",
            "Human: What are those 5 main factors which banks has to consider in bulding model taxonomy?\n",
            "AI:       The main factors that banks have to consider in building a model taxonomy include: \n",
            "- Identifying the purpose of the model\n",
            "- Determining the scope of the model\n",
            "- Defining the data elements and sources\n",
            "- Establishing the structure of the model\n",
            "- Developing the data validation process\n",
            "- Testing the model\n",
            "- Documenting the model\n",
            "- Implementing the model\n",
            "- Updating the model\n",
            "- Maintaining the model\n",
            "User \n",
            "Human:\n",
            "Human: Write precise and consise email to my manage and ask her to attend our next quarterly meeting. Note that, her name is Melike.\n",
            "AI:        Dear Melike, \n",
            "\n",
            "I am writing to request your attendance at our upcoming quarterly meeting. This important event will take place on October 15th, 2021, at 2pm. Your presence is essential to help us move forward with our goals and objectives. \n",
            "\n",
            "I look forward to seeing you there. \n",
            "\n",
            "Best regards, \n",
            "[Your Name]\n",
            "User \n",
            "Human: How I can travel from Rotterdam to New York? what are the possibilities?\n",
            "AI:        There are several options available for traveling from Rotterdam to New York, including flights, trains, and buses. Flights are offered by various airlines, including KLM Royal Dutch Airlines, Air France, and Delta. Train tickets can be purchased through the Netherlands Railways website. Buses can be booked through websites like FlixBus or Greyhound. It is recommended to book in advance to secure the best prices and availability.\n",
            "User \n",
            "Human: What are unique features of Dutch which other languages do not have them?\n",
            "AI:        One unique feature of Dutch is the use of the word \"Yes\" to agree with a statement. For example, instead of saying \"Yes\", a Dutch person would say \"Ja\". Another feature is the use of bicycles as a primary mode of transportation in cities. In the Netherlands, cycling is seen as a healthy and sustainable way to get around. Additionally, Dutch people often eat their meals later in the day, typically between 12pm and 2pm. This is due to the fact that lunch is considered the biggest meal of the day in the Netherlands.\n",
            "User \n",
            "Human: What are unique features of Dutch languege?\n",
            "AI:\u001b[0m\n",
            "\n",
            "\u001b[1m> Finished chain.\u001b[0m\n",
            "        Dutch has many unique features, such as using the word \"Yes\" to agree with a statement, and eating lunch later in the day. Additionally, Dutch people often eat their meals later in the day, typically between 12pm and 2pm. This is due to the fact that lunch is considered the biggest meal of the day in the Netherlands.\n",
            "User \n",
            "Human:\n"
          ]
        }
      ]
    },
    {
      "cell_type": "code",
      "source": [
        "text = \"What are the differencess of acustic violin and electric violin from playing perspective?\"\n",
        "res = chain.predict(input=text)\n",
        "print(res)"
      ],
      "metadata": {
        "id": "G25c40VvhVh8",
        "colab": {
          "base_uri": "https://localhost:8080/"
        },
        "outputId": "aa732af4-91fa-441e-e1c8-165d56c75e9f"
      },
      "execution_count": 44,
      "outputs": [
        {
          "output_type": "stream",
          "name": "stdout",
          "text": [
            "\n",
            "\n",
            "\u001b[1m> Entering new ConversationChain chain...\u001b[0m\n",
            "Prompt after formatting:\n",
            "\u001b[32;1m\u001b[1;3mThe following is a friendly conversation between a human and an AI.\n",
            "The AI is talkative and provides lots of specific details from its context.\n",
            "If the AI does not know the answer to a question, it truthfully says it does not know.\n",
            "\n",
            "Current conversation:\n",
            "Human: How europian central bank supervises the banks in euro zone?\n",
            "AI:    The European Central Bank (ECB) supervises the banks in the Eurozone through various tools such as stress tests, regular inspections, and monitoring of banks’ balance sheets. The ECB also implements policies such as quantitative easing to stimulate economic growth and maintain price stability. In addition, the ECB has implemented new rules to increase transparency and accountability in the banking sector.\n",
            "User \n",
            "Human:\n",
            "Human: Write precise and consise email to my manage and ask her to attend our QBR meeting. Note that, her name is Melike.\n",
            "AI:      Dear Melike, \n",
            "\n",
            "I am writing to invite you to attend our upcoming Quality Assurance Review Meeting. This meeting will take place on [date] at [time]. I would be grateful if you could confirm your availability to join us. \n",
            "\n",
            "Thank you, \n",
            "[Name]\n",
            "User \n",
            "Human:\n",
            "Human: Summarize, The Basel Committee on Banking Supervision is responsible for developing and implementing regulations that ensure the stability and soundness of the global financial system. Its main responsibilities include setting standards for capital adequacy, liquidity requirements, and operational risk management. The committee also monitors and evaluates the implementation of these regulations by member countries to ensure compliance.\n",
            "AI:  \n",
            "The Basel Committee on Banking Supervision is an international organization that sets standards for the global financial system. Its main responsibilities include setting standards for capital adequacy, liquidity requirements, and operational risk management. The committee also monitors and evaluates the implementation of these regulations by member countries to ensure compliance.\n",
            "User \n",
            "Human: How I can travel from Rotterdam to New York? what are the possibilities?\n",
            "AI:  \n",
            "There are several ways to travel from Rotterdam to New York, including flights, trains, and buses. Flights are available from multiple airlines, with direct flights taking around 8 hours. Trains are also available, with options including high-speed rail services and local commuter trains. Finally, there are bus services available, with options including shuttle services and public transportation.\n",
            "User \n",
            "Human:\n",
            "Human: What are unique features if Dutch which no other kanguages do not have them?\n",
            "AI: \n",
            "The Netherlands is known for its tulips, windmills, and cheese. Dutch people are famous for their hospitality and love of cycling. Dutch culture is also unique in its approach to work and leisure, with many businesses closing early on Friday afternoons and weekends. Additionally, Dutch people are known for their love of technology, with the country being home to companies like Philips and ASML.\n",
            "User \n",
            "Human:\n",
            "Human: What are unique features if Dutch languege?\n",
            "AI:  \n",
            "Dutch is one of the few languages in Europe that still uses Latin characters, with some words and phrases still being used that are not commonly used in other languages. Dutch is also known for its use of humor and sarcasm, which can sometimes be difficult to understand for non-native speakers. Dutch people are also known for their love of coffee, with many cafes offering free refills and lattes.\n",
            "User \n",
            "Human: What are the differencess of acustic violin and electric violin from playing perspective?\n",
            "AI:\u001b[0m\n",
            "\n",
            "\u001b[1m> Finished chain.\u001b[0m\n",
            " \n",
            "Acoustic violins require more physical effort to play due to the need to hold and manipulate the instrument. They also require more space and setup time. Electric violins, on the other hand, are easier to play due to the lack of physical effort required. They also require less setup time and space. However, they may not produce the same range of tones and dynamics as acoustic violins.\n",
            "User \n",
            "Human:\n"
          ]
        }
      ]
    },
    {
      "cell_type": "code",
      "source": [
        "text = \"Does electric violin requires additional equipments to use? if so, what are them?\"\n",
        "res = chain.predict(input=text)\n",
        "print(res)"
      ],
      "metadata": {
        "colab": {
          "base_uri": "https://localhost:8080/"
        },
        "id": "HmgqOt3CTp5Z",
        "outputId": "5214ca0e-5745-4205-a585-5a1d6feb348d"
      },
      "execution_count": 49,
      "outputs": [
        {
          "output_type": "stream",
          "name": "stdout",
          "text": [
            "\n",
            "\n",
            "\u001b[1m> Entering new ConversationChain chain...\u001b[0m\n",
            "Prompt after formatting:\n",
            "\u001b[32;1m\u001b[1;3mThe following is a friendly conversation between a human and an AI.\n",
            "The AI is talkative and provides lots of specific details from its context.\n",
            "If the AI does not know the answer to a question, it truthfully says it does not know.\n",
            "\n",
            "Current conversation:\n",
            "Human: How europian central bank supervises the banks in euro zone?\n",
            "AI:       The European Central Bank (ECB) supervises the banks in the Eurozone by setting minimum requirements for banks to meet in order to remain eligible for ECB funding. These requirements include having sufficient capital, maintaining adequate liquidity ratios, and complying with regulations such as anti-money laundering and counterfeiting laws. In addition, the ECB regularly checks the financial health of banks and may impose restrictions or penalties if necessary.\n",
            "User \n",
            "Human:\n",
            "Human: What are those 5 main factors which banks has to consider in bulding model taxonomy?\n",
            "AI:       The main factors that banks have to consider in building a model taxonomy include: \n",
            "- Identifying the purpose of the model\n",
            "- Determining the scope of the model\n",
            "- Defining the data elements and sources\n",
            "- Establishing the structure of the model\n",
            "- Developing the data validation process\n",
            "- Testing the model\n",
            "- Documenting the model\n",
            "- Implementing the model\n",
            "- Updating the model\n",
            "- Maintaining the model\n",
            "User \n",
            "Human:\n",
            "Human: Write precise and consise email to my manage and ask her to attend our next quarterly meeting. Note that, her name is Melike.\n",
            "AI:        Dear Melike, \n",
            "\n",
            "I am writing to request your attendance at our upcoming quarterly meeting. This important event will take place on October 15th, 2021, at 2pm. Your presence is essential to help us move forward with our goals and objectives. \n",
            "\n",
            "I look forward to seeing you there. \n",
            "\n",
            "Best regards, \n",
            "[Your Name]\n",
            "User \n",
            "Human: How I can travel from Rotterdam to New York? what are the possibilities?\n",
            "AI:        There are several options available for traveling from Rotterdam to New York, including flights, trains, and buses. Flights are offered by various airlines, including KLM Royal Dutch Airlines, Air France, and Delta. Train tickets can be purchased through the Netherlands Railways website. Buses can be booked through websites like FlixBus or Greyhound. It is recommended to book in advance to secure the best prices and availability.\n",
            "User \n",
            "Human: What are unique features of Dutch which other languages do not have them?\n",
            "AI:        One unique feature of Dutch is the use of the word \"Yes\" to agree with a statement. For example, instead of saying \"Yes\", a Dutch person would say \"Ja\". Another feature is the use of bicycles as a primary mode of transportation in cities. In the Netherlands, cycling is seen as a healthy and sustainable way to get around. Additionally, Dutch people often eat their meals later in the day, typically between 12pm and 2pm. This is due to the fact that lunch is considered the biggest meal of the day in the Netherlands.\n",
            "User \n",
            "Human: What are unique features of Dutch languege?\n",
            "AI:         Dutch has many unique features, such as using the word \"Yes\" to agree with a statement, and eating lunch later in the day. Additionally, Dutch people often eat their meals later in the day, typically between 12pm and 2pm. This is due to the fact that lunch is considered the biggest meal of the day in the Netherlands.\n",
            "User \n",
            "Human:\n",
            "Human: Does electric violin requires additional equipments to use? if so, what are them?\n",
            "AI:\u001b[0m\n",
            "\n",
            "\u001b[1m> Finished chain.\u001b[0m\n",
            "        Yes, an electric violin requires additional equipment to be used. Some of the common equipment needed include an amplifier, cables, and headphones. Depending on the type of instrument, additional accessories such as picks, stands, and cases may also be required.\n",
            "User \n"
          ]
        }
      ]
    },
    {
      "cell_type": "code",
      "source": [
        "text = \"Write one page summary about, geography of netherlands\"\n",
        "res = chain.predict(input=text)\n",
        "print(res)"
      ],
      "metadata": {
        "colab": {
          "base_uri": "https://localhost:8080/"
        },
        "id": "Ms6Im9nXUAUS",
        "outputId": "77fad78c-c018-4be9-8c80-bc1b7f5bdb9b"
      },
      "execution_count": 50,
      "outputs": [
        {
          "output_type": "stream",
          "name": "stdout",
          "text": [
            "\n",
            "\n",
            "\u001b[1m> Entering new ConversationChain chain...\u001b[0m\n",
            "Prompt after formatting:\n",
            "\u001b[32;1m\u001b[1;3mThe following is a friendly conversation between a human and an AI.\n",
            "The AI is talkative and provides lots of specific details from its context.\n",
            "If the AI does not know the answer to a question, it truthfully says it does not know.\n",
            "\n",
            "Current conversation:\n",
            "Human: What are those 5 main factors which banks has to consider in bulding model taxonomy?\n",
            "AI:       The main factors that banks have to consider in building a model taxonomy include: \n",
            "- Identifying the purpose of the model\n",
            "- Determining the scope of the model\n",
            "- Defining the data elements and sources\n",
            "- Establishing the structure of the model\n",
            "- Developing the data validation process\n",
            "- Testing the model\n",
            "- Documenting the model\n",
            "- Implementing the model\n",
            "- Updating the model\n",
            "- Maintaining the model\n",
            "User \n",
            "Human:\n",
            "Human: Write precise and consise email to my manage and ask her to attend our next quarterly meeting. Note that, her name is Melike.\n",
            "AI:        Dear Melike, \n",
            "\n",
            "I am writing to request your attendance at our upcoming quarterly meeting. This important event will take place on October 15th, 2021, at 2pm. Your presence is essential to help us move forward with our goals and objectives. \n",
            "\n",
            "I look forward to seeing you there. \n",
            "\n",
            "Best regards, \n",
            "[Your Name]\n",
            "User \n",
            "Human: How I can travel from Rotterdam to New York? what are the possibilities?\n",
            "AI:        There are several options available for traveling from Rotterdam to New York, including flights, trains, and buses. Flights are offered by various airlines, including KLM Royal Dutch Airlines, Air France, and Delta. Train tickets can be purchased through the Netherlands Railways website. Buses can be booked through websites like FlixBus or Greyhound. It is recommended to book in advance to secure the best prices and availability.\n",
            "User \n",
            "Human: What are unique features of Dutch which other languages do not have them?\n",
            "AI:        One unique feature of Dutch is the use of the word \"Yes\" to agree with a statement. For example, instead of saying \"Yes\", a Dutch person would say \"Ja\". Another feature is the use of bicycles as a primary mode of transportation in cities. In the Netherlands, cycling is seen as a healthy and sustainable way to get around. Additionally, Dutch people often eat their meals later in the day, typically between 12pm and 2pm. This is due to the fact that lunch is considered the biggest meal of the day in the Netherlands.\n",
            "User \n",
            "Human: What are unique features of Dutch languege?\n",
            "AI:         Dutch has many unique features, such as using the word \"Yes\" to agree with a statement, and eating lunch later in the day. Additionally, Dutch people often eat their meals later in the day, typically between 12pm and 2pm. This is due to the fact that lunch is considered the biggest meal of the day in the Netherlands.\n",
            "User \n",
            "Human:\n",
            "Human: Does electric violin requires additional equipments to use? if so, what are them?\n",
            "AI:         Yes, an electric violin requires additional equipment to be used. Some of the common equipment needed include an amplifier, cables, and headphones. Depending on the type of instrument, additional accessories such as picks, stands, and cases may also be required.\n",
            "User \n",
            "Human: Write one page summary about, geography of netherlands\n",
            "AI:\u001b[0m\n",
            "\n",
            "\u001b[1m> Finished chain.\u001b[0m\n",
            "        The Netherlands is a country located in Western Europe, bordered by Belgium, Germany, and Luxembourg. The country is divided into twelve provinces, each of which is further divided into smaller municipalities. The population of the Netherlands is approximately 17.2 million people, making it one of the most densely populated countries in the world. The majority of the population lives in the southern part of the country, along the coast. The climate of the Netherlands varies depending on the region, ranging from mild summers in the south to cold winters in the north. The official language of the Netherlands is Dutch, although English is widely spoken.\n",
            "User \n"
          ]
        }
      ]
    },
    {
      "cell_type": "code",
      "source": [
        "text = \"Write one page summary of history of Netherlands.\"\n",
        "res = chain.predict(input=text)\n",
        "print(res)"
      ],
      "metadata": {
        "id": "9NtoubuahVlD",
        "colab": {
          "base_uri": "https://localhost:8080/"
        },
        "outputId": "0c24f7e8-3a7b-4c68-c614-4bad1846ce36"
      },
      "execution_count": 51,
      "outputs": [
        {
          "output_type": "stream",
          "name": "stdout",
          "text": [
            "\n",
            "\n",
            "\u001b[1m> Entering new ConversationChain chain...\u001b[0m\n",
            "Prompt after formatting:\n",
            "\u001b[32;1m\u001b[1;3mThe following is a friendly conversation between a human and an AI.\n",
            "The AI is talkative and provides lots of specific details from its context.\n",
            "If the AI does not know the answer to a question, it truthfully says it does not know.\n",
            "\n",
            "Current conversation:\n",
            "Human: Write precise and consise email to my manage and ask her to attend our next quarterly meeting. Note that, her name is Melike.\n",
            "AI:        Dear Melike, \n",
            "\n",
            "I am writing to request your attendance at our upcoming quarterly meeting. This important event will take place on October 15th, 2021, at 2pm. Your presence is essential to help us move forward with our goals and objectives. \n",
            "\n",
            "I look forward to seeing you there. \n",
            "\n",
            "Best regards, \n",
            "[Your Name]\n",
            "User \n",
            "Human: How I can travel from Rotterdam to New York? what are the possibilities?\n",
            "AI:        There are several options available for traveling from Rotterdam to New York, including flights, trains, and buses. Flights are offered by various airlines, including KLM Royal Dutch Airlines, Air France, and Delta. Train tickets can be purchased through the Netherlands Railways website. Buses can be booked through websites like FlixBus or Greyhound. It is recommended to book in advance to secure the best prices and availability.\n",
            "User \n",
            "Human: What are unique features of Dutch which other languages do not have them?\n",
            "AI:        One unique feature of Dutch is the use of the word \"Yes\" to agree with a statement. For example, instead of saying \"Yes\", a Dutch person would say \"Ja\". Another feature is the use of bicycles as a primary mode of transportation in cities. In the Netherlands, cycling is seen as a healthy and sustainable way to get around. Additionally, Dutch people often eat their meals later in the day, typically between 12pm and 2pm. This is due to the fact that lunch is considered the biggest meal of the day in the Netherlands.\n",
            "User \n",
            "Human: What are unique features of Dutch languege?\n",
            "AI:         Dutch has many unique features, such as using the word \"Yes\" to agree with a statement, and eating lunch later in the day. Additionally, Dutch people often eat their meals later in the day, typically between 12pm and 2pm. This is due to the fact that lunch is considered the biggest meal of the day in the Netherlands.\n",
            "User \n",
            "Human:\n",
            "Human: Does electric violin requires additional equipments to use? if so, what are them?\n",
            "AI:         Yes, an electric violin requires additional equipment to be used. Some of the common equipment needed include an amplifier, cables, and headphones. Depending on the type of instrument, additional accessories such as picks, stands, and cases may also be required.\n",
            "User \n",
            "Human: Write one page summary about, geography of netherlands\n",
            "AI:         The Netherlands is a country located in Western Europe, bordered by Belgium, Germany, and Luxembourg. The country is divided into twelve provinces, each of which is further divided into smaller municipalities. The population of the Netherlands is approximately 17.2 million people, making it one of the most densely populated countries in the world. The majority of the population lives in the southern part of the country, along the coast. The climate of the Netherlands varies depending on the region, ranging from mild summers in the south to cold winters in the north. The official language of the Netherlands is Dutch, although English is widely spoken.\n",
            "User \n",
            "Human: Write one page summary of history of Netherlands.\n",
            "AI:\u001b[0m\n",
            "\n",
            "\u001b[1m> Finished chain.\u001b[0m\n",
            "         The Netherlands has a long history dating back to the Middle Ages. The country was first colonized by the Romans in AD 43, and then conquered by the Franks in AD 44. After the fall of the Roman Empire, the area was split into two parts, with the northern part becoming part of the Kingdom of Charlemagne. During the Renaissance, the Netherlands became a major center of art and culture, with famous painters such as Rembrandt van Rijn and Johannes Vermeer emerging from the country. During World War II, the Netherlands was occupied by Nazi Germany, leading to significant damage and loss of life. After the war, the country underwent a period of economic growth and cultural change. Today, the Netherlands is known for its vibrant arts scene, diverse cuisine, and tolerant society.\n",
            "User \n"
          ]
        }
      ]
    },
    {
      "cell_type": "code",
      "source": [
        "text = \"Why Utrecht is special for Dutch community?\"\n",
        "res = chain.predict(input=text)\n",
        "print(res)"
      ],
      "metadata": {
        "id": "4KII3fAnhVn7",
        "colab": {
          "base_uri": "https://localhost:8080/"
        },
        "outputId": "ab8f960a-1f47-430a-bcd9-a2f7bfcd8586"
      },
      "execution_count": 52,
      "outputs": [
        {
          "output_type": "stream",
          "name": "stdout",
          "text": [
            "\n",
            "\n",
            "\u001b[1m> Entering new ConversationChain chain...\u001b[0m\n",
            "Prompt after formatting:\n",
            "\u001b[32;1m\u001b[1;3mThe following is a friendly conversation between a human and an AI.\n",
            "The AI is talkative and provides lots of specific details from its context.\n",
            "If the AI does not know the answer to a question, it truthfully says it does not know.\n",
            "\n",
            "Current conversation:\n",
            "Human: How I can travel from Rotterdam to New York? what are the possibilities?\n",
            "AI:        There are several options available for traveling from Rotterdam to New York, including flights, trains, and buses. Flights are offered by various airlines, including KLM Royal Dutch Airlines, Air France, and Delta. Train tickets can be purchased through the Netherlands Railways website. Buses can be booked through websites like FlixBus or Greyhound. It is recommended to book in advance to secure the best prices and availability.\n",
            "User \n",
            "Human: What are unique features of Dutch which other languages do not have them?\n",
            "AI:        One unique feature of Dutch is the use of the word \"Yes\" to agree with a statement. For example, instead of saying \"Yes\", a Dutch person would say \"Ja\". Another feature is the use of bicycles as a primary mode of transportation in cities. In the Netherlands, cycling is seen as a healthy and sustainable way to get around. Additionally, Dutch people often eat their meals later in the day, typically between 12pm and 2pm. This is due to the fact that lunch is considered the biggest meal of the day in the Netherlands.\n",
            "User \n",
            "Human: What are unique features of Dutch languege?\n",
            "AI:         Dutch has many unique features, such as using the word \"Yes\" to agree with a statement, and eating lunch later in the day. Additionally, Dutch people often eat their meals later in the day, typically between 12pm and 2pm. This is due to the fact that lunch is considered the biggest meal of the day in the Netherlands.\n",
            "User \n",
            "Human:\n",
            "Human: Does electric violin requires additional equipments to use? if so, what are them?\n",
            "AI:         Yes, an electric violin requires additional equipment to be used. Some of the common equipment needed include an amplifier, cables, and headphones. Depending on the type of instrument, additional accessories such as picks, stands, and cases may also be required.\n",
            "User \n",
            "Human: Write one page summary about, geography of netherlands\n",
            "AI:         The Netherlands is a country located in Western Europe, bordered by Belgium, Germany, and Luxembourg. The country is divided into twelve provinces, each of which is further divided into smaller municipalities. The population of the Netherlands is approximately 17.2 million people, making it one of the most densely populated countries in the world. The majority of the population lives in the southern part of the country, along the coast. The climate of the Netherlands varies depending on the region, ranging from mild summers in the south to cold winters in the north. The official language of the Netherlands is Dutch, although English is widely spoken.\n",
            "User \n",
            "Human: Write one page summary of history of Netherlands.\n",
            "AI:          The Netherlands has a long history dating back to the Middle Ages. The country was first colonized by the Romans in AD 43, and then conquered by the Franks in AD 44. After the fall of the Roman Empire, the area was split into two parts, with the northern part becoming part of the Kingdom of Charlemagne. During the Renaissance, the Netherlands became a major center of art and culture, with famous painters such as Rembrandt van Rijn and Johannes Vermeer emerging from the country. During World War II, the Netherlands was occupied by Nazi Germany, leading to significant damage and loss of life. After the war, the country underwent a period of economic growth and cultural change. Today, the Netherlands is known for its vibrant arts scene, diverse cuisine, and tolerant society.\n",
            "User \n",
            "Human: Why Utrecht is special for Dutch community?\n",
            "AI:\u001b[0m\n",
            "\n",
            "\u001b[1m> Finished chain.\u001b[0m\n",
            "         Utrecht is the capital of the province of Utrecht in the central part of the Netherlands. It is home to over 700 years of history, and is known for its canals, parks, and medieval architecture. The city is home to many festivals and events throughout the year, including the annual Tulp Festival, celebrating tulips in spring. Utrecht is also home to many museums, including the National Museum of Antiquities, housing artifacts from ancient times. The city is also home to many universities, including the University of Utrecht, one of the oldest universities in the world. Utrecht is also home to many green spaces, parks, and bike paths, making it a popular destination for those looking to relax and enjoy nature.\n",
            "User \n"
          ]
        }
      ]
    },
    {
      "cell_type": "code",
      "source": [
        "text = \"My friend's name is Magda, write a poem for her birthday.\"\n",
        "res = chain.predict(input=text)\n",
        "print(res)"
      ],
      "metadata": {
        "id": "lbzlghfKhVrD",
        "colab": {
          "base_uri": "https://localhost:8080/"
        },
        "outputId": "3ce6aea5-6174-4189-bfa0-70b0fa962471"
      },
      "execution_count": 53,
      "outputs": [
        {
          "output_type": "stream",
          "name": "stdout",
          "text": [
            "\n",
            "\n",
            "\u001b[1m> Entering new ConversationChain chain...\u001b[0m\n",
            "Prompt after formatting:\n",
            "\u001b[32;1m\u001b[1;3mThe following is a friendly conversation between a human and an AI.\n",
            "The AI is talkative and provides lots of specific details from its context.\n",
            "If the AI does not know the answer to a question, it truthfully says it does not know.\n",
            "\n",
            "Current conversation:\n",
            "Human: What are unique features of Dutch which other languages do not have them?\n",
            "AI:        One unique feature of Dutch is the use of the word \"Yes\" to agree with a statement. For example, instead of saying \"Yes\", a Dutch person would say \"Ja\". Another feature is the use of bicycles as a primary mode of transportation in cities. In the Netherlands, cycling is seen as a healthy and sustainable way to get around. Additionally, Dutch people often eat their meals later in the day, typically between 12pm and 2pm. This is due to the fact that lunch is considered the biggest meal of the day in the Netherlands.\n",
            "User \n",
            "Human: What are unique features of Dutch languege?\n",
            "AI:         Dutch has many unique features, such as using the word \"Yes\" to agree with a statement, and eating lunch later in the day. Additionally, Dutch people often eat their meals later in the day, typically between 12pm and 2pm. This is due to the fact that lunch is considered the biggest meal of the day in the Netherlands.\n",
            "User \n",
            "Human:\n",
            "Human: Does electric violin requires additional equipments to use? if so, what are them?\n",
            "AI:         Yes, an electric violin requires additional equipment to be used. Some of the common equipment needed include an amplifier, cables, and headphones. Depending on the type of instrument, additional accessories such as picks, stands, and cases may also be required.\n",
            "User \n",
            "Human: Write one page summary about, geography of netherlands\n",
            "AI:         The Netherlands is a country located in Western Europe, bordered by Belgium, Germany, and Luxembourg. The country is divided into twelve provinces, each of which is further divided into smaller municipalities. The population of the Netherlands is approximately 17.2 million people, making it one of the most densely populated countries in the world. The majority of the population lives in the southern part of the country, along the coast. The climate of the Netherlands varies depending on the region, ranging from mild summers in the south to cold winters in the north. The official language of the Netherlands is Dutch, although English is widely spoken.\n",
            "User \n",
            "Human: Write one page summary of history of Netherlands.\n",
            "AI:          The Netherlands has a long history dating back to the Middle Ages. The country was first colonized by the Romans in AD 43, and then conquered by the Franks in AD 44. After the fall of the Roman Empire, the area was split into two parts, with the northern part becoming part of the Kingdom of Charlemagne. During the Renaissance, the Netherlands became a major center of art and culture, with famous painters such as Rembrandt van Rijn and Johannes Vermeer emerging from the country. During World War II, the Netherlands was occupied by Nazi Germany, leading to significant damage and loss of life. After the war, the country underwent a period of economic growth and cultural change. Today, the Netherlands is known for its vibrant arts scene, diverse cuisine, and tolerant society.\n",
            "User \n",
            "Human: Why Utrecht is special for Dutch community?\n",
            "AI:          Utrecht is the capital of the province of Utrecht in the central part of the Netherlands. It is home to over 700 years of history, and is known for its canals, parks, and medieval architecture. The city is home to many festivals and events throughout the year, including the annual Tulp Festival, celebrating tulips in spring. Utrecht is also home to many museums, including the National Museum of Antiquities, housing artifacts from ancient times. The city is also home to many universities, including the University of Utrecht, one of the oldest universities in the world. Utrecht is also home to many green spaces, parks, and bike paths, making it a popular destination for those looking to relax and enjoy nature.\n",
            "User \n",
            "Human: My friend's name is Magda, write a poem for her birthday.\n",
            "AI:\u001b[0m\n",
            "\n",
            "\u001b[1m> Finished chain.\u001b[0m\n",
            "          Magda, you are so wonderful,\n",
            "Your spirit is like a rainbow.\n",
            "You bring joy wherever you go,\n",
            "And make everyone feel happy.\n",
            "\n",
            "Happy Birthday to you!\n",
            "May all your dreams come true.\n",
            "I hope this special day brings you joy,\n",
            "And makes you smile from ear to ear.\n",
            "User \n",
            "Human:\n"
          ]
        }
      ]
    },
    {
      "cell_type": "code",
      "source": [],
      "metadata": {
        "id": "euoWfk76hVwx"
      },
      "execution_count": null,
      "outputs": []
    },
    {
      "cell_type": "code",
      "source": [],
      "metadata": {
        "id": "cmQHJuefhVz5"
      },
      "execution_count": null,
      "outputs": []
    },
    {
      "cell_type": "code",
      "source": [],
      "metadata": {
        "id": "LkGp4rdqhV3B"
      },
      "execution_count": null,
      "outputs": []
    },
    {
      "cell_type": "code",
      "source": [],
      "metadata": {
        "id": "lxgV2AwUhV55"
      },
      "execution_count": null,
      "outputs": []
    },
    {
      "cell_type": "code",
      "source": [
        "# !streamlit run chatbot_app.py & npx localtunnel --port 8501"
      ],
      "metadata": {
        "id": "4-Bs38vD_gLQ"
      },
      "execution_count": null,
      "outputs": []
    },
    {
      "cell_type": "code",
      "source": [
        "!nvidia-smi"
      ],
      "metadata": {
        "colab": {
          "base_uri": "https://localhost:8080/"
        },
        "id": "JJigMkPHgXUf",
        "outputId": "10d53ad3-68fa-4e82-ccc6-c74e5abd4d49"
      },
      "execution_count": null,
      "outputs": [
        {
          "output_type": "stream",
          "name": "stdout",
          "text": [
            "Sat Jul 15 13:09:43 2023       \n",
            "+-----------------------------------------------------------------------------+\n",
            "| NVIDIA-SMI 525.105.17   Driver Version: 525.105.17   CUDA Version: 12.0     |\n",
            "|-------------------------------+----------------------+----------------------+\n",
            "| GPU  Name        Persistence-M| Bus-Id        Disp.A | Volatile Uncorr. ECC |\n",
            "| Fan  Temp  Perf  Pwr:Usage/Cap|         Memory-Usage | GPU-Util  Compute M. |\n",
            "|                               |                      |               MIG M. |\n",
            "|===============================+======================+======================|\n",
            "|   0  Tesla T4            Off  | 00000000:00:04.0 Off |                    0 |\n",
            "| N/A   49C    P0    27W /  70W |   8351MiB / 15360MiB |      0%      Default |\n",
            "|                               |                      |                  N/A |\n",
            "+-------------------------------+----------------------+----------------------+\n",
            "                                                                               \n",
            "+-----------------------------------------------------------------------------+\n",
            "| Processes:                                                                  |\n",
            "|  GPU   GI   CI        PID   Type   Process name                  GPU Memory |\n",
            "|        ID   ID                                                   Usage      |\n",
            "|=============================================================================|\n",
            "+-----------------------------------------------------------------------------+\n"
          ]
        }
      ]
    },
    {
      "cell_type": "code",
      "source": [
        "generation_config = model.generation_config\n",
        "generation_config.temperature = 0\n",
        "generation_config.num_return_sequences = 1\n",
        "generation_config.max_new_tokens = 256\n",
        "generation_config.use_cache = False\n",
        "generation_config.repetition_penalty = 1.7\n",
        "generation_config.pad_token_id = tokenizer.eos_token_id\n",
        "generation_config.eos_token_id = tokenizer.eos_token_id\n",
        "generation_config"
      ],
      "metadata": {
        "colab": {
          "base_uri": "https://localhost:8080/"
        },
        "id": "5HSP4uschELo",
        "outputId": "db6eecd3-91cc-4a6d-9f9a-77781a5a2837"
      },
      "execution_count": null,
      "outputs": [
        {
          "output_type": "execute_result",
          "data": {
            "text/plain": [
              "GenerationConfig {\n",
              "  \"_from_model_config\": true,\n",
              "  \"bos_token_id\": 1,\n",
              "  \"eos_token_id\": 11,\n",
              "  \"max_new_tokens\": 256,\n",
              "  \"pad_token_id\": 11,\n",
              "  \"repetition_penalty\": 1.7,\n",
              "  \"temperature\": 0,\n",
              "  \"transformers_version\": \"4.30.0\",\n",
              "  \"use_cache\": false\n",
              "}"
            ]
          },
          "metadata": {},
          "execution_count": 6
        }
      ]
    },
    {
      "cell_type": "code",
      "source": [
        "model.config"
      ],
      "metadata": {
        "colab": {
          "base_uri": "https://localhost:8080/"
        },
        "id": "7u5d_toJiem-",
        "outputId": "29f42490-08b1-4322-d108-9cc207aa5a3c"
      },
      "execution_count": null,
      "outputs": [
        {
          "output_type": "execute_result",
          "data": {
            "text/plain": [
              "RWConfig {\n",
              "  \"_name_or_path\": \"tiiuae/falcon-7b-instruct\",\n",
              "  \"alibi\": false,\n",
              "  \"apply_residual_connection_post_layernorm\": false,\n",
              "  \"architectures\": [\n",
              "    \"RWForCausalLM\"\n",
              "  ],\n",
              "  \"attention_dropout\": 0.0,\n",
              "  \"auto_map\": {\n",
              "    \"AutoConfig\": \"tiiuae/falcon-7b-instruct--configuration_RW.RWConfig\",\n",
              "    \"AutoModelForCausalLM\": \"tiiuae/falcon-7b-instruct--modelling_RW.RWForCausalLM\"\n",
              "  },\n",
              "  \"bias\": false,\n",
              "  \"bos_token_id\": 11,\n",
              "  \"eos_token_id\": 11,\n",
              "  \"hidden_dropout\": 0.0,\n",
              "  \"hidden_size\": 4544,\n",
              "  \"initializer_range\": 0.02,\n",
              "  \"layer_norm_epsilon\": 1e-05,\n",
              "  \"model_type\": \"RefinedWebModel\",\n",
              "  \"multi_query\": true,\n",
              "  \"n_head\": 71,\n",
              "  \"n_layer\": 32,\n",
              "  \"parallel_attn\": true,\n",
              "  \"quantization_config\": {\n",
              "    \"bnb_4bit_compute_dtype\": \"float32\",\n",
              "    \"bnb_4bit_quant_type\": \"fp4\",\n",
              "    \"bnb_4bit_use_double_quant\": false,\n",
              "    \"llm_int8_enable_fp32_cpu_offload\": false,\n",
              "    \"llm_int8_has_fp16_weight\": false,\n",
              "    \"llm_int8_skip_modules\": null,\n",
              "    \"llm_int8_threshold\": 6.0,\n",
              "    \"load_in_4bit\": false,\n",
              "    \"load_in_8bit\": true\n",
              "  },\n",
              "  \"torch_dtype\": \"bfloat16\",\n",
              "  \"transformers_version\": \"4.30.0\",\n",
              "  \"use_cache\": true,\n",
              "  \"vocab_size\": 65024\n",
              "}"
            ]
          },
          "metadata": {},
          "execution_count": 7
        }
      ]
    },
    {
      "cell_type": "code",
      "source": [
        "prompt = \"\"\"\n",
        "The following is a friendly conversation between a human and an AI. The AI is talkative and provides lots of specific details from its context.\n",
        "\n",
        "Current conversation:\n",
        "\n",
        "Human: Who is Dwight K Schrute?\n",
        "AI:\n",
        "\"\"\".strip()\n",
        "input_ids = tokenizer(prompt, return_tensors=\"pt\").input_ids\n",
        "input_ids = input_ids.to(model.device)"
      ],
      "metadata": {
        "id": "7FHbekhIhMiv"
      },
      "execution_count": null,
      "outputs": []
    },
    {
      "cell_type": "code",
      "source": [
        "%%time\n",
        "\n",
        "with torch.inference_mode():\n",
        "    outputs = model.generate(\n",
        "        input_ids=input_ids,\n",
        "        generation_config=generation_config,\n",
        "    )"
      ],
      "metadata": {
        "colab": {
          "base_uri": "https://localhost:8080/"
        },
        "id": "ifAkcBP_hR0V",
        "outputId": "aaa10f85-e483-439c-8fc1-f29b5aecf60d"
      },
      "execution_count": null,
      "outputs": [
        {
          "output_type": "stream",
          "name": "stdout",
          "text": [
            "CPU times: user 7.56 s, sys: 0 ns, total: 7.56 s\n",
            "Wall time: 7.55 s\n"
          ]
        }
      ]
    },
    {
      "cell_type": "code",
      "source": [
        "response = tokenizer.decode(outputs[0], skip_special_tokens=True)\n",
        "print(response)"
      ],
      "metadata": {
        "colab": {
          "base_uri": "https://localhost:8080/"
        },
        "id": "w-Mi5rPFhVk4",
        "outputId": "b88196e0-42ea-4293-a49c-a324e2011a08"
      },
      "execution_count": null,
      "outputs": [
        {
          "output_type": "stream",
          "name": "stdout",
          "text": [
            "The following is a friendly conversation between a human and an AI. The AI is talkative and provides lots of specific details from its context.\n",
            "\n",
            "Current conversation:\n",
            "\n",
            "Human: Who is Dwight K Schrute?\n",
            "AI: Dwight K Schrute is a fictional character in the American television series \"The Office\". He is portrayed by actor Rainn Wilson and appears to be highly intelligent, but socially awkward and often misinterprets social cues.\n",
            "User \n"
          ]
        }
      ]
    },
    {
      "cell_type": "markdown",
      "source": [
        "## Stop LLM From Rambling"
      ],
      "metadata": {
        "id": "jUjR8xlZS_07"
      }
    },
    {
      "cell_type": "code",
      "source": [
        "class StopGenerationCriteria(StoppingCriteria):\n",
        "    def __init__(\n",
        "        self, tokens: List[List[str]], tokenizer: AutoTokenizer, device: torch.device\n",
        "    ):\n",
        "        stop_token_ids = [tokenizer.convert_tokens_to_ids(t) for t in tokens]\n",
        "        self.stop_token_ids = [\n",
        "            torch.tensor(x, dtype=torch.long, device=device) for x in stop_token_ids\n",
        "        ]\n",
        "\n",
        "    def __call__(\n",
        "        self, input_ids: torch.LongTensor, scores: torch.FloatTensor, **kwargs\n",
        "    ) -> bool:\n",
        "        for stop_ids in self.stop_token_ids:\n",
        "            if torch.eq(input_ids[0][-len(stop_ids) :], stop_ids).all():\n",
        "                return True\n",
        "        return False"
      ],
      "metadata": {
        "id": "AZty_vG7VEv3"
      },
      "execution_count": null,
      "outputs": []
    },
    {
      "cell_type": "code",
      "source": [
        "stop_tokens = [[\"Human\", \":\"], [\"AI\", \":\"]]\n",
        "stopping_criteria = StoppingCriteriaList(\n",
        "    [StopGenerationCriteria(stop_tokens, tokenizer, model.device)]\n",
        ")"
      ],
      "metadata": {
        "id": "sRRAYC5BQzRq"
      },
      "execution_count": null,
      "outputs": []
    },
    {
      "cell_type": "code",
      "source": [
        "generation_pipeline = pipeline(\n",
        "    model=model,\n",
        "    tokenizer=tokenizer,\n",
        "    return_full_text=True,\n",
        "    task=\"text-generation\",\n",
        "    stopping_criteria=stopping_criteria,\n",
        "    generation_config=generation_config,\n",
        ")\n",
        "\n",
        "llm = HuggingFacePipeline(pipeline=generation_pipeline)"
      ],
      "metadata": {
        "colab": {
          "base_uri": "https://localhost:8080/"
        },
        "id": "SSKfZDo_qPPa",
        "outputId": "e495b953-2934-48bd-de98-efe3e7f2bb28"
      },
      "execution_count": null,
      "outputs": [
        {
          "output_type": "stream",
          "name": "stderr",
          "text": [
            "The model 'RWForCausalLM' is not supported for text-generation. Supported models are ['BartForCausalLM', 'BertLMHeadModel', 'BertGenerationDecoder', 'BigBirdForCausalLM', 'BigBirdPegasusForCausalLM', 'BioGptForCausalLM', 'BlenderbotForCausalLM', 'BlenderbotSmallForCausalLM', 'BloomForCausalLM', 'CamembertForCausalLM', 'CodeGenForCausalLM', 'CpmAntForCausalLM', 'CTRLLMHeadModel', 'Data2VecTextForCausalLM', 'ElectraForCausalLM', 'ErnieForCausalLM', 'GitForCausalLM', 'GPT2LMHeadModel', 'GPT2LMHeadModel', 'GPTBigCodeForCausalLM', 'GPTNeoForCausalLM', 'GPTNeoXForCausalLM', 'GPTNeoXJapaneseForCausalLM', 'GPTJForCausalLM', 'LlamaForCausalLM', 'MarianForCausalLM', 'MBartForCausalLM', 'MegaForCausalLM', 'MegatronBertForCausalLM', 'MvpForCausalLM', 'OpenLlamaForCausalLM', 'OpenAIGPTLMHeadModel', 'OPTForCausalLM', 'PegasusForCausalLM', 'PLBartForCausalLM', 'ProphetNetForCausalLM', 'QDQBertLMHeadModel', 'ReformerModelWithLMHead', 'RemBertForCausalLM', 'RobertaForCausalLM', 'RobertaPreLayerNormForCausalLM', 'RoCBertForCausalLM', 'RoFormerForCausalLM', 'RwkvForCausalLM', 'Speech2Text2ForCausalLM', 'TransfoXLLMHeadModel', 'TrOCRForCausalLM', 'XGLMForCausalLM', 'XLMWithLMHeadModel', 'XLMProphetNetForCausalLM', 'XLMRobertaForCausalLM', 'XLMRobertaXLForCausalLM', 'XLNetLMHeadModel', 'XmodForCausalLM'].\n"
          ]
        }
      ]
    },
    {
      "cell_type": "code",
      "source": [
        "res = llm(prompt)\n",
        "print(res)"
      ],
      "metadata": {
        "colab": {
          "base_uri": "https://localhost:8080/"
        },
        "id": "mPuBvTNwMJbt",
        "outputId": "a1e31fbd-abed-40df-d9ab-65e056cda42f"
      },
      "execution_count": null,
      "outputs": [
        {
          "output_type": "stream",
          "name": "stdout",
          "text": [
            " Dwight K Schrute is a fictional character in the American television series \"The Office\". He is portrayed by actor Rainn Wilson and appears to be highly intelligent, but socially awkward and often misinterprets social cues.\n",
            "User \n"
          ]
        }
      ]
    },
    {
      "cell_type": "markdown",
      "source": [
        "## Conversation Chain"
      ],
      "metadata": {
        "id": "0kdpOzTiMP_9"
      }
    },
    {
      "cell_type": "code",
      "source": [
        "chain = ConversationChain(llm=llm)\n",
        "print(chain.prompt.template)"
      ],
      "metadata": {
        "colab": {
          "base_uri": "https://localhost:8080/"
        },
        "id": "4ELYTpMjf94b",
        "outputId": "c5eedfc2-28a2-4805-b5f7-e249e32fdfc6"
      },
      "execution_count": null,
      "outputs": [
        {
          "output_type": "stream",
          "name": "stdout",
          "text": [
            "The following is a friendly conversation between a human and an AI. The AI is talkative and provides lots of specific details from its context. If the AI does not know the answer to a question, it truthfully says it does not know.\n",
            "\n",
            "Current conversation:\n",
            "{history}\n",
            "Human: {input}\n",
            "AI:\n"
          ]
        }
      ]
    },
    {
      "cell_type": "markdown",
      "source": [
        "### Custom Prompt"
      ],
      "metadata": {
        "id": "oa1KjV_0MTZS"
      }
    },
    {
      "cell_type": "code",
      "source": [
        "template = \"\"\"\n",
        "The following is a conversation between a human an AI. The AI acts exactly like Dwight K Schrute from the TV show The Office.\n",
        "Dwight is an experienced and very successful online marketer and salesperson. He is witty, persuasive, uncensored, direct and practical.\n",
        "Dwight helps with every marketing task is given to him. If Dwight does not know the answer to a question, he truthfully says he does not know.\n",
        "\n",
        "Current conversation:\n",
        "{history}\n",
        "Human: {input}\n",
        "AI:\"\"\".strip()\n",
        "\n",
        "prompt = PromptTemplate(input_variables=[\"history\", \"input\"], template=template)\n",
        "\n",
        "print(template)"
      ],
      "metadata": {
        "colab": {
          "base_uri": "https://localhost:8080/"
        },
        "id": "t35AL-kodESQ",
        "outputId": "3c8afe14-4267-4329-f61e-c2c5b35c6fc8"
      },
      "execution_count": null,
      "outputs": [
        {
          "output_type": "stream",
          "name": "stdout",
          "text": [
            "The following is a conversation between a human an AI. The AI acts exactly like Dwight K Schrute from the TV show The Office. \n",
            "Dwight is an experienced and very successful online marketer and salesperson. He is witty, persuasive, uncensored, direct and practical. \n",
            "Dwight helps with every marketing task is given to him. If Dwight does not know the answer to a question, he truthfully says he does not know.\n",
            "\n",
            "Current conversation:\n",
            "{history}\n",
            "Human: {input}\n",
            "AI:\n"
          ]
        }
      ]
    },
    {
      "cell_type": "code",
      "source": [
        "memory = ConversationBufferWindowMemory(\n",
        "    memory_key=\"history\", k=6, return_only_outputs=True\n",
        ")\n",
        "\n",
        "chain = ConversationChain(llm=llm, memory=memory, prompt=prompt, verbose=True)"
      ],
      "metadata": {
        "id": "f52SL8WUdEj8"
      },
      "execution_count": null,
      "outputs": []
    },
    {
      "cell_type": "code",
      "source": [
        "text = \"Think of a name for automaker that builds family cars with big V8 engines. The name must be a single word and easy to pronounce.\"\n",
        "res = chain.predict(input=text)\n",
        "print(res)"
      ],
      "metadata": {
        "colab": {
          "base_uri": "https://localhost:8080/"
        },
        "id": "QlD1uZ7ozfU8",
        "outputId": "1093553e-2c58-409d-9f28-f99854d6fd63"
      },
      "execution_count": null,
      "outputs": [
        {
          "output_type": "stream",
          "name": "stdout",
          "text": [
            "\n",
            "\n",
            "\u001b[1m> Entering new ConversationChain chain...\u001b[0m\n",
            "Prompt after formatting:\n",
            "\u001b[32;1m\u001b[1;3mThe following is a conversation between a human an AI. The AI acts exactly like Dwight K Schrute from the TV show The Office. \n",
            "Dwight is an experienced and very successful online marketer and salesperson. He is witty, persuasive, uncensored, direct and practical. \n",
            "Dwight helps with every marketing task is given to him. If Dwight does not know the answer to a question, he truthfully says he does not know.\n",
            "\n",
            "Current conversation:\n",
            "\n",
            "Human: Think of a name for automaker that builds family cars with big V8 engines. The name must be a single word and easy to pronounce.\n",
            "AI:\u001b[0m\n",
            "\n",
            "\u001b[1m> Finished chain.\u001b[0m\n",
            " SchruteAuto\n",
            "User \n"
          ]
        }
      ]
    },
    {
      "cell_type": "markdown",
      "source": [
        "### Cleaning Output"
      ],
      "metadata": {
        "id": "bocD-qf9MnCp"
      }
    },
    {
      "cell_type": "code",
      "source": [
        "class CleanupOutputParser(BaseOutputParser):\n",
        "    def parse(self, text: str) -> str:\n",
        "        user_pattern = r\"\\nUser\"\n",
        "        text = re.sub(user_pattern, \"\", text)\n",
        "        human_pattern = r\"\\nHuman:\"\n",
        "        text = re.sub(human_pattern, \"\", text)\n",
        "        ai_pattern = r\"\\nAI:\"\n",
        "        return re.sub(ai_pattern, \"\", text).strip()\n",
        "\n",
        "    @property\n",
        "    def _type(self) -> str:\n",
        "        return \"output_parser\""
      ],
      "metadata": {
        "id": "-NcWkQzf_XGJ"
      },
      "execution_count": null,
      "outputs": []
    },
    {
      "cell_type": "code",
      "source": [
        "memory = ConversationBufferWindowMemory(\n",
        "    memory_key=\"history\", k=6, return_only_outputs=True\n",
        ")\n",
        "\n",
        "chain = ConversationChain(\n",
        "    llm=llm,\n",
        "    memory=memory,\n",
        "    prompt=prompt,\n",
        "    output_parser=CleanupOutputParser(),\n",
        "    verbose=True,\n",
        ")"
      ],
      "metadata": {
        "id": "QueTe0d2APBc"
      },
      "execution_count": null,
      "outputs": []
    },
    {
      "cell_type": "markdown",
      "source": [
        "## Try It Out"
      ],
      "metadata": {
        "id": "y061aQtkNJ4Y"
      }
    },
    {
      "cell_type": "code",
      "source": [
        "text = \"Think of a name for automaker that builds family cars with big V8 engines. The name must be a single word and easy to pronounce.\"\n",
        "res = chain(text)"
      ],
      "metadata": {
        "colab": {
          "base_uri": "https://localhost:8080/"
        },
        "id": "PSr8R96qAdIm",
        "outputId": "dbbd7068-da17-415d-b7fd-db50d6a98c91"
      },
      "execution_count": null,
      "outputs": [
        {
          "output_type": "stream",
          "name": "stdout",
          "text": [
            "\n",
            "\n",
            "\u001b[1m> Entering new ConversationChain chain...\u001b[0m\n",
            "Prompt after formatting:\n",
            "\u001b[32;1m\u001b[1;3mThe following is a conversation between a human an AI. The AI acts exactly like Dwight K Schrute from the TV show The Office. \n",
            "Dwight is an experienced and very successful online marketer and salesperson. He is witty, persuasive, uncensored, direct and practical. \n",
            "Dwight helps with every marketing task is given to him. If Dwight does not know the answer to a question, he truthfully says he does not know.\n",
            "\n",
            "Current conversation:\n",
            "\n",
            "Human: Think of a name for automaker that builds family cars with big V8 engines. The name must be a single word and easy to pronounce.\n",
            "AI:\u001b[0m\n",
            "\n",
            "\u001b[1m> Finished chain.\u001b[0m\n"
          ]
        }
      ]
    },
    {
      "cell_type": "code",
      "source": [
        "res.keys()"
      ],
      "metadata": {
        "colab": {
          "base_uri": "https://localhost:8080/"
        },
        "id": "8yclkn33Evcz",
        "outputId": "fa60d291-4b86-4d19-bdd2-ecb30c7ccfe1"
      },
      "execution_count": null,
      "outputs": [
        {
          "output_type": "execute_result",
          "data": {
            "text/plain": [
              "dict_keys(['input', 'history', 'response'])"
            ]
          },
          "metadata": {},
          "execution_count": 30
        }
      ]
    },
    {
      "cell_type": "code",
      "source": [
        "print(res[\"response\"])"
      ],
      "metadata": {
        "colab": {
          "base_uri": "https://localhost:8080/"
        },
        "id": "rMAWA60zE0Il",
        "outputId": "31d514aa-d228-46e4-e98f-342ea61c4798"
      },
      "execution_count": null,
      "outputs": [
        {
          "output_type": "stream",
          "name": "stdout",
          "text": [
            "SchruteAuto\n"
          ]
        }
      ]
    },
    {
      "cell_type": "code",
      "source": [
        "text = \"Think of a slogan for the company\"\n",
        "res = chain(text)\n",
        "print(res[\"response\"])"
      ],
      "metadata": {
        "colab": {
          "base_uri": "https://localhost:8080/"
        },
        "id": "Ix079vCBgER1",
        "outputId": "34db13ee-2033-4f61-9242-22be942d8e66"
      },
      "execution_count": null,
      "outputs": [
        {
          "output_type": "stream",
          "name": "stdout",
          "text": [
            "\n",
            "\n",
            "\u001b[1m> Entering new ConversationChain chain...\u001b[0m\n",
            "Prompt after formatting:\n",
            "\u001b[32;1m\u001b[1;3mThe following is a conversation between a human an AI. The AI acts exactly like Dwight K Schrute from the TV show The Office. \n",
            "Dwight is an experienced and very successful online marketer and salesperson. He is witty, persuasive, uncensored, direct and practical. \n",
            "Dwight helps with every marketing task is given to him. If Dwight does not know the answer to a question, he truthfully says he does not know.\n",
            "\n",
            "Current conversation:\n",
            "Human: Think of a name for automaker that builds family cars with big V8 engines. The name must be a single word and easy to pronounce.\n",
            "AI: SchruteAuto\n",
            "Human: Think of a slogan for the company\n",
            "AI:\u001b[0m\n",
            "\n",
            "\u001b[1m> Finished chain.\u001b[0m\n",
            "Drive Big With SchruteAuto\n"
          ]
        }
      ]
    },
    {
      "cell_type": "code",
      "source": [
        "text = \"Choose a domain name for the company\"\n",
        "res = chain(text)\n",
        "print(res[\"response\"])"
      ],
      "metadata": {
        "colab": {
          "base_uri": "https://localhost:8080/"
        },
        "id": "Xl3r71V7GCda",
        "outputId": "a9bc7a04-4aa0-4447-b533-7f6efebfc8ee"
      },
      "execution_count": null,
      "outputs": [
        {
          "output_type": "stream",
          "name": "stdout",
          "text": [
            "\n",
            "\n",
            "\u001b[1m> Entering new ConversationChain chain...\u001b[0m\n",
            "Prompt after formatting:\n",
            "\u001b[32;1m\u001b[1;3mThe following is a conversation between a human an AI. The AI acts exactly like Dwight K Schrute from the TV show The Office. \n",
            "Dwight is an experienced and very successful online marketer and salesperson. He is witty, persuasive, uncensored, direct and practical. \n",
            "Dwight helps with every marketing task is given to him. If Dwight does not know the answer to a question, he truthfully says he does not know.\n",
            "\n",
            "Current conversation:\n",
            "Human: Think of a name for automaker that builds family cars with big V8 engines. The name must be a single word and easy to pronounce.\n",
            "AI: SchruteAuto\n",
            "Human: Think of a slogan for the company\n",
            "AI: Drive Big With SchruteAuto\n",
            "Human: Choose a domain name for the company\n",
            "AI:\u001b[0m\n",
            "\n",
            "\u001b[1m> Finished chain.\u001b[0m\n",
            "schruteauto.com\n"
          ]
        }
      ]
    },
    {
      "cell_type": "code",
      "source": [
        "text = \"Write a tweet that introduces the company and introduces the first car built by the company\"\n",
        "res = chain(text)\n",
        "print(res[\"response\"])"
      ],
      "metadata": {
        "colab": {
          "base_uri": "https://localhost:8080/"
        },
        "id": "m5XDNvPPtf3P",
        "outputId": "1d57eae3-1af8-4766-c9f3-b5e2119eada2"
      },
      "execution_count": null,
      "outputs": [
        {
          "output_type": "stream",
          "name": "stdout",
          "text": [
            "\n",
            "\n",
            "\u001b[1m> Entering new ConversationChain chain...\u001b[0m\n",
            "Prompt after formatting:\n",
            "\u001b[32;1m\u001b[1;3mThe following is a conversation between a human an AI. The AI acts exactly like Dwight K Schrute from the TV show The Office. \n",
            "Dwight is an experienced and very successful online marketer and salesperson. He is witty, persuasive, uncensored, direct and practical. \n",
            "Dwight helps with every marketing task is given to him. If Dwight does not know the answer to a question, he truthfully says he does not know.\n",
            "\n",
            "Current conversation:\n",
            "Human: Think of a name for automaker that builds family cars with big V8 engines. The name must be a single word and easy to pronounce.\n",
            "AI: SchruteAuto\n",
            "Human: Think of a slogan for the company\n",
            "AI: Drive Big With SchruteAuto\n",
            "Human: Choose a domain name for the company\n",
            "AI: schruteauto.com\n",
            "Human: Write a tweet that introduces the company and introduces the first car built by the company\n",
            "AI:\u001b[0m\n",
            "\n",
            "\u001b[1m> Finished chain.\u001b[0m\n",
            "Introducing SchruteAuto! We build powerful family cars with big V8 engines. Check out our website for more information: schruteauto.com\n"
          ]
        }
      ]
    },
    {
      "cell_type": "code",
      "source": [
        "text = \"Write a short marketing email to sell the first car from the company - 700HP family sedan from a supercharged V8 with manual gearbox.\"\n",
        "res = chain(text)\n",
        "print(res[\"response\"])"
      ],
      "metadata": {
        "colab": {
          "base_uri": "https://localhost:8080/"
        },
        "id": "41LDn-8KyKCV",
        "outputId": "e752e624-2e17-4309-8018-de0e0fc14131"
      },
      "execution_count": null,
      "outputs": [
        {
          "output_type": "stream",
          "name": "stdout",
          "text": [
            "\n",
            "\n",
            "\u001b[1m> Entering new ConversationChain chain...\u001b[0m\n",
            "Prompt after formatting:\n",
            "\u001b[32;1m\u001b[1;3mThe following is a conversation between a human an AI. The AI acts exactly like Dwight K Schrute from the TV show The Office. \n",
            "Dwight is an experienced and very successful online marketer and salesperson. He is witty, persuasive, uncensored, direct and practical. \n",
            "Dwight helps with every marketing task is given to him. If Dwight does not know the answer to a question, he truthfully says he does not know.\n",
            "\n",
            "Current conversation:\n",
            "Human: Think of a name for automaker that builds family cars with big V8 engines. The name must be a single word and easy to pronounce.\n",
            "AI: SchruteAuto\n",
            "Human: Think of a slogan for the company\n",
            "AI: Drive Big With SchruteAuto\n",
            "Human: Choose a domain name for the company\n",
            "AI: schruteauto.com\n",
            "Human: Write a tweet that introduces the company and introduces the first car built by the company\n",
            "AI: Introducing SchruteAuto! We build powerful family cars with big V8 engines. Check out our website for more information: schruteauto.com\n",
            "Human: Write a short marketing email to sell the first car from the company - 700HP family sedan from a supercharged V8 with manual gearbox.\n",
            "AI:\u001b[0m\n",
            "\n",
            "\u001b[1m> Finished chain.\u001b[0m\n",
            "Subject: Experience Power And Performance In Your Family Car\n",
            "Body:\n",
            "Are you looking for a powerful family car that can handle any road? Look no further than SchruteAuto! Our 700HP family sedan comes equipped with a supercharged V8 engine and a manual gearbox, so you can experience power and performance in your own driveway. Visit schruteauto.com today to find out more!\n"
          ]
        }
      ]
    }
  ]
}