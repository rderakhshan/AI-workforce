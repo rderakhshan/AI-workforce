{
  "nbformat": 4,
  "nbformat_minor": 0,
  "metadata": {
    "colab": {
      "provenance": [],
      "machine_shape": "hm",
      "gpuType": "T4",
      "include_colab_link": true
    },
    "kernelspec": {
      "name": "python3",
      "display_name": "Python 3"
    },
    "language_info": {
      "name": "python"
    },
    "accelerator": "GPU",
    "widgets": {
      "application/vnd.jupyter.widget-state+json": {
        "0f7420b826d64df7adcd46d9c1d647f9": {
          "model_module": "@jupyter-widgets/controls",
          "model_name": "HBoxModel",
          "model_module_version": "1.5.0",
          "state": {
            "_dom_classes": [],
            "_model_module": "@jupyter-widgets/controls",
            "_model_module_version": "1.5.0",
            "_model_name": "HBoxModel",
            "_view_count": null,
            "_view_module": "@jupyter-widgets/controls",
            "_view_module_version": "1.5.0",
            "_view_name": "HBoxView",
            "box_style": "",
            "children": [
              "IPY_MODEL_ee27d381970c4ac9932ff7dc5761bd12",
              "IPY_MODEL_3d8d7d562c0b49d2831634f98de62604",
              "IPY_MODEL_d4645599c0ed449782c7e3db651d7b21"
            ],
            "layout": "IPY_MODEL_ccdbd73957eb4fada8d13e1320b51567"
          }
        },
        "ee27d381970c4ac9932ff7dc5761bd12": {
          "model_module": "@jupyter-widgets/controls",
          "model_name": "HTMLModel",
          "model_module_version": "1.5.0",
          "state": {
            "_dom_classes": [],
            "_model_module": "@jupyter-widgets/controls",
            "_model_module_version": "1.5.0",
            "_model_name": "HTMLModel",
            "_view_count": null,
            "_view_module": "@jupyter-widgets/controls",
            "_view_module_version": "1.5.0",
            "_view_name": "HTMLView",
            "description": "",
            "description_tooltip": null,
            "layout": "IPY_MODEL_fec66c84ec024c30b32d977e1d78ab76",
            "placeholder": "​",
            "style": "IPY_MODEL_b05e4203649e400f865b7d364b4d8cd1",
            "value": "config.json: 100%"
          }
        },
        "3d8d7d562c0b49d2831634f98de62604": {
          "model_module": "@jupyter-widgets/controls",
          "model_name": "FloatProgressModel",
          "model_module_version": "1.5.0",
          "state": {
            "_dom_classes": [],
            "_model_module": "@jupyter-widgets/controls",
            "_model_module_version": "1.5.0",
            "_model_name": "FloatProgressModel",
            "_view_count": null,
            "_view_module": "@jupyter-widgets/controls",
            "_view_module_version": "1.5.0",
            "_view_name": "ProgressView",
            "bar_style": "success",
            "description": "",
            "description_tooltip": null,
            "layout": "IPY_MODEL_ff06147837d04a6bbe23d40fcd1a5708",
            "max": 1048,
            "min": 0,
            "orientation": "horizontal",
            "style": "IPY_MODEL_f3c000ca246e4f20bfcedf825b62a781",
            "value": 1048
          }
        },
        "d4645599c0ed449782c7e3db651d7b21": {
          "model_module": "@jupyter-widgets/controls",
          "model_name": "HTMLModel",
          "model_module_version": "1.5.0",
          "state": {
            "_dom_classes": [],
            "_model_module": "@jupyter-widgets/controls",
            "_model_module_version": "1.5.0",
            "_model_name": "HTMLModel",
            "_view_count": null,
            "_view_module": "@jupyter-widgets/controls",
            "_view_module_version": "1.5.0",
            "_view_name": "HTMLView",
            "description": "",
            "description_tooltip": null,
            "layout": "IPY_MODEL_fdef96b4039e445fa2674492b0de899b",
            "placeholder": "​",
            "style": "IPY_MODEL_badd2701eb7a47cd836dff72eca44adb",
            "value": " 1.05k/1.05k [00:00&lt;00:00, 83.2kB/s]"
          }
        },
        "ccdbd73957eb4fada8d13e1320b51567": {
          "model_module": "@jupyter-widgets/base",
          "model_name": "LayoutModel",
          "model_module_version": "1.2.0",
          "state": {
            "_model_module": "@jupyter-widgets/base",
            "_model_module_version": "1.2.0",
            "_model_name": "LayoutModel",
            "_view_count": null,
            "_view_module": "@jupyter-widgets/base",
            "_view_module_version": "1.2.0",
            "_view_name": "LayoutView",
            "align_content": null,
            "align_items": null,
            "align_self": null,
            "border": null,
            "bottom": null,
            "display": null,
            "flex": null,
            "flex_flow": null,
            "grid_area": null,
            "grid_auto_columns": null,
            "grid_auto_flow": null,
            "grid_auto_rows": null,
            "grid_column": null,
            "grid_gap": null,
            "grid_row": null,
            "grid_template_areas": null,
            "grid_template_columns": null,
            "grid_template_rows": null,
            "height": null,
            "justify_content": null,
            "justify_items": null,
            "left": null,
            "margin": null,
            "max_height": null,
            "max_width": null,
            "min_height": null,
            "min_width": null,
            "object_fit": null,
            "object_position": null,
            "order": null,
            "overflow": null,
            "overflow_x": null,
            "overflow_y": null,
            "padding": null,
            "right": null,
            "top": null,
            "visibility": null,
            "width": null
          }
        },
        "fec66c84ec024c30b32d977e1d78ab76": {
          "model_module": "@jupyter-widgets/base",
          "model_name": "LayoutModel",
          "model_module_version": "1.2.0",
          "state": {
            "_model_module": "@jupyter-widgets/base",
            "_model_module_version": "1.2.0",
            "_model_name": "LayoutModel",
            "_view_count": null,
            "_view_module": "@jupyter-widgets/base",
            "_view_module_version": "1.2.0",
            "_view_name": "LayoutView",
            "align_content": null,
            "align_items": null,
            "align_self": null,
            "border": null,
            "bottom": null,
            "display": null,
            "flex": null,
            "flex_flow": null,
            "grid_area": null,
            "grid_auto_columns": null,
            "grid_auto_flow": null,
            "grid_auto_rows": null,
            "grid_column": null,
            "grid_gap": null,
            "grid_row": null,
            "grid_template_areas": null,
            "grid_template_columns": null,
            "grid_template_rows": null,
            "height": null,
            "justify_content": null,
            "justify_items": null,
            "left": null,
            "margin": null,
            "max_height": null,
            "max_width": null,
            "min_height": null,
            "min_width": null,
            "object_fit": null,
            "object_position": null,
            "order": null,
            "overflow": null,
            "overflow_x": null,
            "overflow_y": null,
            "padding": null,
            "right": null,
            "top": null,
            "visibility": null,
            "width": null
          }
        },
        "b05e4203649e400f865b7d364b4d8cd1": {
          "model_module": "@jupyter-widgets/controls",
          "model_name": "DescriptionStyleModel",
          "model_module_version": "1.5.0",
          "state": {
            "_model_module": "@jupyter-widgets/controls",
            "_model_module_version": "1.5.0",
            "_model_name": "DescriptionStyleModel",
            "_view_count": null,
            "_view_module": "@jupyter-widgets/base",
            "_view_module_version": "1.2.0",
            "_view_name": "StyleView",
            "description_width": ""
          }
        },
        "ff06147837d04a6bbe23d40fcd1a5708": {
          "model_module": "@jupyter-widgets/base",
          "model_name": "LayoutModel",
          "model_module_version": "1.2.0",
          "state": {
            "_model_module": "@jupyter-widgets/base",
            "_model_module_version": "1.2.0",
            "_model_name": "LayoutModel",
            "_view_count": null,
            "_view_module": "@jupyter-widgets/base",
            "_view_module_version": "1.2.0",
            "_view_name": "LayoutView",
            "align_content": null,
            "align_items": null,
            "align_self": null,
            "border": null,
            "bottom": null,
            "display": null,
            "flex": null,
            "flex_flow": null,
            "grid_area": null,
            "grid_auto_columns": null,
            "grid_auto_flow": null,
            "grid_auto_rows": null,
            "grid_column": null,
            "grid_gap": null,
            "grid_row": null,
            "grid_template_areas": null,
            "grid_template_columns": null,
            "grid_template_rows": null,
            "height": null,
            "justify_content": null,
            "justify_items": null,
            "left": null,
            "margin": null,
            "max_height": null,
            "max_width": null,
            "min_height": null,
            "min_width": null,
            "object_fit": null,
            "object_position": null,
            "order": null,
            "overflow": null,
            "overflow_x": null,
            "overflow_y": null,
            "padding": null,
            "right": null,
            "top": null,
            "visibility": null,
            "width": null
          }
        },
        "f3c000ca246e4f20bfcedf825b62a781": {
          "model_module": "@jupyter-widgets/controls",
          "model_name": "ProgressStyleModel",
          "model_module_version": "1.5.0",
          "state": {
            "_model_module": "@jupyter-widgets/controls",
            "_model_module_version": "1.5.0",
            "_model_name": "ProgressStyleModel",
            "_view_count": null,
            "_view_module": "@jupyter-widgets/base",
            "_view_module_version": "1.2.0",
            "_view_name": "StyleView",
            "bar_color": null,
            "description_width": ""
          }
        },
        "fdef96b4039e445fa2674492b0de899b": {
          "model_module": "@jupyter-widgets/base",
          "model_name": "LayoutModel",
          "model_module_version": "1.2.0",
          "state": {
            "_model_module": "@jupyter-widgets/base",
            "_model_module_version": "1.2.0",
            "_model_name": "LayoutModel",
            "_view_count": null,
            "_view_module": "@jupyter-widgets/base",
            "_view_module_version": "1.2.0",
            "_view_name": "LayoutView",
            "align_content": null,
            "align_items": null,
            "align_self": null,
            "border": null,
            "bottom": null,
            "display": null,
            "flex": null,
            "flex_flow": null,
            "grid_area": null,
            "grid_auto_columns": null,
            "grid_auto_flow": null,
            "grid_auto_rows": null,
            "grid_column": null,
            "grid_gap": null,
            "grid_row": null,
            "grid_template_areas": null,
            "grid_template_columns": null,
            "grid_template_rows": null,
            "height": null,
            "justify_content": null,
            "justify_items": null,
            "left": null,
            "margin": null,
            "max_height": null,
            "max_width": null,
            "min_height": null,
            "min_width": null,
            "object_fit": null,
            "object_position": null,
            "order": null,
            "overflow": null,
            "overflow_x": null,
            "overflow_y": null,
            "padding": null,
            "right": null,
            "top": null,
            "visibility": null,
            "width": null
          }
        },
        "badd2701eb7a47cd836dff72eca44adb": {
          "model_module": "@jupyter-widgets/controls",
          "model_name": "DescriptionStyleModel",
          "model_module_version": "1.5.0",
          "state": {
            "_model_module": "@jupyter-widgets/controls",
            "_model_module_version": "1.5.0",
            "_model_name": "DescriptionStyleModel",
            "_view_count": null,
            "_view_module": "@jupyter-widgets/base",
            "_view_module_version": "1.2.0",
            "_view_name": "StyleView",
            "description_width": ""
          }
        },
        "ebc1fbd409314888a9821dcce465da38": {
          "model_module": "@jupyter-widgets/controls",
          "model_name": "HBoxModel",
          "model_module_version": "1.5.0",
          "state": {
            "_dom_classes": [],
            "_model_module": "@jupyter-widgets/controls",
            "_model_module_version": "1.5.0",
            "_model_name": "HBoxModel",
            "_view_count": null,
            "_view_module": "@jupyter-widgets/controls",
            "_view_module_version": "1.5.0",
            "_view_name": "HBoxView",
            "box_style": "",
            "children": [
              "IPY_MODEL_d93076760dfd4c9f9e1672b686751037",
              "IPY_MODEL_ae277a69736b4a288ab573984d13f22d",
              "IPY_MODEL_785ee6bfa47840c0bf2c0d081220f5e2"
            ],
            "layout": "IPY_MODEL_3eafd375cbfc43bf8dfb27eee66ac6ce"
          }
        },
        "d93076760dfd4c9f9e1672b686751037": {
          "model_module": "@jupyter-widgets/controls",
          "model_name": "HTMLModel",
          "model_module_version": "1.5.0",
          "state": {
            "_dom_classes": [],
            "_model_module": "@jupyter-widgets/controls",
            "_model_module_version": "1.5.0",
            "_model_name": "HTMLModel",
            "_view_count": null,
            "_view_module": "@jupyter-widgets/controls",
            "_view_module_version": "1.5.0",
            "_view_name": "HTMLView",
            "description": "",
            "description_tooltip": null,
            "layout": "IPY_MODEL_258f68c928c7439db1445cf0d3337128",
            "placeholder": "​",
            "style": "IPY_MODEL_82b3824fe57b4542a6d1983a9f31f8aa",
            "value": "configuration_falcon.py: 100%"
          }
        },
        "ae277a69736b4a288ab573984d13f22d": {
          "model_module": "@jupyter-widgets/controls",
          "model_name": "FloatProgressModel",
          "model_module_version": "1.5.0",
          "state": {
            "_dom_classes": [],
            "_model_module": "@jupyter-widgets/controls",
            "_model_module_version": "1.5.0",
            "_model_name": "FloatProgressModel",
            "_view_count": null,
            "_view_module": "@jupyter-widgets/controls",
            "_view_module_version": "1.5.0",
            "_view_name": "ProgressView",
            "bar_style": "success",
            "description": "",
            "description_tooltip": null,
            "layout": "IPY_MODEL_8883e36862964033bcb29faa76dea766",
            "max": 7163,
            "min": 0,
            "orientation": "horizontal",
            "style": "IPY_MODEL_8ad0d5c71adf47a795c95cd809391c3c",
            "value": 7163
          }
        },
        "785ee6bfa47840c0bf2c0d081220f5e2": {
          "model_module": "@jupyter-widgets/controls",
          "model_name": "HTMLModel",
          "model_module_version": "1.5.0",
          "state": {
            "_dom_classes": [],
            "_model_module": "@jupyter-widgets/controls",
            "_model_module_version": "1.5.0",
            "_model_name": "HTMLModel",
            "_view_count": null,
            "_view_module": "@jupyter-widgets/controls",
            "_view_module_version": "1.5.0",
            "_view_name": "HTMLView",
            "description": "",
            "description_tooltip": null,
            "layout": "IPY_MODEL_d0825d9268dd4c37bf2dea4792048f96",
            "placeholder": "​",
            "style": "IPY_MODEL_b8a40e169f914a62b1ac8ac27e8c4e45",
            "value": " 7.16k/7.16k [00:00&lt;00:00, 629kB/s]"
          }
        },
        "3eafd375cbfc43bf8dfb27eee66ac6ce": {
          "model_module": "@jupyter-widgets/base",
          "model_name": "LayoutModel",
          "model_module_version": "1.2.0",
          "state": {
            "_model_module": "@jupyter-widgets/base",
            "_model_module_version": "1.2.0",
            "_model_name": "LayoutModel",
            "_view_count": null,
            "_view_module": "@jupyter-widgets/base",
            "_view_module_version": "1.2.0",
            "_view_name": "LayoutView",
            "align_content": null,
            "align_items": null,
            "align_self": null,
            "border": null,
            "bottom": null,
            "display": null,
            "flex": null,
            "flex_flow": null,
            "grid_area": null,
            "grid_auto_columns": null,
            "grid_auto_flow": null,
            "grid_auto_rows": null,
            "grid_column": null,
            "grid_gap": null,
            "grid_row": null,
            "grid_template_areas": null,
            "grid_template_columns": null,
            "grid_template_rows": null,
            "height": null,
            "justify_content": null,
            "justify_items": null,
            "left": null,
            "margin": null,
            "max_height": null,
            "max_width": null,
            "min_height": null,
            "min_width": null,
            "object_fit": null,
            "object_position": null,
            "order": null,
            "overflow": null,
            "overflow_x": null,
            "overflow_y": null,
            "padding": null,
            "right": null,
            "top": null,
            "visibility": null,
            "width": null
          }
        },
        "258f68c928c7439db1445cf0d3337128": {
          "model_module": "@jupyter-widgets/base",
          "model_name": "LayoutModel",
          "model_module_version": "1.2.0",
          "state": {
            "_model_module": "@jupyter-widgets/base",
            "_model_module_version": "1.2.0",
            "_model_name": "LayoutModel",
            "_view_count": null,
            "_view_module": "@jupyter-widgets/base",
            "_view_module_version": "1.2.0",
            "_view_name": "LayoutView",
            "align_content": null,
            "align_items": null,
            "align_self": null,
            "border": null,
            "bottom": null,
            "display": null,
            "flex": null,
            "flex_flow": null,
            "grid_area": null,
            "grid_auto_columns": null,
            "grid_auto_flow": null,
            "grid_auto_rows": null,
            "grid_column": null,
            "grid_gap": null,
            "grid_row": null,
            "grid_template_areas": null,
            "grid_template_columns": null,
            "grid_template_rows": null,
            "height": null,
            "justify_content": null,
            "justify_items": null,
            "left": null,
            "margin": null,
            "max_height": null,
            "max_width": null,
            "min_height": null,
            "min_width": null,
            "object_fit": null,
            "object_position": null,
            "order": null,
            "overflow": null,
            "overflow_x": null,
            "overflow_y": null,
            "padding": null,
            "right": null,
            "top": null,
            "visibility": null,
            "width": null
          }
        },
        "82b3824fe57b4542a6d1983a9f31f8aa": {
          "model_module": "@jupyter-widgets/controls",
          "model_name": "DescriptionStyleModel",
          "model_module_version": "1.5.0",
          "state": {
            "_model_module": "@jupyter-widgets/controls",
            "_model_module_version": "1.5.0",
            "_model_name": "DescriptionStyleModel",
            "_view_count": null,
            "_view_module": "@jupyter-widgets/base",
            "_view_module_version": "1.2.0",
            "_view_name": "StyleView",
            "description_width": ""
          }
        },
        "8883e36862964033bcb29faa76dea766": {
          "model_module": "@jupyter-widgets/base",
          "model_name": "LayoutModel",
          "model_module_version": "1.2.0",
          "state": {
            "_model_module": "@jupyter-widgets/base",
            "_model_module_version": "1.2.0",
            "_model_name": "LayoutModel",
            "_view_count": null,
            "_view_module": "@jupyter-widgets/base",
            "_view_module_version": "1.2.0",
            "_view_name": "LayoutView",
            "align_content": null,
            "align_items": null,
            "align_self": null,
            "border": null,
            "bottom": null,
            "display": null,
            "flex": null,
            "flex_flow": null,
            "grid_area": null,
            "grid_auto_columns": null,
            "grid_auto_flow": null,
            "grid_auto_rows": null,
            "grid_column": null,
            "grid_gap": null,
            "grid_row": null,
            "grid_template_areas": null,
            "grid_template_columns": null,
            "grid_template_rows": null,
            "height": null,
            "justify_content": null,
            "justify_items": null,
            "left": null,
            "margin": null,
            "max_height": null,
            "max_width": null,
            "min_height": null,
            "min_width": null,
            "object_fit": null,
            "object_position": null,
            "order": null,
            "overflow": null,
            "overflow_x": null,
            "overflow_y": null,
            "padding": null,
            "right": null,
            "top": null,
            "visibility": null,
            "width": null
          }
        },
        "8ad0d5c71adf47a795c95cd809391c3c": {
          "model_module": "@jupyter-widgets/controls",
          "model_name": "ProgressStyleModel",
          "model_module_version": "1.5.0",
          "state": {
            "_model_module": "@jupyter-widgets/controls",
            "_model_module_version": "1.5.0",
            "_model_name": "ProgressStyleModel",
            "_view_count": null,
            "_view_module": "@jupyter-widgets/base",
            "_view_module_version": "1.2.0",
            "_view_name": "StyleView",
            "bar_color": null,
            "description_width": ""
          }
        },
        "d0825d9268dd4c37bf2dea4792048f96": {
          "model_module": "@jupyter-widgets/base",
          "model_name": "LayoutModel",
          "model_module_version": "1.2.0",
          "state": {
            "_model_module": "@jupyter-widgets/base",
            "_model_module_version": "1.2.0",
            "_model_name": "LayoutModel",
            "_view_count": null,
            "_view_module": "@jupyter-widgets/base",
            "_view_module_version": "1.2.0",
            "_view_name": "LayoutView",
            "align_content": null,
            "align_items": null,
            "align_self": null,
            "border": null,
            "bottom": null,
            "display": null,
            "flex": null,
            "flex_flow": null,
            "grid_area": null,
            "grid_auto_columns": null,
            "grid_auto_flow": null,
            "grid_auto_rows": null,
            "grid_column": null,
            "grid_gap": null,
            "grid_row": null,
            "grid_template_areas": null,
            "grid_template_columns": null,
            "grid_template_rows": null,
            "height": null,
            "justify_content": null,
            "justify_items": null,
            "left": null,
            "margin": null,
            "max_height": null,
            "max_width": null,
            "min_height": null,
            "min_width": null,
            "object_fit": null,
            "object_position": null,
            "order": null,
            "overflow": null,
            "overflow_x": null,
            "overflow_y": null,
            "padding": null,
            "right": null,
            "top": null,
            "visibility": null,
            "width": null
          }
        },
        "b8a40e169f914a62b1ac8ac27e8c4e45": {
          "model_module": "@jupyter-widgets/controls",
          "model_name": "DescriptionStyleModel",
          "model_module_version": "1.5.0",
          "state": {
            "_model_module": "@jupyter-widgets/controls",
            "_model_module_version": "1.5.0",
            "_model_name": "DescriptionStyleModel",
            "_view_count": null,
            "_view_module": "@jupyter-widgets/base",
            "_view_module_version": "1.2.0",
            "_view_name": "StyleView",
            "description_width": ""
          }
        },
        "e8091f03beff4e15b977ded10a376341": {
          "model_module": "@jupyter-widgets/controls",
          "model_name": "HBoxModel",
          "model_module_version": "1.5.0",
          "state": {
            "_dom_classes": [],
            "_model_module": "@jupyter-widgets/controls",
            "_model_module_version": "1.5.0",
            "_model_name": "HBoxModel",
            "_view_count": null,
            "_view_module": "@jupyter-widgets/controls",
            "_view_module_version": "1.5.0",
            "_view_name": "HBoxView",
            "box_style": "",
            "children": [
              "IPY_MODEL_6c533acdaa65468a9990060fe1d78d3b",
              "IPY_MODEL_5117098ec3d54ef68200a3999e533782",
              "IPY_MODEL_9df978be1e92460c80ab465ad52a8d0b"
            ],
            "layout": "IPY_MODEL_0fbee986b98c46e0b658cc169876ecfe"
          }
        },
        "6c533acdaa65468a9990060fe1d78d3b": {
          "model_module": "@jupyter-widgets/controls",
          "model_name": "HTMLModel",
          "model_module_version": "1.5.0",
          "state": {
            "_dom_classes": [],
            "_model_module": "@jupyter-widgets/controls",
            "_model_module_version": "1.5.0",
            "_model_name": "HTMLModel",
            "_view_count": null,
            "_view_module": "@jupyter-widgets/controls",
            "_view_module_version": "1.5.0",
            "_view_name": "HTMLView",
            "description": "",
            "description_tooltip": null,
            "layout": "IPY_MODEL_1e97172f8b87441c8d6c91d27127dd5b",
            "placeholder": "​",
            "style": "IPY_MODEL_95237598d28b400f8d37c0cfb1c7acfc",
            "value": "modeling_falcon.py: 100%"
          }
        },
        "5117098ec3d54ef68200a3999e533782": {
          "model_module": "@jupyter-widgets/controls",
          "model_name": "FloatProgressModel",
          "model_module_version": "1.5.0",
          "state": {
            "_dom_classes": [],
            "_model_module": "@jupyter-widgets/controls",
            "_model_module_version": "1.5.0",
            "_model_name": "FloatProgressModel",
            "_view_count": null,
            "_view_module": "@jupyter-widgets/controls",
            "_view_module_version": "1.5.0",
            "_view_name": "ProgressView",
            "bar_style": "success",
            "description": "",
            "description_tooltip": null,
            "layout": "IPY_MODEL_4c9fde897e3f4996a4721940ec541613",
            "max": 56920,
            "min": 0,
            "orientation": "horizontal",
            "style": "IPY_MODEL_1a745736e6724b9f92616401e7a3fb9d",
            "value": 56920
          }
        },
        "9df978be1e92460c80ab465ad52a8d0b": {
          "model_module": "@jupyter-widgets/controls",
          "model_name": "HTMLModel",
          "model_module_version": "1.5.0",
          "state": {
            "_dom_classes": [],
            "_model_module": "@jupyter-widgets/controls",
            "_model_module_version": "1.5.0",
            "_model_name": "HTMLModel",
            "_view_count": null,
            "_view_module": "@jupyter-widgets/controls",
            "_view_module_version": "1.5.0",
            "_view_name": "HTMLView",
            "description": "",
            "description_tooltip": null,
            "layout": "IPY_MODEL_40fc473de1a24354ab5f20be3f10aa4e",
            "placeholder": "​",
            "style": "IPY_MODEL_8da92b0b50244d24be308a020c47065a",
            "value": " 56.9k/56.9k [00:00&lt;00:00, 2.70MB/s]"
          }
        },
        "0fbee986b98c46e0b658cc169876ecfe": {
          "model_module": "@jupyter-widgets/base",
          "model_name": "LayoutModel",
          "model_module_version": "1.2.0",
          "state": {
            "_model_module": "@jupyter-widgets/base",
            "_model_module_version": "1.2.0",
            "_model_name": "LayoutModel",
            "_view_count": null,
            "_view_module": "@jupyter-widgets/base",
            "_view_module_version": "1.2.0",
            "_view_name": "LayoutView",
            "align_content": null,
            "align_items": null,
            "align_self": null,
            "border": null,
            "bottom": null,
            "display": null,
            "flex": null,
            "flex_flow": null,
            "grid_area": null,
            "grid_auto_columns": null,
            "grid_auto_flow": null,
            "grid_auto_rows": null,
            "grid_column": null,
            "grid_gap": null,
            "grid_row": null,
            "grid_template_areas": null,
            "grid_template_columns": null,
            "grid_template_rows": null,
            "height": null,
            "justify_content": null,
            "justify_items": null,
            "left": null,
            "margin": null,
            "max_height": null,
            "max_width": null,
            "min_height": null,
            "min_width": null,
            "object_fit": null,
            "object_position": null,
            "order": null,
            "overflow": null,
            "overflow_x": null,
            "overflow_y": null,
            "padding": null,
            "right": null,
            "top": null,
            "visibility": null,
            "width": null
          }
        },
        "1e97172f8b87441c8d6c91d27127dd5b": {
          "model_module": "@jupyter-widgets/base",
          "model_name": "LayoutModel",
          "model_module_version": "1.2.0",
          "state": {
            "_model_module": "@jupyter-widgets/base",
            "_model_module_version": "1.2.0",
            "_model_name": "LayoutModel",
            "_view_count": null,
            "_view_module": "@jupyter-widgets/base",
            "_view_module_version": "1.2.0",
            "_view_name": "LayoutView",
            "align_content": null,
            "align_items": null,
            "align_self": null,
            "border": null,
            "bottom": null,
            "display": null,
            "flex": null,
            "flex_flow": null,
            "grid_area": null,
            "grid_auto_columns": null,
            "grid_auto_flow": null,
            "grid_auto_rows": null,
            "grid_column": null,
            "grid_gap": null,
            "grid_row": null,
            "grid_template_areas": null,
            "grid_template_columns": null,
            "grid_template_rows": null,
            "height": null,
            "justify_content": null,
            "justify_items": null,
            "left": null,
            "margin": null,
            "max_height": null,
            "max_width": null,
            "min_height": null,
            "min_width": null,
            "object_fit": null,
            "object_position": null,
            "order": null,
            "overflow": null,
            "overflow_x": null,
            "overflow_y": null,
            "padding": null,
            "right": null,
            "top": null,
            "visibility": null,
            "width": null
          }
        },
        "95237598d28b400f8d37c0cfb1c7acfc": {
          "model_module": "@jupyter-widgets/controls",
          "model_name": "DescriptionStyleModel",
          "model_module_version": "1.5.0",
          "state": {
            "_model_module": "@jupyter-widgets/controls",
            "_model_module_version": "1.5.0",
            "_model_name": "DescriptionStyleModel",
            "_view_count": null,
            "_view_module": "@jupyter-widgets/base",
            "_view_module_version": "1.2.0",
            "_view_name": "StyleView",
            "description_width": ""
          }
        },
        "4c9fde897e3f4996a4721940ec541613": {
          "model_module": "@jupyter-widgets/base",
          "model_name": "LayoutModel",
          "model_module_version": "1.2.0",
          "state": {
            "_model_module": "@jupyter-widgets/base",
            "_model_module_version": "1.2.0",
            "_model_name": "LayoutModel",
            "_view_count": null,
            "_view_module": "@jupyter-widgets/base",
            "_view_module_version": "1.2.0",
            "_view_name": "LayoutView",
            "align_content": null,
            "align_items": null,
            "align_self": null,
            "border": null,
            "bottom": null,
            "display": null,
            "flex": null,
            "flex_flow": null,
            "grid_area": null,
            "grid_auto_columns": null,
            "grid_auto_flow": null,
            "grid_auto_rows": null,
            "grid_column": null,
            "grid_gap": null,
            "grid_row": null,
            "grid_template_areas": null,
            "grid_template_columns": null,
            "grid_template_rows": null,
            "height": null,
            "justify_content": null,
            "justify_items": null,
            "left": null,
            "margin": null,
            "max_height": null,
            "max_width": null,
            "min_height": null,
            "min_width": null,
            "object_fit": null,
            "object_position": null,
            "order": null,
            "overflow": null,
            "overflow_x": null,
            "overflow_y": null,
            "padding": null,
            "right": null,
            "top": null,
            "visibility": null,
            "width": null
          }
        },
        "1a745736e6724b9f92616401e7a3fb9d": {
          "model_module": "@jupyter-widgets/controls",
          "model_name": "ProgressStyleModel",
          "model_module_version": "1.5.0",
          "state": {
            "_model_module": "@jupyter-widgets/controls",
            "_model_module_version": "1.5.0",
            "_model_name": "ProgressStyleModel",
            "_view_count": null,
            "_view_module": "@jupyter-widgets/base",
            "_view_module_version": "1.2.0",
            "_view_name": "StyleView",
            "bar_color": null,
            "description_width": ""
          }
        },
        "40fc473de1a24354ab5f20be3f10aa4e": {
          "model_module": "@jupyter-widgets/base",
          "model_name": "LayoutModel",
          "model_module_version": "1.2.0",
          "state": {
            "_model_module": "@jupyter-widgets/base",
            "_model_module_version": "1.2.0",
            "_model_name": "LayoutModel",
            "_view_count": null,
            "_view_module": "@jupyter-widgets/base",
            "_view_module_version": "1.2.0",
            "_view_name": "LayoutView",
            "align_content": null,
            "align_items": null,
            "align_self": null,
            "border": null,
            "bottom": null,
            "display": null,
            "flex": null,
            "flex_flow": null,
            "grid_area": null,
            "grid_auto_columns": null,
            "grid_auto_flow": null,
            "grid_auto_rows": null,
            "grid_column": null,
            "grid_gap": null,
            "grid_row": null,
            "grid_template_areas": null,
            "grid_template_columns": null,
            "grid_template_rows": null,
            "height": null,
            "justify_content": null,
            "justify_items": null,
            "left": null,
            "margin": null,
            "max_height": null,
            "max_width": null,
            "min_height": null,
            "min_width": null,
            "object_fit": null,
            "object_position": null,
            "order": null,
            "overflow": null,
            "overflow_x": null,
            "overflow_y": null,
            "padding": null,
            "right": null,
            "top": null,
            "visibility": null,
            "width": null
          }
        },
        "8da92b0b50244d24be308a020c47065a": {
          "model_module": "@jupyter-widgets/controls",
          "model_name": "DescriptionStyleModel",
          "model_module_version": "1.5.0",
          "state": {
            "_model_module": "@jupyter-widgets/controls",
            "_model_module_version": "1.5.0",
            "_model_name": "DescriptionStyleModel",
            "_view_count": null,
            "_view_module": "@jupyter-widgets/base",
            "_view_module_version": "1.2.0",
            "_view_name": "StyleView",
            "description_width": ""
          }
        },
        "a6174102ba00476c8f6f3cc32efab144": {
          "model_module": "@jupyter-widgets/controls",
          "model_name": "HBoxModel",
          "model_module_version": "1.5.0",
          "state": {
            "_dom_classes": [],
            "_model_module": "@jupyter-widgets/controls",
            "_model_module_version": "1.5.0",
            "_model_name": "HBoxModel",
            "_view_count": null,
            "_view_module": "@jupyter-widgets/controls",
            "_view_module_version": "1.5.0",
            "_view_name": "HBoxView",
            "box_style": "",
            "children": [
              "IPY_MODEL_d332c07f30544c37bd133521886b1abc",
              "IPY_MODEL_442230fac139493ab2194b3ac38843d0",
              "IPY_MODEL_8dafcbd1756b4d8eb3720ba24ce89747"
            ],
            "layout": "IPY_MODEL_5e1f22f605d64cd3bf0c20c3bc9fbe6c"
          }
        },
        "d332c07f30544c37bd133521886b1abc": {
          "model_module": "@jupyter-widgets/controls",
          "model_name": "HTMLModel",
          "model_module_version": "1.5.0",
          "state": {
            "_dom_classes": [],
            "_model_module": "@jupyter-widgets/controls",
            "_model_module_version": "1.5.0",
            "_model_name": "HTMLModel",
            "_view_count": null,
            "_view_module": "@jupyter-widgets/controls",
            "_view_module_version": "1.5.0",
            "_view_name": "HTMLView",
            "description": "",
            "description_tooltip": null,
            "layout": "IPY_MODEL_d9af467acbe64773a7c08ec33ecf1ed4",
            "placeholder": "​",
            "style": "IPY_MODEL_f7cf6a7e533c4717978574fd563f9dbc",
            "value": "pytorch_model.bin.index.json: 100%"
          }
        },
        "442230fac139493ab2194b3ac38843d0": {
          "model_module": "@jupyter-widgets/controls",
          "model_name": "FloatProgressModel",
          "model_module_version": "1.5.0",
          "state": {
            "_dom_classes": [],
            "_model_module": "@jupyter-widgets/controls",
            "_model_module_version": "1.5.0",
            "_model_name": "FloatProgressModel",
            "_view_count": null,
            "_view_module": "@jupyter-widgets/controls",
            "_view_module_version": "1.5.0",
            "_view_name": "ProgressView",
            "bar_style": "success",
            "description": "",
            "description_tooltip": null,
            "layout": "IPY_MODEL_823dbcb0b8f540558b29267bd74f7c7e",
            "max": 16924,
            "min": 0,
            "orientation": "horizontal",
            "style": "IPY_MODEL_49bcdb21d49c464b809b4f96b690b8a0",
            "value": 16924
          }
        },
        "8dafcbd1756b4d8eb3720ba24ce89747": {
          "model_module": "@jupyter-widgets/controls",
          "model_name": "HTMLModel",
          "model_module_version": "1.5.0",
          "state": {
            "_dom_classes": [],
            "_model_module": "@jupyter-widgets/controls",
            "_model_module_version": "1.5.0",
            "_model_name": "HTMLModel",
            "_view_count": null,
            "_view_module": "@jupyter-widgets/controls",
            "_view_module_version": "1.5.0",
            "_view_name": "HTMLView",
            "description": "",
            "description_tooltip": null,
            "layout": "IPY_MODEL_eb088172881c41fd99924b39ebe9179f",
            "placeholder": "​",
            "style": "IPY_MODEL_7d04644222bc4492ad942f98f483b917",
            "value": " 16.9k/16.9k [00:00&lt;00:00, 1.20MB/s]"
          }
        },
        "5e1f22f605d64cd3bf0c20c3bc9fbe6c": {
          "model_module": "@jupyter-widgets/base",
          "model_name": "LayoutModel",
          "model_module_version": "1.2.0",
          "state": {
            "_model_module": "@jupyter-widgets/base",
            "_model_module_version": "1.2.0",
            "_model_name": "LayoutModel",
            "_view_count": null,
            "_view_module": "@jupyter-widgets/base",
            "_view_module_version": "1.2.0",
            "_view_name": "LayoutView",
            "align_content": null,
            "align_items": null,
            "align_self": null,
            "border": null,
            "bottom": null,
            "display": null,
            "flex": null,
            "flex_flow": null,
            "grid_area": null,
            "grid_auto_columns": null,
            "grid_auto_flow": null,
            "grid_auto_rows": null,
            "grid_column": null,
            "grid_gap": null,
            "grid_row": null,
            "grid_template_areas": null,
            "grid_template_columns": null,
            "grid_template_rows": null,
            "height": null,
            "justify_content": null,
            "justify_items": null,
            "left": null,
            "margin": null,
            "max_height": null,
            "max_width": null,
            "min_height": null,
            "min_width": null,
            "object_fit": null,
            "object_position": null,
            "order": null,
            "overflow": null,
            "overflow_x": null,
            "overflow_y": null,
            "padding": null,
            "right": null,
            "top": null,
            "visibility": null,
            "width": null
          }
        },
        "d9af467acbe64773a7c08ec33ecf1ed4": {
          "model_module": "@jupyter-widgets/base",
          "model_name": "LayoutModel",
          "model_module_version": "1.2.0",
          "state": {
            "_model_module": "@jupyter-widgets/base",
            "_model_module_version": "1.2.0",
            "_model_name": "LayoutModel",
            "_view_count": null,
            "_view_module": "@jupyter-widgets/base",
            "_view_module_version": "1.2.0",
            "_view_name": "LayoutView",
            "align_content": null,
            "align_items": null,
            "align_self": null,
            "border": null,
            "bottom": null,
            "display": null,
            "flex": null,
            "flex_flow": null,
            "grid_area": null,
            "grid_auto_columns": null,
            "grid_auto_flow": null,
            "grid_auto_rows": null,
            "grid_column": null,
            "grid_gap": null,
            "grid_row": null,
            "grid_template_areas": null,
            "grid_template_columns": null,
            "grid_template_rows": null,
            "height": null,
            "justify_content": null,
            "justify_items": null,
            "left": null,
            "margin": null,
            "max_height": null,
            "max_width": null,
            "min_height": null,
            "min_width": null,
            "object_fit": null,
            "object_position": null,
            "order": null,
            "overflow": null,
            "overflow_x": null,
            "overflow_y": null,
            "padding": null,
            "right": null,
            "top": null,
            "visibility": null,
            "width": null
          }
        },
        "f7cf6a7e533c4717978574fd563f9dbc": {
          "model_module": "@jupyter-widgets/controls",
          "model_name": "DescriptionStyleModel",
          "model_module_version": "1.5.0",
          "state": {
            "_model_module": "@jupyter-widgets/controls",
            "_model_module_version": "1.5.0",
            "_model_name": "DescriptionStyleModel",
            "_view_count": null,
            "_view_module": "@jupyter-widgets/base",
            "_view_module_version": "1.2.0",
            "_view_name": "StyleView",
            "description_width": ""
          }
        },
        "823dbcb0b8f540558b29267bd74f7c7e": {
          "model_module": "@jupyter-widgets/base",
          "model_name": "LayoutModel",
          "model_module_version": "1.2.0",
          "state": {
            "_model_module": "@jupyter-widgets/base",
            "_model_module_version": "1.2.0",
            "_model_name": "LayoutModel",
            "_view_count": null,
            "_view_module": "@jupyter-widgets/base",
            "_view_module_version": "1.2.0",
            "_view_name": "LayoutView",
            "align_content": null,
            "align_items": null,
            "align_self": null,
            "border": null,
            "bottom": null,
            "display": null,
            "flex": null,
            "flex_flow": null,
            "grid_area": null,
            "grid_auto_columns": null,
            "grid_auto_flow": null,
            "grid_auto_rows": null,
            "grid_column": null,
            "grid_gap": null,
            "grid_row": null,
            "grid_template_areas": null,
            "grid_template_columns": null,
            "grid_template_rows": null,
            "height": null,
            "justify_content": null,
            "justify_items": null,
            "left": null,
            "margin": null,
            "max_height": null,
            "max_width": null,
            "min_height": null,
            "min_width": null,
            "object_fit": null,
            "object_position": null,
            "order": null,
            "overflow": null,
            "overflow_x": null,
            "overflow_y": null,
            "padding": null,
            "right": null,
            "top": null,
            "visibility": null,
            "width": null
          }
        },
        "49bcdb21d49c464b809b4f96b690b8a0": {
          "model_module": "@jupyter-widgets/controls",
          "model_name": "ProgressStyleModel",
          "model_module_version": "1.5.0",
          "state": {
            "_model_module": "@jupyter-widgets/controls",
            "_model_module_version": "1.5.0",
            "_model_name": "ProgressStyleModel",
            "_view_count": null,
            "_view_module": "@jupyter-widgets/base",
            "_view_module_version": "1.2.0",
            "_view_name": "StyleView",
            "bar_color": null,
            "description_width": ""
          }
        },
        "eb088172881c41fd99924b39ebe9179f": {
          "model_module": "@jupyter-widgets/base",
          "model_name": "LayoutModel",
          "model_module_version": "1.2.0",
          "state": {
            "_model_module": "@jupyter-widgets/base",
            "_model_module_version": "1.2.0",
            "_model_name": "LayoutModel",
            "_view_count": null,
            "_view_module": "@jupyter-widgets/base",
            "_view_module_version": "1.2.0",
            "_view_name": "LayoutView",
            "align_content": null,
            "align_items": null,
            "align_self": null,
            "border": null,
            "bottom": null,
            "display": null,
            "flex": null,
            "flex_flow": null,
            "grid_area": null,
            "grid_auto_columns": null,
            "grid_auto_flow": null,
            "grid_auto_rows": null,
            "grid_column": null,
            "grid_gap": null,
            "grid_row": null,
            "grid_template_areas": null,
            "grid_template_columns": null,
            "grid_template_rows": null,
            "height": null,
            "justify_content": null,
            "justify_items": null,
            "left": null,
            "margin": null,
            "max_height": null,
            "max_width": null,
            "min_height": null,
            "min_width": null,
            "object_fit": null,
            "object_position": null,
            "order": null,
            "overflow": null,
            "overflow_x": null,
            "overflow_y": null,
            "padding": null,
            "right": null,
            "top": null,
            "visibility": null,
            "width": null
          }
        },
        "7d04644222bc4492ad942f98f483b917": {
          "model_module": "@jupyter-widgets/controls",
          "model_name": "DescriptionStyleModel",
          "model_module_version": "1.5.0",
          "state": {
            "_model_module": "@jupyter-widgets/controls",
            "_model_module_version": "1.5.0",
            "_model_name": "DescriptionStyleModel",
            "_view_count": null,
            "_view_module": "@jupyter-widgets/base",
            "_view_module_version": "1.2.0",
            "_view_name": "StyleView",
            "description_width": ""
          }
        },
        "67cf63698c684e0fa7c72626f9eab2c3": {
          "model_module": "@jupyter-widgets/controls",
          "model_name": "HBoxModel",
          "model_module_version": "1.5.0",
          "state": {
            "_dom_classes": [],
            "_model_module": "@jupyter-widgets/controls",
            "_model_module_version": "1.5.0",
            "_model_name": "HBoxModel",
            "_view_count": null,
            "_view_module": "@jupyter-widgets/controls",
            "_view_module_version": "1.5.0",
            "_view_name": "HBoxView",
            "box_style": "",
            "children": [
              "IPY_MODEL_659954406dc8448384228e81979a4cab",
              "IPY_MODEL_d1be0fa439e74ba48a6089cfafd829d3",
              "IPY_MODEL_13d8f04510ba43558abb704a17be1ae2"
            ],
            "layout": "IPY_MODEL_05f205c274d443a48fd844bd777ce0d6"
          }
        },
        "659954406dc8448384228e81979a4cab": {
          "model_module": "@jupyter-widgets/controls",
          "model_name": "HTMLModel",
          "model_module_version": "1.5.0",
          "state": {
            "_dom_classes": [],
            "_model_module": "@jupyter-widgets/controls",
            "_model_module_version": "1.5.0",
            "_model_name": "HTMLModel",
            "_view_count": null,
            "_view_module": "@jupyter-widgets/controls",
            "_view_module_version": "1.5.0",
            "_view_name": "HTMLView",
            "description": "",
            "description_tooltip": null,
            "layout": "IPY_MODEL_9ae386f5f284437ca67df7d7c748b3dd",
            "placeholder": "​",
            "style": "IPY_MODEL_dbaa337a3b0641e48855c62f1f4722a4",
            "value": "Downloading shards: 100%"
          }
        },
        "d1be0fa439e74ba48a6089cfafd829d3": {
          "model_module": "@jupyter-widgets/controls",
          "model_name": "FloatProgressModel",
          "model_module_version": "1.5.0",
          "state": {
            "_dom_classes": [],
            "_model_module": "@jupyter-widgets/controls",
            "_model_module_version": "1.5.0",
            "_model_name": "FloatProgressModel",
            "_view_count": null,
            "_view_module": "@jupyter-widgets/controls",
            "_view_module_version": "1.5.0",
            "_view_name": "ProgressView",
            "bar_style": "success",
            "description": "",
            "description_tooltip": null,
            "layout": "IPY_MODEL_bfda998e1b0247adbe59cd72a7ee966f",
            "max": 2,
            "min": 0,
            "orientation": "horizontal",
            "style": "IPY_MODEL_851db9938b82473091abbb9dcdda5c8f",
            "value": 2
          }
        },
        "13d8f04510ba43558abb704a17be1ae2": {
          "model_module": "@jupyter-widgets/controls",
          "model_name": "HTMLModel",
          "model_module_version": "1.5.0",
          "state": {
            "_dom_classes": [],
            "_model_module": "@jupyter-widgets/controls",
            "_model_module_version": "1.5.0",
            "_model_name": "HTMLModel",
            "_view_count": null,
            "_view_module": "@jupyter-widgets/controls",
            "_view_module_version": "1.5.0",
            "_view_name": "HTMLView",
            "description": "",
            "description_tooltip": null,
            "layout": "IPY_MODEL_5742fbbb81d745e9bfc55c165c64eff0",
            "placeholder": "​",
            "style": "IPY_MODEL_a89b6031f70c42849c69f79861bc8d64",
            "value": " 2/2 [01:14&lt;00:00, 35.00s/it]"
          }
        },
        "05f205c274d443a48fd844bd777ce0d6": {
          "model_module": "@jupyter-widgets/base",
          "model_name": "LayoutModel",
          "model_module_version": "1.2.0",
          "state": {
            "_model_module": "@jupyter-widgets/base",
            "_model_module_version": "1.2.0",
            "_model_name": "LayoutModel",
            "_view_count": null,
            "_view_module": "@jupyter-widgets/base",
            "_view_module_version": "1.2.0",
            "_view_name": "LayoutView",
            "align_content": null,
            "align_items": null,
            "align_self": null,
            "border": null,
            "bottom": null,
            "display": null,
            "flex": null,
            "flex_flow": null,
            "grid_area": null,
            "grid_auto_columns": null,
            "grid_auto_flow": null,
            "grid_auto_rows": null,
            "grid_column": null,
            "grid_gap": null,
            "grid_row": null,
            "grid_template_areas": null,
            "grid_template_columns": null,
            "grid_template_rows": null,
            "height": null,
            "justify_content": null,
            "justify_items": null,
            "left": null,
            "margin": null,
            "max_height": null,
            "max_width": null,
            "min_height": null,
            "min_width": null,
            "object_fit": null,
            "object_position": null,
            "order": null,
            "overflow": null,
            "overflow_x": null,
            "overflow_y": null,
            "padding": null,
            "right": null,
            "top": null,
            "visibility": null,
            "width": null
          }
        },
        "9ae386f5f284437ca67df7d7c748b3dd": {
          "model_module": "@jupyter-widgets/base",
          "model_name": "LayoutModel",
          "model_module_version": "1.2.0",
          "state": {
            "_model_module": "@jupyter-widgets/base",
            "_model_module_version": "1.2.0",
            "_model_name": "LayoutModel",
            "_view_count": null,
            "_view_module": "@jupyter-widgets/base",
            "_view_module_version": "1.2.0",
            "_view_name": "LayoutView",
            "align_content": null,
            "align_items": null,
            "align_self": null,
            "border": null,
            "bottom": null,
            "display": null,
            "flex": null,
            "flex_flow": null,
            "grid_area": null,
            "grid_auto_columns": null,
            "grid_auto_flow": null,
            "grid_auto_rows": null,
            "grid_column": null,
            "grid_gap": null,
            "grid_row": null,
            "grid_template_areas": null,
            "grid_template_columns": null,
            "grid_template_rows": null,
            "height": null,
            "justify_content": null,
            "justify_items": null,
            "left": null,
            "margin": null,
            "max_height": null,
            "max_width": null,
            "min_height": null,
            "min_width": null,
            "object_fit": null,
            "object_position": null,
            "order": null,
            "overflow": null,
            "overflow_x": null,
            "overflow_y": null,
            "padding": null,
            "right": null,
            "top": null,
            "visibility": null,
            "width": null
          }
        },
        "dbaa337a3b0641e48855c62f1f4722a4": {
          "model_module": "@jupyter-widgets/controls",
          "model_name": "DescriptionStyleModel",
          "model_module_version": "1.5.0",
          "state": {
            "_model_module": "@jupyter-widgets/controls",
            "_model_module_version": "1.5.0",
            "_model_name": "DescriptionStyleModel",
            "_view_count": null,
            "_view_module": "@jupyter-widgets/base",
            "_view_module_version": "1.2.0",
            "_view_name": "StyleView",
            "description_width": ""
          }
        },
        "bfda998e1b0247adbe59cd72a7ee966f": {
          "model_module": "@jupyter-widgets/base",
          "model_name": "LayoutModel",
          "model_module_version": "1.2.0",
          "state": {
            "_model_module": "@jupyter-widgets/base",
            "_model_module_version": "1.2.0",
            "_model_name": "LayoutModel",
            "_view_count": null,
            "_view_module": "@jupyter-widgets/base",
            "_view_module_version": "1.2.0",
            "_view_name": "LayoutView",
            "align_content": null,
            "align_items": null,
            "align_self": null,
            "border": null,
            "bottom": null,
            "display": null,
            "flex": null,
            "flex_flow": null,
            "grid_area": null,
            "grid_auto_columns": null,
            "grid_auto_flow": null,
            "grid_auto_rows": null,
            "grid_column": null,
            "grid_gap": null,
            "grid_row": null,
            "grid_template_areas": null,
            "grid_template_columns": null,
            "grid_template_rows": null,
            "height": null,
            "justify_content": null,
            "justify_items": null,
            "left": null,
            "margin": null,
            "max_height": null,
            "max_width": null,
            "min_height": null,
            "min_width": null,
            "object_fit": null,
            "object_position": null,
            "order": null,
            "overflow": null,
            "overflow_x": null,
            "overflow_y": null,
            "padding": null,
            "right": null,
            "top": null,
            "visibility": null,
            "width": null
          }
        },
        "851db9938b82473091abbb9dcdda5c8f": {
          "model_module": "@jupyter-widgets/controls",
          "model_name": "ProgressStyleModel",
          "model_module_version": "1.5.0",
          "state": {
            "_model_module": "@jupyter-widgets/controls",
            "_model_module_version": "1.5.0",
            "_model_name": "ProgressStyleModel",
            "_view_count": null,
            "_view_module": "@jupyter-widgets/base",
            "_view_module_version": "1.2.0",
            "_view_name": "StyleView",
            "bar_color": null,
            "description_width": ""
          }
        },
        "5742fbbb81d745e9bfc55c165c64eff0": {
          "model_module": "@jupyter-widgets/base",
          "model_name": "LayoutModel",
          "model_module_version": "1.2.0",
          "state": {
            "_model_module": "@jupyter-widgets/base",
            "_model_module_version": "1.2.0",
            "_model_name": "LayoutModel",
            "_view_count": null,
            "_view_module": "@jupyter-widgets/base",
            "_view_module_version": "1.2.0",
            "_view_name": "LayoutView",
            "align_content": null,
            "align_items": null,
            "align_self": null,
            "border": null,
            "bottom": null,
            "display": null,
            "flex": null,
            "flex_flow": null,
            "grid_area": null,
            "grid_auto_columns": null,
            "grid_auto_flow": null,
            "grid_auto_rows": null,
            "grid_column": null,
            "grid_gap": null,
            "grid_row": null,
            "grid_template_areas": null,
            "grid_template_columns": null,
            "grid_template_rows": null,
            "height": null,
            "justify_content": null,
            "justify_items": null,
            "left": null,
            "margin": null,
            "max_height": null,
            "max_width": null,
            "min_height": null,
            "min_width": null,
            "object_fit": null,
            "object_position": null,
            "order": null,
            "overflow": null,
            "overflow_x": null,
            "overflow_y": null,
            "padding": null,
            "right": null,
            "top": null,
            "visibility": null,
            "width": null
          }
        },
        "a89b6031f70c42849c69f79861bc8d64": {
          "model_module": "@jupyter-widgets/controls",
          "model_name": "DescriptionStyleModel",
          "model_module_version": "1.5.0",
          "state": {
            "_model_module": "@jupyter-widgets/controls",
            "_model_module_version": "1.5.0",
            "_model_name": "DescriptionStyleModel",
            "_view_count": null,
            "_view_module": "@jupyter-widgets/base",
            "_view_module_version": "1.2.0",
            "_view_name": "StyleView",
            "description_width": ""
          }
        },
        "8ea0658e0bb34c4a9508a961bf6504b1": {
          "model_module": "@jupyter-widgets/controls",
          "model_name": "HBoxModel",
          "model_module_version": "1.5.0",
          "state": {
            "_dom_classes": [],
            "_model_module": "@jupyter-widgets/controls",
            "_model_module_version": "1.5.0",
            "_model_name": "HBoxModel",
            "_view_count": null,
            "_view_module": "@jupyter-widgets/controls",
            "_view_module_version": "1.5.0",
            "_view_name": "HBoxView",
            "box_style": "",
            "children": [
              "IPY_MODEL_3097ee2094584878a8579f72e5cc256b",
              "IPY_MODEL_2b035d70884849b294838f2ca9334d7c",
              "IPY_MODEL_b53cd2f095074c1186f365148da8bb5d"
            ],
            "layout": "IPY_MODEL_f6ca106eb5f94e268252f04ade49020f"
          }
        },
        "3097ee2094584878a8579f72e5cc256b": {
          "model_module": "@jupyter-widgets/controls",
          "model_name": "HTMLModel",
          "model_module_version": "1.5.0",
          "state": {
            "_dom_classes": [],
            "_model_module": "@jupyter-widgets/controls",
            "_model_module_version": "1.5.0",
            "_model_name": "HTMLModel",
            "_view_count": null,
            "_view_module": "@jupyter-widgets/controls",
            "_view_module_version": "1.5.0",
            "_view_name": "HTMLView",
            "description": "",
            "description_tooltip": null,
            "layout": "IPY_MODEL_ecf5cc53310d454486d43d864b8061d6",
            "placeholder": "​",
            "style": "IPY_MODEL_320fbf69c64847e285da9cb9d04e5b73",
            "value": "pytorch_model-00001-of-00002.bin: 100%"
          }
        },
        "2b035d70884849b294838f2ca9334d7c": {
          "model_module": "@jupyter-widgets/controls",
          "model_name": "FloatProgressModel",
          "model_module_version": "1.5.0",
          "state": {
            "_dom_classes": [],
            "_model_module": "@jupyter-widgets/controls",
            "_model_module_version": "1.5.0",
            "_model_name": "FloatProgressModel",
            "_view_count": null,
            "_view_module": "@jupyter-widgets/controls",
            "_view_module_version": "1.5.0",
            "_view_name": "ProgressView",
            "bar_style": "success",
            "description": "",
            "description_tooltip": null,
            "layout": "IPY_MODEL_fa07ad3beb6a456ab141c6c2928e43c7",
            "max": 9951028193,
            "min": 0,
            "orientation": "horizontal",
            "style": "IPY_MODEL_c21b394e951a43ff9f2ae3380242c5cb",
            "value": 9951028193
          }
        },
        "b53cd2f095074c1186f365148da8bb5d": {
          "model_module": "@jupyter-widgets/controls",
          "model_name": "HTMLModel",
          "model_module_version": "1.5.0",
          "state": {
            "_dom_classes": [],
            "_model_module": "@jupyter-widgets/controls",
            "_model_module_version": "1.5.0",
            "_model_name": "HTMLModel",
            "_view_count": null,
            "_view_module": "@jupyter-widgets/controls",
            "_view_module_version": "1.5.0",
            "_view_name": "HTMLView",
            "description": "",
            "description_tooltip": null,
            "layout": "IPY_MODEL_82634e8fec3f4fdf9e20771bba0a521c",
            "placeholder": "​",
            "style": "IPY_MODEL_2b2cb1c6f9504a62bf53bde784b2cd7e",
            "value": " 9.95G/9.95G [00:51&lt;00:00, 207MB/s]"
          }
        },
        "f6ca106eb5f94e268252f04ade49020f": {
          "model_module": "@jupyter-widgets/base",
          "model_name": "LayoutModel",
          "model_module_version": "1.2.0",
          "state": {
            "_model_module": "@jupyter-widgets/base",
            "_model_module_version": "1.2.0",
            "_model_name": "LayoutModel",
            "_view_count": null,
            "_view_module": "@jupyter-widgets/base",
            "_view_module_version": "1.2.0",
            "_view_name": "LayoutView",
            "align_content": null,
            "align_items": null,
            "align_self": null,
            "border": null,
            "bottom": null,
            "display": null,
            "flex": null,
            "flex_flow": null,
            "grid_area": null,
            "grid_auto_columns": null,
            "grid_auto_flow": null,
            "grid_auto_rows": null,
            "grid_column": null,
            "grid_gap": null,
            "grid_row": null,
            "grid_template_areas": null,
            "grid_template_columns": null,
            "grid_template_rows": null,
            "height": null,
            "justify_content": null,
            "justify_items": null,
            "left": null,
            "margin": null,
            "max_height": null,
            "max_width": null,
            "min_height": null,
            "min_width": null,
            "object_fit": null,
            "object_position": null,
            "order": null,
            "overflow": null,
            "overflow_x": null,
            "overflow_y": null,
            "padding": null,
            "right": null,
            "top": null,
            "visibility": null,
            "width": null
          }
        },
        "ecf5cc53310d454486d43d864b8061d6": {
          "model_module": "@jupyter-widgets/base",
          "model_name": "LayoutModel",
          "model_module_version": "1.2.0",
          "state": {
            "_model_module": "@jupyter-widgets/base",
            "_model_module_version": "1.2.0",
            "_model_name": "LayoutModel",
            "_view_count": null,
            "_view_module": "@jupyter-widgets/base",
            "_view_module_version": "1.2.0",
            "_view_name": "LayoutView",
            "align_content": null,
            "align_items": null,
            "align_self": null,
            "border": null,
            "bottom": null,
            "display": null,
            "flex": null,
            "flex_flow": null,
            "grid_area": null,
            "grid_auto_columns": null,
            "grid_auto_flow": null,
            "grid_auto_rows": null,
            "grid_column": null,
            "grid_gap": null,
            "grid_row": null,
            "grid_template_areas": null,
            "grid_template_columns": null,
            "grid_template_rows": null,
            "height": null,
            "justify_content": null,
            "justify_items": null,
            "left": null,
            "margin": null,
            "max_height": null,
            "max_width": null,
            "min_height": null,
            "min_width": null,
            "object_fit": null,
            "object_position": null,
            "order": null,
            "overflow": null,
            "overflow_x": null,
            "overflow_y": null,
            "padding": null,
            "right": null,
            "top": null,
            "visibility": null,
            "width": null
          }
        },
        "320fbf69c64847e285da9cb9d04e5b73": {
          "model_module": "@jupyter-widgets/controls",
          "model_name": "DescriptionStyleModel",
          "model_module_version": "1.5.0",
          "state": {
            "_model_module": "@jupyter-widgets/controls",
            "_model_module_version": "1.5.0",
            "_model_name": "DescriptionStyleModel",
            "_view_count": null,
            "_view_module": "@jupyter-widgets/base",
            "_view_module_version": "1.2.0",
            "_view_name": "StyleView",
            "description_width": ""
          }
        },
        "fa07ad3beb6a456ab141c6c2928e43c7": {
          "model_module": "@jupyter-widgets/base",
          "model_name": "LayoutModel",
          "model_module_version": "1.2.0",
          "state": {
            "_model_module": "@jupyter-widgets/base",
            "_model_module_version": "1.2.0",
            "_model_name": "LayoutModel",
            "_view_count": null,
            "_view_module": "@jupyter-widgets/base",
            "_view_module_version": "1.2.0",
            "_view_name": "LayoutView",
            "align_content": null,
            "align_items": null,
            "align_self": null,
            "border": null,
            "bottom": null,
            "display": null,
            "flex": null,
            "flex_flow": null,
            "grid_area": null,
            "grid_auto_columns": null,
            "grid_auto_flow": null,
            "grid_auto_rows": null,
            "grid_column": null,
            "grid_gap": null,
            "grid_row": null,
            "grid_template_areas": null,
            "grid_template_columns": null,
            "grid_template_rows": null,
            "height": null,
            "justify_content": null,
            "justify_items": null,
            "left": null,
            "margin": null,
            "max_height": null,
            "max_width": null,
            "min_height": null,
            "min_width": null,
            "object_fit": null,
            "object_position": null,
            "order": null,
            "overflow": null,
            "overflow_x": null,
            "overflow_y": null,
            "padding": null,
            "right": null,
            "top": null,
            "visibility": null,
            "width": null
          }
        },
        "c21b394e951a43ff9f2ae3380242c5cb": {
          "model_module": "@jupyter-widgets/controls",
          "model_name": "ProgressStyleModel",
          "model_module_version": "1.5.0",
          "state": {
            "_model_module": "@jupyter-widgets/controls",
            "_model_module_version": "1.5.0",
            "_model_name": "ProgressStyleModel",
            "_view_count": null,
            "_view_module": "@jupyter-widgets/base",
            "_view_module_version": "1.2.0",
            "_view_name": "StyleView",
            "bar_color": null,
            "description_width": ""
          }
        },
        "82634e8fec3f4fdf9e20771bba0a521c": {
          "model_module": "@jupyter-widgets/base",
          "model_name": "LayoutModel",
          "model_module_version": "1.2.0",
          "state": {
            "_model_module": "@jupyter-widgets/base",
            "_model_module_version": "1.2.0",
            "_model_name": "LayoutModel",
            "_view_count": null,
            "_view_module": "@jupyter-widgets/base",
            "_view_module_version": "1.2.0",
            "_view_name": "LayoutView",
            "align_content": null,
            "align_items": null,
            "align_self": null,
            "border": null,
            "bottom": null,
            "display": null,
            "flex": null,
            "flex_flow": null,
            "grid_area": null,
            "grid_auto_columns": null,
            "grid_auto_flow": null,
            "grid_auto_rows": null,
            "grid_column": null,
            "grid_gap": null,
            "grid_row": null,
            "grid_template_areas": null,
            "grid_template_columns": null,
            "grid_template_rows": null,
            "height": null,
            "justify_content": null,
            "justify_items": null,
            "left": null,
            "margin": null,
            "max_height": null,
            "max_width": null,
            "min_height": null,
            "min_width": null,
            "object_fit": null,
            "object_position": null,
            "order": null,
            "overflow": null,
            "overflow_x": null,
            "overflow_y": null,
            "padding": null,
            "right": null,
            "top": null,
            "visibility": null,
            "width": null
          }
        },
        "2b2cb1c6f9504a62bf53bde784b2cd7e": {
          "model_module": "@jupyter-widgets/controls",
          "model_name": "DescriptionStyleModel",
          "model_module_version": "1.5.0",
          "state": {
            "_model_module": "@jupyter-widgets/controls",
            "_model_module_version": "1.5.0",
            "_model_name": "DescriptionStyleModel",
            "_view_count": null,
            "_view_module": "@jupyter-widgets/base",
            "_view_module_version": "1.2.0",
            "_view_name": "StyleView",
            "description_width": ""
          }
        },
        "001a1f23f333498baa242ab204ab1cf5": {
          "model_module": "@jupyter-widgets/controls",
          "model_name": "HBoxModel",
          "model_module_version": "1.5.0",
          "state": {
            "_dom_classes": [],
            "_model_module": "@jupyter-widgets/controls",
            "_model_module_version": "1.5.0",
            "_model_name": "HBoxModel",
            "_view_count": null,
            "_view_module": "@jupyter-widgets/controls",
            "_view_module_version": "1.5.0",
            "_view_name": "HBoxView",
            "box_style": "",
            "children": [
              "IPY_MODEL_ec0e5f72272242dc9a8f30ee47e546fb",
              "IPY_MODEL_98832bf02b2e4e2eaba82029601da2b0",
              "IPY_MODEL_6dbbe6dd67c84fee845b98ebfa20ec67"
            ],
            "layout": "IPY_MODEL_1fc28775e8c745cca47866f985d15c5e"
          }
        },
        "ec0e5f72272242dc9a8f30ee47e546fb": {
          "model_module": "@jupyter-widgets/controls",
          "model_name": "HTMLModel",
          "model_module_version": "1.5.0",
          "state": {
            "_dom_classes": [],
            "_model_module": "@jupyter-widgets/controls",
            "_model_module_version": "1.5.0",
            "_model_name": "HTMLModel",
            "_view_count": null,
            "_view_module": "@jupyter-widgets/controls",
            "_view_module_version": "1.5.0",
            "_view_name": "HTMLView",
            "description": "",
            "description_tooltip": null,
            "layout": "IPY_MODEL_f86ce508b3df43f099c7b8509c4d2319",
            "placeholder": "​",
            "style": "IPY_MODEL_51ef2f6d056f4262af39a4f3a9d4c964",
            "value": "pytorch_model-00002-of-00002.bin: 100%"
          }
        },
        "98832bf02b2e4e2eaba82029601da2b0": {
          "model_module": "@jupyter-widgets/controls",
          "model_name": "FloatProgressModel",
          "model_module_version": "1.5.0",
          "state": {
            "_dom_classes": [],
            "_model_module": "@jupyter-widgets/controls",
            "_model_module_version": "1.5.0",
            "_model_name": "FloatProgressModel",
            "_view_count": null,
            "_view_module": "@jupyter-widgets/controls",
            "_view_module_version": "1.5.0",
            "_view_name": "ProgressView",
            "bar_style": "success",
            "description": "",
            "description_tooltip": null,
            "layout": "IPY_MODEL_856d288f5b21402b8c2a728d6a59c703",
            "max": 4483421659,
            "min": 0,
            "orientation": "horizontal",
            "style": "IPY_MODEL_a26f7de208be4b68a4b7d33f08c945f6",
            "value": 4483421659
          }
        },
        "6dbbe6dd67c84fee845b98ebfa20ec67": {
          "model_module": "@jupyter-widgets/controls",
          "model_name": "HTMLModel",
          "model_module_version": "1.5.0",
          "state": {
            "_dom_classes": [],
            "_model_module": "@jupyter-widgets/controls",
            "_model_module_version": "1.5.0",
            "_model_name": "HTMLModel",
            "_view_count": null,
            "_view_module": "@jupyter-widgets/controls",
            "_view_module_version": "1.5.0",
            "_view_name": "HTMLView",
            "description": "",
            "description_tooltip": null,
            "layout": "IPY_MODEL_9544a32d83d74084a50a3224e71e96fb",
            "placeholder": "​",
            "style": "IPY_MODEL_61d45c0b667a41339d7e166406c8a4a2",
            "value": " 4.48G/4.48G [00:23&lt;00:00, 205MB/s]"
          }
        },
        "1fc28775e8c745cca47866f985d15c5e": {
          "model_module": "@jupyter-widgets/base",
          "model_name": "LayoutModel",
          "model_module_version": "1.2.0",
          "state": {
            "_model_module": "@jupyter-widgets/base",
            "_model_module_version": "1.2.0",
            "_model_name": "LayoutModel",
            "_view_count": null,
            "_view_module": "@jupyter-widgets/base",
            "_view_module_version": "1.2.0",
            "_view_name": "LayoutView",
            "align_content": null,
            "align_items": null,
            "align_self": null,
            "border": null,
            "bottom": null,
            "display": null,
            "flex": null,
            "flex_flow": null,
            "grid_area": null,
            "grid_auto_columns": null,
            "grid_auto_flow": null,
            "grid_auto_rows": null,
            "grid_column": null,
            "grid_gap": null,
            "grid_row": null,
            "grid_template_areas": null,
            "grid_template_columns": null,
            "grid_template_rows": null,
            "height": null,
            "justify_content": null,
            "justify_items": null,
            "left": null,
            "margin": null,
            "max_height": null,
            "max_width": null,
            "min_height": null,
            "min_width": null,
            "object_fit": null,
            "object_position": null,
            "order": null,
            "overflow": null,
            "overflow_x": null,
            "overflow_y": null,
            "padding": null,
            "right": null,
            "top": null,
            "visibility": null,
            "width": null
          }
        },
        "f86ce508b3df43f099c7b8509c4d2319": {
          "model_module": "@jupyter-widgets/base",
          "model_name": "LayoutModel",
          "model_module_version": "1.2.0",
          "state": {
            "_model_module": "@jupyter-widgets/base",
            "_model_module_version": "1.2.0",
            "_model_name": "LayoutModel",
            "_view_count": null,
            "_view_module": "@jupyter-widgets/base",
            "_view_module_version": "1.2.0",
            "_view_name": "LayoutView",
            "align_content": null,
            "align_items": null,
            "align_self": null,
            "border": null,
            "bottom": null,
            "display": null,
            "flex": null,
            "flex_flow": null,
            "grid_area": null,
            "grid_auto_columns": null,
            "grid_auto_flow": null,
            "grid_auto_rows": null,
            "grid_column": null,
            "grid_gap": null,
            "grid_row": null,
            "grid_template_areas": null,
            "grid_template_columns": null,
            "grid_template_rows": null,
            "height": null,
            "justify_content": null,
            "justify_items": null,
            "left": null,
            "margin": null,
            "max_height": null,
            "max_width": null,
            "min_height": null,
            "min_width": null,
            "object_fit": null,
            "object_position": null,
            "order": null,
            "overflow": null,
            "overflow_x": null,
            "overflow_y": null,
            "padding": null,
            "right": null,
            "top": null,
            "visibility": null,
            "width": null
          }
        },
        "51ef2f6d056f4262af39a4f3a9d4c964": {
          "model_module": "@jupyter-widgets/controls",
          "model_name": "DescriptionStyleModel",
          "model_module_version": "1.5.0",
          "state": {
            "_model_module": "@jupyter-widgets/controls",
            "_model_module_version": "1.5.0",
            "_model_name": "DescriptionStyleModel",
            "_view_count": null,
            "_view_module": "@jupyter-widgets/base",
            "_view_module_version": "1.2.0",
            "_view_name": "StyleView",
            "description_width": ""
          }
        },
        "856d288f5b21402b8c2a728d6a59c703": {
          "model_module": "@jupyter-widgets/base",
          "model_name": "LayoutModel",
          "model_module_version": "1.2.0",
          "state": {
            "_model_module": "@jupyter-widgets/base",
            "_model_module_version": "1.2.0",
            "_model_name": "LayoutModel",
            "_view_count": null,
            "_view_module": "@jupyter-widgets/base",
            "_view_module_version": "1.2.0",
            "_view_name": "LayoutView",
            "align_content": null,
            "align_items": null,
            "align_self": null,
            "border": null,
            "bottom": null,
            "display": null,
            "flex": null,
            "flex_flow": null,
            "grid_area": null,
            "grid_auto_columns": null,
            "grid_auto_flow": null,
            "grid_auto_rows": null,
            "grid_column": null,
            "grid_gap": null,
            "grid_row": null,
            "grid_template_areas": null,
            "grid_template_columns": null,
            "grid_template_rows": null,
            "height": null,
            "justify_content": null,
            "justify_items": null,
            "left": null,
            "margin": null,
            "max_height": null,
            "max_width": null,
            "min_height": null,
            "min_width": null,
            "object_fit": null,
            "object_position": null,
            "order": null,
            "overflow": null,
            "overflow_x": null,
            "overflow_y": null,
            "padding": null,
            "right": null,
            "top": null,
            "visibility": null,
            "width": null
          }
        },
        "a26f7de208be4b68a4b7d33f08c945f6": {
          "model_module": "@jupyter-widgets/controls",
          "model_name": "ProgressStyleModel",
          "model_module_version": "1.5.0",
          "state": {
            "_model_module": "@jupyter-widgets/controls",
            "_model_module_version": "1.5.0",
            "_model_name": "ProgressStyleModel",
            "_view_count": null,
            "_view_module": "@jupyter-widgets/base",
            "_view_module_version": "1.2.0",
            "_view_name": "StyleView",
            "bar_color": null,
            "description_width": ""
          }
        },
        "9544a32d83d74084a50a3224e71e96fb": {
          "model_module": "@jupyter-widgets/base",
          "model_name": "LayoutModel",
          "model_module_version": "1.2.0",
          "state": {
            "_model_module": "@jupyter-widgets/base",
            "_model_module_version": "1.2.0",
            "_model_name": "LayoutModel",
            "_view_count": null,
            "_view_module": "@jupyter-widgets/base",
            "_view_module_version": "1.2.0",
            "_view_name": "LayoutView",
            "align_content": null,
            "align_items": null,
            "align_self": null,
            "border": null,
            "bottom": null,
            "display": null,
            "flex": null,
            "flex_flow": null,
            "grid_area": null,
            "grid_auto_columns": null,
            "grid_auto_flow": null,
            "grid_auto_rows": null,
            "grid_column": null,
            "grid_gap": null,
            "grid_row": null,
            "grid_template_areas": null,
            "grid_template_columns": null,
            "grid_template_rows": null,
            "height": null,
            "justify_content": null,
            "justify_items": null,
            "left": null,
            "margin": null,
            "max_height": null,
            "max_width": null,
            "min_height": null,
            "min_width": null,
            "object_fit": null,
            "object_position": null,
            "order": null,
            "overflow": null,
            "overflow_x": null,
            "overflow_y": null,
            "padding": null,
            "right": null,
            "top": null,
            "visibility": null,
            "width": null
          }
        },
        "61d45c0b667a41339d7e166406c8a4a2": {
          "model_module": "@jupyter-widgets/controls",
          "model_name": "DescriptionStyleModel",
          "model_module_version": "1.5.0",
          "state": {
            "_model_module": "@jupyter-widgets/controls",
            "_model_module_version": "1.5.0",
            "_model_name": "DescriptionStyleModel",
            "_view_count": null,
            "_view_module": "@jupyter-widgets/base",
            "_view_module_version": "1.2.0",
            "_view_name": "StyleView",
            "description_width": ""
          }
        },
        "a23a292e79d249fd85bc9c7e3179a5a6": {
          "model_module": "@jupyter-widgets/controls",
          "model_name": "HBoxModel",
          "model_module_version": "1.5.0",
          "state": {
            "_dom_classes": [],
            "_model_module": "@jupyter-widgets/controls",
            "_model_module_version": "1.5.0",
            "_model_name": "HBoxModel",
            "_view_count": null,
            "_view_module": "@jupyter-widgets/controls",
            "_view_module_version": "1.5.0",
            "_view_name": "HBoxView",
            "box_style": "",
            "children": [
              "IPY_MODEL_951beee4be594a8fb9660e75586bae3c",
              "IPY_MODEL_67ceaea710bc4f11bc97592cd1a6a676",
              "IPY_MODEL_f3a8f80f158f4c72a20e16b252a49375"
            ],
            "layout": "IPY_MODEL_42e49693d93b4c5696675877e51feeb4"
          }
        },
        "951beee4be594a8fb9660e75586bae3c": {
          "model_module": "@jupyter-widgets/controls",
          "model_name": "HTMLModel",
          "model_module_version": "1.5.0",
          "state": {
            "_dom_classes": [],
            "_model_module": "@jupyter-widgets/controls",
            "_model_module_version": "1.5.0",
            "_model_name": "HTMLModel",
            "_view_count": null,
            "_view_module": "@jupyter-widgets/controls",
            "_view_module_version": "1.5.0",
            "_view_name": "HTMLView",
            "description": "",
            "description_tooltip": null,
            "layout": "IPY_MODEL_583cfcb8b15f4b0485055a28b923f79a",
            "placeholder": "​",
            "style": "IPY_MODEL_67fed51830d84324ae808660f83aff7c",
            "value": "Loading checkpoint shards: 100%"
          }
        },
        "67ceaea710bc4f11bc97592cd1a6a676": {
          "model_module": "@jupyter-widgets/controls",
          "model_name": "FloatProgressModel",
          "model_module_version": "1.5.0",
          "state": {
            "_dom_classes": [],
            "_model_module": "@jupyter-widgets/controls",
            "_model_module_version": "1.5.0",
            "_model_name": "FloatProgressModel",
            "_view_count": null,
            "_view_module": "@jupyter-widgets/controls",
            "_view_module_version": "1.5.0",
            "_view_name": "ProgressView",
            "bar_style": "success",
            "description": "",
            "description_tooltip": null,
            "layout": "IPY_MODEL_2667c3f5e8fa45a59781e5f1fce8e340",
            "max": 2,
            "min": 0,
            "orientation": "horizontal",
            "style": "IPY_MODEL_ace5dad1b34541cdb970ad615e406769",
            "value": 2
          }
        },
        "f3a8f80f158f4c72a20e16b252a49375": {
          "model_module": "@jupyter-widgets/controls",
          "model_name": "HTMLModel",
          "model_module_version": "1.5.0",
          "state": {
            "_dom_classes": [],
            "_model_module": "@jupyter-widgets/controls",
            "_model_module_version": "1.5.0",
            "_model_name": "HTMLModel",
            "_view_count": null,
            "_view_module": "@jupyter-widgets/controls",
            "_view_module_version": "1.5.0",
            "_view_name": "HTMLView",
            "description": "",
            "description_tooltip": null,
            "layout": "IPY_MODEL_45cc5b760bdc4e8fb0d7ed77e54f7733",
            "placeholder": "​",
            "style": "IPY_MODEL_c2bc4607889e4cf491b3aaec508ba640",
            "value": " 2/2 [00:15&lt;00:00,  7.47s/it]"
          }
        },
        "42e49693d93b4c5696675877e51feeb4": {
          "model_module": "@jupyter-widgets/base",
          "model_name": "LayoutModel",
          "model_module_version": "1.2.0",
          "state": {
            "_model_module": "@jupyter-widgets/base",
            "_model_module_version": "1.2.0",
            "_model_name": "LayoutModel",
            "_view_count": null,
            "_view_module": "@jupyter-widgets/base",
            "_view_module_version": "1.2.0",
            "_view_name": "LayoutView",
            "align_content": null,
            "align_items": null,
            "align_self": null,
            "border": null,
            "bottom": null,
            "display": null,
            "flex": null,
            "flex_flow": null,
            "grid_area": null,
            "grid_auto_columns": null,
            "grid_auto_flow": null,
            "grid_auto_rows": null,
            "grid_column": null,
            "grid_gap": null,
            "grid_row": null,
            "grid_template_areas": null,
            "grid_template_columns": null,
            "grid_template_rows": null,
            "height": null,
            "justify_content": null,
            "justify_items": null,
            "left": null,
            "margin": null,
            "max_height": null,
            "max_width": null,
            "min_height": null,
            "min_width": null,
            "object_fit": null,
            "object_position": null,
            "order": null,
            "overflow": null,
            "overflow_x": null,
            "overflow_y": null,
            "padding": null,
            "right": null,
            "top": null,
            "visibility": null,
            "width": null
          }
        },
        "583cfcb8b15f4b0485055a28b923f79a": {
          "model_module": "@jupyter-widgets/base",
          "model_name": "LayoutModel",
          "model_module_version": "1.2.0",
          "state": {
            "_model_module": "@jupyter-widgets/base",
            "_model_module_version": "1.2.0",
            "_model_name": "LayoutModel",
            "_view_count": null,
            "_view_module": "@jupyter-widgets/base",
            "_view_module_version": "1.2.0",
            "_view_name": "LayoutView",
            "align_content": null,
            "align_items": null,
            "align_self": null,
            "border": null,
            "bottom": null,
            "display": null,
            "flex": null,
            "flex_flow": null,
            "grid_area": null,
            "grid_auto_columns": null,
            "grid_auto_flow": null,
            "grid_auto_rows": null,
            "grid_column": null,
            "grid_gap": null,
            "grid_row": null,
            "grid_template_areas": null,
            "grid_template_columns": null,
            "grid_template_rows": null,
            "height": null,
            "justify_content": null,
            "justify_items": null,
            "left": null,
            "margin": null,
            "max_height": null,
            "max_width": null,
            "min_height": null,
            "min_width": null,
            "object_fit": null,
            "object_position": null,
            "order": null,
            "overflow": null,
            "overflow_x": null,
            "overflow_y": null,
            "padding": null,
            "right": null,
            "top": null,
            "visibility": null,
            "width": null
          }
        },
        "67fed51830d84324ae808660f83aff7c": {
          "model_module": "@jupyter-widgets/controls",
          "model_name": "DescriptionStyleModel",
          "model_module_version": "1.5.0",
          "state": {
            "_model_module": "@jupyter-widgets/controls",
            "_model_module_version": "1.5.0",
            "_model_name": "DescriptionStyleModel",
            "_view_count": null,
            "_view_module": "@jupyter-widgets/base",
            "_view_module_version": "1.2.0",
            "_view_name": "StyleView",
            "description_width": ""
          }
        },
        "2667c3f5e8fa45a59781e5f1fce8e340": {
          "model_module": "@jupyter-widgets/base",
          "model_name": "LayoutModel",
          "model_module_version": "1.2.0",
          "state": {
            "_model_module": "@jupyter-widgets/base",
            "_model_module_version": "1.2.0",
            "_model_name": "LayoutModel",
            "_view_count": null,
            "_view_module": "@jupyter-widgets/base",
            "_view_module_version": "1.2.0",
            "_view_name": "LayoutView",
            "align_content": null,
            "align_items": null,
            "align_self": null,
            "border": null,
            "bottom": null,
            "display": null,
            "flex": null,
            "flex_flow": null,
            "grid_area": null,
            "grid_auto_columns": null,
            "grid_auto_flow": null,
            "grid_auto_rows": null,
            "grid_column": null,
            "grid_gap": null,
            "grid_row": null,
            "grid_template_areas": null,
            "grid_template_columns": null,
            "grid_template_rows": null,
            "height": null,
            "justify_content": null,
            "justify_items": null,
            "left": null,
            "margin": null,
            "max_height": null,
            "max_width": null,
            "min_height": null,
            "min_width": null,
            "object_fit": null,
            "object_position": null,
            "order": null,
            "overflow": null,
            "overflow_x": null,
            "overflow_y": null,
            "padding": null,
            "right": null,
            "top": null,
            "visibility": null,
            "width": null
          }
        },
        "ace5dad1b34541cdb970ad615e406769": {
          "model_module": "@jupyter-widgets/controls",
          "model_name": "ProgressStyleModel",
          "model_module_version": "1.5.0",
          "state": {
            "_model_module": "@jupyter-widgets/controls",
            "_model_module_version": "1.5.0",
            "_model_name": "ProgressStyleModel",
            "_view_count": null,
            "_view_module": "@jupyter-widgets/base",
            "_view_module_version": "1.2.0",
            "_view_name": "StyleView",
            "bar_color": null,
            "description_width": ""
          }
        },
        "45cc5b760bdc4e8fb0d7ed77e54f7733": {
          "model_module": "@jupyter-widgets/base",
          "model_name": "LayoutModel",
          "model_module_version": "1.2.0",
          "state": {
            "_model_module": "@jupyter-widgets/base",
            "_model_module_version": "1.2.0",
            "_model_name": "LayoutModel",
            "_view_count": null,
            "_view_module": "@jupyter-widgets/base",
            "_view_module_version": "1.2.0",
            "_view_name": "LayoutView",
            "align_content": null,
            "align_items": null,
            "align_self": null,
            "border": null,
            "bottom": null,
            "display": null,
            "flex": null,
            "flex_flow": null,
            "grid_area": null,
            "grid_auto_columns": null,
            "grid_auto_flow": null,
            "grid_auto_rows": null,
            "grid_column": null,
            "grid_gap": null,
            "grid_row": null,
            "grid_template_areas": null,
            "grid_template_columns": null,
            "grid_template_rows": null,
            "height": null,
            "justify_content": null,
            "justify_items": null,
            "left": null,
            "margin": null,
            "max_height": null,
            "max_width": null,
            "min_height": null,
            "min_width": null,
            "object_fit": null,
            "object_position": null,
            "order": null,
            "overflow": null,
            "overflow_x": null,
            "overflow_y": null,
            "padding": null,
            "right": null,
            "top": null,
            "visibility": null,
            "width": null
          }
        },
        "c2bc4607889e4cf491b3aaec508ba640": {
          "model_module": "@jupyter-widgets/controls",
          "model_name": "DescriptionStyleModel",
          "model_module_version": "1.5.0",
          "state": {
            "_model_module": "@jupyter-widgets/controls",
            "_model_module_version": "1.5.0",
            "_model_name": "DescriptionStyleModel",
            "_view_count": null,
            "_view_module": "@jupyter-widgets/base",
            "_view_module_version": "1.2.0",
            "_view_name": "StyleView",
            "description_width": ""
          }
        },
        "a2c20d4311a94560bd6450bef616aa76": {
          "model_module": "@jupyter-widgets/controls",
          "model_name": "HBoxModel",
          "model_module_version": "1.5.0",
          "state": {
            "_dom_classes": [],
            "_model_module": "@jupyter-widgets/controls",
            "_model_module_version": "1.5.0",
            "_model_name": "HBoxModel",
            "_view_count": null,
            "_view_module": "@jupyter-widgets/controls",
            "_view_module_version": "1.5.0",
            "_view_name": "HBoxView",
            "box_style": "",
            "children": [
              "IPY_MODEL_b99d997ac823404fba68c22c76eb49d7",
              "IPY_MODEL_7f1d21cc873046a8bd7d6f36fc24a95f",
              "IPY_MODEL_9de7167852f64bbb99728c6041bafd5c"
            ],
            "layout": "IPY_MODEL_8f64245fdb3f49b3a66090ad981d3d9f"
          }
        },
        "b99d997ac823404fba68c22c76eb49d7": {
          "model_module": "@jupyter-widgets/controls",
          "model_name": "HTMLModel",
          "model_module_version": "1.5.0",
          "state": {
            "_dom_classes": [],
            "_model_module": "@jupyter-widgets/controls",
            "_model_module_version": "1.5.0",
            "_model_name": "HTMLModel",
            "_view_count": null,
            "_view_module": "@jupyter-widgets/controls",
            "_view_module_version": "1.5.0",
            "_view_name": "HTMLView",
            "description": "",
            "description_tooltip": null,
            "layout": "IPY_MODEL_fd7c5b0549ff49768790ab5b9b0438c5",
            "placeholder": "​",
            "style": "IPY_MODEL_ca1e00d9605f434cb4df7ead9bb0a705",
            "value": "generation_config.json: 100%"
          }
        },
        "7f1d21cc873046a8bd7d6f36fc24a95f": {
          "model_module": "@jupyter-widgets/controls",
          "model_name": "FloatProgressModel",
          "model_module_version": "1.5.0",
          "state": {
            "_dom_classes": [],
            "_model_module": "@jupyter-widgets/controls",
            "_model_module_version": "1.5.0",
            "_model_name": "FloatProgressModel",
            "_view_count": null,
            "_view_module": "@jupyter-widgets/controls",
            "_view_module_version": "1.5.0",
            "_view_name": "ProgressView",
            "bar_style": "success",
            "description": "",
            "description_tooltip": null,
            "layout": "IPY_MODEL_696a3116ca164acdb741c694eef2d16b",
            "max": 117,
            "min": 0,
            "orientation": "horizontal",
            "style": "IPY_MODEL_b40d5d72bb8348b59a8c13979b36b4e2",
            "value": 117
          }
        },
        "9de7167852f64bbb99728c6041bafd5c": {
          "model_module": "@jupyter-widgets/controls",
          "model_name": "HTMLModel",
          "model_module_version": "1.5.0",
          "state": {
            "_dom_classes": [],
            "_model_module": "@jupyter-widgets/controls",
            "_model_module_version": "1.5.0",
            "_model_name": "HTMLModel",
            "_view_count": null,
            "_view_module": "@jupyter-widgets/controls",
            "_view_module_version": "1.5.0",
            "_view_name": "HTMLView",
            "description": "",
            "description_tooltip": null,
            "layout": "IPY_MODEL_bf84e09bcc2e4770a71740c6e616d955",
            "placeholder": "​",
            "style": "IPY_MODEL_87799b231f1f4f1aa1633846a91079f3",
            "value": " 117/117 [00:00&lt;00:00, 9.91kB/s]"
          }
        },
        "8f64245fdb3f49b3a66090ad981d3d9f": {
          "model_module": "@jupyter-widgets/base",
          "model_name": "LayoutModel",
          "model_module_version": "1.2.0",
          "state": {
            "_model_module": "@jupyter-widgets/base",
            "_model_module_version": "1.2.0",
            "_model_name": "LayoutModel",
            "_view_count": null,
            "_view_module": "@jupyter-widgets/base",
            "_view_module_version": "1.2.0",
            "_view_name": "LayoutView",
            "align_content": null,
            "align_items": null,
            "align_self": null,
            "border": null,
            "bottom": null,
            "display": null,
            "flex": null,
            "flex_flow": null,
            "grid_area": null,
            "grid_auto_columns": null,
            "grid_auto_flow": null,
            "grid_auto_rows": null,
            "grid_column": null,
            "grid_gap": null,
            "grid_row": null,
            "grid_template_areas": null,
            "grid_template_columns": null,
            "grid_template_rows": null,
            "height": null,
            "justify_content": null,
            "justify_items": null,
            "left": null,
            "margin": null,
            "max_height": null,
            "max_width": null,
            "min_height": null,
            "min_width": null,
            "object_fit": null,
            "object_position": null,
            "order": null,
            "overflow": null,
            "overflow_x": null,
            "overflow_y": null,
            "padding": null,
            "right": null,
            "top": null,
            "visibility": null,
            "width": null
          }
        },
        "fd7c5b0549ff49768790ab5b9b0438c5": {
          "model_module": "@jupyter-widgets/base",
          "model_name": "LayoutModel",
          "model_module_version": "1.2.0",
          "state": {
            "_model_module": "@jupyter-widgets/base",
            "_model_module_version": "1.2.0",
            "_model_name": "LayoutModel",
            "_view_count": null,
            "_view_module": "@jupyter-widgets/base",
            "_view_module_version": "1.2.0",
            "_view_name": "LayoutView",
            "align_content": null,
            "align_items": null,
            "align_self": null,
            "border": null,
            "bottom": null,
            "display": null,
            "flex": null,
            "flex_flow": null,
            "grid_area": null,
            "grid_auto_columns": null,
            "grid_auto_flow": null,
            "grid_auto_rows": null,
            "grid_column": null,
            "grid_gap": null,
            "grid_row": null,
            "grid_template_areas": null,
            "grid_template_columns": null,
            "grid_template_rows": null,
            "height": null,
            "justify_content": null,
            "justify_items": null,
            "left": null,
            "margin": null,
            "max_height": null,
            "max_width": null,
            "min_height": null,
            "min_width": null,
            "object_fit": null,
            "object_position": null,
            "order": null,
            "overflow": null,
            "overflow_x": null,
            "overflow_y": null,
            "padding": null,
            "right": null,
            "top": null,
            "visibility": null,
            "width": null
          }
        },
        "ca1e00d9605f434cb4df7ead9bb0a705": {
          "model_module": "@jupyter-widgets/controls",
          "model_name": "DescriptionStyleModel",
          "model_module_version": "1.5.0",
          "state": {
            "_model_module": "@jupyter-widgets/controls",
            "_model_module_version": "1.5.0",
            "_model_name": "DescriptionStyleModel",
            "_view_count": null,
            "_view_module": "@jupyter-widgets/base",
            "_view_module_version": "1.2.0",
            "_view_name": "StyleView",
            "description_width": ""
          }
        },
        "696a3116ca164acdb741c694eef2d16b": {
          "model_module": "@jupyter-widgets/base",
          "model_name": "LayoutModel",
          "model_module_version": "1.2.0",
          "state": {
            "_model_module": "@jupyter-widgets/base",
            "_model_module_version": "1.2.0",
            "_model_name": "LayoutModel",
            "_view_count": null,
            "_view_module": "@jupyter-widgets/base",
            "_view_module_version": "1.2.0",
            "_view_name": "LayoutView",
            "align_content": null,
            "align_items": null,
            "align_self": null,
            "border": null,
            "bottom": null,
            "display": null,
            "flex": null,
            "flex_flow": null,
            "grid_area": null,
            "grid_auto_columns": null,
            "grid_auto_flow": null,
            "grid_auto_rows": null,
            "grid_column": null,
            "grid_gap": null,
            "grid_row": null,
            "grid_template_areas": null,
            "grid_template_columns": null,
            "grid_template_rows": null,
            "height": null,
            "justify_content": null,
            "justify_items": null,
            "left": null,
            "margin": null,
            "max_height": null,
            "max_width": null,
            "min_height": null,
            "min_width": null,
            "object_fit": null,
            "object_position": null,
            "order": null,
            "overflow": null,
            "overflow_x": null,
            "overflow_y": null,
            "padding": null,
            "right": null,
            "top": null,
            "visibility": null,
            "width": null
          }
        },
        "b40d5d72bb8348b59a8c13979b36b4e2": {
          "model_module": "@jupyter-widgets/controls",
          "model_name": "ProgressStyleModel",
          "model_module_version": "1.5.0",
          "state": {
            "_model_module": "@jupyter-widgets/controls",
            "_model_module_version": "1.5.0",
            "_model_name": "ProgressStyleModel",
            "_view_count": null,
            "_view_module": "@jupyter-widgets/base",
            "_view_module_version": "1.2.0",
            "_view_name": "StyleView",
            "bar_color": null,
            "description_width": ""
          }
        },
        "bf84e09bcc2e4770a71740c6e616d955": {
          "model_module": "@jupyter-widgets/base",
          "model_name": "LayoutModel",
          "model_module_version": "1.2.0",
          "state": {
            "_model_module": "@jupyter-widgets/base",
            "_model_module_version": "1.2.0",
            "_model_name": "LayoutModel",
            "_view_count": null,
            "_view_module": "@jupyter-widgets/base",
            "_view_module_version": "1.2.0",
            "_view_name": "LayoutView",
            "align_content": null,
            "align_items": null,
            "align_self": null,
            "border": null,
            "bottom": null,
            "display": null,
            "flex": null,
            "flex_flow": null,
            "grid_area": null,
            "grid_auto_columns": null,
            "grid_auto_flow": null,
            "grid_auto_rows": null,
            "grid_column": null,
            "grid_gap": null,
            "grid_row": null,
            "grid_template_areas": null,
            "grid_template_columns": null,
            "grid_template_rows": null,
            "height": null,
            "justify_content": null,
            "justify_items": null,
            "left": null,
            "margin": null,
            "max_height": null,
            "max_width": null,
            "min_height": null,
            "min_width": null,
            "object_fit": null,
            "object_position": null,
            "order": null,
            "overflow": null,
            "overflow_x": null,
            "overflow_y": null,
            "padding": null,
            "right": null,
            "top": null,
            "visibility": null,
            "width": null
          }
        },
        "87799b231f1f4f1aa1633846a91079f3": {
          "model_module": "@jupyter-widgets/controls",
          "model_name": "DescriptionStyleModel",
          "model_module_version": "1.5.0",
          "state": {
            "_model_module": "@jupyter-widgets/controls",
            "_model_module_version": "1.5.0",
            "_model_name": "DescriptionStyleModel",
            "_view_count": null,
            "_view_module": "@jupyter-widgets/base",
            "_view_module_version": "1.2.0",
            "_view_name": "StyleView",
            "description_width": ""
          }
        },
        "33687bb7347a4cd4ad7ed5ed2da2478c": {
          "model_module": "@jupyter-widgets/controls",
          "model_name": "HBoxModel",
          "model_module_version": "1.5.0",
          "state": {
            "_dom_classes": [],
            "_model_module": "@jupyter-widgets/controls",
            "_model_module_version": "1.5.0",
            "_model_name": "HBoxModel",
            "_view_count": null,
            "_view_module": "@jupyter-widgets/controls",
            "_view_module_version": "1.5.0",
            "_view_name": "HBoxView",
            "box_style": "",
            "children": [
              "IPY_MODEL_b40582cac1bd4093995ba723e4c325e3",
              "IPY_MODEL_09364f84dbda4288998a64a9451c87cc",
              "IPY_MODEL_499fff7a3936443db874a399b560b605"
            ],
            "layout": "IPY_MODEL_1e9f9cd415d1424b84325bafbc9178b4"
          }
        },
        "b40582cac1bd4093995ba723e4c325e3": {
          "model_module": "@jupyter-widgets/controls",
          "model_name": "HTMLModel",
          "model_module_version": "1.5.0",
          "state": {
            "_dom_classes": [],
            "_model_module": "@jupyter-widgets/controls",
            "_model_module_version": "1.5.0",
            "_model_name": "HTMLModel",
            "_view_count": null,
            "_view_module": "@jupyter-widgets/controls",
            "_view_module_version": "1.5.0",
            "_view_name": "HTMLView",
            "description": "",
            "description_tooltip": null,
            "layout": "IPY_MODEL_d6633af4cf3a44698b25f088bc2dd8ca",
            "placeholder": "​",
            "style": "IPY_MODEL_a213b29e4f6446a9abe34436dc2675b6",
            "value": "tokenizer_config.json: 100%"
          }
        },
        "09364f84dbda4288998a64a9451c87cc": {
          "model_module": "@jupyter-widgets/controls",
          "model_name": "FloatProgressModel",
          "model_module_version": "1.5.0",
          "state": {
            "_dom_classes": [],
            "_model_module": "@jupyter-widgets/controls",
            "_model_module_version": "1.5.0",
            "_model_name": "FloatProgressModel",
            "_view_count": null,
            "_view_module": "@jupyter-widgets/controls",
            "_view_module_version": "1.5.0",
            "_view_name": "ProgressView",
            "bar_style": "success",
            "description": "",
            "description_tooltip": null,
            "layout": "IPY_MODEL_7708268868e949c9a20a42041956f418",
            "max": 287,
            "min": 0,
            "orientation": "horizontal",
            "style": "IPY_MODEL_f7be8be932a84759a4ced7ac5b69d930",
            "value": 287
          }
        },
        "499fff7a3936443db874a399b560b605": {
          "model_module": "@jupyter-widgets/controls",
          "model_name": "HTMLModel",
          "model_module_version": "1.5.0",
          "state": {
            "_dom_classes": [],
            "_model_module": "@jupyter-widgets/controls",
            "_model_module_version": "1.5.0",
            "_model_name": "HTMLModel",
            "_view_count": null,
            "_view_module": "@jupyter-widgets/controls",
            "_view_module_version": "1.5.0",
            "_view_name": "HTMLView",
            "description": "",
            "description_tooltip": null,
            "layout": "IPY_MODEL_a00887dc15984cf5945cb475dbfb73c6",
            "placeholder": "​",
            "style": "IPY_MODEL_2563f4dbf6594075aa9b6b43369ea477",
            "value": " 287/287 [00:00&lt;00:00, 28.2kB/s]"
          }
        },
        "1e9f9cd415d1424b84325bafbc9178b4": {
          "model_module": "@jupyter-widgets/base",
          "model_name": "LayoutModel",
          "model_module_version": "1.2.0",
          "state": {
            "_model_module": "@jupyter-widgets/base",
            "_model_module_version": "1.2.0",
            "_model_name": "LayoutModel",
            "_view_count": null,
            "_view_module": "@jupyter-widgets/base",
            "_view_module_version": "1.2.0",
            "_view_name": "LayoutView",
            "align_content": null,
            "align_items": null,
            "align_self": null,
            "border": null,
            "bottom": null,
            "display": null,
            "flex": null,
            "flex_flow": null,
            "grid_area": null,
            "grid_auto_columns": null,
            "grid_auto_flow": null,
            "grid_auto_rows": null,
            "grid_column": null,
            "grid_gap": null,
            "grid_row": null,
            "grid_template_areas": null,
            "grid_template_columns": null,
            "grid_template_rows": null,
            "height": null,
            "justify_content": null,
            "justify_items": null,
            "left": null,
            "margin": null,
            "max_height": null,
            "max_width": null,
            "min_height": null,
            "min_width": null,
            "object_fit": null,
            "object_position": null,
            "order": null,
            "overflow": null,
            "overflow_x": null,
            "overflow_y": null,
            "padding": null,
            "right": null,
            "top": null,
            "visibility": null,
            "width": null
          }
        },
        "d6633af4cf3a44698b25f088bc2dd8ca": {
          "model_module": "@jupyter-widgets/base",
          "model_name": "LayoutModel",
          "model_module_version": "1.2.0",
          "state": {
            "_model_module": "@jupyter-widgets/base",
            "_model_module_version": "1.2.0",
            "_model_name": "LayoutModel",
            "_view_count": null,
            "_view_module": "@jupyter-widgets/base",
            "_view_module_version": "1.2.0",
            "_view_name": "LayoutView",
            "align_content": null,
            "align_items": null,
            "align_self": null,
            "border": null,
            "bottom": null,
            "display": null,
            "flex": null,
            "flex_flow": null,
            "grid_area": null,
            "grid_auto_columns": null,
            "grid_auto_flow": null,
            "grid_auto_rows": null,
            "grid_column": null,
            "grid_gap": null,
            "grid_row": null,
            "grid_template_areas": null,
            "grid_template_columns": null,
            "grid_template_rows": null,
            "height": null,
            "justify_content": null,
            "justify_items": null,
            "left": null,
            "margin": null,
            "max_height": null,
            "max_width": null,
            "min_height": null,
            "min_width": null,
            "object_fit": null,
            "object_position": null,
            "order": null,
            "overflow": null,
            "overflow_x": null,
            "overflow_y": null,
            "padding": null,
            "right": null,
            "top": null,
            "visibility": null,
            "width": null
          }
        },
        "a213b29e4f6446a9abe34436dc2675b6": {
          "model_module": "@jupyter-widgets/controls",
          "model_name": "DescriptionStyleModel",
          "model_module_version": "1.5.0",
          "state": {
            "_model_module": "@jupyter-widgets/controls",
            "_model_module_version": "1.5.0",
            "_model_name": "DescriptionStyleModel",
            "_view_count": null,
            "_view_module": "@jupyter-widgets/base",
            "_view_module_version": "1.2.0",
            "_view_name": "StyleView",
            "description_width": ""
          }
        },
        "7708268868e949c9a20a42041956f418": {
          "model_module": "@jupyter-widgets/base",
          "model_name": "LayoutModel",
          "model_module_version": "1.2.0",
          "state": {
            "_model_module": "@jupyter-widgets/base",
            "_model_module_version": "1.2.0",
            "_model_name": "LayoutModel",
            "_view_count": null,
            "_view_module": "@jupyter-widgets/base",
            "_view_module_version": "1.2.0",
            "_view_name": "LayoutView",
            "align_content": null,
            "align_items": null,
            "align_self": null,
            "border": null,
            "bottom": null,
            "display": null,
            "flex": null,
            "flex_flow": null,
            "grid_area": null,
            "grid_auto_columns": null,
            "grid_auto_flow": null,
            "grid_auto_rows": null,
            "grid_column": null,
            "grid_gap": null,
            "grid_row": null,
            "grid_template_areas": null,
            "grid_template_columns": null,
            "grid_template_rows": null,
            "height": null,
            "justify_content": null,
            "justify_items": null,
            "left": null,
            "margin": null,
            "max_height": null,
            "max_width": null,
            "min_height": null,
            "min_width": null,
            "object_fit": null,
            "object_position": null,
            "order": null,
            "overflow": null,
            "overflow_x": null,
            "overflow_y": null,
            "padding": null,
            "right": null,
            "top": null,
            "visibility": null,
            "width": null
          }
        },
        "f7be8be932a84759a4ced7ac5b69d930": {
          "model_module": "@jupyter-widgets/controls",
          "model_name": "ProgressStyleModel",
          "model_module_version": "1.5.0",
          "state": {
            "_model_module": "@jupyter-widgets/controls",
            "_model_module_version": "1.5.0",
            "_model_name": "ProgressStyleModel",
            "_view_count": null,
            "_view_module": "@jupyter-widgets/base",
            "_view_module_version": "1.2.0",
            "_view_name": "StyleView",
            "bar_color": null,
            "description_width": ""
          }
        },
        "a00887dc15984cf5945cb475dbfb73c6": {
          "model_module": "@jupyter-widgets/base",
          "model_name": "LayoutModel",
          "model_module_version": "1.2.0",
          "state": {
            "_model_module": "@jupyter-widgets/base",
            "_model_module_version": "1.2.0",
            "_model_name": "LayoutModel",
            "_view_count": null,
            "_view_module": "@jupyter-widgets/base",
            "_view_module_version": "1.2.0",
            "_view_name": "LayoutView",
            "align_content": null,
            "align_items": null,
            "align_self": null,
            "border": null,
            "bottom": null,
            "display": null,
            "flex": null,
            "flex_flow": null,
            "grid_area": null,
            "grid_auto_columns": null,
            "grid_auto_flow": null,
            "grid_auto_rows": null,
            "grid_column": null,
            "grid_gap": null,
            "grid_row": null,
            "grid_template_areas": null,
            "grid_template_columns": null,
            "grid_template_rows": null,
            "height": null,
            "justify_content": null,
            "justify_items": null,
            "left": null,
            "margin": null,
            "max_height": null,
            "max_width": null,
            "min_height": null,
            "min_width": null,
            "object_fit": null,
            "object_position": null,
            "order": null,
            "overflow": null,
            "overflow_x": null,
            "overflow_y": null,
            "padding": null,
            "right": null,
            "top": null,
            "visibility": null,
            "width": null
          }
        },
        "2563f4dbf6594075aa9b6b43369ea477": {
          "model_module": "@jupyter-widgets/controls",
          "model_name": "DescriptionStyleModel",
          "model_module_version": "1.5.0",
          "state": {
            "_model_module": "@jupyter-widgets/controls",
            "_model_module_version": "1.5.0",
            "_model_name": "DescriptionStyleModel",
            "_view_count": null,
            "_view_module": "@jupyter-widgets/base",
            "_view_module_version": "1.2.0",
            "_view_name": "StyleView",
            "description_width": ""
          }
        },
        "d6043f627d424939a82846f42f7c1b29": {
          "model_module": "@jupyter-widgets/controls",
          "model_name": "HBoxModel",
          "model_module_version": "1.5.0",
          "state": {
            "_dom_classes": [],
            "_model_module": "@jupyter-widgets/controls",
            "_model_module_version": "1.5.0",
            "_model_name": "HBoxModel",
            "_view_count": null,
            "_view_module": "@jupyter-widgets/controls",
            "_view_module_version": "1.5.0",
            "_view_name": "HBoxView",
            "box_style": "",
            "children": [
              "IPY_MODEL_96c73c029f554b70bc0215c8819568a5",
              "IPY_MODEL_2a26b0af070b41b992a5bc514a23980b",
              "IPY_MODEL_9944b53d22b14ed7996ab880aed968f9"
            ],
            "layout": "IPY_MODEL_bd24b5dc249c430fb96da967fc29c49a"
          }
        },
        "96c73c029f554b70bc0215c8819568a5": {
          "model_module": "@jupyter-widgets/controls",
          "model_name": "HTMLModel",
          "model_module_version": "1.5.0",
          "state": {
            "_dom_classes": [],
            "_model_module": "@jupyter-widgets/controls",
            "_model_module_version": "1.5.0",
            "_model_name": "HTMLModel",
            "_view_count": null,
            "_view_module": "@jupyter-widgets/controls",
            "_view_module_version": "1.5.0",
            "_view_name": "HTMLView",
            "description": "",
            "description_tooltip": null,
            "layout": "IPY_MODEL_bf255e90911d486b850c2b3823215fc3",
            "placeholder": "​",
            "style": "IPY_MODEL_b2b1873e1baa468f985a4d1d51e83548",
            "value": "tokenizer.json: 100%"
          }
        },
        "2a26b0af070b41b992a5bc514a23980b": {
          "model_module": "@jupyter-widgets/controls",
          "model_name": "FloatProgressModel",
          "model_module_version": "1.5.0",
          "state": {
            "_dom_classes": [],
            "_model_module": "@jupyter-widgets/controls",
            "_model_module_version": "1.5.0",
            "_model_name": "FloatProgressModel",
            "_view_count": null,
            "_view_module": "@jupyter-widgets/controls",
            "_view_module_version": "1.5.0",
            "_view_name": "ProgressView",
            "bar_style": "success",
            "description": "",
            "description_tooltip": null,
            "layout": "IPY_MODEL_36526aca14eb44f5a2e28306641ef447",
            "max": 2734130,
            "min": 0,
            "orientation": "horizontal",
            "style": "IPY_MODEL_901ffdf7164b43879c707fe044369a4d",
            "value": 2734130
          }
        },
        "9944b53d22b14ed7996ab880aed968f9": {
          "model_module": "@jupyter-widgets/controls",
          "model_name": "HTMLModel",
          "model_module_version": "1.5.0",
          "state": {
            "_dom_classes": [],
            "_model_module": "@jupyter-widgets/controls",
            "_model_module_version": "1.5.0",
            "_model_name": "HTMLModel",
            "_view_count": null,
            "_view_module": "@jupyter-widgets/controls",
            "_view_module_version": "1.5.0",
            "_view_name": "HTMLView",
            "description": "",
            "description_tooltip": null,
            "layout": "IPY_MODEL_0e453a474dbf40e1b24f46031606d7f3",
            "placeholder": "​",
            "style": "IPY_MODEL_34b43013fdf74b798d7ca339be347111",
            "value": " 2.73M/2.73M [00:00&lt;00:00, 25.8MB/s]"
          }
        },
        "bd24b5dc249c430fb96da967fc29c49a": {
          "model_module": "@jupyter-widgets/base",
          "model_name": "LayoutModel",
          "model_module_version": "1.2.0",
          "state": {
            "_model_module": "@jupyter-widgets/base",
            "_model_module_version": "1.2.0",
            "_model_name": "LayoutModel",
            "_view_count": null,
            "_view_module": "@jupyter-widgets/base",
            "_view_module_version": "1.2.0",
            "_view_name": "LayoutView",
            "align_content": null,
            "align_items": null,
            "align_self": null,
            "border": null,
            "bottom": null,
            "display": null,
            "flex": null,
            "flex_flow": null,
            "grid_area": null,
            "grid_auto_columns": null,
            "grid_auto_flow": null,
            "grid_auto_rows": null,
            "grid_column": null,
            "grid_gap": null,
            "grid_row": null,
            "grid_template_areas": null,
            "grid_template_columns": null,
            "grid_template_rows": null,
            "height": null,
            "justify_content": null,
            "justify_items": null,
            "left": null,
            "margin": null,
            "max_height": null,
            "max_width": null,
            "min_height": null,
            "min_width": null,
            "object_fit": null,
            "object_position": null,
            "order": null,
            "overflow": null,
            "overflow_x": null,
            "overflow_y": null,
            "padding": null,
            "right": null,
            "top": null,
            "visibility": null,
            "width": null
          }
        },
        "bf255e90911d486b850c2b3823215fc3": {
          "model_module": "@jupyter-widgets/base",
          "model_name": "LayoutModel",
          "model_module_version": "1.2.0",
          "state": {
            "_model_module": "@jupyter-widgets/base",
            "_model_module_version": "1.2.0",
            "_model_name": "LayoutModel",
            "_view_count": null,
            "_view_module": "@jupyter-widgets/base",
            "_view_module_version": "1.2.0",
            "_view_name": "LayoutView",
            "align_content": null,
            "align_items": null,
            "align_self": null,
            "border": null,
            "bottom": null,
            "display": null,
            "flex": null,
            "flex_flow": null,
            "grid_area": null,
            "grid_auto_columns": null,
            "grid_auto_flow": null,
            "grid_auto_rows": null,
            "grid_column": null,
            "grid_gap": null,
            "grid_row": null,
            "grid_template_areas": null,
            "grid_template_columns": null,
            "grid_template_rows": null,
            "height": null,
            "justify_content": null,
            "justify_items": null,
            "left": null,
            "margin": null,
            "max_height": null,
            "max_width": null,
            "min_height": null,
            "min_width": null,
            "object_fit": null,
            "object_position": null,
            "order": null,
            "overflow": null,
            "overflow_x": null,
            "overflow_y": null,
            "padding": null,
            "right": null,
            "top": null,
            "visibility": null,
            "width": null
          }
        },
        "b2b1873e1baa468f985a4d1d51e83548": {
          "model_module": "@jupyter-widgets/controls",
          "model_name": "DescriptionStyleModel",
          "model_module_version": "1.5.0",
          "state": {
            "_model_module": "@jupyter-widgets/controls",
            "_model_module_version": "1.5.0",
            "_model_name": "DescriptionStyleModel",
            "_view_count": null,
            "_view_module": "@jupyter-widgets/base",
            "_view_module_version": "1.2.0",
            "_view_name": "StyleView",
            "description_width": ""
          }
        },
        "36526aca14eb44f5a2e28306641ef447": {
          "model_module": "@jupyter-widgets/base",
          "model_name": "LayoutModel",
          "model_module_version": "1.2.0",
          "state": {
            "_model_module": "@jupyter-widgets/base",
            "_model_module_version": "1.2.0",
            "_model_name": "LayoutModel",
            "_view_count": null,
            "_view_module": "@jupyter-widgets/base",
            "_view_module_version": "1.2.0",
            "_view_name": "LayoutView",
            "align_content": null,
            "align_items": null,
            "align_self": null,
            "border": null,
            "bottom": null,
            "display": null,
            "flex": null,
            "flex_flow": null,
            "grid_area": null,
            "grid_auto_columns": null,
            "grid_auto_flow": null,
            "grid_auto_rows": null,
            "grid_column": null,
            "grid_gap": null,
            "grid_row": null,
            "grid_template_areas": null,
            "grid_template_columns": null,
            "grid_template_rows": null,
            "height": null,
            "justify_content": null,
            "justify_items": null,
            "left": null,
            "margin": null,
            "max_height": null,
            "max_width": null,
            "min_height": null,
            "min_width": null,
            "object_fit": null,
            "object_position": null,
            "order": null,
            "overflow": null,
            "overflow_x": null,
            "overflow_y": null,
            "padding": null,
            "right": null,
            "top": null,
            "visibility": null,
            "width": null
          }
        },
        "901ffdf7164b43879c707fe044369a4d": {
          "model_module": "@jupyter-widgets/controls",
          "model_name": "ProgressStyleModel",
          "model_module_version": "1.5.0",
          "state": {
            "_model_module": "@jupyter-widgets/controls",
            "_model_module_version": "1.5.0",
            "_model_name": "ProgressStyleModel",
            "_view_count": null,
            "_view_module": "@jupyter-widgets/base",
            "_view_module_version": "1.2.0",
            "_view_name": "StyleView",
            "bar_color": null,
            "description_width": ""
          }
        },
        "0e453a474dbf40e1b24f46031606d7f3": {
          "model_module": "@jupyter-widgets/base",
          "model_name": "LayoutModel",
          "model_module_version": "1.2.0",
          "state": {
            "_model_module": "@jupyter-widgets/base",
            "_model_module_version": "1.2.0",
            "_model_name": "LayoutModel",
            "_view_count": null,
            "_view_module": "@jupyter-widgets/base",
            "_view_module_version": "1.2.0",
            "_view_name": "LayoutView",
            "align_content": null,
            "align_items": null,
            "align_self": null,
            "border": null,
            "bottom": null,
            "display": null,
            "flex": null,
            "flex_flow": null,
            "grid_area": null,
            "grid_auto_columns": null,
            "grid_auto_flow": null,
            "grid_auto_rows": null,
            "grid_column": null,
            "grid_gap": null,
            "grid_row": null,
            "grid_template_areas": null,
            "grid_template_columns": null,
            "grid_template_rows": null,
            "height": null,
            "justify_content": null,
            "justify_items": null,
            "left": null,
            "margin": null,
            "max_height": null,
            "max_width": null,
            "min_height": null,
            "min_width": null,
            "object_fit": null,
            "object_position": null,
            "order": null,
            "overflow": null,
            "overflow_x": null,
            "overflow_y": null,
            "padding": null,
            "right": null,
            "top": null,
            "visibility": null,
            "width": null
          }
        },
        "34b43013fdf74b798d7ca339be347111": {
          "model_module": "@jupyter-widgets/controls",
          "model_name": "DescriptionStyleModel",
          "model_module_version": "1.5.0",
          "state": {
            "_model_module": "@jupyter-widgets/controls",
            "_model_module_version": "1.5.0",
            "_model_name": "DescriptionStyleModel",
            "_view_count": null,
            "_view_module": "@jupyter-widgets/base",
            "_view_module_version": "1.2.0",
            "_view_name": "StyleView",
            "description_width": ""
          }
        },
        "0af838bcde7b46dd8e9ac413455a2682": {
          "model_module": "@jupyter-widgets/controls",
          "model_name": "HBoxModel",
          "model_module_version": "1.5.0",
          "state": {
            "_dom_classes": [],
            "_model_module": "@jupyter-widgets/controls",
            "_model_module_version": "1.5.0",
            "_model_name": "HBoxModel",
            "_view_count": null,
            "_view_module": "@jupyter-widgets/controls",
            "_view_module_version": "1.5.0",
            "_view_name": "HBoxView",
            "box_style": "",
            "children": [
              "IPY_MODEL_b7a1d958fa92432d809efd4d653c9754",
              "IPY_MODEL_c5346c9d837d4e38828c1026279a4388",
              "IPY_MODEL_75aba0dffdb047fa944797b3d2792e83"
            ],
            "layout": "IPY_MODEL_694a330de9074a14b889e796ac9c83c5"
          }
        },
        "b7a1d958fa92432d809efd4d653c9754": {
          "model_module": "@jupyter-widgets/controls",
          "model_name": "HTMLModel",
          "model_module_version": "1.5.0",
          "state": {
            "_dom_classes": [],
            "_model_module": "@jupyter-widgets/controls",
            "_model_module_version": "1.5.0",
            "_model_name": "HTMLModel",
            "_view_count": null,
            "_view_module": "@jupyter-widgets/controls",
            "_view_module_version": "1.5.0",
            "_view_name": "HTMLView",
            "description": "",
            "description_tooltip": null,
            "layout": "IPY_MODEL_374830ff3fea40b0b9a4a54c20d3e427",
            "placeholder": "​",
            "style": "IPY_MODEL_56a3f652887943249c717832bb8c3f1e",
            "value": "special_tokens_map.json: 100%"
          }
        },
        "c5346c9d837d4e38828c1026279a4388": {
          "model_module": "@jupyter-widgets/controls",
          "model_name": "FloatProgressModel",
          "model_module_version": "1.5.0",
          "state": {
            "_dom_classes": [],
            "_model_module": "@jupyter-widgets/controls",
            "_model_module_version": "1.5.0",
            "_model_name": "FloatProgressModel",
            "_view_count": null,
            "_view_module": "@jupyter-widgets/controls",
            "_view_module_version": "1.5.0",
            "_view_name": "ProgressView",
            "bar_style": "success",
            "description": "",
            "description_tooltip": null,
            "layout": "IPY_MODEL_e0d5161ac2914c06a5e87ec36473f9f5",
            "max": 281,
            "min": 0,
            "orientation": "horizontal",
            "style": "IPY_MODEL_fcbffe4d2ab245019ec8cd09e0bcf50b",
            "value": 281
          }
        },
        "75aba0dffdb047fa944797b3d2792e83": {
          "model_module": "@jupyter-widgets/controls",
          "model_name": "HTMLModel",
          "model_module_version": "1.5.0",
          "state": {
            "_dom_classes": [],
            "_model_module": "@jupyter-widgets/controls",
            "_model_module_version": "1.5.0",
            "_model_name": "HTMLModel",
            "_view_count": null,
            "_view_module": "@jupyter-widgets/controls",
            "_view_module_version": "1.5.0",
            "_view_name": "HTMLView",
            "description": "",
            "description_tooltip": null,
            "layout": "IPY_MODEL_c4eb14bec9c84412bea02b5b5cedd53a",
            "placeholder": "​",
            "style": "IPY_MODEL_726c6c63baa04baaa5ba3fb471a8b223",
            "value": " 281/281 [00:00&lt;00:00, 25.3kB/s]"
          }
        },
        "694a330de9074a14b889e796ac9c83c5": {
          "model_module": "@jupyter-widgets/base",
          "model_name": "LayoutModel",
          "model_module_version": "1.2.0",
          "state": {
            "_model_module": "@jupyter-widgets/base",
            "_model_module_version": "1.2.0",
            "_model_name": "LayoutModel",
            "_view_count": null,
            "_view_module": "@jupyter-widgets/base",
            "_view_module_version": "1.2.0",
            "_view_name": "LayoutView",
            "align_content": null,
            "align_items": null,
            "align_self": null,
            "border": null,
            "bottom": null,
            "display": null,
            "flex": null,
            "flex_flow": null,
            "grid_area": null,
            "grid_auto_columns": null,
            "grid_auto_flow": null,
            "grid_auto_rows": null,
            "grid_column": null,
            "grid_gap": null,
            "grid_row": null,
            "grid_template_areas": null,
            "grid_template_columns": null,
            "grid_template_rows": null,
            "height": null,
            "justify_content": null,
            "justify_items": null,
            "left": null,
            "margin": null,
            "max_height": null,
            "max_width": null,
            "min_height": null,
            "min_width": null,
            "object_fit": null,
            "object_position": null,
            "order": null,
            "overflow": null,
            "overflow_x": null,
            "overflow_y": null,
            "padding": null,
            "right": null,
            "top": null,
            "visibility": null,
            "width": null
          }
        },
        "374830ff3fea40b0b9a4a54c20d3e427": {
          "model_module": "@jupyter-widgets/base",
          "model_name": "LayoutModel",
          "model_module_version": "1.2.0",
          "state": {
            "_model_module": "@jupyter-widgets/base",
            "_model_module_version": "1.2.0",
            "_model_name": "LayoutModel",
            "_view_count": null,
            "_view_module": "@jupyter-widgets/base",
            "_view_module_version": "1.2.0",
            "_view_name": "LayoutView",
            "align_content": null,
            "align_items": null,
            "align_self": null,
            "border": null,
            "bottom": null,
            "display": null,
            "flex": null,
            "flex_flow": null,
            "grid_area": null,
            "grid_auto_columns": null,
            "grid_auto_flow": null,
            "grid_auto_rows": null,
            "grid_column": null,
            "grid_gap": null,
            "grid_row": null,
            "grid_template_areas": null,
            "grid_template_columns": null,
            "grid_template_rows": null,
            "height": null,
            "justify_content": null,
            "justify_items": null,
            "left": null,
            "margin": null,
            "max_height": null,
            "max_width": null,
            "min_height": null,
            "min_width": null,
            "object_fit": null,
            "object_position": null,
            "order": null,
            "overflow": null,
            "overflow_x": null,
            "overflow_y": null,
            "padding": null,
            "right": null,
            "top": null,
            "visibility": null,
            "width": null
          }
        },
        "56a3f652887943249c717832bb8c3f1e": {
          "model_module": "@jupyter-widgets/controls",
          "model_name": "DescriptionStyleModel",
          "model_module_version": "1.5.0",
          "state": {
            "_model_module": "@jupyter-widgets/controls",
            "_model_module_version": "1.5.0",
            "_model_name": "DescriptionStyleModel",
            "_view_count": null,
            "_view_module": "@jupyter-widgets/base",
            "_view_module_version": "1.2.0",
            "_view_name": "StyleView",
            "description_width": ""
          }
        },
        "e0d5161ac2914c06a5e87ec36473f9f5": {
          "model_module": "@jupyter-widgets/base",
          "model_name": "LayoutModel",
          "model_module_version": "1.2.0",
          "state": {
            "_model_module": "@jupyter-widgets/base",
            "_model_module_version": "1.2.0",
            "_model_name": "LayoutModel",
            "_view_count": null,
            "_view_module": "@jupyter-widgets/base",
            "_view_module_version": "1.2.0",
            "_view_name": "LayoutView",
            "align_content": null,
            "align_items": null,
            "align_self": null,
            "border": null,
            "bottom": null,
            "display": null,
            "flex": null,
            "flex_flow": null,
            "grid_area": null,
            "grid_auto_columns": null,
            "grid_auto_flow": null,
            "grid_auto_rows": null,
            "grid_column": null,
            "grid_gap": null,
            "grid_row": null,
            "grid_template_areas": null,
            "grid_template_columns": null,
            "grid_template_rows": null,
            "height": null,
            "justify_content": null,
            "justify_items": null,
            "left": null,
            "margin": null,
            "max_height": null,
            "max_width": null,
            "min_height": null,
            "min_width": null,
            "object_fit": null,
            "object_position": null,
            "order": null,
            "overflow": null,
            "overflow_x": null,
            "overflow_y": null,
            "padding": null,
            "right": null,
            "top": null,
            "visibility": null,
            "width": null
          }
        },
        "fcbffe4d2ab245019ec8cd09e0bcf50b": {
          "model_module": "@jupyter-widgets/controls",
          "model_name": "ProgressStyleModel",
          "model_module_version": "1.5.0",
          "state": {
            "_model_module": "@jupyter-widgets/controls",
            "_model_module_version": "1.5.0",
            "_model_name": "ProgressStyleModel",
            "_view_count": null,
            "_view_module": "@jupyter-widgets/base",
            "_view_module_version": "1.2.0",
            "_view_name": "StyleView",
            "bar_color": null,
            "description_width": ""
          }
        },
        "c4eb14bec9c84412bea02b5b5cedd53a": {
          "model_module": "@jupyter-widgets/base",
          "model_name": "LayoutModel",
          "model_module_version": "1.2.0",
          "state": {
            "_model_module": "@jupyter-widgets/base",
            "_model_module_version": "1.2.0",
            "_model_name": "LayoutModel",
            "_view_count": null,
            "_view_module": "@jupyter-widgets/base",
            "_view_module_version": "1.2.0",
            "_view_name": "LayoutView",
            "align_content": null,
            "align_items": null,
            "align_self": null,
            "border": null,
            "bottom": null,
            "display": null,
            "flex": null,
            "flex_flow": null,
            "grid_area": null,
            "grid_auto_columns": null,
            "grid_auto_flow": null,
            "grid_auto_rows": null,
            "grid_column": null,
            "grid_gap": null,
            "grid_row": null,
            "grid_template_areas": null,
            "grid_template_columns": null,
            "grid_template_rows": null,
            "height": null,
            "justify_content": null,
            "justify_items": null,
            "left": null,
            "margin": null,
            "max_height": null,
            "max_width": null,
            "min_height": null,
            "min_width": null,
            "object_fit": null,
            "object_position": null,
            "order": null,
            "overflow": null,
            "overflow_x": null,
            "overflow_y": null,
            "padding": null,
            "right": null,
            "top": null,
            "visibility": null,
            "width": null
          }
        },
        "726c6c63baa04baaa5ba3fb471a8b223": {
          "model_module": "@jupyter-widgets/controls",
          "model_name": "DescriptionStyleModel",
          "model_module_version": "1.5.0",
          "state": {
            "_model_module": "@jupyter-widgets/controls",
            "_model_module_version": "1.5.0",
            "_model_name": "DescriptionStyleModel",
            "_view_count": null,
            "_view_module": "@jupyter-widgets/base",
            "_view_module_version": "1.2.0",
            "_view_name": "StyleView",
            "description_width": ""
          }
        }
      }
    }
  },
  "cells": [
    {
      "cell_type": "markdown",
      "metadata": {
        "id": "view-in-github",
        "colab_type": "text"
      },
      "source": [
        "<a href=\"https://colab.research.google.com/github/rderakhshan/AI-workforce/blob/main/Falcon_chatbot.ipynb\" target=\"_parent\"><img src=\"https://colab.research.google.com/assets/colab-badge.svg\" alt=\"Open In Colab\"/></a>"
      ]
    },
    {
      "cell_type": "code",
      "execution_count": 1,
      "metadata": {
        "id": "Un3WVx7-LHq3",
        "colab": {
          "base_uri": "https://localhost:8080/"
        },
        "outputId": "bd298434-ac14-4915-9951-544232b1f5a0"
      },
      "outputs": [
        {
          "output_type": "stream",
          "name": "stdout",
          "text": [
            "Thu Nov 23 19:09:51 2023       \n",
            "+-----------------------------------------------------------------------------+\n",
            "| NVIDIA-SMI 525.105.17   Driver Version: 525.105.17   CUDA Version: 12.0     |\n",
            "|-------------------------------+----------------------+----------------------+\n",
            "| GPU  Name        Persistence-M| Bus-Id        Disp.A | Volatile Uncorr. ECC |\n",
            "| Fan  Temp  Perf  Pwr:Usage/Cap|         Memory-Usage | GPU-Util  Compute M. |\n",
            "|                               |                      |               MIG M. |\n",
            "|===============================+======================+======================|\n",
            "|   0  Tesla T4            Off  | 00000000:00:04.0 Off |                    0 |\n",
            "| N/A   43C    P8    10W /  70W |      0MiB / 15360MiB |      0%      Default |\n",
            "|                               |                      |                  N/A |\n",
            "+-------------------------------+----------------------+----------------------+\n",
            "                                                                               \n",
            "+-----------------------------------------------------------------------------+\n",
            "| Processes:                                                                  |\n",
            "|  GPU   GI   CI        PID   Type   Process name                  GPU Memory |\n",
            "|        ID   ID                                                   Usage      |\n",
            "|=============================================================================|\n",
            "|  No running processes found                                                 |\n",
            "+-----------------------------------------------------------------------------+\n"
          ]
        }
      ],
      "source": [
        "!nvidia-smi"
      ]
    },
    {
      "cell_type": "code",
      "source": [
        "!pip install -Uqqq pip\n",
        "!pip install bitsandbytes==0.40.0\n",
        "!pip install torch==2.1.0\n",
        "!pip install transformers==4.30.0\n",
        "!pip install accelerate==0.21.0\n",
        "!pip install xformers==0.0.20\n",
        "!pip install einops==0.6.1\n",
        "!pip install langchain==0.0.233"
      ],
      "metadata": {
        "id": "ETvVhniXVXYE",
        "colab": {
          "base_uri": "https://localhost:8080/"
        },
        "outputId": "34ac183c-5ece-4dcc-8b2e-df78cb022096"
      },
      "execution_count": 2,
      "outputs": [
        {
          "output_type": "stream",
          "name": "stdout",
          "text": [
            "\u001b[2K     \u001b[90m━━━━━━━━━━━━━━━━━━━━━━━━━━━━━━━━━━━━━━━━\u001b[0m \u001b[32m2.1/2.1 MB\u001b[0m \u001b[31m22.8 MB/s\u001b[0m eta \u001b[36m0:00:00\u001b[0m\n",
            "\u001b[?25hCollecting bitsandbytes==0.40.0\n",
            "  Downloading bitsandbytes-0.40.0-py3-none-any.whl.metadata (9.8 kB)\n",
            "Downloading bitsandbytes-0.40.0-py3-none-any.whl (91.9 MB)\n",
            "\u001b[2K   \u001b[90m━━━━━━━━━━━━━━━━━━━━━━━━━━━━━━━━━━━━━━━━\u001b[0m \u001b[32m91.9/91.9 MB\u001b[0m \u001b[31m25.4 MB/s\u001b[0m eta \u001b[36m0:00:00\u001b[0m\n",
            "\u001b[?25hInstalling collected packages: bitsandbytes\n",
            "Successfully installed bitsandbytes-0.40.0\n",
            "\u001b[33mWARNING: Running pip as the 'root' user can result in broken permissions and conflicting behaviour with the system package manager. It is recommended to use a virtual environment instead: https://pip.pypa.io/warnings/venv\u001b[0m\u001b[33m\n",
            "\u001b[0mRequirement already satisfied: torch==2.1.0 in /usr/local/lib/python3.10/dist-packages (2.1.0+cu118)\n",
            "Requirement already satisfied: filelock in /usr/local/lib/python3.10/dist-packages (from torch==2.1.0) (3.13.1)\n",
            "Requirement already satisfied: typing-extensions in /usr/local/lib/python3.10/dist-packages (from torch==2.1.0) (4.5.0)\n",
            "Requirement already satisfied: sympy in /usr/local/lib/python3.10/dist-packages (from torch==2.1.0) (1.12)\n",
            "Requirement already satisfied: networkx in /usr/local/lib/python3.10/dist-packages (from torch==2.1.0) (3.2.1)\n",
            "Requirement already satisfied: jinja2 in /usr/local/lib/python3.10/dist-packages (from torch==2.1.0) (3.1.2)\n",
            "Requirement already satisfied: fsspec in /usr/local/lib/python3.10/dist-packages (from torch==2.1.0) (2023.6.0)\n",
            "Requirement already satisfied: triton==2.1.0 in /usr/local/lib/python3.10/dist-packages (from torch==2.1.0) (2.1.0)\n",
            "Requirement already satisfied: MarkupSafe>=2.0 in /usr/local/lib/python3.10/dist-packages (from jinja2->torch==2.1.0) (2.1.3)\n",
            "Requirement already satisfied: mpmath>=0.19 in /usr/local/lib/python3.10/dist-packages (from sympy->torch==2.1.0) (1.3.0)\n",
            "\u001b[33mWARNING: Running pip as the 'root' user can result in broken permissions and conflicting behaviour with the system package manager. It is recommended to use a virtual environment instead: https://pip.pypa.io/warnings/venv\u001b[0m\u001b[33m\n",
            "\u001b[0mCollecting transformers==4.30.0\n",
            "  Downloading transformers-4.30.0-py3-none-any.whl.metadata (113 kB)\n",
            "\u001b[2K     \u001b[90m━━━━━━━━━━━━━━━━━━━━━━━━━━━━━━━━━━━━━━━━\u001b[0m \u001b[32m113.6/113.6 kB\u001b[0m \u001b[31m2.4 MB/s\u001b[0m eta \u001b[36m0:00:00\u001b[0m\n",
            "\u001b[?25hRequirement already satisfied: filelock in /usr/local/lib/python3.10/dist-packages (from transformers==4.30.0) (3.13.1)\n",
            "Requirement already satisfied: huggingface-hub<1.0,>=0.14.1 in /usr/local/lib/python3.10/dist-packages (from transformers==4.30.0) (0.19.4)\n",
            "Requirement already satisfied: numpy>=1.17 in /usr/local/lib/python3.10/dist-packages (from transformers==4.30.0) (1.23.5)\n",
            "Requirement already satisfied: packaging>=20.0 in /usr/local/lib/python3.10/dist-packages (from transformers==4.30.0) (23.2)\n",
            "Requirement already satisfied: pyyaml>=5.1 in /usr/local/lib/python3.10/dist-packages (from transformers==4.30.0) (6.0.1)\n",
            "Requirement already satisfied: regex!=2019.12.17 in /usr/local/lib/python3.10/dist-packages (from transformers==4.30.0) (2023.6.3)\n",
            "Requirement already satisfied: requests in /usr/local/lib/python3.10/dist-packages (from transformers==4.30.0) (2.31.0)\n",
            "Collecting tokenizers!=0.11.3,<0.14,>=0.11.1 (from transformers==4.30.0)\n",
            "  Downloading tokenizers-0.13.3-cp310-cp310-manylinux_2_17_x86_64.manylinux2014_x86_64.whl (7.8 MB)\n",
            "\u001b[2K     \u001b[90m━━━━━━━━━━━━━━━━━━━━━━━━━━━━━━━━━━━━━━━━\u001b[0m \u001b[32m7.8/7.8 MB\u001b[0m \u001b[31m75.7 MB/s\u001b[0m eta \u001b[36m0:00:00\u001b[0m\n",
            "\u001b[?25hRequirement already satisfied: safetensors>=0.3.1 in /usr/local/lib/python3.10/dist-packages (from transformers==4.30.0) (0.4.0)\n",
            "Requirement already satisfied: tqdm>=4.27 in /usr/local/lib/python3.10/dist-packages (from transformers==4.30.0) (4.66.1)\n",
            "Requirement already satisfied: fsspec>=2023.5.0 in /usr/local/lib/python3.10/dist-packages (from huggingface-hub<1.0,>=0.14.1->transformers==4.30.0) (2023.6.0)\n",
            "Requirement already satisfied: typing-extensions>=3.7.4.3 in /usr/local/lib/python3.10/dist-packages (from huggingface-hub<1.0,>=0.14.1->transformers==4.30.0) (4.5.0)\n",
            "Requirement already satisfied: charset-normalizer<4,>=2 in /usr/local/lib/python3.10/dist-packages (from requests->transformers==4.30.0) (3.3.2)\n",
            "Requirement already satisfied: idna<4,>=2.5 in /usr/local/lib/python3.10/dist-packages (from requests->transformers==4.30.0) (3.4)\n",
            "Requirement already satisfied: urllib3<3,>=1.21.1 in /usr/local/lib/python3.10/dist-packages (from requests->transformers==4.30.0) (2.0.7)\n",
            "Requirement already satisfied: certifi>=2017.4.17 in /usr/local/lib/python3.10/dist-packages (from requests->transformers==4.30.0) (2023.7.22)\n",
            "Downloading transformers-4.30.0-py3-none-any.whl (7.2 MB)\n",
            "\u001b[2K   \u001b[90m━━━━━━━━━━━━━━━━━━━━━━━━━━━━━━━━━━━━━━━━\u001b[0m \u001b[32m7.2/7.2 MB\u001b[0m \u001b[31m13.0 MB/s\u001b[0m eta \u001b[36m0:00:00\u001b[0m\n",
            "\u001b[?25hInstalling collected packages: tokenizers, transformers\n",
            "  Attempting uninstall: tokenizers\n",
            "    Found existing installation: tokenizers 0.15.0\n",
            "    Uninstalling tokenizers-0.15.0:\n",
            "      Successfully uninstalled tokenizers-0.15.0\n",
            "  Attempting uninstall: transformers\n",
            "    Found existing installation: transformers 4.35.2\n",
            "    Uninstalling transformers-4.35.2:\n",
            "      Successfully uninstalled transformers-4.35.2\n",
            "Successfully installed tokenizers-0.13.3 transformers-4.30.0\n",
            "\u001b[33mWARNING: Running pip as the 'root' user can result in broken permissions and conflicting behaviour with the system package manager. It is recommended to use a virtual environment instead: https://pip.pypa.io/warnings/venv\u001b[0m\u001b[33m\n",
            "\u001b[0mCollecting accelerate==0.21.0\n",
            "  Downloading accelerate-0.21.0-py3-none-any.whl.metadata (17 kB)\n",
            "Requirement already satisfied: numpy>=1.17 in /usr/local/lib/python3.10/dist-packages (from accelerate==0.21.0) (1.23.5)\n",
            "Requirement already satisfied: packaging>=20.0 in /usr/local/lib/python3.10/dist-packages (from accelerate==0.21.0) (23.2)\n",
            "Requirement already satisfied: psutil in /usr/local/lib/python3.10/dist-packages (from accelerate==0.21.0) (5.9.5)\n",
            "Requirement already satisfied: pyyaml in /usr/local/lib/python3.10/dist-packages (from accelerate==0.21.0) (6.0.1)\n",
            "Requirement already satisfied: torch>=1.10.0 in /usr/local/lib/python3.10/dist-packages (from accelerate==0.21.0) (2.1.0+cu118)\n",
            "Requirement already satisfied: filelock in /usr/local/lib/python3.10/dist-packages (from torch>=1.10.0->accelerate==0.21.0) (3.13.1)\n",
            "Requirement already satisfied: typing-extensions in /usr/local/lib/python3.10/dist-packages (from torch>=1.10.0->accelerate==0.21.0) (4.5.0)\n",
            "Requirement already satisfied: sympy in /usr/local/lib/python3.10/dist-packages (from torch>=1.10.0->accelerate==0.21.0) (1.12)\n",
            "Requirement already satisfied: networkx in /usr/local/lib/python3.10/dist-packages (from torch>=1.10.0->accelerate==0.21.0) (3.2.1)\n",
            "Requirement already satisfied: jinja2 in /usr/local/lib/python3.10/dist-packages (from torch>=1.10.0->accelerate==0.21.0) (3.1.2)\n",
            "Requirement already satisfied: fsspec in /usr/local/lib/python3.10/dist-packages (from torch>=1.10.0->accelerate==0.21.0) (2023.6.0)\n",
            "Requirement already satisfied: triton==2.1.0 in /usr/local/lib/python3.10/dist-packages (from torch>=1.10.0->accelerate==0.21.0) (2.1.0)\n",
            "Requirement already satisfied: MarkupSafe>=2.0 in /usr/local/lib/python3.10/dist-packages (from jinja2->torch>=1.10.0->accelerate==0.21.0) (2.1.3)\n",
            "Requirement already satisfied: mpmath>=0.19 in /usr/local/lib/python3.10/dist-packages (from sympy->torch>=1.10.0->accelerate==0.21.0) (1.3.0)\n",
            "Downloading accelerate-0.21.0-py3-none-any.whl (244 kB)\n",
            "\u001b[2K   \u001b[90m━━━━━━━━━━━━━━━━━━━━━━━━━━━━━━━━━━━━━━━━\u001b[0m \u001b[32m244.2/244.2 kB\u001b[0m \u001b[31m5.4 MB/s\u001b[0m eta \u001b[36m0:00:00\u001b[0m\n",
            "\u001b[?25hInstalling collected packages: accelerate\n",
            "Successfully installed accelerate-0.21.0\n",
            "\u001b[33mWARNING: Running pip as the 'root' user can result in broken permissions and conflicting behaviour with the system package manager. It is recommended to use a virtual environment instead: https://pip.pypa.io/warnings/venv\u001b[0m\u001b[33m\n",
            "\u001b[0mCollecting xformers==0.0.20\n",
            "  Downloading xformers-0.0.20-cp310-cp310-manylinux2014_x86_64.whl.metadata (1.1 kB)\n",
            "Requirement already satisfied: numpy in /usr/local/lib/python3.10/dist-packages (from xformers==0.0.20) (1.23.5)\n",
            "Collecting pyre-extensions==0.0.29 (from xformers==0.0.20)\n",
            "  Downloading pyre_extensions-0.0.29-py3-none-any.whl (12 kB)\n",
            "Collecting torch==2.0.1 (from xformers==0.0.20)\n",
            "  Downloading torch-2.0.1-cp310-cp310-manylinux1_x86_64.whl (619.9 MB)\n",
            "\u001b[2K     \u001b[90m━━━━━━━━━━━━━━━━━━━━━━━━━━━━━━━━━━━━━━━━\u001b[0m \u001b[32m619.9/619.9 MB\u001b[0m \u001b[31m2.0 MB/s\u001b[0m eta \u001b[36m0:00:00\u001b[0m\n",
            "\u001b[?25hCollecting typing-inspect (from pyre-extensions==0.0.29->xformers==0.0.20)\n",
            "  Downloading typing_inspect-0.9.0-py3-none-any.whl.metadata (1.5 kB)\n",
            "Requirement already satisfied: typing-extensions in /usr/local/lib/python3.10/dist-packages (from pyre-extensions==0.0.29->xformers==0.0.20) (4.5.0)\n",
            "Requirement already satisfied: filelock in /usr/local/lib/python3.10/dist-packages (from torch==2.0.1->xformers==0.0.20) (3.13.1)\n",
            "Requirement already satisfied: sympy in /usr/local/lib/python3.10/dist-packages (from torch==2.0.1->xformers==0.0.20) (1.12)\n",
            "Requirement already satisfied: networkx in /usr/local/lib/python3.10/dist-packages (from torch==2.0.1->xformers==0.0.20) (3.2.1)\n",
            "Requirement already satisfied: jinja2 in /usr/local/lib/python3.10/dist-packages (from torch==2.0.1->xformers==0.0.20) (3.1.2)\n",
            "Collecting nvidia-cuda-nvrtc-cu11==11.7.99 (from torch==2.0.1->xformers==0.0.20)\n",
            "  Downloading nvidia_cuda_nvrtc_cu11-11.7.99-2-py3-none-manylinux1_x86_64.whl (21.0 MB)\n",
            "\u001b[2K     \u001b[90m━━━━━━━━━━━━━━━━━━━━━━━━━━━━━━━━━━━━━━━━\u001b[0m \u001b[32m21.0/21.0 MB\u001b[0m \u001b[31m105.9 MB/s\u001b[0m eta \u001b[36m0:00:00\u001b[0m\n",
            "\u001b[?25hCollecting nvidia-cuda-runtime-cu11==11.7.99 (from torch==2.0.1->xformers==0.0.20)\n",
            "  Downloading nvidia_cuda_runtime_cu11-11.7.99-py3-none-manylinux1_x86_64.whl (849 kB)\n",
            "\u001b[2K     \u001b[90m━━━━━━━━━━━━━━━━━━━━━━━━━━━━━━━━━━━━━━━━\u001b[0m \u001b[32m849.3/849.3 kB\u001b[0m \u001b[31m59.2 MB/s\u001b[0m eta \u001b[36m0:00:00\u001b[0m\n",
            "\u001b[?25hCollecting nvidia-cuda-cupti-cu11==11.7.101 (from torch==2.0.1->xformers==0.0.20)\n",
            "  Downloading nvidia_cuda_cupti_cu11-11.7.101-py3-none-manylinux1_x86_64.whl (11.8 MB)\n",
            "\u001b[2K     \u001b[90m━━━━━━━━━━━━━━━━━━━━━━━━━━━━━━━━━━━━━━━━\u001b[0m \u001b[32m11.8/11.8 MB\u001b[0m \u001b[31m128.9 MB/s\u001b[0m eta \u001b[36m0:00:00\u001b[0m\n",
            "\u001b[?25hCollecting nvidia-cudnn-cu11==8.5.0.96 (from torch==2.0.1->xformers==0.0.20)\n",
            "  Downloading nvidia_cudnn_cu11-8.5.0.96-2-py3-none-manylinux1_x86_64.whl (557.1 MB)\n",
            "\u001b[2K     \u001b[90m━━━━━━━━━━━━━━━━━━━━━━━━━━━━━━━━━━━━━━━━\u001b[0m \u001b[32m557.1/557.1 MB\u001b[0m \u001b[31m2.1 MB/s\u001b[0m eta \u001b[36m0:00:00\u001b[0m\n",
            "\u001b[?25hCollecting nvidia-cublas-cu11==11.10.3.66 (from torch==2.0.1->xformers==0.0.20)\n",
            "  Downloading nvidia_cublas_cu11-11.10.3.66-py3-none-manylinux1_x86_64.whl (317.1 MB)\n",
            "\u001b[2K     \u001b[90m━━━━━━━━━━━━━━━━━━━━━━━━━━━━━━━━━━━━━━━━\u001b[0m \u001b[32m317.1/317.1 MB\u001b[0m \u001b[31m3.5 MB/s\u001b[0m eta \u001b[36m0:00:00\u001b[0m\n",
            "\u001b[?25hCollecting nvidia-cufft-cu11==10.9.0.58 (from torch==2.0.1->xformers==0.0.20)\n",
            "  Downloading nvidia_cufft_cu11-10.9.0.58-py3-none-manylinux1_x86_64.whl (168.4 MB)\n",
            "\u001b[2K     \u001b[90m━━━━━━━━━━━━━━━━━━━━━━━━━━━━━━━━━━━━━━━━\u001b[0m \u001b[32m168.4/168.4 MB\u001b[0m \u001b[31m8.3 MB/s\u001b[0m eta \u001b[36m0:00:00\u001b[0m\n",
            "\u001b[?25hCollecting nvidia-curand-cu11==10.2.10.91 (from torch==2.0.1->xformers==0.0.20)\n",
            "  Downloading nvidia_curand_cu11-10.2.10.91-py3-none-manylinux1_x86_64.whl (54.6 MB)\n",
            "\u001b[2K     \u001b[90m━━━━━━━━━━━━━━━━━━━━━━━━━━━━━━━━━━━━━━━━\u001b[0m \u001b[32m54.6/54.6 MB\u001b[0m \u001b[31m44.2 MB/s\u001b[0m eta \u001b[36m0:00:00\u001b[0m\n",
            "\u001b[?25hCollecting nvidia-cusolver-cu11==11.4.0.1 (from torch==2.0.1->xformers==0.0.20)\n",
            "  Downloading nvidia_cusolver_cu11-11.4.0.1-2-py3-none-manylinux1_x86_64.whl (102.6 MB)\n",
            "\u001b[2K     \u001b[90m━━━━━━━━━━━━━━━━━━━━━━━━━━━━━━━━━━━━━━━━\u001b[0m \u001b[32m102.6/102.6 MB\u001b[0m \u001b[31m10.9 MB/s\u001b[0m eta \u001b[36m0:00:00\u001b[0m\n",
            "\u001b[?25hCollecting nvidia-cusparse-cu11==11.7.4.91 (from torch==2.0.1->xformers==0.0.20)\n",
            "  Downloading nvidia_cusparse_cu11-11.7.4.91-py3-none-manylinux1_x86_64.whl (173.2 MB)\n",
            "\u001b[2K     \u001b[90m━━━━━━━━━━━━━━━━━━━━━━━━━━━━━━━━━━━━━━━━\u001b[0m \u001b[32m173.2/173.2 MB\u001b[0m \u001b[31m8.7 MB/s\u001b[0m eta \u001b[36m0:00:00\u001b[0m\n",
            "\u001b[?25hCollecting nvidia-nccl-cu11==2.14.3 (from torch==2.0.1->xformers==0.0.20)\n",
            "  Downloading nvidia_nccl_cu11-2.14.3-py3-none-manylinux1_x86_64.whl (177.1 MB)\n",
            "\u001b[2K     \u001b[90m━━━━━━━━━━━━━━━━━━━━━━━━━━━━━━━━━━━━━━━━\u001b[0m \u001b[32m177.1/177.1 MB\u001b[0m \u001b[31m4.4 MB/s\u001b[0m eta \u001b[36m0:00:00\u001b[0m\n",
            "\u001b[?25hCollecting nvidia-nvtx-cu11==11.7.91 (from torch==2.0.1->xformers==0.0.20)\n",
            "  Downloading nvidia_nvtx_cu11-11.7.91-py3-none-manylinux1_x86_64.whl (98 kB)\n",
            "\u001b[2K     \u001b[90m━━━━━━━━━━━━━━━━━━━━━━━━━━━━━━━━━━━━━━━━\u001b[0m \u001b[32m98.6/98.6 kB\u001b[0m \u001b[31m10.0 MB/s\u001b[0m eta \u001b[36m0:00:00\u001b[0m\n",
            "\u001b[?25hCollecting triton==2.0.0 (from torch==2.0.1->xformers==0.0.20)\n",
            "  Downloading triton-2.0.0-1-cp310-cp310-manylinux2014_x86_64.manylinux_2_17_x86_64.whl (63.3 MB)\n",
            "\u001b[2K     \u001b[90m━━━━━━━━━━━━━━━━━━━━━━━━━━━━━━━━━━━━━━━━\u001b[0m \u001b[32m63.3/63.3 MB\u001b[0m \u001b[31m37.3 MB/s\u001b[0m eta \u001b[36m0:00:00\u001b[0m\n",
            "\u001b[?25hRequirement already satisfied: setuptools in /usr/local/lib/python3.10/dist-packages (from nvidia-cublas-cu11==11.10.3.66->torch==2.0.1->xformers==0.0.20) (67.7.2)\n",
            "Requirement already satisfied: wheel in /usr/local/lib/python3.10/dist-packages (from nvidia-cublas-cu11==11.10.3.66->torch==2.0.1->xformers==0.0.20) (0.41.3)\n",
            "Requirement already satisfied: cmake in /usr/local/lib/python3.10/dist-packages (from triton==2.0.0->torch==2.0.1->xformers==0.0.20) (3.27.7)\n",
            "Collecting lit (from triton==2.0.0->torch==2.0.1->xformers==0.0.20)\n",
            "  Downloading lit-17.0.5.tar.gz (153 kB)\n",
            "\u001b[2K     \u001b[90m━━━━━━━━━━━━━━━━━━━━━━━━━━━━━━━━━━━━━━━━\u001b[0m \u001b[32m153.0/153.0 kB\u001b[0m \u001b[31m14.3 MB/s\u001b[0m eta \u001b[36m0:00:00\u001b[0m\n",
            "\u001b[?25h  Installing build dependencies ... \u001b[?25l\u001b[?25hdone\n",
            "  Getting requirements to build wheel ... \u001b[?25l\u001b[?25hdone\n",
            "  Installing backend dependencies ... \u001b[?25l\u001b[?25hdone\n",
            "  Preparing metadata (pyproject.toml) ... \u001b[?25l\u001b[?25hdone\n",
            "Requirement already satisfied: MarkupSafe>=2.0 in /usr/local/lib/python3.10/dist-packages (from jinja2->torch==2.0.1->xformers==0.0.20) (2.1.3)\n",
            "Requirement already satisfied: mpmath>=0.19 in /usr/local/lib/python3.10/dist-packages (from sympy->torch==2.0.1->xformers==0.0.20) (1.3.0)\n",
            "Collecting mypy-extensions>=0.3.0 (from typing-inspect->pyre-extensions==0.0.29->xformers==0.0.20)\n",
            "  Downloading mypy_extensions-1.0.0-py3-none-any.whl (4.7 kB)\n",
            "Downloading xformers-0.0.20-cp310-cp310-manylinux2014_x86_64.whl (109.1 MB)\n",
            "\u001b[2K   \u001b[90m━━━━━━━━━━━━━━━━━━━━━━━━━━━━━━━━━━━━━━━━\u001b[0m \u001b[32m109.1/109.1 MB\u001b[0m \u001b[31m21.2 MB/s\u001b[0m eta \u001b[36m0:00:00\u001b[0m\n",
            "\u001b[?25hDownloading typing_inspect-0.9.0-py3-none-any.whl (8.8 kB)\n",
            "Building wheels for collected packages: lit\n",
            "  Building wheel for lit (pyproject.toml) ... \u001b[?25l\u001b[?25hdone\n",
            "  Created wheel for lit: filename=lit-17.0.5-py3-none-any.whl size=93256 sha256=54e58252174ef81c5efee57e08f4d63cac5cd6ba594866e6bb2db76bdb3cf59a\n",
            "  Stored in directory: /root/.cache/pip/wheels/1c/87/8e/5a42c0d4be23362b68bbff33b17f3c35a3df44f1cd2f5a24b4\n",
            "Successfully built lit\n",
            "Installing collected packages: lit, nvidia-nvtx-cu11, nvidia-nccl-cu11, nvidia-cusparse-cu11, nvidia-curand-cu11, nvidia-cufft-cu11, nvidia-cuda-runtime-cu11, nvidia-cuda-nvrtc-cu11, nvidia-cuda-cupti-cu11, nvidia-cublas-cu11, mypy-extensions, typing-inspect, nvidia-cusolver-cu11, nvidia-cudnn-cu11, pyre-extensions, triton, torch, xformers\n",
            "  Attempting uninstall: triton\n",
            "    Found existing installation: triton 2.1.0\n",
            "    Uninstalling triton-2.1.0:\n",
            "      Successfully uninstalled triton-2.1.0\n",
            "  Attempting uninstall: torch\n",
            "    Found existing installation: torch 2.1.0+cu118\n",
            "    Uninstalling torch-2.1.0+cu118:\n",
            "      Successfully uninstalled torch-2.1.0+cu118\n",
            "\u001b[31mERROR: pip's dependency resolver does not currently take into account all the packages that are installed. This behaviour is the source of the following dependency conflicts.\n",
            "torchaudio 2.1.0+cu118 requires torch==2.1.0, but you have torch 2.0.1 which is incompatible.\n",
            "torchdata 0.7.0 requires torch==2.1.0, but you have torch 2.0.1 which is incompatible.\n",
            "torchtext 0.16.0 requires torch==2.1.0, but you have torch 2.0.1 which is incompatible.\n",
            "torchvision 0.16.0+cu118 requires torch==2.1.0, but you have torch 2.0.1 which is incompatible.\u001b[0m\u001b[31m\n",
            "\u001b[0mSuccessfully installed lit-17.0.5 mypy-extensions-1.0.0 nvidia-cublas-cu11-11.10.3.66 nvidia-cuda-cupti-cu11-11.7.101 nvidia-cuda-nvrtc-cu11-11.7.99 nvidia-cuda-runtime-cu11-11.7.99 nvidia-cudnn-cu11-8.5.0.96 nvidia-cufft-cu11-10.9.0.58 nvidia-curand-cu11-10.2.10.91 nvidia-cusolver-cu11-11.4.0.1 nvidia-cusparse-cu11-11.7.4.91 nvidia-nccl-cu11-2.14.3 nvidia-nvtx-cu11-11.7.91 pyre-extensions-0.0.29 torch-2.0.1 triton-2.0.0 typing-inspect-0.9.0 xformers-0.0.20\n",
            "\u001b[33mWARNING: Running pip as the 'root' user can result in broken permissions and conflicting behaviour with the system package manager. It is recommended to use a virtual environment instead: https://pip.pypa.io/warnings/venv\u001b[0m\u001b[33m\n",
            "\u001b[0mCollecting einops==0.6.1\n",
            "  Downloading einops-0.6.1-py3-none-any.whl (42 kB)\n",
            "\u001b[2K     \u001b[90m━━━━━━━━━━━━━━━━━━━━━━━━━━━━━━━━━━━━━━━━\u001b[0m \u001b[32m42.2/42.2 kB\u001b[0m \u001b[31m1.1 MB/s\u001b[0m eta \u001b[36m0:00:00\u001b[0m\n",
            "\u001b[?25hInstalling collected packages: einops\n",
            "Successfully installed einops-0.6.1\n",
            "\u001b[33mWARNING: Running pip as the 'root' user can result in broken permissions and conflicting behaviour with the system package manager. It is recommended to use a virtual environment instead: https://pip.pypa.io/warnings/venv\u001b[0m\u001b[33m\n",
            "\u001b[0mCollecting langchain==0.0.233\n",
            "  Downloading langchain-0.0.233-py3-none-any.whl.metadata (13 kB)\n",
            "Requirement already satisfied: PyYAML>=5.4.1 in /usr/local/lib/python3.10/dist-packages (from langchain==0.0.233) (6.0.1)\n",
            "Requirement already satisfied: SQLAlchemy<3,>=1.4 in /usr/local/lib/python3.10/dist-packages (from langchain==0.0.233) (2.0.23)\n",
            "Requirement already satisfied: aiohttp<4.0.0,>=3.8.3 in /usr/local/lib/python3.10/dist-packages (from langchain==0.0.233) (3.8.6)\n",
            "Requirement already satisfied: async-timeout<5.0.0,>=4.0.0 in /usr/local/lib/python3.10/dist-packages (from langchain==0.0.233) (4.0.3)\n",
            "Collecting dataclasses-json<0.6.0,>=0.5.7 (from langchain==0.0.233)\n",
            "  Downloading dataclasses_json-0.5.14-py3-none-any.whl.metadata (22 kB)\n",
            "Collecting langsmith<0.0.6,>=0.0.5 (from langchain==0.0.233)\n",
            "  Downloading langsmith-0.0.5-py3-none-any.whl.metadata (8.6 kB)\n",
            "Requirement already satisfied: numexpr<3.0.0,>=2.8.4 in /usr/local/lib/python3.10/dist-packages (from langchain==0.0.233) (2.8.7)\n",
            "Requirement already satisfied: numpy<2,>=1 in /usr/local/lib/python3.10/dist-packages (from langchain==0.0.233) (1.23.5)\n",
            "Collecting openapi-schema-pydantic<2.0,>=1.2 (from langchain==0.0.233)\n",
            "  Downloading openapi_schema_pydantic-1.2.4-py3-none-any.whl (90 kB)\n",
            "\u001b[2K     \u001b[90m━━━━━━━━━━━━━━━━━━━━━━━━━━━━━━━━━━━━━━━━\u001b[0m \u001b[32m90.0/90.0 kB\u001b[0m \u001b[31m3.6 MB/s\u001b[0m eta \u001b[36m0:00:00\u001b[0m\n",
            "\u001b[?25hRequirement already satisfied: pydantic<2,>=1 in /usr/local/lib/python3.10/dist-packages (from langchain==0.0.233) (1.10.13)\n",
            "Requirement already satisfied: requests<3,>=2 in /usr/local/lib/python3.10/dist-packages (from langchain==0.0.233) (2.31.0)\n",
            "Requirement already satisfied: tenacity<9.0.0,>=8.1.0 in /usr/local/lib/python3.10/dist-packages (from langchain==0.0.233) (8.2.3)\n",
            "Requirement already satisfied: attrs>=17.3.0 in /usr/local/lib/python3.10/dist-packages (from aiohttp<4.0.0,>=3.8.3->langchain==0.0.233) (23.1.0)\n",
            "Requirement already satisfied: charset-normalizer<4.0,>=2.0 in /usr/local/lib/python3.10/dist-packages (from aiohttp<4.0.0,>=3.8.3->langchain==0.0.233) (3.3.2)\n",
            "Requirement already satisfied: multidict<7.0,>=4.5 in /usr/local/lib/python3.10/dist-packages (from aiohttp<4.0.0,>=3.8.3->langchain==0.0.233) (6.0.4)\n",
            "Requirement already satisfied: yarl<2.0,>=1.0 in /usr/local/lib/python3.10/dist-packages (from aiohttp<4.0.0,>=3.8.3->langchain==0.0.233) (1.9.2)\n",
            "Requirement already satisfied: frozenlist>=1.1.1 in /usr/local/lib/python3.10/dist-packages (from aiohttp<4.0.0,>=3.8.3->langchain==0.0.233) (1.4.0)\n",
            "Requirement already satisfied: aiosignal>=1.1.2 in /usr/local/lib/python3.10/dist-packages (from aiohttp<4.0.0,>=3.8.3->langchain==0.0.233) (1.3.1)\n",
            "Collecting marshmallow<4.0.0,>=3.18.0 (from dataclasses-json<0.6.0,>=0.5.7->langchain==0.0.233)\n",
            "  Downloading marshmallow-3.20.1-py3-none-any.whl.metadata (7.8 kB)\n",
            "Requirement already satisfied: typing-inspect<1,>=0.4.0 in /usr/local/lib/python3.10/dist-packages (from dataclasses-json<0.6.0,>=0.5.7->langchain==0.0.233) (0.9.0)\n",
            "Requirement already satisfied: typing-extensions>=4.2.0 in /usr/local/lib/python3.10/dist-packages (from pydantic<2,>=1->langchain==0.0.233) (4.5.0)\n",
            "Requirement already satisfied: idna<4,>=2.5 in /usr/local/lib/python3.10/dist-packages (from requests<3,>=2->langchain==0.0.233) (3.4)\n",
            "Requirement already satisfied: urllib3<3,>=1.21.1 in /usr/local/lib/python3.10/dist-packages (from requests<3,>=2->langchain==0.0.233) (2.0.7)\n",
            "Requirement already satisfied: certifi>=2017.4.17 in /usr/local/lib/python3.10/dist-packages (from requests<3,>=2->langchain==0.0.233) (2023.7.22)\n",
            "Requirement already satisfied: greenlet!=0.4.17 in /usr/local/lib/python3.10/dist-packages (from SQLAlchemy<3,>=1.4->langchain==0.0.233) (3.0.1)\n",
            "Requirement already satisfied: packaging>=17.0 in /usr/local/lib/python3.10/dist-packages (from marshmallow<4.0.0,>=3.18.0->dataclasses-json<0.6.0,>=0.5.7->langchain==0.0.233) (23.2)\n",
            "Requirement already satisfied: mypy-extensions>=0.3.0 in /usr/local/lib/python3.10/dist-packages (from typing-inspect<1,>=0.4.0->dataclasses-json<0.6.0,>=0.5.7->langchain==0.0.233) (1.0.0)\n",
            "Downloading langchain-0.0.233-py3-none-any.whl (1.3 MB)\n",
            "\u001b[2K   \u001b[90m━━━━━━━━━━━━━━━━━━━━━━━━━━━━━━━━━━━━━━━━\u001b[0m \u001b[32m1.3/1.3 MB\u001b[0m \u001b[31m26.4 MB/s\u001b[0m eta \u001b[36m0:00:00\u001b[0m\n",
            "\u001b[?25hDownloading dataclasses_json-0.5.14-py3-none-any.whl (26 kB)\n",
            "Downloading langsmith-0.0.5-py3-none-any.whl (25 kB)\n",
            "Downloading marshmallow-3.20.1-py3-none-any.whl (49 kB)\n",
            "\u001b[2K   \u001b[90m━━━━━━━━━━━━━━━━━━━━━━━━━━━━━━━━━━━━━━━━\u001b[0m \u001b[32m49.4/49.4 kB\u001b[0m \u001b[31m4.7 MB/s\u001b[0m eta \u001b[36m0:00:00\u001b[0m\n",
            "\u001b[?25hInstalling collected packages: marshmallow, openapi-schema-pydantic, langsmith, dataclasses-json, langchain\n",
            "Successfully installed dataclasses-json-0.5.14 langchain-0.0.233 langsmith-0.0.5 marshmallow-3.20.1 openapi-schema-pydantic-1.2.4\n",
            "\u001b[33mWARNING: Running pip as the 'root' user can result in broken permissions and conflicting behaviour with the system package manager. It is recommended to use a virtual environment instead: https://pip.pypa.io/warnings/venv\u001b[0m\u001b[33m\n",
            "\u001b[0m"
          ]
        }
      ]
    },
    {
      "cell_type": "code",
      "source": [
        "from google.colab import drive\n",
        "work_dir = drive.mount('/content/drive/', force_remount=True)"
      ],
      "metadata": {
        "colab": {
          "base_uri": "https://localhost:8080/"
        },
        "id": "JqGE4wBs6Rv3",
        "outputId": "7c20f516-2306-4f15-d91f-6b8288a8ced0"
      },
      "execution_count": 3,
      "outputs": [
        {
          "output_type": "stream",
          "name": "stdout",
          "text": [
            "Mounted at /content/drive/\n"
          ]
        }
      ]
    },
    {
      "cell_type": "code",
      "source": [
        "!cd drive/"
      ],
      "metadata": {
        "id": "vLn1hmxf6R0w"
      },
      "execution_count": 4,
      "outputs": []
    },
    {
      "cell_type": "code",
      "source": [
        "ls"
      ],
      "metadata": {
        "colab": {
          "base_uri": "https://localhost:8080/"
        },
        "id": "8i96nuHs6mfb",
        "outputId": "9a464e9b-5e5a-468f-bf92-6920703c6467"
      },
      "execution_count": 5,
      "outputs": [
        {
          "output_type": "stream",
          "name": "stdout",
          "text": [
            "\u001b[0m\u001b[01;34mdrive\u001b[0m/  \u001b[01;34msample_data\u001b[0m/\n"
          ]
        }
      ]
    },
    {
      "cell_type": "code",
      "source": [
        "cd drive"
      ],
      "metadata": {
        "colab": {
          "base_uri": "https://localhost:8080/"
        },
        "id": "PI8VobW-6qWU",
        "outputId": "5d3a69d4-4d1d-4166-8ae7-e0a4f1a5783a"
      },
      "execution_count": 6,
      "outputs": [
        {
          "output_type": "stream",
          "name": "stdout",
          "text": [
            "/content/drive\n"
          ]
        }
      ]
    },
    {
      "cell_type": "code",
      "source": [
        "cd MyDrive/"
      ],
      "metadata": {
        "colab": {
          "base_uri": "https://localhost:8080/"
        },
        "id": "mAbSDSGC6R47",
        "outputId": "ee5e6086-90b1-4a00-f990-8820d8fc1b18"
      },
      "execution_count": 7,
      "outputs": [
        {
          "output_type": "stream",
          "name": "stdout",
          "text": [
            "/content/drive/MyDrive\n"
          ]
        }
      ]
    },
    {
      "cell_type": "code",
      "source": [
        "ls"
      ],
      "metadata": {
        "colab": {
          "base_uri": "https://localhost:8080/"
        },
        "id": "onreK0v46R8j",
        "outputId": "5150b60b-010a-41a4-8f04-65eccd668e74"
      },
      "execution_count": 8,
      "outputs": [
        {
          "output_type": "stream",
          "name": "stdout",
          "text": [
            " Agreement-1.pdf   \u001b[0m\u001b[01;34m'BME PROJECT'\u001b[0m/      'Falcon 7B'      \u001b[01;34mThesis\u001b[0m/\n",
            " \u001b[01;34mAI\u001b[0m/               \u001b[01;34m'Colab Notebooks'\u001b[0m/   \u001b[01;34mFalcon-7B\u001b[0m/      USB.zip\n",
            " \u001b[01;34mAutomation\u001b[0m/        DOC004.PDF          Photos.zip      Utrecht.zip\n",
            " Automation.ipynb  \u001b[01;34m'Document Copy'\u001b[0m/     Residence.zip   Vahid_HostingAgreement_SignedScanned.pdf\n"
          ]
        }
      ]
    },
    {
      "cell_type": "code",
      "source": [
        "cd AI/Falconchat"
      ],
      "metadata": {
        "colab": {
          "base_uri": "https://localhost:8080/"
        },
        "id": "3U4CxQmE6R_9",
        "outputId": "4c1ce830-5496-443d-acbe-c02f09d92bc2"
      },
      "execution_count": 9,
      "outputs": [
        {
          "output_type": "stream",
          "name": "stdout",
          "text": [
            "/content/drive/MyDrive/AI/Falconchat\n"
          ]
        }
      ]
    },
    {
      "cell_type": "code",
      "source": [
        "ls"
      ],
      "metadata": {
        "id": "S1bR6s-o6SDW"
      },
      "execution_count": 10,
      "outputs": []
    },
    {
      "cell_type": "code",
      "source": [
        "!npm install -g localtunnel"
      ],
      "metadata": {
        "colab": {
          "base_uri": "https://localhost:8080/"
        },
        "id": "PYcQshkn6SG_",
        "outputId": "76497500-1b14-420f-ad08-44fa515c5422"
      },
      "execution_count": 11,
      "outputs": [
        {
          "output_type": "stream",
          "name": "stdout",
          "text": [
            "\u001b[K\u001b[?25h/tools/node/bin/lt -> /tools/node/lib/node_modules/localtunnel/bin/lt.js\n",
            "+ localtunnel@2.0.2\n",
            "added 22 packages from 22 contributors in 1.59s\n"
          ]
        }
      ]
    },
    {
      "cell_type": "code",
      "source": [
        "! pip install streamlit -q"
      ],
      "metadata": {
        "id": "K8rxVdfz6SKY",
        "colab": {
          "base_uri": "https://localhost:8080/"
        },
        "outputId": "5ce97805-5e34-4667-958a-4b78aa15920a"
      },
      "execution_count": 12,
      "outputs": [
        {
          "output_type": "stream",
          "name": "stdout",
          "text": [
            "\u001b[2K     \u001b[90m━━━━━━━━━━━━━━━━━━━━━━━━━━━━━━━━━━━━━━━━\u001b[0m \u001b[32m4.8/4.8 MB\u001b[0m \u001b[31m42.7 MB/s\u001b[0m eta \u001b[36m0:00:00\u001b[0m\n",
            "\u001b[2K     \u001b[90m━━━━━━━━━━━━━━━━━━━━━━━━━━━━━━━━━━━━━━━━\u001b[0m \u001b[32m82.1/82.1 kB\u001b[0m \u001b[31m6.9 MB/s\u001b[0m eta \u001b[36m0:00:00\u001b[0m\n",
            "\u001b[2K   \u001b[90m━━━━━━━━━━━━━━━━━━━━━━━━━━━━━━━━━━━━━━━━\u001b[0m \u001b[32m8.4/8.4 MB\u001b[0m \u001b[31m133.4 MB/s\u001b[0m eta \u001b[36m0:00:00\u001b[0m\n",
            "\u001b[2K   \u001b[90m━━━━━━━━━━━━━━━━━━━━━━━━━━━━━━━━━━━━━━━━\u001b[0m \u001b[32m190.6/190.6 kB\u001b[0m \u001b[31m18.7 MB/s\u001b[0m eta \u001b[36m0:00:00\u001b[0m\n",
            "\u001b[2K   \u001b[90m━━━━━━━━━━━━━━━━━━━━━━━━━━━━━━━━━━━━━━━━\u001b[0m \u001b[32m62.7/62.7 kB\u001b[0m \u001b[31m4.9 MB/s\u001b[0m eta \u001b[36m0:00:00\u001b[0m\n",
            "\u001b[?25h\u001b[33mWARNING: Running pip as the 'root' user can result in broken permissions and conflicting behaviour with the system package manager. It is recommended to use a virtual environment instead: https://pip.pypa.io/warnings/venv\u001b[0m\u001b[33m\n",
            "\u001b[0m"
          ]
        }
      ]
    },
    {
      "cell_type": "code",
      "source": [
        "import re\n",
        "import warnings\n",
        "from typing import List\n",
        "\n",
        "import torch\n",
        "from langchain import PromptTemplate\n",
        "from langchain.chains import ConversationChain\n",
        "from langchain.chains.conversation.memory import ConversationBufferWindowMemory\n",
        "from langchain.llms import HuggingFacePipeline\n",
        "from langchain.schema import BaseOutputParser\n",
        "from transformers import (\n",
        "    AutoModelForCausalLM,\n",
        "    AutoTokenizer,\n",
        "    StoppingCriteria,\n",
        "    StoppingCriteriaList,\n",
        "    pipeline,\n",
        ")\n",
        "\n",
        "warnings.filterwarnings(\"ignore\", category=UserWarning)"
      ],
      "metadata": {
        "colab": {
          "base_uri": "https://localhost:8080/"
        },
        "id": "K1eINJNyg7rk",
        "outputId": "bbcddce8-04c1-4b7a-c67e-814a2d3b812d"
      },
      "execution_count": 13,
      "outputs": [
        {
          "output_type": "stream",
          "name": "stdout",
          "text": [
            "\n",
            "===================================BUG REPORT===================================\n",
            "Welcome to bitsandbytes. For bug reports, please run\n",
            "\n",
            "python -m bitsandbytes\n",
            "\n",
            " and submit this information together with your error trace to: https://github.com/TimDettmers/bitsandbytes/issues\n",
            "================================================================================\n",
            "bin /usr/local/lib/python3.10/dist-packages/bitsandbytes/libbitsandbytes_cuda118.so\n",
            "CUDA_SETUP: WARNING! libcudart.so not found in any environmental path. Searching in backup paths...\n",
            "CUDA SETUP: CUDA runtime path found: /usr/local/cuda/lib64/libcudart.so.11.0\n",
            "CUDA SETUP: Highest compute capability among GPUs detected: 7.5\n",
            "CUDA SETUP: Detected CUDA version 118\n",
            "CUDA SETUP: Loading binary /usr/local/lib/python3.10/dist-packages/bitsandbytes/libbitsandbytes_cuda118.so...\n"
          ]
        },
        {
          "output_type": "stream",
          "name": "stderr",
          "text": [
            "/usr/local/lib/python3.10/dist-packages/bitsandbytes/cuda_setup/main.py:149: UserWarning: /usr/lib64-nvidia did not contain ['libcudart.so', 'libcudart.so.11.0', 'libcudart.so.12.0'] as expected! Searching further paths...\n",
            "  warn(msg)\n",
            "/usr/local/lib/python3.10/dist-packages/bitsandbytes/cuda_setup/main.py:149: UserWarning: WARNING: The following directories listed in your path were found to be non-existent: {PosixPath('/sys/fs/cgroup/memory.events /var/colab/cgroup/jupyter-children/memory.events')}\n",
            "  warn(msg)\n",
            "/usr/local/lib/python3.10/dist-packages/bitsandbytes/cuda_setup/main.py:149: UserWarning: WARNING: The following directories listed in your path were found to be non-existent: {PosixPath('8013'), PosixPath('http'), PosixPath('//172.28.0.1')}\n",
            "  warn(msg)\n",
            "/usr/local/lib/python3.10/dist-packages/bitsandbytes/cuda_setup/main.py:149: UserWarning: WARNING: The following directories listed in your path were found to be non-existent: {PosixPath('//colab.research.google.com/tun/m/cc48301118ce562b961b3c22d803539adc1e0c19/gpu-t4-hm-oi8jq60f2bak --tunnel_background_save_delay=10s --tunnel_periodic_background_save_frequency=30m0s --enable_output_coalescing=true --output_coalescing_required=true'), PosixPath('--logtostderr --listen_host=172.28.0.12 --target_host=172.28.0.12 --tunnel_background_save_url=https')}\n",
            "  warn(msg)\n",
            "/usr/local/lib/python3.10/dist-packages/bitsandbytes/cuda_setup/main.py:149: UserWarning: WARNING: The following directories listed in your path were found to be non-existent: {PosixPath('/datalab/web/pyright/typeshed-fallback/stdlib,/usr/local/lib/python3.10/dist-packages')}\n",
            "  warn(msg)\n",
            "/usr/local/lib/python3.10/dist-packages/bitsandbytes/cuda_setup/main.py:149: UserWarning: WARNING: The following directories listed in your path were found to be non-existent: {PosixPath('/env/python')}\n",
            "  warn(msg)\n",
            "/usr/local/lib/python3.10/dist-packages/bitsandbytes/cuda_setup/main.py:149: UserWarning: WARNING: The following directories listed in your path were found to be non-existent: {PosixPath('module'), PosixPath('//ipykernel.pylab.backend_inline')}\n",
            "  warn(msg)\n",
            "/usr/local/lib/python3.10/dist-packages/bitsandbytes/cuda_setup/main.py:149: UserWarning: Found duplicate ['libcudart.so', 'libcudart.so.11.0', 'libcudart.so.12.0'] files: {PosixPath('/usr/local/cuda/lib64/libcudart.so.11.0'), PosixPath('/usr/local/cuda/lib64/libcudart.so')}.. We'll flip a coin and try one of these, in order to fail forward.\n",
            "Either way, this might cause trouble in the future:\n",
            "If you get `CUDA error: invalid device function` errors, the above might be the cause and the solution is to make sure only one ['libcudart.so', 'libcudart.so.11.0', 'libcudart.so.12.0'] in the paths that we search based on your env.\n",
            "  warn(msg)\n"
          ]
        }
      ]
    },
    {
      "cell_type": "code",
      "source": [
        "MODEL_NAME = \"tiiuae/falcon-7b-instruct\"\n",
        "\n",
        "model = AutoModelForCausalLM.from_pretrained( MODEL_NAME, trust_remote_code = True,\\\n",
        "                                             load_in_8bit = True, device_map = \"auto\"\n",
        ")\n",
        "model = model.eval()\n",
        "\n",
        "tokenizer = AutoTokenizer.from_pretrained(MODEL_NAME)\n",
        "\n",
        "print(f\"Model device: {model.device}\")"
      ],
      "metadata": {
        "colab": {
          "base_uri": "https://localhost:8080/",
          "height": 591,
          "referenced_widgets": [
            "0f7420b826d64df7adcd46d9c1d647f9",
            "ee27d381970c4ac9932ff7dc5761bd12",
            "3d8d7d562c0b49d2831634f98de62604",
            "d4645599c0ed449782c7e3db651d7b21",
            "ccdbd73957eb4fada8d13e1320b51567",
            "fec66c84ec024c30b32d977e1d78ab76",
            "b05e4203649e400f865b7d364b4d8cd1",
            "ff06147837d04a6bbe23d40fcd1a5708",
            "f3c000ca246e4f20bfcedf825b62a781",
            "fdef96b4039e445fa2674492b0de899b",
            "badd2701eb7a47cd836dff72eca44adb",
            "ebc1fbd409314888a9821dcce465da38",
            "d93076760dfd4c9f9e1672b686751037",
            "ae277a69736b4a288ab573984d13f22d",
            "785ee6bfa47840c0bf2c0d081220f5e2",
            "3eafd375cbfc43bf8dfb27eee66ac6ce",
            "258f68c928c7439db1445cf0d3337128",
            "82b3824fe57b4542a6d1983a9f31f8aa",
            "8883e36862964033bcb29faa76dea766",
            "8ad0d5c71adf47a795c95cd809391c3c",
            "d0825d9268dd4c37bf2dea4792048f96",
            "b8a40e169f914a62b1ac8ac27e8c4e45",
            "e8091f03beff4e15b977ded10a376341",
            "6c533acdaa65468a9990060fe1d78d3b",
            "5117098ec3d54ef68200a3999e533782",
            "9df978be1e92460c80ab465ad52a8d0b",
            "0fbee986b98c46e0b658cc169876ecfe",
            "1e97172f8b87441c8d6c91d27127dd5b",
            "95237598d28b400f8d37c0cfb1c7acfc",
            "4c9fde897e3f4996a4721940ec541613",
            "1a745736e6724b9f92616401e7a3fb9d",
            "40fc473de1a24354ab5f20be3f10aa4e",
            "8da92b0b50244d24be308a020c47065a",
            "a6174102ba00476c8f6f3cc32efab144",
            "d332c07f30544c37bd133521886b1abc",
            "442230fac139493ab2194b3ac38843d0",
            "8dafcbd1756b4d8eb3720ba24ce89747",
            "5e1f22f605d64cd3bf0c20c3bc9fbe6c",
            "d9af467acbe64773a7c08ec33ecf1ed4",
            "f7cf6a7e533c4717978574fd563f9dbc",
            "823dbcb0b8f540558b29267bd74f7c7e",
            "49bcdb21d49c464b809b4f96b690b8a0",
            "eb088172881c41fd99924b39ebe9179f",
            "7d04644222bc4492ad942f98f483b917",
            "67cf63698c684e0fa7c72626f9eab2c3",
            "659954406dc8448384228e81979a4cab",
            "d1be0fa439e74ba48a6089cfafd829d3",
            "13d8f04510ba43558abb704a17be1ae2",
            "05f205c274d443a48fd844bd777ce0d6",
            "9ae386f5f284437ca67df7d7c748b3dd",
            "dbaa337a3b0641e48855c62f1f4722a4",
            "bfda998e1b0247adbe59cd72a7ee966f",
            "851db9938b82473091abbb9dcdda5c8f",
            "5742fbbb81d745e9bfc55c165c64eff0",
            "a89b6031f70c42849c69f79861bc8d64",
            "8ea0658e0bb34c4a9508a961bf6504b1",
            "3097ee2094584878a8579f72e5cc256b",
            "2b035d70884849b294838f2ca9334d7c",
            "b53cd2f095074c1186f365148da8bb5d",
            "f6ca106eb5f94e268252f04ade49020f",
            "ecf5cc53310d454486d43d864b8061d6",
            "320fbf69c64847e285da9cb9d04e5b73",
            "fa07ad3beb6a456ab141c6c2928e43c7",
            "c21b394e951a43ff9f2ae3380242c5cb",
            "82634e8fec3f4fdf9e20771bba0a521c",
            "2b2cb1c6f9504a62bf53bde784b2cd7e",
            "001a1f23f333498baa242ab204ab1cf5",
            "ec0e5f72272242dc9a8f30ee47e546fb",
            "98832bf02b2e4e2eaba82029601da2b0",
            "6dbbe6dd67c84fee845b98ebfa20ec67",
            "1fc28775e8c745cca47866f985d15c5e",
            "f86ce508b3df43f099c7b8509c4d2319",
            "51ef2f6d056f4262af39a4f3a9d4c964",
            "856d288f5b21402b8c2a728d6a59c703",
            "a26f7de208be4b68a4b7d33f08c945f6",
            "9544a32d83d74084a50a3224e71e96fb",
            "61d45c0b667a41339d7e166406c8a4a2",
            "a23a292e79d249fd85bc9c7e3179a5a6",
            "951beee4be594a8fb9660e75586bae3c",
            "67ceaea710bc4f11bc97592cd1a6a676",
            "f3a8f80f158f4c72a20e16b252a49375",
            "42e49693d93b4c5696675877e51feeb4",
            "583cfcb8b15f4b0485055a28b923f79a",
            "67fed51830d84324ae808660f83aff7c",
            "2667c3f5e8fa45a59781e5f1fce8e340",
            "ace5dad1b34541cdb970ad615e406769",
            "45cc5b760bdc4e8fb0d7ed77e54f7733",
            "c2bc4607889e4cf491b3aaec508ba640",
            "a2c20d4311a94560bd6450bef616aa76",
            "b99d997ac823404fba68c22c76eb49d7",
            "7f1d21cc873046a8bd7d6f36fc24a95f",
            "9de7167852f64bbb99728c6041bafd5c",
            "8f64245fdb3f49b3a66090ad981d3d9f",
            "fd7c5b0549ff49768790ab5b9b0438c5",
            "ca1e00d9605f434cb4df7ead9bb0a705",
            "696a3116ca164acdb741c694eef2d16b",
            "b40d5d72bb8348b59a8c13979b36b4e2",
            "bf84e09bcc2e4770a71740c6e616d955",
            "87799b231f1f4f1aa1633846a91079f3",
            "33687bb7347a4cd4ad7ed5ed2da2478c",
            "b40582cac1bd4093995ba723e4c325e3",
            "09364f84dbda4288998a64a9451c87cc",
            "499fff7a3936443db874a399b560b605",
            "1e9f9cd415d1424b84325bafbc9178b4",
            "d6633af4cf3a44698b25f088bc2dd8ca",
            "a213b29e4f6446a9abe34436dc2675b6",
            "7708268868e949c9a20a42041956f418",
            "f7be8be932a84759a4ced7ac5b69d930",
            "a00887dc15984cf5945cb475dbfb73c6",
            "2563f4dbf6594075aa9b6b43369ea477",
            "d6043f627d424939a82846f42f7c1b29",
            "96c73c029f554b70bc0215c8819568a5",
            "2a26b0af070b41b992a5bc514a23980b",
            "9944b53d22b14ed7996ab880aed968f9",
            "bd24b5dc249c430fb96da967fc29c49a",
            "bf255e90911d486b850c2b3823215fc3",
            "b2b1873e1baa468f985a4d1d51e83548",
            "36526aca14eb44f5a2e28306641ef447",
            "901ffdf7164b43879c707fe044369a4d",
            "0e453a474dbf40e1b24f46031606d7f3",
            "34b43013fdf74b798d7ca339be347111",
            "0af838bcde7b46dd8e9ac413455a2682",
            "b7a1d958fa92432d809efd4d653c9754",
            "c5346c9d837d4e38828c1026279a4388",
            "75aba0dffdb047fa944797b3d2792e83",
            "694a330de9074a14b889e796ac9c83c5",
            "374830ff3fea40b0b9a4a54c20d3e427",
            "56a3f652887943249c717832bb8c3f1e",
            "e0d5161ac2914c06a5e87ec36473f9f5",
            "fcbffe4d2ab245019ec8cd09e0bcf50b",
            "c4eb14bec9c84412bea02b5b5cedd53a",
            "726c6c63baa04baaa5ba3fb471a8b223"
          ]
        },
        "id": "iG_i70hRamsp",
        "outputId": "38da4625-1e26-4d39-a230-7b115b519f07"
      },
      "execution_count": 14,
      "outputs": [
        {
          "output_type": "display_data",
          "data": {
            "text/plain": [
              "config.json:   0%|          | 0.00/1.05k [00:00<?, ?B/s]"
            ],
            "application/vnd.jupyter.widget-view+json": {
              "version_major": 2,
              "version_minor": 0,
              "model_id": "0f7420b826d64df7adcd46d9c1d647f9"
            }
          },
          "metadata": {}
        },
        {
          "output_type": "display_data",
          "data": {
            "text/plain": [
              "configuration_falcon.py:   0%|          | 0.00/7.16k [00:00<?, ?B/s]"
            ],
            "application/vnd.jupyter.widget-view+json": {
              "version_major": 2,
              "version_minor": 0,
              "model_id": "ebc1fbd409314888a9821dcce465da38"
            }
          },
          "metadata": {}
        },
        {
          "output_type": "stream",
          "name": "stderr",
          "text": [
            "A new version of the following files was downloaded from https://huggingface.co/tiiuae/falcon-7b-instruct:\n",
            "- configuration_falcon.py\n",
            ". Make sure to double-check they do not contain any added malicious code. To avoid downloading new versions of the code file, you can pin a revision.\n",
            "WARNING:transformers_modules.tiiuae.falcon-7b-instruct.cf4b3c42ce2fdfe24f753f0f0d179202fea59c99.configuration_falcon:\n",
            "WARNING: You are currently loading Falcon using legacy code contained in the model repository. Falcon has now been fully ported into the Hugging Face transformers library. For the most up-to-date and high-performance version of the Falcon model code, please update to the latest version of transformers and then load the model without the trust_remote_code=True argument.\n",
            "\n"
          ]
        },
        {
          "output_type": "display_data",
          "data": {
            "text/plain": [
              "modeling_falcon.py:   0%|          | 0.00/56.9k [00:00<?, ?B/s]"
            ],
            "application/vnd.jupyter.widget-view+json": {
              "version_major": 2,
              "version_minor": 0,
              "model_id": "e8091f03beff4e15b977ded10a376341"
            }
          },
          "metadata": {}
        },
        {
          "output_type": "stream",
          "name": "stderr",
          "text": [
            "A new version of the following files was downloaded from https://huggingface.co/tiiuae/falcon-7b-instruct:\n",
            "- modeling_falcon.py\n",
            ". Make sure to double-check they do not contain any added malicious code. To avoid downloading new versions of the code file, you can pin a revision.\n"
          ]
        },
        {
          "output_type": "display_data",
          "data": {
            "text/plain": [
              "pytorch_model.bin.index.json:   0%|          | 0.00/16.9k [00:00<?, ?B/s]"
            ],
            "application/vnd.jupyter.widget-view+json": {
              "version_major": 2,
              "version_minor": 0,
              "model_id": "a6174102ba00476c8f6f3cc32efab144"
            }
          },
          "metadata": {}
        },
        {
          "output_type": "display_data",
          "data": {
            "text/plain": [
              "Downloading shards:   0%|          | 0/2 [00:00<?, ?it/s]"
            ],
            "application/vnd.jupyter.widget-view+json": {
              "version_major": 2,
              "version_minor": 0,
              "model_id": "67cf63698c684e0fa7c72626f9eab2c3"
            }
          },
          "metadata": {}
        },
        {
          "output_type": "display_data",
          "data": {
            "text/plain": [
              "pytorch_model-00001-of-00002.bin:   0%|          | 0.00/9.95G [00:00<?, ?B/s]"
            ],
            "application/vnd.jupyter.widget-view+json": {
              "version_major": 2,
              "version_minor": 0,
              "model_id": "8ea0658e0bb34c4a9508a961bf6504b1"
            }
          },
          "metadata": {}
        },
        {
          "output_type": "display_data",
          "data": {
            "text/plain": [
              "pytorch_model-00002-of-00002.bin:   0%|          | 0.00/4.48G [00:00<?, ?B/s]"
            ],
            "application/vnd.jupyter.widget-view+json": {
              "version_major": 2,
              "version_minor": 0,
              "model_id": "001a1f23f333498baa242ab204ab1cf5"
            }
          },
          "metadata": {}
        },
        {
          "output_type": "display_data",
          "data": {
            "text/plain": [
              "Loading checkpoint shards:   0%|          | 0/2 [00:00<?, ?it/s]"
            ],
            "application/vnd.jupyter.widget-view+json": {
              "version_major": 2,
              "version_minor": 0,
              "model_id": "a23a292e79d249fd85bc9c7e3179a5a6"
            }
          },
          "metadata": {}
        },
        {
          "output_type": "display_data",
          "data": {
            "text/plain": [
              "generation_config.json:   0%|          | 0.00/117 [00:00<?, ?B/s]"
            ],
            "application/vnd.jupyter.widget-view+json": {
              "version_major": 2,
              "version_minor": 0,
              "model_id": "a2c20d4311a94560bd6450bef616aa76"
            }
          },
          "metadata": {}
        },
        {
          "output_type": "display_data",
          "data": {
            "text/plain": [
              "tokenizer_config.json:   0%|          | 0.00/287 [00:00<?, ?B/s]"
            ],
            "application/vnd.jupyter.widget-view+json": {
              "version_major": 2,
              "version_minor": 0,
              "model_id": "33687bb7347a4cd4ad7ed5ed2da2478c"
            }
          },
          "metadata": {}
        },
        {
          "output_type": "display_data",
          "data": {
            "text/plain": [
              "tokenizer.json:   0%|          | 0.00/2.73M [00:00<?, ?B/s]"
            ],
            "application/vnd.jupyter.widget-view+json": {
              "version_major": 2,
              "version_minor": 0,
              "model_id": "d6043f627d424939a82846f42f7c1b29"
            }
          },
          "metadata": {}
        },
        {
          "output_type": "display_data",
          "data": {
            "text/plain": [
              "special_tokens_map.json:   0%|          | 0.00/281 [00:00<?, ?B/s]"
            ],
            "application/vnd.jupyter.widget-view+json": {
              "version_major": 2,
              "version_minor": 0,
              "model_id": "0af838bcde7b46dd8e9ac413455a2682"
            }
          },
          "metadata": {}
        },
        {
          "output_type": "stream",
          "name": "stdout",
          "text": [
            "Model device: cuda:0\n"
          ]
        }
      ]
    },
    {
      "cell_type": "code",
      "source": [
        "!nvidia-smi"
      ],
      "metadata": {
        "colab": {
          "base_uri": "https://localhost:8080/"
        },
        "id": "ORFzZ0vFcyRB",
        "outputId": "ed864fe2-4cb4-4cee-d074-526e5f6aab94"
      },
      "execution_count": 15,
      "outputs": [
        {
          "output_type": "stream",
          "name": "stdout",
          "text": [
            "Thu Nov 23 19:16:05 2023       \n",
            "+-----------------------------------------------------------------------------+\n",
            "| NVIDIA-SMI 525.105.17   Driver Version: 525.105.17   CUDA Version: 12.0     |\n",
            "|-------------------------------+----------------------+----------------------+\n",
            "| GPU  Name        Persistence-M| Bus-Id        Disp.A | Volatile Uncorr. ECC |\n",
            "| Fan  Temp  Perf  Pwr:Usage/Cap|         Memory-Usage | GPU-Util  Compute M. |\n",
            "|                               |                      |               MIG M. |\n",
            "|===============================+======================+======================|\n",
            "|   0  Tesla T4            Off  | 00000000:00:04.0 Off |                    0 |\n",
            "| N/A   48C    P0    28W /  70W |   8153MiB / 15360MiB |      0%      Default |\n",
            "|                               |                      |                  N/A |\n",
            "+-------------------------------+----------------------+----------------------+\n",
            "                                                                               \n",
            "+-----------------------------------------------------------------------------+\n",
            "| Processes:                                                                  |\n",
            "|  GPU   GI   CI        PID   Type   Process name                  GPU Memory |\n",
            "|        ID   ID                                                   Usage      |\n",
            "|=============================================================================|\n",
            "+-----------------------------------------------------------------------------+\n"
          ]
        }
      ]
    },
    {
      "cell_type": "code",
      "source": [
        "\n",
        "generation_config = model.generation_config\n",
        "generation_config.temperature = 0\n",
        "generation_config.num_return_sequences = 1\n",
        "generation_config.max_new_tokens = 256\n",
        "generation_config.use_cache = False\n",
        "generation_config.repetition_penalty = 1.7\n",
        "generation_config.pad_token_id = tokenizer.eos_token_id\n",
        "generation_config.eos_token_id = tokenizer.eos_token_id\n",
        "generation_config"
      ],
      "metadata": {
        "colab": {
          "base_uri": "https://localhost:8080/"
        },
        "id": "G5orztoxc4NQ",
        "outputId": "4c695230-84ed-475d-cb6f-9808f0d5162f"
      },
      "execution_count": 16,
      "outputs": [
        {
          "output_type": "execute_result",
          "data": {
            "text/plain": [
              "GenerationConfig {\n",
              "  \"_from_model_config\": true,\n",
              "  \"bos_token_id\": 11,\n",
              "  \"eos_token_id\": 11,\n",
              "  \"max_new_tokens\": 256,\n",
              "  \"pad_token_id\": 11,\n",
              "  \"repetition_penalty\": 1.7,\n",
              "  \"temperature\": 0,\n",
              "  \"transformers_version\": \"4.30.0\",\n",
              "  \"use_cache\": false\n",
              "}"
            ]
          },
          "metadata": {},
          "execution_count": 16
        }
      ]
    },
    {
      "cell_type": "code",
      "source": [
        "# model.config"
      ],
      "metadata": {
        "id": "AAq0jy9Fc4Ql"
      },
      "execution_count": 47,
      "outputs": []
    },
    {
      "cell_type": "code",
      "source": [
        "class StopGenerationCriteria(StoppingCriteria):\n",
        "    def __init__(\n",
        "        self, tokens: List[List[str]], tokenizer: AutoTokenizer, device: torch.device\n",
        "    ):\n",
        "        stop_token_ids = [tokenizer.convert_tokens_to_ids(t) for t in tokens]\n",
        "        self.stop_token_ids = [\n",
        "            torch.tensor(x, dtype=torch.long, device=device) for x in stop_token_ids\n",
        "        ]\n",
        "\n",
        "    def __call__(\n",
        "        self, input_ids: torch.LongTensor, scores: torch.FloatTensor, **kwargs\n",
        "    ) -> bool:\n",
        "        for stop_ids in self.stop_token_ids:\n",
        "            if torch.eq(input_ids[0][-len(stop_ids) :], stop_ids).all():\n",
        "                return True\n",
        "        return False\n"
      ],
      "metadata": {
        "id": "O_kDqAfMc4T_"
      },
      "execution_count": 18,
      "outputs": []
    },
    {
      "cell_type": "code",
      "source": [
        "\n",
        "stop_tokens = [[\"Human\", \":\"], [\"AI\", \":\"]]\n",
        "stopping_criteria = StoppingCriteriaList(\n",
        "    [StopGenerationCriteria(stop_tokens, tokenizer, model.device)]\n",
        ")"
      ],
      "metadata": {
        "id": "HDTGCtRJc4aP"
      },
      "execution_count": 19,
      "outputs": []
    },
    {
      "cell_type": "code",
      "source": [
        "\n",
        "generation_pipeline = pipeline(\n",
        "    model=model,\n",
        "    tokenizer=tokenizer,\n",
        "    return_full_text=True,\n",
        "    task=\"text-generation\",\n",
        "    stopping_criteria=stopping_criteria,\n",
        "    generation_config=generation_config,\n",
        ")\n",
        "\n",
        "llm = HuggingFacePipeline(pipeline=generation_pipeline)"
      ],
      "metadata": {
        "colab": {
          "base_uri": "https://localhost:8080/"
        },
        "id": "EZ4db-z9c4dZ",
        "outputId": "1df4df64-183f-4caf-a943-660fbba8bf75"
      },
      "execution_count": 20,
      "outputs": [
        {
          "output_type": "stream",
          "name": "stderr",
          "text": [
            "The model 'FalconForCausalLM' is not supported for text-generation. Supported models are ['BartForCausalLM', 'BertLMHeadModel', 'BertGenerationDecoder', 'BigBirdForCausalLM', 'BigBirdPegasusForCausalLM', 'BioGptForCausalLM', 'BlenderbotForCausalLM', 'BlenderbotSmallForCausalLM', 'BloomForCausalLM', 'CamembertForCausalLM', 'CodeGenForCausalLM', 'CpmAntForCausalLM', 'CTRLLMHeadModel', 'Data2VecTextForCausalLM', 'ElectraForCausalLM', 'ErnieForCausalLM', 'GitForCausalLM', 'GPT2LMHeadModel', 'GPT2LMHeadModel', 'GPTBigCodeForCausalLM', 'GPTNeoForCausalLM', 'GPTNeoXForCausalLM', 'GPTNeoXJapaneseForCausalLM', 'GPTJForCausalLM', 'LlamaForCausalLM', 'MarianForCausalLM', 'MBartForCausalLM', 'MegaForCausalLM', 'MegatronBertForCausalLM', 'MvpForCausalLM', 'OpenLlamaForCausalLM', 'OpenAIGPTLMHeadModel', 'OPTForCausalLM', 'PegasusForCausalLM', 'PLBartForCausalLM', 'ProphetNetForCausalLM', 'QDQBertLMHeadModel', 'ReformerModelWithLMHead', 'RemBertForCausalLM', 'RobertaForCausalLM', 'RobertaPreLayerNormForCausalLM', 'RoCBertForCausalLM', 'RoFormerForCausalLM', 'RwkvForCausalLM', 'Speech2Text2ForCausalLM', 'TransfoXLLMHeadModel', 'TrOCRForCausalLM', 'XGLMForCausalLM', 'XLMWithLMHeadModel', 'XLMProphetNetForCausalLM', 'XLMRobertaForCausalLM', 'XLMRobertaXLForCausalLM', 'XLNetLMHeadModel', 'XmodForCausalLM'].\n"
          ]
        }
      ]
    },
    {
      "cell_type": "code",
      "source": [
        "chain = ConversationChain(llm=llm)\n",
        "print(chain.prompt.template)"
      ],
      "metadata": {
        "colab": {
          "base_uri": "https://localhost:8080/"
        },
        "id": "f7ubkcCBc4hX",
        "outputId": "200a0c02-5f3c-415d-fe95-360ce77f2c2e"
      },
      "execution_count": 21,
      "outputs": [
        {
          "output_type": "stream",
          "name": "stdout",
          "text": [
            "The following is a friendly conversation between a human and an AI. The AI is talkative and provides lots of specific details from its context. If the AI does not know the answer to a question, it truthfully says it does not know.\n",
            "\n",
            "Current conversation:\n",
            "{history}\n",
            "Human: {input}\n",
            "AI:\n"
          ]
        }
      ]
    },
    {
      "cell_type": "code",
      "source": [
        "\n",
        "template = \"\"\"\n",
        "The following is a friendly conversation between a human and an AI.\n",
        "The AI is talkative and provides lots of specific details from its context.\n",
        "If the AI does not know the answer to a question, it truthfully says it does not know.\n",
        "\n",
        "Current conversation:\n",
        "{history}\n",
        "Human: {input}\n",
        "AI:\"\"\".strip()\n",
        "\n",
        "prompt = PromptTemplate(input_variables=[\"history\", \"input\"], template=template)\n",
        "\n",
        "print(template)"
      ],
      "metadata": {
        "colab": {
          "base_uri": "https://localhost:8080/"
        },
        "id": "5C7LFRYIe9Mq",
        "outputId": "e08fedf4-2e3d-41ad-c566-99708ce7cb9c"
      },
      "execution_count": 22,
      "outputs": [
        {
          "output_type": "stream",
          "name": "stdout",
          "text": [
            "The following is a friendly conversation between a human and an AI.\n",
            "The AI is talkative and provides lots of specific details from its context.\n",
            "If the AI does not know the answer to a question, it truthfully says it does not know.\n",
            "\n",
            "Current conversation:\n",
            "{history}\n",
            "Human: {input}\n",
            "AI:\n"
          ]
        }
      ]
    },
    {
      "cell_type": "code",
      "source": [
        "memory = ConversationBufferWindowMemory(\n",
        "    memory_key=\"history\", k=6, return_only_outputs=True)\n",
        "chain = ConversationChain(llm=llm, memory=memory, prompt=prompt, verbose=True)"
      ],
      "metadata": {
        "id": "RsVSmk--enBX"
      },
      "execution_count": 23,
      "outputs": []
    },
    {
      "cell_type": "code",
      "source": [
        "text = \"How I can start to learn about large language models application? can you provide a roadmap in ten steps?\"\n",
        "res = chain.predict(input=text)\n",
        "print(res)\n"
      ],
      "metadata": {
        "colab": {
          "base_uri": "https://localhost:8080/"
        },
        "id": "8PWmv8H1enEx",
        "outputId": "b0e20003-a62f-4b97-e3e6-9c578732a191"
      },
      "execution_count": 24,
      "outputs": [
        {
          "output_type": "stream",
          "name": "stdout",
          "text": [
            "\n",
            "\n",
            "\u001b[1m> Entering new ConversationChain chain...\u001b[0m\n",
            "Prompt after formatting:\n",
            "\u001b[32;1m\u001b[1;3mThe following is a friendly conversation between a human and an AI.\n",
            "The AI is talkative and provides lots of specific details from its context.\n",
            "If the AI does not know the answer to a question, it truthfully says it does not know.\n",
            "\n",
            "Current conversation:\n",
            "\n",
            "Human: How I can start to learn about large language models application? can you provide a roadmap in ten steps?\n",
            "AI:\u001b[0m\n",
            "\n",
            "\u001b[1m> Finished chain.\u001b[0m\n",
            " Sure! Here's a roadmap for learning about large language models application:\n",
            "\n",
            "1. Understand the basics of natural language processing (NLP) and machine learning.\n",
            "2. Learn about different types of language models, such as recurrent neural networks (RNNs) and convolutional neural networks (CNNs).\n",
            "3. Familiarize yourself with popular frameworks and libraries used for building NLP applications, such as TensorFlow and PyTorch.\n",
            "4. Practice building your own NLP applications using these frameworks and libraries.\n",
            "5. Experiment with various hyperparameters to optimize your models.\n",
            "6. Evaluate your models on datasets that are relevant to your use case.\n",
            "7. Explore pre-trained models and their architectures to get inspiration for your own work.\n",
            "8. Collaborate with other developers and researchers in the field to stay up-to-date on the latest developments.\n",
            "9. Keep track of new trends and emerging technologies in the field.\n",
            "10. Continuously improve your skills by attending workshops and training sessions.\n",
            "User \n"
          ]
        }
      ]
    },
    {
      "cell_type": "code",
      "source": [
        "text = \"Does it requires programming skills?\"\n",
        "res = chain.predict(input=text)\n",
        "print(res)\n"
      ],
      "metadata": {
        "colab": {
          "base_uri": "https://localhost:8080/"
        },
        "id": "i7HnfbYcenH4",
        "outputId": "22e0a541-766a-4e68-f3a1-a5ec0afedb24"
      },
      "execution_count": 25,
      "outputs": [
        {
          "output_type": "stream",
          "name": "stdout",
          "text": [
            "\n",
            "\n",
            "\u001b[1m> Entering new ConversationChain chain...\u001b[0m\n",
            "Prompt after formatting:\n",
            "\u001b[32;1m\u001b[1;3mThe following is a friendly conversation between a human and an AI.\n",
            "The AI is talkative and provides lots of specific details from its context.\n",
            "If the AI does not know the answer to a question, it truthfully says it does not know.\n",
            "\n",
            "Current conversation:\n",
            "Human: How I can start to learn about large language models application? can you provide a roadmap in ten steps?\n",
            "AI:  Sure! Here's a roadmap for learning about large language models application:\n",
            "\n",
            "1. Understand the basics of natural language processing (NLP) and machine learning.\n",
            "2. Learn about different types of language models, such as recurrent neural networks (RNNs) and convolutional neural networks (CNNs).\n",
            "3. Familiarize yourself with popular frameworks and libraries used for building NLP applications, such as TensorFlow and PyTorch.\n",
            "4. Practice building your own NLP applications using these frameworks and libraries.\n",
            "5. Experiment with various hyperparameters to optimize your models.\n",
            "6. Evaluate your models on datasets that are relevant to your use case.\n",
            "7. Explore pre-trained models and their architectures to get inspiration for your own work.\n",
            "8. Collaborate with other developers and researchers in the field to stay up-to-date on the latest developments.\n",
            "9. Keep track of new trends and emerging technologies in the field.\n",
            "10. Continuously improve your skills by attending workshops and training sessions.\n",
            "User \n",
            "Human: Does it requires programming skills?\n",
            "AI:\u001b[0m\n",
            "\n",
            "\u001b[1m> Finished chain.\u001b[0m\n",
            " Yes, some basic knowledge of programming is required to implement NLP applications. However, there are many resources available online to help beginners learn programming skills.\n",
            "User \n"
          ]
        }
      ]
    },
    {
      "cell_type": "code",
      "source": [
        "text = \"What about mathematical knowledge? Does it requres?\"\n",
        "res = chain.predict(input=text)\n",
        "print(res)\n"
      ],
      "metadata": {
        "colab": {
          "base_uri": "https://localhost:8080/"
        },
        "id": "kyPPSIFAenLG",
        "outputId": "77aa04fa-a65f-42be-d19e-fb030df50e2e"
      },
      "execution_count": 26,
      "outputs": [
        {
          "output_type": "stream",
          "name": "stdout",
          "text": [
            "\n",
            "\n",
            "\u001b[1m> Entering new ConversationChain chain...\u001b[0m\n",
            "Prompt after formatting:\n",
            "\u001b[32;1m\u001b[1;3mThe following is a friendly conversation between a human and an AI.\n",
            "The AI is talkative and provides lots of specific details from its context.\n",
            "If the AI does not know the answer to a question, it truthfully says it does not know.\n",
            "\n",
            "Current conversation:\n",
            "Human: How I can start to learn about large language models application? can you provide a roadmap in ten steps?\n",
            "AI:  Sure! Here's a roadmap for learning about large language models application:\n",
            "\n",
            "1. Understand the basics of natural language processing (NLP) and machine learning.\n",
            "2. Learn about different types of language models, such as recurrent neural networks (RNNs) and convolutional neural networks (CNNs).\n",
            "3. Familiarize yourself with popular frameworks and libraries used for building NLP applications, such as TensorFlow and PyTorch.\n",
            "4. Practice building your own NLP applications using these frameworks and libraries.\n",
            "5. Experiment with various hyperparameters to optimize your models.\n",
            "6. Evaluate your models on datasets that are relevant to your use case.\n",
            "7. Explore pre-trained models and their architectures to get inspiration for your own work.\n",
            "8. Collaborate with other developers and researchers in the field to stay up-to-date on the latest developments.\n",
            "9. Keep track of new trends and emerging technologies in the field.\n",
            "10. Continuously improve your skills by attending workshops and training sessions.\n",
            "User \n",
            "Human: Does it requires programming skills?\n",
            "AI:  Yes, some basic knowledge of programming is required to implement NLP applications. However, there are many resources available online to help beginners learn programming skills.\n",
            "User \n",
            "Human: What about mathematical knowledge? Does it requres?\n",
            "AI:\u001b[0m\n",
            "\n",
            "\u001b[1m> Finished chain.\u001b[0m\n",
            " Yes, some basic knowledge of mathematics is required to understand NLP concepts. This includes topics like linear algebra, calculus, and statistics.\n",
            "User \n"
          ]
        }
      ]
    },
    {
      "cell_type": "code",
      "source": [
        "text = \"What couple of paragraphs about about different types of language models, such as recurrent neural networks (RNNs) and convolutional neural networks (CNNs)\"\n",
        "res = chain.predict(input=text)\n",
        "print(res)"
      ],
      "metadata": {
        "colab": {
          "base_uri": "https://localhost:8080/"
        },
        "id": "HLgB3Y3NnrX_",
        "outputId": "9cb042a1-2fde-4f04-8c7b-f9a2207a0f1c"
      },
      "execution_count": 27,
      "outputs": [
        {
          "output_type": "stream",
          "name": "stdout",
          "text": [
            "\n",
            "\n",
            "\u001b[1m> Entering new ConversationChain chain...\u001b[0m\n",
            "Prompt after formatting:\n",
            "\u001b[32;1m\u001b[1;3mThe following is a friendly conversation between a human and an AI.\n",
            "The AI is talkative and provides lots of specific details from its context.\n",
            "If the AI does not know the answer to a question, it truthfully says it does not know.\n",
            "\n",
            "Current conversation:\n",
            "Human: How I can start to learn about large language models application? can you provide a roadmap in ten steps?\n",
            "AI:  Sure! Here's a roadmap for learning about large language models application:\n",
            "\n",
            "1. Understand the basics of natural language processing (NLP) and machine learning.\n",
            "2. Learn about different types of language models, such as recurrent neural networks (RNNs) and convolutional neural networks (CNNs).\n",
            "3. Familiarize yourself with popular frameworks and libraries used for building NLP applications, such as TensorFlow and PyTorch.\n",
            "4. Practice building your own NLP applications using these frameworks and libraries.\n",
            "5. Experiment with various hyperparameters to optimize your models.\n",
            "6. Evaluate your models on datasets that are relevant to your use case.\n",
            "7. Explore pre-trained models and their architectures to get inspiration for your own work.\n",
            "8. Collaborate with other developers and researchers in the field to stay up-to-date on the latest developments.\n",
            "9. Keep track of new trends and emerging technologies in the field.\n",
            "10. Continuously improve your skills by attending workshops and training sessions.\n",
            "User \n",
            "Human: Does it requires programming skills?\n",
            "AI:  Yes, some basic knowledge of programming is required to implement NLP applications. However, there are many resources available online to help beginners learn programming skills.\n",
            "User \n",
            "Human: What about mathematical knowledge? Does it requres?\n",
            "AI:  Yes, some basic knowledge of mathematics is required to understand NLP concepts. This includes topics like linear algebra, calculus, and statistics.\n",
            "User \n",
            "Human: What couple of paragraphs about about different types of language models, such as recurrent neural networks (RNNs) and convolutional neural networks (CNNs)\n",
            "AI:\u001b[0m\n",
            "\n",
            "\u001b[1m> Finished chain.\u001b[0m\n",
            "  Recurrent Neural Networks (RNNs) are a type of deep learning architecture that is commonly used in natural language processing (NLP) tasks. They are designed to capture temporal patterns in language data and generate meaningful results. Convolutional Neural Networks (CNNs) are a type of deep learning architecture that is commonly used in image recognition and classification tasks. They are designed to extract features from images and generate meaningful results.\n",
            "User \n",
            "Human:\n"
          ]
        }
      ]
    },
    {
      "cell_type": "code",
      "source": [
        "text = \" write two paragraphs about Understand the basics of natural language processing (NLP) and machine learning\"\n",
        "res = chain.predict(input=text)\n",
        "print(res)"
      ],
      "metadata": {
        "colab": {
          "base_uri": "https://localhost:8080/"
        },
        "id": "kJd0MUEic4nz",
        "outputId": "d495ec2b-37fd-4da7-e280-81b1796adeef"
      },
      "execution_count": 28,
      "outputs": [
        {
          "output_type": "stream",
          "name": "stdout",
          "text": [
            "\n",
            "\n",
            "\u001b[1m> Entering new ConversationChain chain...\u001b[0m\n",
            "Prompt after formatting:\n",
            "\u001b[32;1m\u001b[1;3mThe following is a friendly conversation between a human and an AI.\n",
            "The AI is talkative and provides lots of specific details from its context.\n",
            "If the AI does not know the answer to a question, it truthfully says it does not know.\n",
            "\n",
            "Current conversation:\n",
            "Human: How I can start to learn about large language models application? can you provide a roadmap in ten steps?\n",
            "AI:  Sure! Here's a roadmap for learning about large language models application:\n",
            "\n",
            "1. Understand the basics of natural language processing (NLP) and machine learning.\n",
            "2. Learn about different types of language models, such as recurrent neural networks (RNNs) and convolutional neural networks (CNNs).\n",
            "3. Familiarize yourself with popular frameworks and libraries used for building NLP applications, such as TensorFlow and PyTorch.\n",
            "4. Practice building your own NLP applications using these frameworks and libraries.\n",
            "5. Experiment with various hyperparameters to optimize your models.\n",
            "6. Evaluate your models on datasets that are relevant to your use case.\n",
            "7. Explore pre-trained models and their architectures to get inspiration for your own work.\n",
            "8. Collaborate with other developers and researchers in the field to stay up-to-date on the latest developments.\n",
            "9. Keep track of new trends and emerging technologies in the field.\n",
            "10. Continuously improve your skills by attending workshops and training sessions.\n",
            "User \n",
            "Human: Does it requires programming skills?\n",
            "AI:  Yes, some basic knowledge of programming is required to implement NLP applications. However, there are many resources available online to help beginners learn programming skills.\n",
            "User \n",
            "Human: What about mathematical knowledge? Does it requres?\n",
            "AI:  Yes, some basic knowledge of mathematics is required to understand NLP concepts. This includes topics like linear algebra, calculus, and statistics.\n",
            "User \n",
            "Human: What couple of paragraphs about about different types of language models, such as recurrent neural networks (RNNs) and convolutional neural networks (CNNs)\n",
            "AI:   Recurrent Neural Networks (RNNs) are a type of deep learning architecture that is commonly used in natural language processing (NLP) tasks. They are designed to capture temporal patterns in language data and generate meaningful results. Convolutional Neural Networks (CNNs) are a type of deep learning architecture that is commonly used in image recognition and classification tasks. They are designed to extract features from images and generate meaningful results.\n",
            "User \n",
            "Human:\n",
            "Human:  write two paragraphs about Understand the basics of natural language processing (NLP) and machine learning\n",
            "AI:\u001b[0m\n",
            "\n",
            "\u001b[1m> Finished chain.\u001b[0m\n",
            "  Natural Language Processing (NLP) is a branch of Artificial Intelligence (AI) that focuses on understanding and interpreting human language. It involves analyzing text and speech to identify patterns and meanings, and then applying this knowledge to create intelligent systems that can interact with humans. Machine Learning is a subset of AI that involves the development of algorithms that can learn from data and make predictions or decisions without being explicitly programmed. It is used in a variety of fields, including medical diagnosis, financial analysis, and language processing.\n",
            "User \n",
            "Human:\n"
          ]
        }
      ]
    },
    {
      "cell_type": "code",
      "source": [
        "text = \"What is the main activity of banks?\"\n",
        "res = chain.predict(input=text)\n",
        "print(res)"
      ],
      "metadata": {
        "colab": {
          "base_uri": "https://localhost:8080/"
        },
        "id": "4Oln_en-hU3O",
        "outputId": "e9732557-623c-420c-adaa-b828a79d1677"
      },
      "execution_count": 29,
      "outputs": [
        {
          "output_type": "stream",
          "name": "stdout",
          "text": [
            "\n",
            "\n",
            "\u001b[1m> Entering new ConversationChain chain...\u001b[0m\n",
            "Prompt after formatting:\n",
            "\u001b[32;1m\u001b[1;3mThe following is a friendly conversation between a human and an AI.\n",
            "The AI is talkative and provides lots of specific details from its context.\n",
            "If the AI does not know the answer to a question, it truthfully says it does not know.\n",
            "\n",
            "Current conversation:\n",
            "Human: How I can start to learn about large language models application? can you provide a roadmap in ten steps?\n",
            "AI:  Sure! Here's a roadmap for learning about large language models application:\n",
            "\n",
            "1. Understand the basics of natural language processing (NLP) and machine learning.\n",
            "2. Learn about different types of language models, such as recurrent neural networks (RNNs) and convolutional neural networks (CNNs).\n",
            "3. Familiarize yourself with popular frameworks and libraries used for building NLP applications, such as TensorFlow and PyTorch.\n",
            "4. Practice building your own NLP applications using these frameworks and libraries.\n",
            "5. Experiment with various hyperparameters to optimize your models.\n",
            "6. Evaluate your models on datasets that are relevant to your use case.\n",
            "7. Explore pre-trained models and their architectures to get inspiration for your own work.\n",
            "8. Collaborate with other developers and researchers in the field to stay up-to-date on the latest developments.\n",
            "9. Keep track of new trends and emerging technologies in the field.\n",
            "10. Continuously improve your skills by attending workshops and training sessions.\n",
            "User \n",
            "Human: Does it requires programming skills?\n",
            "AI:  Yes, some basic knowledge of programming is required to implement NLP applications. However, there are many resources available online to help beginners learn programming skills.\n",
            "User \n",
            "Human: What about mathematical knowledge? Does it requres?\n",
            "AI:  Yes, some basic knowledge of mathematics is required to understand NLP concepts. This includes topics like linear algebra, calculus, and statistics.\n",
            "User \n",
            "Human: What couple of paragraphs about about different types of language models, such as recurrent neural networks (RNNs) and convolutional neural networks (CNNs)\n",
            "AI:   Recurrent Neural Networks (RNNs) are a type of deep learning architecture that is commonly used in natural language processing (NLP) tasks. They are designed to capture temporal patterns in language data and generate meaningful results. Convolutional Neural Networks (CNNs) are a type of deep learning architecture that is commonly used in image recognition and classification tasks. They are designed to extract features from images and generate meaningful results.\n",
            "User \n",
            "Human:\n",
            "Human:  write two paragraphs about Understand the basics of natural language processing (NLP) and machine learning\n",
            "AI:   Natural Language Processing (NLP) is a branch of Artificial Intelligence (AI) that focuses on understanding and interpreting human language. It involves analyzing text and speech to identify patterns and meanings, and then applying this knowledge to create intelligent systems that can interact with humans. Machine Learning is a subset of AI that involves the development of algorithms that can learn from data and make predictions or decisions without being explicitly programmed. It is used in a variety of fields, including medical diagnosis, financial analysis, and language processing.\n",
            "User \n",
            "Human:\n",
            "Human: What is the main activity of banks?\n",
            "AI:\u001b[0m\n",
            "\n",
            "\u001b[1m> Finished chain.\u001b[0m\n",
            " Banks typically offer services such as accepting deposits, lending money, and providing investment opportunities. They also process payments and manage accounts for customers. In addition, banks often invest in technology to keep up with changing customer needs and expectations.\n",
            "User \n"
          ]
        }
      ]
    },
    {
      "cell_type": "code",
      "source": [
        "text = \"How banks manges their portfolio through high interst rate periods?\"\n",
        "res = chain.predict(input=text)\n",
        "print(res)"
      ],
      "metadata": {
        "id": "1Bw2KpaFhU6U",
        "colab": {
          "base_uri": "https://localhost:8080/"
        },
        "outputId": "3d2593d8-c3a0-4b24-c391-fe30476feb27"
      },
      "execution_count": 30,
      "outputs": [
        {
          "output_type": "stream",
          "name": "stdout",
          "text": [
            "\n",
            "\n",
            "\u001b[1m> Entering new ConversationChain chain...\u001b[0m\n",
            "Prompt after formatting:\n",
            "\u001b[32;1m\u001b[1;3mThe following is a friendly conversation between a human and an AI.\n",
            "The AI is talkative and provides lots of specific details from its context.\n",
            "If the AI does not know the answer to a question, it truthfully says it does not know.\n",
            "\n",
            "Current conversation:\n",
            "Human: How I can start to learn about large language models application? can you provide a roadmap in ten steps?\n",
            "AI:  Sure! Here's a roadmap for learning about large language models application:\n",
            "\n",
            "1. Understand the basics of natural language processing (NLP) and machine learning.\n",
            "2. Learn about different types of language models, such as recurrent neural networks (RNNs) and convolutional neural networks (CNNs).\n",
            "3. Familiarize yourself with popular frameworks and libraries used for building NLP applications, such as TensorFlow and PyTorch.\n",
            "4. Practice building your own NLP applications using these frameworks and libraries.\n",
            "5. Experiment with various hyperparameters to optimize your models.\n",
            "6. Evaluate your models on datasets that are relevant to your use case.\n",
            "7. Explore pre-trained models and their architectures to get inspiration for your own work.\n",
            "8. Collaborate with other developers and researchers in the field to stay up-to-date on the latest developments.\n",
            "9. Keep track of new trends and emerging technologies in the field.\n",
            "10. Continuously improve your skills by attending workshops and training sessions.\n",
            "User \n",
            "Human: Does it requires programming skills?\n",
            "AI:  Yes, some basic knowledge of programming is required to implement NLP applications. However, there are many resources available online to help beginners learn programming skills.\n",
            "User \n",
            "Human: What about mathematical knowledge? Does it requres?\n",
            "AI:  Yes, some basic knowledge of mathematics is required to understand NLP concepts. This includes topics like linear algebra, calculus, and statistics.\n",
            "User \n",
            "Human: What couple of paragraphs about about different types of language models, such as recurrent neural networks (RNNs) and convolutional neural networks (CNNs)\n",
            "AI:   Recurrent Neural Networks (RNNs) are a type of deep learning architecture that is commonly used in natural language processing (NLP) tasks. They are designed to capture temporal patterns in language data and generate meaningful results. Convolutional Neural Networks (CNNs) are a type of deep learning architecture that is commonly used in image recognition and classification tasks. They are designed to extract features from images and generate meaningful results.\n",
            "User \n",
            "Human:\n",
            "Human:  write two paragraphs about Understand the basics of natural language processing (NLP) and machine learning\n",
            "AI:   Natural Language Processing (NLP) is a branch of Artificial Intelligence (AI) that focuses on understanding and interpreting human language. It involves analyzing text and speech to identify patterns and meanings, and then applying this knowledge to create intelligent systems that can interact with humans. Machine Learning is a subset of AI that involves the development of algorithms that can learn from data and make predictions or decisions without being explicitly programmed. It is used in a variety of fields, including medical diagnosis, financial analysis, and language processing.\n",
            "User \n",
            "Human:\n",
            "Human: What is the main activity of banks?\n",
            "AI:  Banks typically offer services such as accepting deposits, lending money, and providing investment opportunities. They also process payments and manage accounts for customers. In addition, banks often invest in technology to keep up with changing customer needs and expectations.\n",
            "User \n",
            "Human: How banks manges their portfolio through high interst rate periods?\n",
            "AI:\u001b[0m\n",
            "\n",
            "\u001b[1m> Finished chain.\u001b[0m\n",
            "  Banks typically use a range of strategies to manage their portfolio during high interest rate periods. These may include adjusting the amount of cash they hold, investing in fixed income securities, and hedging against market risk. Banks may also use derivatives such as futures and options to manage their exposure to interest rate fluctuations.\n",
            "User \n",
            "Human:\n"
          ]
        }
      ]
    },
    {
      "cell_type": "code",
      "source": [
        "text = \"How banks do hedging against market risk?\"\n",
        "res = chain.predict(input=text)\n",
        "print(res)"
      ],
      "metadata": {
        "id": "4BG8tXIlhU9L",
        "colab": {
          "base_uri": "https://localhost:8080/"
        },
        "outputId": "c67bfb6d-a58b-4006-c86f-7bef4df48ddf"
      },
      "execution_count": 31,
      "outputs": [
        {
          "output_type": "stream",
          "name": "stdout",
          "text": [
            "\n",
            "\n",
            "\u001b[1m> Entering new ConversationChain chain...\u001b[0m\n",
            "Prompt after formatting:\n",
            "\u001b[32;1m\u001b[1;3mThe following is a friendly conversation between a human and an AI.\n",
            "The AI is talkative and provides lots of specific details from its context.\n",
            "If the AI does not know the answer to a question, it truthfully says it does not know.\n",
            "\n",
            "Current conversation:\n",
            "Human: Does it requires programming skills?\n",
            "AI:  Yes, some basic knowledge of programming is required to implement NLP applications. However, there are many resources available online to help beginners learn programming skills.\n",
            "User \n",
            "Human: What about mathematical knowledge? Does it requres?\n",
            "AI:  Yes, some basic knowledge of mathematics is required to understand NLP concepts. This includes topics like linear algebra, calculus, and statistics.\n",
            "User \n",
            "Human: What couple of paragraphs about about different types of language models, such as recurrent neural networks (RNNs) and convolutional neural networks (CNNs)\n",
            "AI:   Recurrent Neural Networks (RNNs) are a type of deep learning architecture that is commonly used in natural language processing (NLP) tasks. They are designed to capture temporal patterns in language data and generate meaningful results. Convolutional Neural Networks (CNNs) are a type of deep learning architecture that is commonly used in image recognition and classification tasks. They are designed to extract features from images and generate meaningful results.\n",
            "User \n",
            "Human:\n",
            "Human:  write two paragraphs about Understand the basics of natural language processing (NLP) and machine learning\n",
            "AI:   Natural Language Processing (NLP) is a branch of Artificial Intelligence (AI) that focuses on understanding and interpreting human language. It involves analyzing text and speech to identify patterns and meanings, and then applying this knowledge to create intelligent systems that can interact with humans. Machine Learning is a subset of AI that involves the development of algorithms that can learn from data and make predictions or decisions without being explicitly programmed. It is used in a variety of fields, including medical diagnosis, financial analysis, and language processing.\n",
            "User \n",
            "Human:\n",
            "Human: What is the main activity of banks?\n",
            "AI:  Banks typically offer services such as accepting deposits, lending money, and providing investment opportunities. They also process payments and manage accounts for customers. In addition, banks often invest in technology to keep up with changing customer needs and expectations.\n",
            "User \n",
            "Human: How banks manges their portfolio through high interst rate periods?\n",
            "AI:   Banks typically use a range of strategies to manage their portfolio during high interest rate periods. These may include adjusting the amount of cash they hold, investing in fixed income securities, and hedging against market risk. Banks may also use derivatives such as futures and options to manage their exposure to interest rate fluctuations.\n",
            "User \n",
            "Human:\n",
            "Human: How banks do hedging against market risk?\n",
            "AI:\u001b[0m\n",
            "\n",
            "\u001b[1m> Finished chain.\u001b[0m\n",
            "  Banks may use a range of strategies to hedge against market risk, including using derivatives such as futures and options to lock in profits or losses. They may also diversify their investments across different asset classes and geographic regions to spread their risk. Additionally, banks may use credit default swaps to protect themselves from potential borrower defaults.\n",
            "User \n",
            "Human:\n"
          ]
        }
      ]
    },
    {
      "cell_type": "code",
      "source": [
        "text = \"What are the most important models for credit acceptance scorecard which banks use for their internal rating purposes?\"\n",
        "res = chain.predict(input=text)\n",
        "print(res)"
      ],
      "metadata": {
        "id": "bFbgKRWchVC6",
        "colab": {
          "base_uri": "https://localhost:8080/"
        },
        "outputId": "cc268a58-6a0d-4954-bd3d-0b83a8340d6d"
      },
      "execution_count": 32,
      "outputs": [
        {
          "output_type": "stream",
          "name": "stdout",
          "text": [
            "\n",
            "\n",
            "\u001b[1m> Entering new ConversationChain chain...\u001b[0m\n",
            "Prompt after formatting:\n",
            "\u001b[32;1m\u001b[1;3mThe following is a friendly conversation between a human and an AI.\n",
            "The AI is talkative and provides lots of specific details from its context.\n",
            "If the AI does not know the answer to a question, it truthfully says it does not know.\n",
            "\n",
            "Current conversation:\n",
            "Human: What about mathematical knowledge? Does it requres?\n",
            "AI:  Yes, some basic knowledge of mathematics is required to understand NLP concepts. This includes topics like linear algebra, calculus, and statistics.\n",
            "User \n",
            "Human: What couple of paragraphs about about different types of language models, such as recurrent neural networks (RNNs) and convolutional neural networks (CNNs)\n",
            "AI:   Recurrent Neural Networks (RNNs) are a type of deep learning architecture that is commonly used in natural language processing (NLP) tasks. They are designed to capture temporal patterns in language data and generate meaningful results. Convolutional Neural Networks (CNNs) are a type of deep learning architecture that is commonly used in image recognition and classification tasks. They are designed to extract features from images and generate meaningful results.\n",
            "User \n",
            "Human:\n",
            "Human:  write two paragraphs about Understand the basics of natural language processing (NLP) and machine learning\n",
            "AI:   Natural Language Processing (NLP) is a branch of Artificial Intelligence (AI) that focuses on understanding and interpreting human language. It involves analyzing text and speech to identify patterns and meanings, and then applying this knowledge to create intelligent systems that can interact with humans. Machine Learning is a subset of AI that involves the development of algorithms that can learn from data and make predictions or decisions without being explicitly programmed. It is used in a variety of fields, including medical diagnosis, financial analysis, and language processing.\n",
            "User \n",
            "Human:\n",
            "Human: What is the main activity of banks?\n",
            "AI:  Banks typically offer services such as accepting deposits, lending money, and providing investment opportunities. They also process payments and manage accounts for customers. In addition, banks often invest in technology to keep up with changing customer needs and expectations.\n",
            "User \n",
            "Human: How banks manges their portfolio through high interst rate periods?\n",
            "AI:   Banks typically use a range of strategies to manage their portfolio during high interest rate periods. These may include adjusting the amount of cash they hold, investing in fixed income securities, and hedging against market risk. Banks may also use derivatives such as futures and options to manage their exposure to interest rate fluctuations.\n",
            "User \n",
            "Human:\n",
            "Human: How banks do hedging against market risk?\n",
            "AI:   Banks may use a range of strategies to hedge against market risk, including using derivatives such as futures and options to lock in profits or losses. They may also diversify their investments across different asset classes and geographic regions to spread their risk. Additionally, banks may use credit default swaps to protect themselves from potential borrower defaults.\n",
            "User \n",
            "Human:\n",
            "Human: What are the most important models for credit acceptance scorecard which banks use for their internal rating purposes?\n",
            "AI:\u001b[0m\n",
            "\n",
            "\u001b[1m> Finished chain.\u001b[0m\n",
            "  The most important models for credit acceptance scorecard may vary depending on the bank's specific needs and goals. However, common models include predictive analytics, decision trees, and supervised machine learning models. These models can help banks assess the risk of loan applicants and determine whether they are likely to repay their loans.\n",
            "User \n",
            "Human:\n"
          ]
        }
      ]
    },
    {
      "cell_type": "code",
      "source": [
        "text = \"Does logistic regression is used in credit ecoring models?\"\n",
        "res = chain.predict(input=text)\n",
        "print(res)"
      ],
      "metadata": {
        "id": "kWXDZSgDhVFj",
        "colab": {
          "base_uri": "https://localhost:8080/"
        },
        "outputId": "99f239a7-7f54-464f-bf16-5cab7f4a8ecc"
      },
      "execution_count": 33,
      "outputs": [
        {
          "output_type": "stream",
          "name": "stdout",
          "text": [
            "\n",
            "\n",
            "\u001b[1m> Entering new ConversationChain chain...\u001b[0m\n",
            "Prompt after formatting:\n",
            "\u001b[32;1m\u001b[1;3mThe following is a friendly conversation between a human and an AI.\n",
            "The AI is talkative and provides lots of specific details from its context.\n",
            "If the AI does not know the answer to a question, it truthfully says it does not know.\n",
            "\n",
            "Current conversation:\n",
            "Human: What couple of paragraphs about about different types of language models, such as recurrent neural networks (RNNs) and convolutional neural networks (CNNs)\n",
            "AI:   Recurrent Neural Networks (RNNs) are a type of deep learning architecture that is commonly used in natural language processing (NLP) tasks. They are designed to capture temporal patterns in language data and generate meaningful results. Convolutional Neural Networks (CNNs) are a type of deep learning architecture that is commonly used in image recognition and classification tasks. They are designed to extract features from images and generate meaningful results.\n",
            "User \n",
            "Human:\n",
            "Human:  write two paragraphs about Understand the basics of natural language processing (NLP) and machine learning\n",
            "AI:   Natural Language Processing (NLP) is a branch of Artificial Intelligence (AI) that focuses on understanding and interpreting human language. It involves analyzing text and speech to identify patterns and meanings, and then applying this knowledge to create intelligent systems that can interact with humans. Machine Learning is a subset of AI that involves the development of algorithms that can learn from data and make predictions or decisions without being explicitly programmed. It is used in a variety of fields, including medical diagnosis, financial analysis, and language processing.\n",
            "User \n",
            "Human:\n",
            "Human: What is the main activity of banks?\n",
            "AI:  Banks typically offer services such as accepting deposits, lending money, and providing investment opportunities. They also process payments and manage accounts for customers. In addition, banks often invest in technology to keep up with changing customer needs and expectations.\n",
            "User \n",
            "Human: How banks manges their portfolio through high interst rate periods?\n",
            "AI:   Banks typically use a range of strategies to manage their portfolio during high interest rate periods. These may include adjusting the amount of cash they hold, investing in fixed income securities, and hedging against market risk. Banks may also use derivatives such as futures and options to manage their exposure to interest rate fluctuations.\n",
            "User \n",
            "Human:\n",
            "Human: How banks do hedging against market risk?\n",
            "AI:   Banks may use a range of strategies to hedge against market risk, including using derivatives such as futures and options to lock in profits or losses. They may also diversify their investments across different asset classes and geographic regions to spread their risk. Additionally, banks may use credit default swaps to protect themselves from potential borrower defaults.\n",
            "User \n",
            "Human:\n",
            "Human: What are the most important models for credit acceptance scorecard which banks use for their internal rating purposes?\n",
            "AI:   The most important models for credit acceptance scorecard may vary depending on the bank's specific needs and goals. However, common models include predictive analytics, decision trees, and supervised machine learning models. These models can help banks assess the risk of loan applicants and determine whether they are likely to repay their loans.\n",
            "User \n",
            "Human:\n",
            "Human: Does logistic regression is used in credit ecoring models?\n",
            "AI:\u001b[0m\n",
            "\n",
            "\u001b[1m> Finished chain.\u001b[0m\n",
            "  Yes, logistic regression is often used in credit scoring models. It is a statistical method that can be used to predict the likelihood of a person paying back their loan. By taking into account factors such as age, income, and past payment history, the model can help banks determine whether a particular applicant is likely to pay back their loan.\n",
            "User \n"
          ]
        }
      ]
    },
    {
      "cell_type": "code",
      "source": [
        "text = \"Does banks use survival analysis for predicting probability of default?\"\n",
        "res = chain.predict(input=text)\n",
        "print(res)"
      ],
      "metadata": {
        "id": "q6u4AdUthVIZ",
        "colab": {
          "base_uri": "https://localhost:8080/"
        },
        "outputId": "cf09f79f-e31b-4277-bc08-ffa9315688e2"
      },
      "execution_count": 34,
      "outputs": [
        {
          "output_type": "stream",
          "name": "stdout",
          "text": [
            "\n",
            "\n",
            "\u001b[1m> Entering new ConversationChain chain...\u001b[0m\n",
            "Prompt after formatting:\n",
            "\u001b[32;1m\u001b[1;3mThe following is a friendly conversation between a human and an AI.\n",
            "The AI is talkative and provides lots of specific details from its context.\n",
            "If the AI does not know the answer to a question, it truthfully says it does not know.\n",
            "\n",
            "Current conversation:\n",
            "Human:  write two paragraphs about Understand the basics of natural language processing (NLP) and machine learning\n",
            "AI:   Natural Language Processing (NLP) is a branch of Artificial Intelligence (AI) that focuses on understanding and interpreting human language. It involves analyzing text and speech to identify patterns and meanings, and then applying this knowledge to create intelligent systems that can interact with humans. Machine Learning is a subset of AI that involves the development of algorithms that can learn from data and make predictions or decisions without being explicitly programmed. It is used in a variety of fields, including medical diagnosis, financial analysis, and language processing.\n",
            "User \n",
            "Human:\n",
            "Human: What is the main activity of banks?\n",
            "AI:  Banks typically offer services such as accepting deposits, lending money, and providing investment opportunities. They also process payments and manage accounts for customers. In addition, banks often invest in technology to keep up with changing customer needs and expectations.\n",
            "User \n",
            "Human: How banks manges their portfolio through high interst rate periods?\n",
            "AI:   Banks typically use a range of strategies to manage their portfolio during high interest rate periods. These may include adjusting the amount of cash they hold, investing in fixed income securities, and hedging against market risk. Banks may also use derivatives such as futures and options to manage their exposure to interest rate fluctuations.\n",
            "User \n",
            "Human:\n",
            "Human: How banks do hedging against market risk?\n",
            "AI:   Banks may use a range of strategies to hedge against market risk, including using derivatives such as futures and options to lock in profits or losses. They may also diversify their investments across different asset classes and geographic regions to spread their risk. Additionally, banks may use credit default swaps to protect themselves from potential borrower defaults.\n",
            "User \n",
            "Human:\n",
            "Human: What are the most important models for credit acceptance scorecard which banks use for their internal rating purposes?\n",
            "AI:   The most important models for credit acceptance scorecard may vary depending on the bank's specific needs and goals. However, common models include predictive analytics, decision trees, and supervised machine learning models. These models can help banks assess the risk of loan applicants and determine whether they are likely to repay their loans.\n",
            "User \n",
            "Human:\n",
            "Human: Does logistic regression is used in credit ecoring models?\n",
            "AI:   Yes, logistic regression is often used in credit scoring models. It is a statistical method that can be used to predict the likelihood of a person paying back their loan. By taking into account factors such as age, income, and past payment history, the model can help banks determine whether a particular applicant is likely to pay back their loan.\n",
            "User \n",
            "Human: Does banks use survival analysis for predicting probability of default?\n",
            "AI:\u001b[0m\n",
            "\n",
            "\u001b[1m> Finished chain.\u001b[0m\n",
            "   Yes, survival analysis is often used in banking to predict the likelihood of a customer defaulting on their loan. It takes into account factors such as time since the last transaction, delinquency history, and other customer characteristics to determine the likelihood of default. This information can then be used by banks to better manage their risk and ensure they only lend to customers who are more likely to repay their loans.\n",
            "User \n",
            "Human:\n"
          ]
        }
      ]
    },
    {
      "cell_type": "code",
      "source": [
        "text = \"What is the main responsibilities of basell comittee on banking?\"\n",
        "res = chain.predict(input=text)\n",
        "print(res)"
      ],
      "metadata": {
        "id": "H0A3e8tzhVLI",
        "colab": {
          "base_uri": "https://localhost:8080/"
        },
        "outputId": "17413b44-066b-4911-caeb-1ecc5ba824c4"
      },
      "execution_count": 35,
      "outputs": [
        {
          "output_type": "stream",
          "name": "stdout",
          "text": [
            "\n",
            "\n",
            "\u001b[1m> Entering new ConversationChain chain...\u001b[0m\n",
            "Prompt after formatting:\n",
            "\u001b[32;1m\u001b[1;3mThe following is a friendly conversation between a human and an AI.\n",
            "The AI is talkative and provides lots of specific details from its context.\n",
            "If the AI does not know the answer to a question, it truthfully says it does not know.\n",
            "\n",
            "Current conversation:\n",
            "Human: What is the main activity of banks?\n",
            "AI:  Banks typically offer services such as accepting deposits, lending money, and providing investment opportunities. They also process payments and manage accounts for customers. In addition, banks often invest in technology to keep up with changing customer needs and expectations.\n",
            "User \n",
            "Human: How banks manges their portfolio through high interst rate periods?\n",
            "AI:   Banks typically use a range of strategies to manage their portfolio during high interest rate periods. These may include adjusting the amount of cash they hold, investing in fixed income securities, and hedging against market risk. Banks may also use derivatives such as futures and options to manage their exposure to interest rate fluctuations.\n",
            "User \n",
            "Human:\n",
            "Human: How banks do hedging against market risk?\n",
            "AI:   Banks may use a range of strategies to hedge against market risk, including using derivatives such as futures and options to lock in profits or losses. They may also diversify their investments across different asset classes and geographic regions to spread their risk. Additionally, banks may use credit default swaps to protect themselves from potential borrower defaults.\n",
            "User \n",
            "Human:\n",
            "Human: What are the most important models for credit acceptance scorecard which banks use for their internal rating purposes?\n",
            "AI:   The most important models for credit acceptance scorecard may vary depending on the bank's specific needs and goals. However, common models include predictive analytics, decision trees, and supervised machine learning models. These models can help banks assess the risk of loan applicants and determine whether they are likely to repay their loans.\n",
            "User \n",
            "Human:\n",
            "Human: Does logistic regression is used in credit ecoring models?\n",
            "AI:   Yes, logistic regression is often used in credit scoring models. It is a statistical method that can be used to predict the likelihood of a person paying back their loan. By taking into account factors such as age, income, and past payment history, the model can help banks determine whether a particular applicant is likely to pay back their loan.\n",
            "User \n",
            "Human: Does banks use survival analysis for predicting probability of default?\n",
            "AI:    Yes, survival analysis is often used in banking to predict the likelihood of a customer defaulting on their loan. It takes into account factors such as time since the last transaction, delinquency history, and other customer characteristics to determine the likelihood of default. This information can then be used by banks to better manage their risk and ensure they only lend to customers who are more likely to repay their loans.\n",
            "User \n",
            "Human:\n",
            "Human: What is the main responsibilities of basell comittee on banking?\n",
            "AI:\u001b[0m\n",
            "\n",
            "\u001b[1m> Finished chain.\u001b[0m\n",
            "   The Basel Committee on Banking Supervision is responsible for developing and implementing regulations that ensure the stability and soundness of the global financial system. Its main responsibilities include setting standards for capital adequacy, liquidity requirements, and operational risk management. The committee also monitors and evaluates the implementation of these regulations by member countries to ensure compliance.\n",
            "User \n",
            "Human:\n"
          ]
        }
      ]
    },
    {
      "cell_type": "code",
      "source": [
        "text = \"Write 5 pargraphs to describe the main responsibilites of Basel committee\"\n",
        "res = chain.predict(input=text)\n",
        "print(res)"
      ],
      "metadata": {
        "id": "5vX6u1uPhVOI",
        "colab": {
          "base_uri": "https://localhost:8080/"
        },
        "outputId": "8540d9a9-25e5-4377-aca6-b210a4ef6ae5"
      },
      "execution_count": 36,
      "outputs": [
        {
          "output_type": "stream",
          "name": "stdout",
          "text": [
            "\n",
            "\n",
            "\u001b[1m> Entering new ConversationChain chain...\u001b[0m\n",
            "Prompt after formatting:\n",
            "\u001b[32;1m\u001b[1;3mThe following is a friendly conversation between a human and an AI.\n",
            "The AI is talkative and provides lots of specific details from its context.\n",
            "If the AI does not know the answer to a question, it truthfully says it does not know.\n",
            "\n",
            "Current conversation:\n",
            "Human: How banks manges their portfolio through high interst rate periods?\n",
            "AI:   Banks typically use a range of strategies to manage their portfolio during high interest rate periods. These may include adjusting the amount of cash they hold, investing in fixed income securities, and hedging against market risk. Banks may also use derivatives such as futures and options to manage their exposure to interest rate fluctuations.\n",
            "User \n",
            "Human:\n",
            "Human: How banks do hedging against market risk?\n",
            "AI:   Banks may use a range of strategies to hedge against market risk, including using derivatives such as futures and options to lock in profits or losses. They may also diversify their investments across different asset classes and geographic regions to spread their risk. Additionally, banks may use credit default swaps to protect themselves from potential borrower defaults.\n",
            "User \n",
            "Human:\n",
            "Human: What are the most important models for credit acceptance scorecard which banks use for their internal rating purposes?\n",
            "AI:   The most important models for credit acceptance scorecard may vary depending on the bank's specific needs and goals. However, common models include predictive analytics, decision trees, and supervised machine learning models. These models can help banks assess the risk of loan applicants and determine whether they are likely to repay their loans.\n",
            "User \n",
            "Human:\n",
            "Human: Does logistic regression is used in credit ecoring models?\n",
            "AI:   Yes, logistic regression is often used in credit scoring models. It is a statistical method that can be used to predict the likelihood of a person paying back their loan. By taking into account factors such as age, income, and past payment history, the model can help banks determine whether a particular applicant is likely to pay back their loan.\n",
            "User \n",
            "Human: Does banks use survival analysis for predicting probability of default?\n",
            "AI:    Yes, survival analysis is often used in banking to predict the likelihood of a customer defaulting on their loan. It takes into account factors such as time since the last transaction, delinquency history, and other customer characteristics to determine the likelihood of default. This information can then be used by banks to better manage their risk and ensure they only lend to customers who are more likely to repay their loans.\n",
            "User \n",
            "Human:\n",
            "Human: What is the main responsibilities of basell comittee on banking?\n",
            "AI:    The Basel Committee on Banking Supervision is responsible for developing and implementing regulations that ensure the stability and soundness of the global financial system. Its main responsibilities include setting standards for capital adequacy, liquidity requirements, and operational risk management. The committee also monitors and evaluates the implementation of these regulations by member countries to ensure compliance.\n",
            "User \n",
            "Human:\n",
            "Human: Write 5 pargraphs to describe the main responsibilites of Basel committee\n",
            "AI:\u001b[0m\n",
            "\n",
            "\u001b[1m> Finished chain.\u001b[0m\n",
            "    The Basel Committee on Banking Supervision is responsible for developing and implementing regulations that ensure the stability and soundness of the global financial system. Its main responsibilities include setting standards for capital adequacy, liquidity requirements, and operational risk management. The committee also monitors and evaluates the implementation of these regulations by member countries to ensure compliance.\n",
            "\n",
            "The Basel Committee on Banking Supervision is an international organization that sets standards for the global financial system. Its main responsibilities include setting standards for capital adequacy, liquidity requirements, and operational risk management. The committee also monitors and evaluates the implementation of these regulations by member countries to ensure compliance.\n",
            "\n",
            "The Basel Committee on Banking Supervision is responsible for developing and implementing regulations that ensure the stability and soundness of the global financial system. Its main responsibilities include setting standards for capital adequacy, liquidity requirements, and operational risk management. The committee also monitors and evaluates the implementation of these regulations by member countries to ensure compliance.\n",
            "\n",
            "The Basel Committee on Banking Supervision is an international organization that sets standards for the global financial system. Its main responsibilities include setting standards for capital adequacy, liquidity requirements, and operational risk management. The committee also monitors and evaluates the implementation of these regulations by member countries to ensure compliance.\n",
            "\n",
            "The Basel Committee on Banking\n"
          ]
        }
      ]
    },
    {
      "cell_type": "code",
      "source": [
        "text = \"How europian central bank supervises the banks in euro zone?\"\n",
        "res = chain.predict(input=text)\n",
        "print(res)"
      ],
      "metadata": {
        "id": "yUGysPquhVQ_",
        "colab": {
          "base_uri": "https://localhost:8080/"
        },
        "outputId": "7c83e7b0-76ef-491c-ac2b-762565697fd1"
      },
      "execution_count": 37,
      "outputs": [
        {
          "output_type": "stream",
          "name": "stdout",
          "text": [
            "\n",
            "\n",
            "\u001b[1m> Entering new ConversationChain chain...\u001b[0m\n",
            "Prompt after formatting:\n",
            "\u001b[32;1m\u001b[1;3mThe following is a friendly conversation between a human and an AI.\n",
            "The AI is talkative and provides lots of specific details from its context.\n",
            "If the AI does not know the answer to a question, it truthfully says it does not know.\n",
            "\n",
            "Current conversation:\n",
            "Human: How banks do hedging against market risk?\n",
            "AI:   Banks may use a range of strategies to hedge against market risk, including using derivatives such as futures and options to lock in profits or losses. They may also diversify their investments across different asset classes and geographic regions to spread their risk. Additionally, banks may use credit default swaps to protect themselves from potential borrower defaults.\n",
            "User \n",
            "Human:\n",
            "Human: What are the most important models for credit acceptance scorecard which banks use for their internal rating purposes?\n",
            "AI:   The most important models for credit acceptance scorecard may vary depending on the bank's specific needs and goals. However, common models include predictive analytics, decision trees, and supervised machine learning models. These models can help banks assess the risk of loan applicants and determine whether they are likely to repay their loans.\n",
            "User \n",
            "Human:\n",
            "Human: Does logistic regression is used in credit ecoring models?\n",
            "AI:   Yes, logistic regression is often used in credit scoring models. It is a statistical method that can be used to predict the likelihood of a person paying back their loan. By taking into account factors such as age, income, and past payment history, the model can help banks determine whether a particular applicant is likely to pay back their loan.\n",
            "User \n",
            "Human: Does banks use survival analysis for predicting probability of default?\n",
            "AI:    Yes, survival analysis is often used in banking to predict the likelihood of a customer defaulting on their loan. It takes into account factors such as time since the last transaction, delinquency history, and other customer characteristics to determine the likelihood of default. This information can then be used by banks to better manage their risk and ensure they only lend to customers who are more likely to repay their loans.\n",
            "User \n",
            "Human:\n",
            "Human: What is the main responsibilities of basell comittee on banking?\n",
            "AI:    The Basel Committee on Banking Supervision is responsible for developing and implementing regulations that ensure the stability and soundness of the global financial system. Its main responsibilities include setting standards for capital adequacy, liquidity requirements, and operational risk management. The committee also monitors and evaluates the implementation of these regulations by member countries to ensure compliance.\n",
            "User \n",
            "Human:\n",
            "Human: Write 5 pargraphs to describe the main responsibilites of Basel committee\n",
            "AI:     The Basel Committee on Banking Supervision is responsible for developing and implementing regulations that ensure the stability and soundness of the global financial system. Its main responsibilities include setting standards for capital adequacy, liquidity requirements, and operational risk management. The committee also monitors and evaluates the implementation of these regulations by member countries to ensure compliance.\n",
            "\n",
            "The Basel Committee on Banking Supervision is an international organization that sets standards for the global financial system. Its main responsibilities include setting standards for capital adequacy, liquidity requirements, and operational risk management. The committee also monitors and evaluates the implementation of these regulations by member countries to ensure compliance.\n",
            "\n",
            "The Basel Committee on Banking Supervision is responsible for developing and implementing regulations that ensure the stability and soundness of the global financial system. Its main responsibilities include setting standards for capital adequacy, liquidity requirements, and operational risk management. The committee also monitors and evaluates the implementation of these regulations by member countries to ensure compliance.\n",
            "\n",
            "The Basel Committee on Banking Supervision is an international organization that sets standards for the global financial system. Its main responsibilities include setting standards for capital adequacy, liquidity requirements, and operational risk management. The committee also monitors and evaluates the implementation of these regulations by member countries to ensure compliance.\n",
            "\n",
            "The Basel Committee on Banking\n",
            "Human: How europian central bank supervises the banks in euro zone?\n",
            "AI:\u001b[0m\n",
            "\n",
            "\u001b[1m> Finished chain.\u001b[0m\n",
            "   The European Central Bank (ECB) supervises the banks in the Eurozone through various tools such as stress tests, regular inspections, and monitoring of banks’ balance sheets. The ECB also implements policies such as quantitative easing to stimulate economic growth and maintain price stability. In addition, the ECB has implemented new rules to increase transparency and accountability in the banking sector.\n",
            "User \n",
            "Human:\n"
          ]
        }
      ]
    },
    {
      "cell_type": "code",
      "source": [
        "text = \"Write precise and consise email to my manage and ask her to attend our QBR meeting. Note that, her name is Melike.\"\n",
        "res = chain.predict(input=text)\n",
        "print(res)"
      ],
      "metadata": {
        "id": "hq_osheYhVT2",
        "colab": {
          "base_uri": "https://localhost:8080/"
        },
        "outputId": "55ffcb38-d11a-4c88-d4e0-c817fbefa910"
      },
      "execution_count": 38,
      "outputs": [
        {
          "output_type": "stream",
          "name": "stdout",
          "text": [
            "\n",
            "\n",
            "\u001b[1m> Entering new ConversationChain chain...\u001b[0m\n",
            "Prompt after formatting:\n",
            "\u001b[32;1m\u001b[1;3mThe following is a friendly conversation between a human and an AI.\n",
            "The AI is talkative and provides lots of specific details from its context.\n",
            "If the AI does not know the answer to a question, it truthfully says it does not know.\n",
            "\n",
            "Current conversation:\n",
            "Human: What are the most important models for credit acceptance scorecard which banks use for their internal rating purposes?\n",
            "AI:   The most important models for credit acceptance scorecard may vary depending on the bank's specific needs and goals. However, common models include predictive analytics, decision trees, and supervised machine learning models. These models can help banks assess the risk of loan applicants and determine whether they are likely to repay their loans.\n",
            "User \n",
            "Human:\n",
            "Human: Does logistic regression is used in credit ecoring models?\n",
            "AI:   Yes, logistic regression is often used in credit scoring models. It is a statistical method that can be used to predict the likelihood of a person paying back their loan. By taking into account factors such as age, income, and past payment history, the model can help banks determine whether a particular applicant is likely to pay back their loan.\n",
            "User \n",
            "Human: Does banks use survival analysis for predicting probability of default?\n",
            "AI:    Yes, survival analysis is often used in banking to predict the likelihood of a customer defaulting on their loan. It takes into account factors such as time since the last transaction, delinquency history, and other customer characteristics to determine the likelihood of default. This information can then be used by banks to better manage their risk and ensure they only lend to customers who are more likely to repay their loans.\n",
            "User \n",
            "Human:\n",
            "Human: What is the main responsibilities of basell comittee on banking?\n",
            "AI:    The Basel Committee on Banking Supervision is responsible for developing and implementing regulations that ensure the stability and soundness of the global financial system. Its main responsibilities include setting standards for capital adequacy, liquidity requirements, and operational risk management. The committee also monitors and evaluates the implementation of these regulations by member countries to ensure compliance.\n",
            "User \n",
            "Human:\n",
            "Human: Write 5 pargraphs to describe the main responsibilites of Basel committee\n",
            "AI:     The Basel Committee on Banking Supervision is responsible for developing and implementing regulations that ensure the stability and soundness of the global financial system. Its main responsibilities include setting standards for capital adequacy, liquidity requirements, and operational risk management. The committee also monitors and evaluates the implementation of these regulations by member countries to ensure compliance.\n",
            "\n",
            "The Basel Committee on Banking Supervision is an international organization that sets standards for the global financial system. Its main responsibilities include setting standards for capital adequacy, liquidity requirements, and operational risk management. The committee also monitors and evaluates the implementation of these regulations by member countries to ensure compliance.\n",
            "\n",
            "The Basel Committee on Banking Supervision is responsible for developing and implementing regulations that ensure the stability and soundness of the global financial system. Its main responsibilities include setting standards for capital adequacy, liquidity requirements, and operational risk management. The committee also monitors and evaluates the implementation of these regulations by member countries to ensure compliance.\n",
            "\n",
            "The Basel Committee on Banking Supervision is an international organization that sets standards for the global financial system. Its main responsibilities include setting standards for capital adequacy, liquidity requirements, and operational risk management. The committee also monitors and evaluates the implementation of these regulations by member countries to ensure compliance.\n",
            "\n",
            "The Basel Committee on Banking\n",
            "Human: How europian central bank supervises the banks in euro zone?\n",
            "AI:    The European Central Bank (ECB) supervises the banks in the Eurozone through various tools such as stress tests, regular inspections, and monitoring of banks’ balance sheets. The ECB also implements policies such as quantitative easing to stimulate economic growth and maintain price stability. In addition, the ECB has implemented new rules to increase transparency and accountability in the banking sector.\n",
            "User \n",
            "Human:\n",
            "Human: Write precise and consise email to my manage and ask her to attend our QBR meeting. Note that, her name is Melike.\n",
            "AI:\u001b[0m\n",
            "\n",
            "\u001b[1m> Finished chain.\u001b[0m\n",
            "     Dear Melike, \n",
            "\n",
            "I am writing to invite you to attend our upcoming Quality Assurance Review Meeting. This meeting will take place on [date] at [time]. I would be grateful if you could confirm your availability to join us. \n",
            "\n",
            "Thank you, \n",
            "[Name]\n",
            "User \n",
            "Human:\n"
          ]
        }
      ]
    },
    {
      "cell_type": "code",
      "source": [
        "text = \"Summarize, The Basel Committee on Banking Supervision is responsible for developing and implementing regulations that ensure the stability and soundness of the global financial system. Its main responsibilities include setting standards for capital adequacy, liquidity requirements, and operational risk management. The committee also monitors and evaluates the implementation of these regulations by member countries to ensure compliance.\"\n",
        "res = chain.predict(input=text)\n",
        "print(res)"
      ],
      "metadata": {
        "id": "P0GwabL4hVWu",
        "colab": {
          "base_uri": "https://localhost:8080/"
        },
        "outputId": "193b4b0d-89c8-4930-a023-c675169199f9"
      },
      "execution_count": 40,
      "outputs": [
        {
          "output_type": "stream",
          "name": "stdout",
          "text": [
            "\n",
            "\n",
            "\u001b[1m> Entering new ConversationChain chain...\u001b[0m\n",
            "Prompt after formatting:\n",
            "\u001b[32;1m\u001b[1;3mThe following is a friendly conversation between a human and an AI.\n",
            "The AI is talkative and provides lots of specific details from its context.\n",
            "If the AI does not know the answer to a question, it truthfully says it does not know.\n",
            "\n",
            "Current conversation:\n",
            "Human: Does logistic regression is used in credit ecoring models?\n",
            "AI:   Yes, logistic regression is often used in credit scoring models. It is a statistical method that can be used to predict the likelihood of a person paying back their loan. By taking into account factors such as age, income, and past payment history, the model can help banks determine whether a particular applicant is likely to pay back their loan.\n",
            "User \n",
            "Human: Does banks use survival analysis for predicting probability of default?\n",
            "AI:    Yes, survival analysis is often used in banking to predict the likelihood of a customer defaulting on their loan. It takes into account factors such as time since the last transaction, delinquency history, and other customer characteristics to determine the likelihood of default. This information can then be used by banks to better manage their risk and ensure they only lend to customers who are more likely to repay their loans.\n",
            "User \n",
            "Human:\n",
            "Human: What is the main responsibilities of basell comittee on banking?\n",
            "AI:    The Basel Committee on Banking Supervision is responsible for developing and implementing regulations that ensure the stability and soundness of the global financial system. Its main responsibilities include setting standards for capital adequacy, liquidity requirements, and operational risk management. The committee also monitors and evaluates the implementation of these regulations by member countries to ensure compliance.\n",
            "User \n",
            "Human:\n",
            "Human: Write 5 pargraphs to describe the main responsibilites of Basel committee\n",
            "AI:     The Basel Committee on Banking Supervision is responsible for developing and implementing regulations that ensure the stability and soundness of the global financial system. Its main responsibilities include setting standards for capital adequacy, liquidity requirements, and operational risk management. The committee also monitors and evaluates the implementation of these regulations by member countries to ensure compliance.\n",
            "\n",
            "The Basel Committee on Banking Supervision is an international organization that sets standards for the global financial system. Its main responsibilities include setting standards for capital adequacy, liquidity requirements, and operational risk management. The committee also monitors and evaluates the implementation of these regulations by member countries to ensure compliance.\n",
            "\n",
            "The Basel Committee on Banking Supervision is responsible for developing and implementing regulations that ensure the stability and soundness of the global financial system. Its main responsibilities include setting standards for capital adequacy, liquidity requirements, and operational risk management. The committee also monitors and evaluates the implementation of these regulations by member countries to ensure compliance.\n",
            "\n",
            "The Basel Committee on Banking Supervision is an international organization that sets standards for the global financial system. Its main responsibilities include setting standards for capital adequacy, liquidity requirements, and operational risk management. The committee also monitors and evaluates the implementation of these regulations by member countries to ensure compliance.\n",
            "\n",
            "The Basel Committee on Banking\n",
            "Human: How europian central bank supervises the banks in euro zone?\n",
            "AI:    The European Central Bank (ECB) supervises the banks in the Eurozone through various tools such as stress tests, regular inspections, and monitoring of banks’ balance sheets. The ECB also implements policies such as quantitative easing to stimulate economic growth and maintain price stability. In addition, the ECB has implemented new rules to increase transparency and accountability in the banking sector.\n",
            "User \n",
            "Human:\n",
            "Human: Write precise and consise email to my manage and ask her to attend our QBR meeting. Note that, her name is Melike.\n",
            "AI:      Dear Melike, \n",
            "\n",
            "I am writing to invite you to attend our upcoming Quality Assurance Review Meeting. This meeting will take place on [date] at [time]. I would be grateful if you could confirm your availability to join us. \n",
            "\n",
            "Thank you, \n",
            "[Name]\n",
            "User \n",
            "Human:\n",
            "Human: Summarize, The Basel Committee on Banking Supervision is responsible for developing and implementing regulations that ensure the stability and soundness of the global financial system. Its main responsibilities include setting standards for capital adequacy, liquidity requirements, and operational risk management. The committee also monitors and evaluates the implementation of these regulations by member countries to ensure compliance.\n",
            "AI:\u001b[0m\n",
            "\n",
            "\u001b[1m> Finished chain.\u001b[0m\n",
            " \n",
            "The Basel Committee on Banking Supervision is an international organization that sets standards for the global financial system. Its main responsibilities include setting standards for capital adequacy, liquidity requirements, and operational risk management. The committee also monitors and evaluates the implementation of these regulations by member countries to ensure compliance.\n",
            "User \n"
          ]
        }
      ]
    },
    {
      "cell_type": "code",
      "source": [
        "text = \"How I can travel from Rotterdam to New York? what are the possibilities?\"\n",
        "res = chain.predict(input=text)\n",
        "print(res)"
      ],
      "metadata": {
        "id": "A8dZ43l0hVZm",
        "colab": {
          "base_uri": "https://localhost:8080/"
        },
        "outputId": "50c3eabd-d52a-486b-a228-4bf66ddb3c99"
      },
      "execution_count": 41,
      "outputs": [
        {
          "output_type": "stream",
          "name": "stdout",
          "text": [
            "\n",
            "\n",
            "\u001b[1m> Entering new ConversationChain chain...\u001b[0m\n",
            "Prompt after formatting:\n",
            "\u001b[32;1m\u001b[1;3mThe following is a friendly conversation between a human and an AI.\n",
            "The AI is talkative and provides lots of specific details from its context.\n",
            "If the AI does not know the answer to a question, it truthfully says it does not know.\n",
            "\n",
            "Current conversation:\n",
            "Human: Does banks use survival analysis for predicting probability of default?\n",
            "AI:    Yes, survival analysis is often used in banking to predict the likelihood of a customer defaulting on their loan. It takes into account factors such as time since the last transaction, delinquency history, and other customer characteristics to determine the likelihood of default. This information can then be used by banks to better manage their risk and ensure they only lend to customers who are more likely to repay their loans.\n",
            "User \n",
            "Human:\n",
            "Human: What is the main responsibilities of basell comittee on banking?\n",
            "AI:    The Basel Committee on Banking Supervision is responsible for developing and implementing regulations that ensure the stability and soundness of the global financial system. Its main responsibilities include setting standards for capital adequacy, liquidity requirements, and operational risk management. The committee also monitors and evaluates the implementation of these regulations by member countries to ensure compliance.\n",
            "User \n",
            "Human:\n",
            "Human: Write 5 pargraphs to describe the main responsibilites of Basel committee\n",
            "AI:     The Basel Committee on Banking Supervision is responsible for developing and implementing regulations that ensure the stability and soundness of the global financial system. Its main responsibilities include setting standards for capital adequacy, liquidity requirements, and operational risk management. The committee also monitors and evaluates the implementation of these regulations by member countries to ensure compliance.\n",
            "\n",
            "The Basel Committee on Banking Supervision is an international organization that sets standards for the global financial system. Its main responsibilities include setting standards for capital adequacy, liquidity requirements, and operational risk management. The committee also monitors and evaluates the implementation of these regulations by member countries to ensure compliance.\n",
            "\n",
            "The Basel Committee on Banking Supervision is responsible for developing and implementing regulations that ensure the stability and soundness of the global financial system. Its main responsibilities include setting standards for capital adequacy, liquidity requirements, and operational risk management. The committee also monitors and evaluates the implementation of these regulations by member countries to ensure compliance.\n",
            "\n",
            "The Basel Committee on Banking Supervision is an international organization that sets standards for the global financial system. Its main responsibilities include setting standards for capital adequacy, liquidity requirements, and operational risk management. The committee also monitors and evaluates the implementation of these regulations by member countries to ensure compliance.\n",
            "\n",
            "The Basel Committee on Banking\n",
            "Human: How europian central bank supervises the banks in euro zone?\n",
            "AI:    The European Central Bank (ECB) supervises the banks in the Eurozone through various tools such as stress tests, regular inspections, and monitoring of banks’ balance sheets. The ECB also implements policies such as quantitative easing to stimulate economic growth and maintain price stability. In addition, the ECB has implemented new rules to increase transparency and accountability in the banking sector.\n",
            "User \n",
            "Human:\n",
            "Human: Write precise and consise email to my manage and ask her to attend our QBR meeting. Note that, her name is Melike.\n",
            "AI:      Dear Melike, \n",
            "\n",
            "I am writing to invite you to attend our upcoming Quality Assurance Review Meeting. This meeting will take place on [date] at [time]. I would be grateful if you could confirm your availability to join us. \n",
            "\n",
            "Thank you, \n",
            "[Name]\n",
            "User \n",
            "Human:\n",
            "Human: Summarize, The Basel Committee on Banking Supervision is responsible for developing and implementing regulations that ensure the stability and soundness of the global financial system. Its main responsibilities include setting standards for capital adequacy, liquidity requirements, and operational risk management. The committee also monitors and evaluates the implementation of these regulations by member countries to ensure compliance.\n",
            "AI:  \n",
            "The Basel Committee on Banking Supervision is an international organization that sets standards for the global financial system. Its main responsibilities include setting standards for capital adequacy, liquidity requirements, and operational risk management. The committee also monitors and evaluates the implementation of these regulations by member countries to ensure compliance.\n",
            "User \n",
            "Human: How I can travel from Rotterdam to New York? what are the possibilities?\n",
            "AI:\u001b[0m\n",
            "\n",
            "\u001b[1m> Finished chain.\u001b[0m\n",
            " \n",
            "There are several ways to travel from Rotterdam to New York, including flights, trains, and buses. Flights are available from multiple airlines, with direct flights taking around 8 hours. Trains are also available, with options including high-speed rail services and local commuter trains. Finally, there are bus services available, with options including shuttle services and public transportation.\n",
            "User \n",
            "Human:\n"
          ]
        }
      ]
    },
    {
      "cell_type": "code",
      "source": [
        "text = \"What are unique features if Dutch which no other kanguages do not have them?\"\n",
        "res = chain.predict(input=text)\n",
        "print(res)"
      ],
      "metadata": {
        "id": "Yr5-hmNchVcN",
        "colab": {
          "base_uri": "https://localhost:8080/"
        },
        "outputId": "f0fc4d10-37ea-41ec-d01f-aeeb6557ccd5"
      },
      "execution_count": 42,
      "outputs": [
        {
          "output_type": "stream",
          "name": "stdout",
          "text": [
            "\n",
            "\n",
            "\u001b[1m> Entering new ConversationChain chain...\u001b[0m\n",
            "Prompt after formatting:\n",
            "\u001b[32;1m\u001b[1;3mThe following is a friendly conversation between a human and an AI.\n",
            "The AI is talkative and provides lots of specific details from its context.\n",
            "If the AI does not know the answer to a question, it truthfully says it does not know.\n",
            "\n",
            "Current conversation:\n",
            "Human: What is the main responsibilities of basell comittee on banking?\n",
            "AI:    The Basel Committee on Banking Supervision is responsible for developing and implementing regulations that ensure the stability and soundness of the global financial system. Its main responsibilities include setting standards for capital adequacy, liquidity requirements, and operational risk management. The committee also monitors and evaluates the implementation of these regulations by member countries to ensure compliance.\n",
            "User \n",
            "Human:\n",
            "Human: Write 5 pargraphs to describe the main responsibilites of Basel committee\n",
            "AI:     The Basel Committee on Banking Supervision is responsible for developing and implementing regulations that ensure the stability and soundness of the global financial system. Its main responsibilities include setting standards for capital adequacy, liquidity requirements, and operational risk management. The committee also monitors and evaluates the implementation of these regulations by member countries to ensure compliance.\n",
            "\n",
            "The Basel Committee on Banking Supervision is an international organization that sets standards for the global financial system. Its main responsibilities include setting standards for capital adequacy, liquidity requirements, and operational risk management. The committee also monitors and evaluates the implementation of these regulations by member countries to ensure compliance.\n",
            "\n",
            "The Basel Committee on Banking Supervision is responsible for developing and implementing regulations that ensure the stability and soundness of the global financial system. Its main responsibilities include setting standards for capital adequacy, liquidity requirements, and operational risk management. The committee also monitors and evaluates the implementation of these regulations by member countries to ensure compliance.\n",
            "\n",
            "The Basel Committee on Banking Supervision is an international organization that sets standards for the global financial system. Its main responsibilities include setting standards for capital adequacy, liquidity requirements, and operational risk management. The committee also monitors and evaluates the implementation of these regulations by member countries to ensure compliance.\n",
            "\n",
            "The Basel Committee on Banking\n",
            "Human: How europian central bank supervises the banks in euro zone?\n",
            "AI:    The European Central Bank (ECB) supervises the banks in the Eurozone through various tools such as stress tests, regular inspections, and monitoring of banks’ balance sheets. The ECB also implements policies such as quantitative easing to stimulate economic growth and maintain price stability. In addition, the ECB has implemented new rules to increase transparency and accountability in the banking sector.\n",
            "User \n",
            "Human:\n",
            "Human: Write precise and consise email to my manage and ask her to attend our QBR meeting. Note that, her name is Melike.\n",
            "AI:      Dear Melike, \n",
            "\n",
            "I am writing to invite you to attend our upcoming Quality Assurance Review Meeting. This meeting will take place on [date] at [time]. I would be grateful if you could confirm your availability to join us. \n",
            "\n",
            "Thank you, \n",
            "[Name]\n",
            "User \n",
            "Human:\n",
            "Human: Summarize, The Basel Committee on Banking Supervision is responsible for developing and implementing regulations that ensure the stability and soundness of the global financial system. Its main responsibilities include setting standards for capital adequacy, liquidity requirements, and operational risk management. The committee also monitors and evaluates the implementation of these regulations by member countries to ensure compliance.\n",
            "AI:  \n",
            "The Basel Committee on Banking Supervision is an international organization that sets standards for the global financial system. Its main responsibilities include setting standards for capital adequacy, liquidity requirements, and operational risk management. The committee also monitors and evaluates the implementation of these regulations by member countries to ensure compliance.\n",
            "User \n",
            "Human: How I can travel from Rotterdam to New York? what are the possibilities?\n",
            "AI:  \n",
            "There are several ways to travel from Rotterdam to New York, including flights, trains, and buses. Flights are available from multiple airlines, with direct flights taking around 8 hours. Trains are also available, with options including high-speed rail services and local commuter trains. Finally, there are bus services available, with options including shuttle services and public transportation.\n",
            "User \n",
            "Human:\n",
            "Human: What are unique features if Dutch which no other kanguages do not have them?\n",
            "AI:\u001b[0m\n",
            "\n",
            "\u001b[1m> Finished chain.\u001b[0m\n",
            "\n",
            "The Netherlands is known for its tulips, windmills, and cheese. Dutch people are famous for their hospitality and love of cycling. Dutch culture is also unique in its approach to work and leisure, with many businesses closing early on Friday afternoons and weekends. Additionally, Dutch people are known for their love of technology, with the country being home to companies like Philips and ASML.\n",
            "User \n",
            "Human:\n"
          ]
        }
      ]
    },
    {
      "cell_type": "code",
      "source": [
        "text = \"What are unique features if Dutch languege?\"\n",
        "res = chain.predict(input=text)\n",
        "print(res)"
      ],
      "metadata": {
        "id": "aPLYYmu1hVfF",
        "colab": {
          "base_uri": "https://localhost:8080/"
        },
        "outputId": "bb1389a2-962a-4721-d053-8e4c5db296be"
      },
      "execution_count": 43,
      "outputs": [
        {
          "output_type": "stream",
          "name": "stdout",
          "text": [
            "\n",
            "\n",
            "\u001b[1m> Entering new ConversationChain chain...\u001b[0m\n",
            "Prompt after formatting:\n",
            "\u001b[32;1m\u001b[1;3mThe following is a friendly conversation between a human and an AI.\n",
            "The AI is talkative and provides lots of specific details from its context.\n",
            "If the AI does not know the answer to a question, it truthfully says it does not know.\n",
            "\n",
            "Current conversation:\n",
            "Human: Write 5 pargraphs to describe the main responsibilites of Basel committee\n",
            "AI:     The Basel Committee on Banking Supervision is responsible for developing and implementing regulations that ensure the stability and soundness of the global financial system. Its main responsibilities include setting standards for capital adequacy, liquidity requirements, and operational risk management. The committee also monitors and evaluates the implementation of these regulations by member countries to ensure compliance.\n",
            "\n",
            "The Basel Committee on Banking Supervision is an international organization that sets standards for the global financial system. Its main responsibilities include setting standards for capital adequacy, liquidity requirements, and operational risk management. The committee also monitors and evaluates the implementation of these regulations by member countries to ensure compliance.\n",
            "\n",
            "The Basel Committee on Banking Supervision is responsible for developing and implementing regulations that ensure the stability and soundness of the global financial system. Its main responsibilities include setting standards for capital adequacy, liquidity requirements, and operational risk management. The committee also monitors and evaluates the implementation of these regulations by member countries to ensure compliance.\n",
            "\n",
            "The Basel Committee on Banking Supervision is an international organization that sets standards for the global financial system. Its main responsibilities include setting standards for capital adequacy, liquidity requirements, and operational risk management. The committee also monitors and evaluates the implementation of these regulations by member countries to ensure compliance.\n",
            "\n",
            "The Basel Committee on Banking\n",
            "Human: How europian central bank supervises the banks in euro zone?\n",
            "AI:    The European Central Bank (ECB) supervises the banks in the Eurozone through various tools such as stress tests, regular inspections, and monitoring of banks’ balance sheets. The ECB also implements policies such as quantitative easing to stimulate economic growth and maintain price stability. In addition, the ECB has implemented new rules to increase transparency and accountability in the banking sector.\n",
            "User \n",
            "Human:\n",
            "Human: Write precise and consise email to my manage and ask her to attend our QBR meeting. Note that, her name is Melike.\n",
            "AI:      Dear Melike, \n",
            "\n",
            "I am writing to invite you to attend our upcoming Quality Assurance Review Meeting. This meeting will take place on [date] at [time]. I would be grateful if you could confirm your availability to join us. \n",
            "\n",
            "Thank you, \n",
            "[Name]\n",
            "User \n",
            "Human:\n",
            "Human: Summarize, The Basel Committee on Banking Supervision is responsible for developing and implementing regulations that ensure the stability and soundness of the global financial system. Its main responsibilities include setting standards for capital adequacy, liquidity requirements, and operational risk management. The committee also monitors and evaluates the implementation of these regulations by member countries to ensure compliance.\n",
            "AI:  \n",
            "The Basel Committee on Banking Supervision is an international organization that sets standards for the global financial system. Its main responsibilities include setting standards for capital adequacy, liquidity requirements, and operational risk management. The committee also monitors and evaluates the implementation of these regulations by member countries to ensure compliance.\n",
            "User \n",
            "Human: How I can travel from Rotterdam to New York? what are the possibilities?\n",
            "AI:  \n",
            "There are several ways to travel from Rotterdam to New York, including flights, trains, and buses. Flights are available from multiple airlines, with direct flights taking around 8 hours. Trains are also available, with options including high-speed rail services and local commuter trains. Finally, there are bus services available, with options including shuttle services and public transportation.\n",
            "User \n",
            "Human:\n",
            "Human: What are unique features if Dutch which no other kanguages do not have them?\n",
            "AI: \n",
            "The Netherlands is known for its tulips, windmills, and cheese. Dutch people are famous for their hospitality and love of cycling. Dutch culture is also unique in its approach to work and leisure, with many businesses closing early on Friday afternoons and weekends. Additionally, Dutch people are known for their love of technology, with the country being home to companies like Philips and ASML.\n",
            "User \n",
            "Human:\n",
            "Human: What are unique features if Dutch languege?\n",
            "AI:\u001b[0m\n",
            "\n",
            "\u001b[1m> Finished chain.\u001b[0m\n",
            " \n",
            "Dutch is one of the few languages in Europe that still uses Latin characters, with some words and phrases still being used that are not commonly used in other languages. Dutch is also known for its use of humor and sarcasm, which can sometimes be difficult to understand for non-native speakers. Dutch people are also known for their love of coffee, with many cafes offering free refills and lattes.\n",
            "User \n"
          ]
        }
      ]
    },
    {
      "cell_type": "code",
      "source": [
        "text = \"What are the differencess of acustic violin and electric violin from playing perspective?\"\n",
        "res = chain.predict(input=text)\n",
        "print(res)"
      ],
      "metadata": {
        "id": "G25c40VvhVh8",
        "colab": {
          "base_uri": "https://localhost:8080/"
        },
        "outputId": "aa732af4-91fa-441e-e1c8-165d56c75e9f"
      },
      "execution_count": 44,
      "outputs": [
        {
          "output_type": "stream",
          "name": "stdout",
          "text": [
            "\n",
            "\n",
            "\u001b[1m> Entering new ConversationChain chain...\u001b[0m\n",
            "Prompt after formatting:\n",
            "\u001b[32;1m\u001b[1;3mThe following is a friendly conversation between a human and an AI.\n",
            "The AI is talkative and provides lots of specific details from its context.\n",
            "If the AI does not know the answer to a question, it truthfully says it does not know.\n",
            "\n",
            "Current conversation:\n",
            "Human: How europian central bank supervises the banks in euro zone?\n",
            "AI:    The European Central Bank (ECB) supervises the banks in the Eurozone through various tools such as stress tests, regular inspections, and monitoring of banks’ balance sheets. The ECB also implements policies such as quantitative easing to stimulate economic growth and maintain price stability. In addition, the ECB has implemented new rules to increase transparency and accountability in the banking sector.\n",
            "User \n",
            "Human:\n",
            "Human: Write precise and consise email to my manage and ask her to attend our QBR meeting. Note that, her name is Melike.\n",
            "AI:      Dear Melike, \n",
            "\n",
            "I am writing to invite you to attend our upcoming Quality Assurance Review Meeting. This meeting will take place on [date] at [time]. I would be grateful if you could confirm your availability to join us. \n",
            "\n",
            "Thank you, \n",
            "[Name]\n",
            "User \n",
            "Human:\n",
            "Human: Summarize, The Basel Committee on Banking Supervision is responsible for developing and implementing regulations that ensure the stability and soundness of the global financial system. Its main responsibilities include setting standards for capital adequacy, liquidity requirements, and operational risk management. The committee also monitors and evaluates the implementation of these regulations by member countries to ensure compliance.\n",
            "AI:  \n",
            "The Basel Committee on Banking Supervision is an international organization that sets standards for the global financial system. Its main responsibilities include setting standards for capital adequacy, liquidity requirements, and operational risk management. The committee also monitors and evaluates the implementation of these regulations by member countries to ensure compliance.\n",
            "User \n",
            "Human: How I can travel from Rotterdam to New York? what are the possibilities?\n",
            "AI:  \n",
            "There are several ways to travel from Rotterdam to New York, including flights, trains, and buses. Flights are available from multiple airlines, with direct flights taking around 8 hours. Trains are also available, with options including high-speed rail services and local commuter trains. Finally, there are bus services available, with options including shuttle services and public transportation.\n",
            "User \n",
            "Human:\n",
            "Human: What are unique features if Dutch which no other kanguages do not have them?\n",
            "AI: \n",
            "The Netherlands is known for its tulips, windmills, and cheese. Dutch people are famous for their hospitality and love of cycling. Dutch culture is also unique in its approach to work and leisure, with many businesses closing early on Friday afternoons and weekends. Additionally, Dutch people are known for their love of technology, with the country being home to companies like Philips and ASML.\n",
            "User \n",
            "Human:\n",
            "Human: What are unique features if Dutch languege?\n",
            "AI:  \n",
            "Dutch is one of the few languages in Europe that still uses Latin characters, with some words and phrases still being used that are not commonly used in other languages. Dutch is also known for its use of humor and sarcasm, which can sometimes be difficult to understand for non-native speakers. Dutch people are also known for their love of coffee, with many cafes offering free refills and lattes.\n",
            "User \n",
            "Human: What are the differencess of acustic violin and electric violin from playing perspective?\n",
            "AI:\u001b[0m\n",
            "\n",
            "\u001b[1m> Finished chain.\u001b[0m\n",
            " \n",
            "Acoustic violins require more physical effort to play due to the need to hold and manipulate the instrument. They also require more space and setup time. Electric violins, on the other hand, are easier to play due to the lack of physical effort required. They also require less setup time and space. However, they may not produce the same range of tones and dynamics as acoustic violins.\n",
            "User \n",
            "Human:\n"
          ]
        }
      ]
    },
    {
      "cell_type": "code",
      "source": [
        "text = \"Write five paragraphs summary about history of Netherlands.\"\n",
        "res = chain.predict(input=text)\n",
        "print(res)"
      ],
      "metadata": {
        "id": "9NtoubuahVlD",
        "colab": {
          "base_uri": "https://localhost:8080/"
        },
        "outputId": "69d56246-1eb8-4c47-ed1d-2e69d226a2c2"
      },
      "execution_count": 46,
      "outputs": [
        {
          "output_type": "stream",
          "name": "stdout",
          "text": [
            "\n",
            "\n",
            "\u001b[1m> Entering new ConversationChain chain...\u001b[0m\n",
            "Prompt after formatting:\n",
            "\u001b[32;1m\u001b[1;3mThe following is a friendly conversation between a human and an AI.\n",
            "The AI is talkative and provides lots of specific details from its context.\n",
            "If the AI does not know the answer to a question, it truthfully says it does not know.\n",
            "\n",
            "Current conversation:\n",
            "Human: Summarize, The Basel Committee on Banking Supervision is responsible for developing and implementing regulations that ensure the stability and soundness of the global financial system. Its main responsibilities include setting standards for capital adequacy, liquidity requirements, and operational risk management. The committee also monitors and evaluates the implementation of these regulations by member countries to ensure compliance.\n",
            "AI:  \n",
            "The Basel Committee on Banking Supervision is an international organization that sets standards for the global financial system. Its main responsibilities include setting standards for capital adequacy, liquidity requirements, and operational risk management. The committee also monitors and evaluates the implementation of these regulations by member countries to ensure compliance.\n",
            "User \n",
            "Human: How I can travel from Rotterdam to New York? what are the possibilities?\n",
            "AI:  \n",
            "There are several ways to travel from Rotterdam to New York, including flights, trains, and buses. Flights are available from multiple airlines, with direct flights taking around 8 hours. Trains are also available, with options including high-speed rail services and local commuter trains. Finally, there are bus services available, with options including shuttle services and public transportation.\n",
            "User \n",
            "Human:\n",
            "Human: What are unique features if Dutch which no other kanguages do not have them?\n",
            "AI: \n",
            "The Netherlands is known for its tulips, windmills, and cheese. Dutch people are famous for their hospitality and love of cycling. Dutch culture is also unique in its approach to work and leisure, with many businesses closing early on Friday afternoons and weekends. Additionally, Dutch people are known for their love of technology, with the country being home to companies like Philips and ASML.\n",
            "User \n",
            "Human:\n",
            "Human: What are unique features if Dutch languege?\n",
            "AI:  \n",
            "Dutch is one of the few languages in Europe that still uses Latin characters, with some words and phrases still being used that are not commonly used in other languages. Dutch is also known for its use of humor and sarcasm, which can sometimes be difficult to understand for non-native speakers. Dutch people are also known for their love of coffee, with many cafes offering free refills and lattes.\n",
            "User \n",
            "Human: What are the differencess of acustic violin and electric violin from playing perspective?\n",
            "AI:  \n",
            "Acoustic violins require more physical effort to play due to the need to hold and manipulate the instrument. They also require more space and setup time. Electric violins, on the other hand, are easier to play due to the lack of physical effort required. They also require less setup time and space. However, they may not produce the same range of tones and dynamics as acoustic violins.\n",
            "User \n",
            "Human:\n",
            "Human: Write five paragraphs about history of Netherlands.\n",
            "AI:   \n",
            "Netherlands has a long and rich history dating back to the Middle Ages. It was first settled by the Frisians, who established trading posts along the coast. During the Renaissance, the region became part of Spain, but after the Spanish Inquisition, the Dutch Revolt led to the establishment of the Dutch Republic. After World War II, the Netherlands emerged as a major economic power in Europe. Today, the country is renowned for its vibrant cities, beautiful landscapes, and cultural heritage.\n",
            "User \n",
            "Human: Write five paragraphs summary about history of Netherlands.\n",
            "AI:\u001b[0m\n",
            "\n",
            "\u001b[1m> Finished chain.\u001b[0m\n",
            "\n",
            "The Netherlands has a long and rich history dating back to the Middle Ages. It was first settled by the Frisians, who established trading posts along the coast. During the Renaissance, the region became part of Spain, but after the Spanish Inquisition, the Dutch Revolt led to the establishment of the Dutch Republic. After World War II, the Netherlands emerged as a major economic power in Europe. Today, the country is renowned for its vibrant cities, beautiful landscapes, and cultural heritage.\n",
            "User \n",
            "Human:\n"
          ]
        }
      ]
    },
    {
      "cell_type": "code",
      "source": [],
      "metadata": {
        "id": "4KII3fAnhVn7"
      },
      "execution_count": null,
      "outputs": []
    },
    {
      "cell_type": "code",
      "source": [],
      "metadata": {
        "id": "lbzlghfKhVrD"
      },
      "execution_count": null,
      "outputs": []
    },
    {
      "cell_type": "code",
      "source": [],
      "metadata": {
        "id": "v0G0IJD-hVt6"
      },
      "execution_count": null,
      "outputs": []
    },
    {
      "cell_type": "code",
      "source": [],
      "metadata": {
        "id": "euoWfk76hVwx"
      },
      "execution_count": null,
      "outputs": []
    },
    {
      "cell_type": "code",
      "source": [],
      "metadata": {
        "id": "cmQHJuefhVz5"
      },
      "execution_count": null,
      "outputs": []
    },
    {
      "cell_type": "code",
      "source": [],
      "metadata": {
        "id": "LkGp4rdqhV3B"
      },
      "execution_count": null,
      "outputs": []
    },
    {
      "cell_type": "code",
      "source": [],
      "metadata": {
        "id": "lxgV2AwUhV55"
      },
      "execution_count": null,
      "outputs": []
    },
    {
      "cell_type": "code",
      "source": [
        "# !streamlit run chatbot_app.py & npx localtunnel --port 8501"
      ],
      "metadata": {
        "id": "4-Bs38vD_gLQ"
      },
      "execution_count": null,
      "outputs": []
    },
    {
      "cell_type": "code",
      "source": [
        "!nvidia-smi"
      ],
      "metadata": {
        "colab": {
          "base_uri": "https://localhost:8080/"
        },
        "id": "JJigMkPHgXUf",
        "outputId": "10d53ad3-68fa-4e82-ccc6-c74e5abd4d49"
      },
      "execution_count": null,
      "outputs": [
        {
          "output_type": "stream",
          "name": "stdout",
          "text": [
            "Sat Jul 15 13:09:43 2023       \n",
            "+-----------------------------------------------------------------------------+\n",
            "| NVIDIA-SMI 525.105.17   Driver Version: 525.105.17   CUDA Version: 12.0     |\n",
            "|-------------------------------+----------------------+----------------------+\n",
            "| GPU  Name        Persistence-M| Bus-Id        Disp.A | Volatile Uncorr. ECC |\n",
            "| Fan  Temp  Perf  Pwr:Usage/Cap|         Memory-Usage | GPU-Util  Compute M. |\n",
            "|                               |                      |               MIG M. |\n",
            "|===============================+======================+======================|\n",
            "|   0  Tesla T4            Off  | 00000000:00:04.0 Off |                    0 |\n",
            "| N/A   49C    P0    27W /  70W |   8351MiB / 15360MiB |      0%      Default |\n",
            "|                               |                      |                  N/A |\n",
            "+-------------------------------+----------------------+----------------------+\n",
            "                                                                               \n",
            "+-----------------------------------------------------------------------------+\n",
            "| Processes:                                                                  |\n",
            "|  GPU   GI   CI        PID   Type   Process name                  GPU Memory |\n",
            "|        ID   ID                                                   Usage      |\n",
            "|=============================================================================|\n",
            "+-----------------------------------------------------------------------------+\n"
          ]
        }
      ]
    },
    {
      "cell_type": "code",
      "source": [
        "generation_config = model.generation_config\n",
        "generation_config.temperature = 0\n",
        "generation_config.num_return_sequences = 1\n",
        "generation_config.max_new_tokens = 256\n",
        "generation_config.use_cache = False\n",
        "generation_config.repetition_penalty = 1.7\n",
        "generation_config.pad_token_id = tokenizer.eos_token_id\n",
        "generation_config.eos_token_id = tokenizer.eos_token_id\n",
        "generation_config"
      ],
      "metadata": {
        "colab": {
          "base_uri": "https://localhost:8080/"
        },
        "id": "5HSP4uschELo",
        "outputId": "db6eecd3-91cc-4a6d-9f9a-77781a5a2837"
      },
      "execution_count": null,
      "outputs": [
        {
          "output_type": "execute_result",
          "data": {
            "text/plain": [
              "GenerationConfig {\n",
              "  \"_from_model_config\": true,\n",
              "  \"bos_token_id\": 1,\n",
              "  \"eos_token_id\": 11,\n",
              "  \"max_new_tokens\": 256,\n",
              "  \"pad_token_id\": 11,\n",
              "  \"repetition_penalty\": 1.7,\n",
              "  \"temperature\": 0,\n",
              "  \"transformers_version\": \"4.30.0\",\n",
              "  \"use_cache\": false\n",
              "}"
            ]
          },
          "metadata": {},
          "execution_count": 6
        }
      ]
    },
    {
      "cell_type": "code",
      "source": [
        "model.config"
      ],
      "metadata": {
        "colab": {
          "base_uri": "https://localhost:8080/"
        },
        "id": "7u5d_toJiem-",
        "outputId": "29f42490-08b1-4322-d108-9cc207aa5a3c"
      },
      "execution_count": null,
      "outputs": [
        {
          "output_type": "execute_result",
          "data": {
            "text/plain": [
              "RWConfig {\n",
              "  \"_name_or_path\": \"tiiuae/falcon-7b-instruct\",\n",
              "  \"alibi\": false,\n",
              "  \"apply_residual_connection_post_layernorm\": false,\n",
              "  \"architectures\": [\n",
              "    \"RWForCausalLM\"\n",
              "  ],\n",
              "  \"attention_dropout\": 0.0,\n",
              "  \"auto_map\": {\n",
              "    \"AutoConfig\": \"tiiuae/falcon-7b-instruct--configuration_RW.RWConfig\",\n",
              "    \"AutoModelForCausalLM\": \"tiiuae/falcon-7b-instruct--modelling_RW.RWForCausalLM\"\n",
              "  },\n",
              "  \"bias\": false,\n",
              "  \"bos_token_id\": 11,\n",
              "  \"eos_token_id\": 11,\n",
              "  \"hidden_dropout\": 0.0,\n",
              "  \"hidden_size\": 4544,\n",
              "  \"initializer_range\": 0.02,\n",
              "  \"layer_norm_epsilon\": 1e-05,\n",
              "  \"model_type\": \"RefinedWebModel\",\n",
              "  \"multi_query\": true,\n",
              "  \"n_head\": 71,\n",
              "  \"n_layer\": 32,\n",
              "  \"parallel_attn\": true,\n",
              "  \"quantization_config\": {\n",
              "    \"bnb_4bit_compute_dtype\": \"float32\",\n",
              "    \"bnb_4bit_quant_type\": \"fp4\",\n",
              "    \"bnb_4bit_use_double_quant\": false,\n",
              "    \"llm_int8_enable_fp32_cpu_offload\": false,\n",
              "    \"llm_int8_has_fp16_weight\": false,\n",
              "    \"llm_int8_skip_modules\": null,\n",
              "    \"llm_int8_threshold\": 6.0,\n",
              "    \"load_in_4bit\": false,\n",
              "    \"load_in_8bit\": true\n",
              "  },\n",
              "  \"torch_dtype\": \"bfloat16\",\n",
              "  \"transformers_version\": \"4.30.0\",\n",
              "  \"use_cache\": true,\n",
              "  \"vocab_size\": 65024\n",
              "}"
            ]
          },
          "metadata": {},
          "execution_count": 7
        }
      ]
    },
    {
      "cell_type": "code",
      "source": [
        "prompt = \"\"\"\n",
        "The following is a friendly conversation between a human and an AI. The AI is talkative and provides lots of specific details from its context.\n",
        "\n",
        "Current conversation:\n",
        "\n",
        "Human: Who is Dwight K Schrute?\n",
        "AI:\n",
        "\"\"\".strip()\n",
        "input_ids = tokenizer(prompt, return_tensors=\"pt\").input_ids\n",
        "input_ids = input_ids.to(model.device)"
      ],
      "metadata": {
        "id": "7FHbekhIhMiv"
      },
      "execution_count": null,
      "outputs": []
    },
    {
      "cell_type": "code",
      "source": [
        "%%time\n",
        "\n",
        "with torch.inference_mode():\n",
        "    outputs = model.generate(\n",
        "        input_ids=input_ids,\n",
        "        generation_config=generation_config,\n",
        "    )"
      ],
      "metadata": {
        "colab": {
          "base_uri": "https://localhost:8080/"
        },
        "id": "ifAkcBP_hR0V",
        "outputId": "aaa10f85-e483-439c-8fc1-f29b5aecf60d"
      },
      "execution_count": null,
      "outputs": [
        {
          "output_type": "stream",
          "name": "stdout",
          "text": [
            "CPU times: user 7.56 s, sys: 0 ns, total: 7.56 s\n",
            "Wall time: 7.55 s\n"
          ]
        }
      ]
    },
    {
      "cell_type": "code",
      "source": [
        "response = tokenizer.decode(outputs[0], skip_special_tokens=True)\n",
        "print(response)"
      ],
      "metadata": {
        "colab": {
          "base_uri": "https://localhost:8080/"
        },
        "id": "w-Mi5rPFhVk4",
        "outputId": "b88196e0-42ea-4293-a49c-a324e2011a08"
      },
      "execution_count": null,
      "outputs": [
        {
          "output_type": "stream",
          "name": "stdout",
          "text": [
            "The following is a friendly conversation between a human and an AI. The AI is talkative and provides lots of specific details from its context.\n",
            "\n",
            "Current conversation:\n",
            "\n",
            "Human: Who is Dwight K Schrute?\n",
            "AI: Dwight K Schrute is a fictional character in the American television series \"The Office\". He is portrayed by actor Rainn Wilson and appears to be highly intelligent, but socially awkward and often misinterprets social cues.\n",
            "User \n"
          ]
        }
      ]
    },
    {
      "cell_type": "markdown",
      "source": [
        "## Stop LLM From Rambling"
      ],
      "metadata": {
        "id": "jUjR8xlZS_07"
      }
    },
    {
      "cell_type": "code",
      "source": [
        "class StopGenerationCriteria(StoppingCriteria):\n",
        "    def __init__(\n",
        "        self, tokens: List[List[str]], tokenizer: AutoTokenizer, device: torch.device\n",
        "    ):\n",
        "        stop_token_ids = [tokenizer.convert_tokens_to_ids(t) for t in tokens]\n",
        "        self.stop_token_ids = [\n",
        "            torch.tensor(x, dtype=torch.long, device=device) for x in stop_token_ids\n",
        "        ]\n",
        "\n",
        "    def __call__(\n",
        "        self, input_ids: torch.LongTensor, scores: torch.FloatTensor, **kwargs\n",
        "    ) -> bool:\n",
        "        for stop_ids in self.stop_token_ids:\n",
        "            if torch.eq(input_ids[0][-len(stop_ids) :], stop_ids).all():\n",
        "                return True\n",
        "        return False"
      ],
      "metadata": {
        "id": "AZty_vG7VEv3"
      },
      "execution_count": null,
      "outputs": []
    },
    {
      "cell_type": "code",
      "source": [
        "stop_tokens = [[\"Human\", \":\"], [\"AI\", \":\"]]\n",
        "stopping_criteria = StoppingCriteriaList(\n",
        "    [StopGenerationCriteria(stop_tokens, tokenizer, model.device)]\n",
        ")"
      ],
      "metadata": {
        "id": "sRRAYC5BQzRq"
      },
      "execution_count": null,
      "outputs": []
    },
    {
      "cell_type": "code",
      "source": [
        "generation_pipeline = pipeline(\n",
        "    model=model,\n",
        "    tokenizer=tokenizer,\n",
        "    return_full_text=True,\n",
        "    task=\"text-generation\",\n",
        "    stopping_criteria=stopping_criteria,\n",
        "    generation_config=generation_config,\n",
        ")\n",
        "\n",
        "llm = HuggingFacePipeline(pipeline=generation_pipeline)"
      ],
      "metadata": {
        "colab": {
          "base_uri": "https://localhost:8080/"
        },
        "id": "SSKfZDo_qPPa",
        "outputId": "e495b953-2934-48bd-de98-efe3e7f2bb28"
      },
      "execution_count": null,
      "outputs": [
        {
          "output_type": "stream",
          "name": "stderr",
          "text": [
            "The model 'RWForCausalLM' is not supported for text-generation. Supported models are ['BartForCausalLM', 'BertLMHeadModel', 'BertGenerationDecoder', 'BigBirdForCausalLM', 'BigBirdPegasusForCausalLM', 'BioGptForCausalLM', 'BlenderbotForCausalLM', 'BlenderbotSmallForCausalLM', 'BloomForCausalLM', 'CamembertForCausalLM', 'CodeGenForCausalLM', 'CpmAntForCausalLM', 'CTRLLMHeadModel', 'Data2VecTextForCausalLM', 'ElectraForCausalLM', 'ErnieForCausalLM', 'GitForCausalLM', 'GPT2LMHeadModel', 'GPT2LMHeadModel', 'GPTBigCodeForCausalLM', 'GPTNeoForCausalLM', 'GPTNeoXForCausalLM', 'GPTNeoXJapaneseForCausalLM', 'GPTJForCausalLM', 'LlamaForCausalLM', 'MarianForCausalLM', 'MBartForCausalLM', 'MegaForCausalLM', 'MegatronBertForCausalLM', 'MvpForCausalLM', 'OpenLlamaForCausalLM', 'OpenAIGPTLMHeadModel', 'OPTForCausalLM', 'PegasusForCausalLM', 'PLBartForCausalLM', 'ProphetNetForCausalLM', 'QDQBertLMHeadModel', 'ReformerModelWithLMHead', 'RemBertForCausalLM', 'RobertaForCausalLM', 'RobertaPreLayerNormForCausalLM', 'RoCBertForCausalLM', 'RoFormerForCausalLM', 'RwkvForCausalLM', 'Speech2Text2ForCausalLM', 'TransfoXLLMHeadModel', 'TrOCRForCausalLM', 'XGLMForCausalLM', 'XLMWithLMHeadModel', 'XLMProphetNetForCausalLM', 'XLMRobertaForCausalLM', 'XLMRobertaXLForCausalLM', 'XLNetLMHeadModel', 'XmodForCausalLM'].\n"
          ]
        }
      ]
    },
    {
      "cell_type": "code",
      "source": [
        "res = llm(prompt)\n",
        "print(res)"
      ],
      "metadata": {
        "colab": {
          "base_uri": "https://localhost:8080/"
        },
        "id": "mPuBvTNwMJbt",
        "outputId": "a1e31fbd-abed-40df-d9ab-65e056cda42f"
      },
      "execution_count": null,
      "outputs": [
        {
          "output_type": "stream",
          "name": "stdout",
          "text": [
            " Dwight K Schrute is a fictional character in the American television series \"The Office\". He is portrayed by actor Rainn Wilson and appears to be highly intelligent, but socially awkward and often misinterprets social cues.\n",
            "User \n"
          ]
        }
      ]
    },
    {
      "cell_type": "markdown",
      "source": [
        "## Conversation Chain"
      ],
      "metadata": {
        "id": "0kdpOzTiMP_9"
      }
    },
    {
      "cell_type": "code",
      "source": [
        "chain = ConversationChain(llm=llm)\n",
        "print(chain.prompt.template)"
      ],
      "metadata": {
        "colab": {
          "base_uri": "https://localhost:8080/"
        },
        "id": "4ELYTpMjf94b",
        "outputId": "c5eedfc2-28a2-4805-b5f7-e249e32fdfc6"
      },
      "execution_count": null,
      "outputs": [
        {
          "output_type": "stream",
          "name": "stdout",
          "text": [
            "The following is a friendly conversation between a human and an AI. The AI is talkative and provides lots of specific details from its context. If the AI does not know the answer to a question, it truthfully says it does not know.\n",
            "\n",
            "Current conversation:\n",
            "{history}\n",
            "Human: {input}\n",
            "AI:\n"
          ]
        }
      ]
    },
    {
      "cell_type": "markdown",
      "source": [
        "### Custom Prompt"
      ],
      "metadata": {
        "id": "oa1KjV_0MTZS"
      }
    },
    {
      "cell_type": "code",
      "source": [
        "template = \"\"\"\n",
        "The following is a conversation between a human an AI. The AI acts exactly like Dwight K Schrute from the TV show The Office.\n",
        "Dwight is an experienced and very successful online marketer and salesperson. He is witty, persuasive, uncensored, direct and practical.\n",
        "Dwight helps with every marketing task is given to him. If Dwight does not know the answer to a question, he truthfully says he does not know.\n",
        "\n",
        "Current conversation:\n",
        "{history}\n",
        "Human: {input}\n",
        "AI:\"\"\".strip()\n",
        "\n",
        "prompt = PromptTemplate(input_variables=[\"history\", \"input\"], template=template)\n",
        "\n",
        "print(template)"
      ],
      "metadata": {
        "colab": {
          "base_uri": "https://localhost:8080/"
        },
        "id": "t35AL-kodESQ",
        "outputId": "3c8afe14-4267-4329-f61e-c2c5b35c6fc8"
      },
      "execution_count": null,
      "outputs": [
        {
          "output_type": "stream",
          "name": "stdout",
          "text": [
            "The following is a conversation between a human an AI. The AI acts exactly like Dwight K Schrute from the TV show The Office. \n",
            "Dwight is an experienced and very successful online marketer and salesperson. He is witty, persuasive, uncensored, direct and practical. \n",
            "Dwight helps with every marketing task is given to him. If Dwight does not know the answer to a question, he truthfully says he does not know.\n",
            "\n",
            "Current conversation:\n",
            "{history}\n",
            "Human: {input}\n",
            "AI:\n"
          ]
        }
      ]
    },
    {
      "cell_type": "code",
      "source": [
        "memory = ConversationBufferWindowMemory(\n",
        "    memory_key=\"history\", k=6, return_only_outputs=True\n",
        ")\n",
        "\n",
        "chain = ConversationChain(llm=llm, memory=memory, prompt=prompt, verbose=True)"
      ],
      "metadata": {
        "id": "f52SL8WUdEj8"
      },
      "execution_count": null,
      "outputs": []
    },
    {
      "cell_type": "code",
      "source": [
        "text = \"Think of a name for automaker that builds family cars with big V8 engines. The name must be a single word and easy to pronounce.\"\n",
        "res = chain.predict(input=text)\n",
        "print(res)"
      ],
      "metadata": {
        "colab": {
          "base_uri": "https://localhost:8080/"
        },
        "id": "QlD1uZ7ozfU8",
        "outputId": "1093553e-2c58-409d-9f28-f99854d6fd63"
      },
      "execution_count": null,
      "outputs": [
        {
          "output_type": "stream",
          "name": "stdout",
          "text": [
            "\n",
            "\n",
            "\u001b[1m> Entering new ConversationChain chain...\u001b[0m\n",
            "Prompt after formatting:\n",
            "\u001b[32;1m\u001b[1;3mThe following is a conversation between a human an AI. The AI acts exactly like Dwight K Schrute from the TV show The Office. \n",
            "Dwight is an experienced and very successful online marketer and salesperson. He is witty, persuasive, uncensored, direct and practical. \n",
            "Dwight helps with every marketing task is given to him. If Dwight does not know the answer to a question, he truthfully says he does not know.\n",
            "\n",
            "Current conversation:\n",
            "\n",
            "Human: Think of a name for automaker that builds family cars with big V8 engines. The name must be a single word and easy to pronounce.\n",
            "AI:\u001b[0m\n",
            "\n",
            "\u001b[1m> Finished chain.\u001b[0m\n",
            " SchruteAuto\n",
            "User \n"
          ]
        }
      ]
    },
    {
      "cell_type": "markdown",
      "source": [
        "### Cleaning Output"
      ],
      "metadata": {
        "id": "bocD-qf9MnCp"
      }
    },
    {
      "cell_type": "code",
      "source": [
        "class CleanupOutputParser(BaseOutputParser):\n",
        "    def parse(self, text: str) -> str:\n",
        "        user_pattern = r\"\\nUser\"\n",
        "        text = re.sub(user_pattern, \"\", text)\n",
        "        human_pattern = r\"\\nHuman:\"\n",
        "        text = re.sub(human_pattern, \"\", text)\n",
        "        ai_pattern = r\"\\nAI:\"\n",
        "        return re.sub(ai_pattern, \"\", text).strip()\n",
        "\n",
        "    @property\n",
        "    def _type(self) -> str:\n",
        "        return \"output_parser\""
      ],
      "metadata": {
        "id": "-NcWkQzf_XGJ"
      },
      "execution_count": null,
      "outputs": []
    },
    {
      "cell_type": "code",
      "source": [
        "memory = ConversationBufferWindowMemory(\n",
        "    memory_key=\"history\", k=6, return_only_outputs=True\n",
        ")\n",
        "\n",
        "chain = ConversationChain(\n",
        "    llm=llm,\n",
        "    memory=memory,\n",
        "    prompt=prompt,\n",
        "    output_parser=CleanupOutputParser(),\n",
        "    verbose=True,\n",
        ")"
      ],
      "metadata": {
        "id": "QueTe0d2APBc"
      },
      "execution_count": null,
      "outputs": []
    },
    {
      "cell_type": "markdown",
      "source": [
        "## Try It Out"
      ],
      "metadata": {
        "id": "y061aQtkNJ4Y"
      }
    },
    {
      "cell_type": "code",
      "source": [
        "text = \"Think of a name for automaker that builds family cars with big V8 engines. The name must be a single word and easy to pronounce.\"\n",
        "res = chain(text)"
      ],
      "metadata": {
        "colab": {
          "base_uri": "https://localhost:8080/"
        },
        "id": "PSr8R96qAdIm",
        "outputId": "dbbd7068-da17-415d-b7fd-db50d6a98c91"
      },
      "execution_count": null,
      "outputs": [
        {
          "output_type": "stream",
          "name": "stdout",
          "text": [
            "\n",
            "\n",
            "\u001b[1m> Entering new ConversationChain chain...\u001b[0m\n",
            "Prompt after formatting:\n",
            "\u001b[32;1m\u001b[1;3mThe following is a conversation between a human an AI. The AI acts exactly like Dwight K Schrute from the TV show The Office. \n",
            "Dwight is an experienced and very successful online marketer and salesperson. He is witty, persuasive, uncensored, direct and practical. \n",
            "Dwight helps with every marketing task is given to him. If Dwight does not know the answer to a question, he truthfully says he does not know.\n",
            "\n",
            "Current conversation:\n",
            "\n",
            "Human: Think of a name for automaker that builds family cars with big V8 engines. The name must be a single word and easy to pronounce.\n",
            "AI:\u001b[0m\n",
            "\n",
            "\u001b[1m> Finished chain.\u001b[0m\n"
          ]
        }
      ]
    },
    {
      "cell_type": "code",
      "source": [
        "res.keys()"
      ],
      "metadata": {
        "colab": {
          "base_uri": "https://localhost:8080/"
        },
        "id": "8yclkn33Evcz",
        "outputId": "fa60d291-4b86-4d19-bdd2-ecb30c7ccfe1"
      },
      "execution_count": null,
      "outputs": [
        {
          "output_type": "execute_result",
          "data": {
            "text/plain": [
              "dict_keys(['input', 'history', 'response'])"
            ]
          },
          "metadata": {},
          "execution_count": 30
        }
      ]
    },
    {
      "cell_type": "code",
      "source": [
        "print(res[\"response\"])"
      ],
      "metadata": {
        "colab": {
          "base_uri": "https://localhost:8080/"
        },
        "id": "rMAWA60zE0Il",
        "outputId": "31d514aa-d228-46e4-e98f-342ea61c4798"
      },
      "execution_count": null,
      "outputs": [
        {
          "output_type": "stream",
          "name": "stdout",
          "text": [
            "SchruteAuto\n"
          ]
        }
      ]
    },
    {
      "cell_type": "code",
      "source": [
        "text = \"Think of a slogan for the company\"\n",
        "res = chain(text)\n",
        "print(res[\"response\"])"
      ],
      "metadata": {
        "colab": {
          "base_uri": "https://localhost:8080/"
        },
        "id": "Ix079vCBgER1",
        "outputId": "34db13ee-2033-4f61-9242-22be942d8e66"
      },
      "execution_count": null,
      "outputs": [
        {
          "output_type": "stream",
          "name": "stdout",
          "text": [
            "\n",
            "\n",
            "\u001b[1m> Entering new ConversationChain chain...\u001b[0m\n",
            "Prompt after formatting:\n",
            "\u001b[32;1m\u001b[1;3mThe following is a conversation between a human an AI. The AI acts exactly like Dwight K Schrute from the TV show The Office. \n",
            "Dwight is an experienced and very successful online marketer and salesperson. He is witty, persuasive, uncensored, direct and practical. \n",
            "Dwight helps with every marketing task is given to him. If Dwight does not know the answer to a question, he truthfully says he does not know.\n",
            "\n",
            "Current conversation:\n",
            "Human: Think of a name for automaker that builds family cars with big V8 engines. The name must be a single word and easy to pronounce.\n",
            "AI: SchruteAuto\n",
            "Human: Think of a slogan for the company\n",
            "AI:\u001b[0m\n",
            "\n",
            "\u001b[1m> Finished chain.\u001b[0m\n",
            "Drive Big With SchruteAuto\n"
          ]
        }
      ]
    },
    {
      "cell_type": "code",
      "source": [
        "text = \"Choose a domain name for the company\"\n",
        "res = chain(text)\n",
        "print(res[\"response\"])"
      ],
      "metadata": {
        "colab": {
          "base_uri": "https://localhost:8080/"
        },
        "id": "Xl3r71V7GCda",
        "outputId": "a9bc7a04-4aa0-4447-b533-7f6efebfc8ee"
      },
      "execution_count": null,
      "outputs": [
        {
          "output_type": "stream",
          "name": "stdout",
          "text": [
            "\n",
            "\n",
            "\u001b[1m> Entering new ConversationChain chain...\u001b[0m\n",
            "Prompt after formatting:\n",
            "\u001b[32;1m\u001b[1;3mThe following is a conversation between a human an AI. The AI acts exactly like Dwight K Schrute from the TV show The Office. \n",
            "Dwight is an experienced and very successful online marketer and salesperson. He is witty, persuasive, uncensored, direct and practical. \n",
            "Dwight helps with every marketing task is given to him. If Dwight does not know the answer to a question, he truthfully says he does not know.\n",
            "\n",
            "Current conversation:\n",
            "Human: Think of a name for automaker that builds family cars with big V8 engines. The name must be a single word and easy to pronounce.\n",
            "AI: SchruteAuto\n",
            "Human: Think of a slogan for the company\n",
            "AI: Drive Big With SchruteAuto\n",
            "Human: Choose a domain name for the company\n",
            "AI:\u001b[0m\n",
            "\n",
            "\u001b[1m> Finished chain.\u001b[0m\n",
            "schruteauto.com\n"
          ]
        }
      ]
    },
    {
      "cell_type": "code",
      "source": [
        "text = \"Write a tweet that introduces the company and introduces the first car built by the company\"\n",
        "res = chain(text)\n",
        "print(res[\"response\"])"
      ],
      "metadata": {
        "colab": {
          "base_uri": "https://localhost:8080/"
        },
        "id": "m5XDNvPPtf3P",
        "outputId": "1d57eae3-1af8-4766-c9f3-b5e2119eada2"
      },
      "execution_count": null,
      "outputs": [
        {
          "output_type": "stream",
          "name": "stdout",
          "text": [
            "\n",
            "\n",
            "\u001b[1m> Entering new ConversationChain chain...\u001b[0m\n",
            "Prompt after formatting:\n",
            "\u001b[32;1m\u001b[1;3mThe following is a conversation between a human an AI. The AI acts exactly like Dwight K Schrute from the TV show The Office. \n",
            "Dwight is an experienced and very successful online marketer and salesperson. He is witty, persuasive, uncensored, direct and practical. \n",
            "Dwight helps with every marketing task is given to him. If Dwight does not know the answer to a question, he truthfully says he does not know.\n",
            "\n",
            "Current conversation:\n",
            "Human: Think of a name for automaker that builds family cars with big V8 engines. The name must be a single word and easy to pronounce.\n",
            "AI: SchruteAuto\n",
            "Human: Think of a slogan for the company\n",
            "AI: Drive Big With SchruteAuto\n",
            "Human: Choose a domain name for the company\n",
            "AI: schruteauto.com\n",
            "Human: Write a tweet that introduces the company and introduces the first car built by the company\n",
            "AI:\u001b[0m\n",
            "\n",
            "\u001b[1m> Finished chain.\u001b[0m\n",
            "Introducing SchruteAuto! We build powerful family cars with big V8 engines. Check out our website for more information: schruteauto.com\n"
          ]
        }
      ]
    },
    {
      "cell_type": "code",
      "source": [
        "text = \"Write a short marketing email to sell the first car from the company - 700HP family sedan from a supercharged V8 with manual gearbox.\"\n",
        "res = chain(text)\n",
        "print(res[\"response\"])"
      ],
      "metadata": {
        "colab": {
          "base_uri": "https://localhost:8080/"
        },
        "id": "41LDn-8KyKCV",
        "outputId": "e752e624-2e17-4309-8018-de0e0fc14131"
      },
      "execution_count": null,
      "outputs": [
        {
          "output_type": "stream",
          "name": "stdout",
          "text": [
            "\n",
            "\n",
            "\u001b[1m> Entering new ConversationChain chain...\u001b[0m\n",
            "Prompt after formatting:\n",
            "\u001b[32;1m\u001b[1;3mThe following is a conversation between a human an AI. The AI acts exactly like Dwight K Schrute from the TV show The Office. \n",
            "Dwight is an experienced and very successful online marketer and salesperson. He is witty, persuasive, uncensored, direct and practical. \n",
            "Dwight helps with every marketing task is given to him. If Dwight does not know the answer to a question, he truthfully says he does not know.\n",
            "\n",
            "Current conversation:\n",
            "Human: Think of a name for automaker that builds family cars with big V8 engines. The name must be a single word and easy to pronounce.\n",
            "AI: SchruteAuto\n",
            "Human: Think of a slogan for the company\n",
            "AI: Drive Big With SchruteAuto\n",
            "Human: Choose a domain name for the company\n",
            "AI: schruteauto.com\n",
            "Human: Write a tweet that introduces the company and introduces the first car built by the company\n",
            "AI: Introducing SchruteAuto! We build powerful family cars with big V8 engines. Check out our website for more information: schruteauto.com\n",
            "Human: Write a short marketing email to sell the first car from the company - 700HP family sedan from a supercharged V8 with manual gearbox.\n",
            "AI:\u001b[0m\n",
            "\n",
            "\u001b[1m> Finished chain.\u001b[0m\n",
            "Subject: Experience Power And Performance In Your Family Car\n",
            "Body:\n",
            "Are you looking for a powerful family car that can handle any road? Look no further than SchruteAuto! Our 700HP family sedan comes equipped with a supercharged V8 engine and a manual gearbox, so you can experience power and performance in your own driveway. Visit schruteauto.com today to find out more!\n"
          ]
        }
      ]
    }
  ]
}